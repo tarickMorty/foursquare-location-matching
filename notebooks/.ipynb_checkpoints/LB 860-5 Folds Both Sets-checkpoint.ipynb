{
 "cells": [
  {
   "cell_type": "code",
   "execution_count": 1,
   "id": "95c8cfa8",
   "metadata": {},
   "outputs": [],
   "source": [
    "import pandas as pd\n",
    "import numpy as np\n",
    "import lightgbm as lgb\n",
    "import matplotlib.pyplot as plt\n",
    "from tqdm.auto import tqdm\n",
    "import os\n",
    "import gc\n",
    "import random\n",
    "from sklearn.model_selection import GroupKFold, KFold, StratifiedKFold\n",
    "import seaborn as sns\n",
    "import pickle\n",
    "import json\n",
    "import re\n",
    "import time\n",
    "import sys\n",
    "pd.set_option('display.max_rows', 500)\n",
    "pd.set_option('display.max_columns', 500)\n",
    "\n",
    "import warnings\n",
    "warnings.filterwarnings('ignore')"
   ]
  },
  {
   "cell_type": "code",
   "execution_count": 2,
   "id": "1cfd2b9b",
   "metadata": {},
   "outputs": [],
   "source": [
    "tdata = pd.read_csv('../src/data/raw/train.csv')\n",
    "tdata['name'] = tdata['name'].isna().astype(int)\n",
    "tdata['categories'] = tdata['categories'].isna().astype(int)\n",
    "tdata['address'] = tdata['address'].isna().astype(int)\n",
    "tdata['state'] = tdata['state'].isna().astype(int)\n",
    "tdata['url'] = tdata['url'].isna().astype(int)\n",
    "tdata['country'] = tdata['country'].isna().astype(int)\n",
    "\n",
    "tdata = tdata[['id','name', 'categories', 'address', 'state', \n",
    "               'url', 'country']].drop_duplicates().reset_index(drop=True)"
   ]
  },
  {
   "cell_type": "code",
   "execution_count": 8,
   "id": "fd9d25ac",
   "metadata": {},
   "outputs": [],
   "source": [
    "def prepare_data(df_set):\n",
    "    \n",
    "    train_df = []\n",
    "    \n",
    "    for i in range(1, 6):\n",
    "    \n",
    "        t1 = pd.read_csv('../src/data/processed/'+df_set+'_data'+str(i)+'.csv')\n",
    "        print(t1.shape)\n",
    "        t1['kdist_diff'] = (t1['kdist'] - t1['kdist_country'])/t1['kdist_country']\n",
    "        t1['kneighbors_mean'] = t1[['kneighbors', 'kneighbors_country']].mean(axis = 1)\n",
    "        \n",
    "        t1['sim_sum'] = t1[[col for col in t1.columns if 'sim' in col]].sum(axis=1)\n",
    "        t1['gesh_sum'] = t1[[col for col in t1.columns if 'gesh' in col]].sum(axis=1)\n",
    "        t1['leven_sum'] = t1[[col for col in t1.columns if '_leven' in col]].sum(axis=1)\n",
    "        t1['jaro_sum'] = t1[[col for col in t1.columns if 'jaro' in col]].sum(axis=1)\n",
    "        t1['lcs_sum'] = t1[[col for col in t1.columns if '_lcs' in col]].sum(axis=1)\n",
    "\n",
    "        t1['sim_std'] = t1[[col for col in t1.columns if 'sim' in col]].std(axis=1)\n",
    "        t1['gesh_std'] = t1[[col for col in t1.columns if 'gesh' in col]].std(axis=1)\n",
    "        t1['leven_std'] = t1[[col for col in t1.columns if '_leven' in col]].std(axis=1)\n",
    "        t1['jaro_std'] = t1[[col for col in t1.columns if 'jaro' in col]].std(axis=1)\n",
    "        t1['lcs_std'] = t1[[col for col in t1.columns if '_lcs' in col]].std(axis=1)\n",
    "        \n",
    "        t1 = t1.merge(tdata, on='id', how='left')\n",
    "        t1 = t1.merge(tdata, left_on='match_id', right_on='id', how='left', suffixes=['_1','_2'])\n",
    "        t1 = t1.drop('id_2', axis=1).rename(columns={'id_1':'id'})\n",
    "        \n",
    "        t1['info_power_1'] = t1[[col for col in t1.columns if '_1' in col]].lt(1).sum(axis=1)\n",
    "        t1['info_power_2'] = t1[[col for col in t1.columns if '_2' in col]].lt(1).sum(axis=1)\n",
    "        t1['info_diff'] = t1['info_power_1'] - t1['info_power_2']\n",
    "        \n",
    "        train_df.append(t1)\n",
    "        \n",
    "        del t1\n",
    "    \n",
    "    return train_df"
   ]
  },
  {
   "cell_type": "code",
   "execution_count": 9,
   "id": "a8d87800",
   "metadata": {},
   "outputs": [
    {
     "name": "stdout",
     "output_type": "stream",
     "text": [
      "(2784303, 77)\n",
      "(2787522, 77)\n",
      "(2791491, 77)\n",
      "(2784055, 77)\n",
      "(2783740, 77)\n"
     ]
    }
   ],
   "source": [
    "train_df = prepare_data('train')\n",
    "train_df = pd.concat(train_df).reset_index(drop=True)"
   ]
  },
  {
   "cell_type": "code",
   "execution_count": 10,
   "id": "8184a3ec",
   "metadata": {},
   "outputs": [
    {
     "data": {
      "text/plain": [
       "(13931111, 104)"
      ]
     },
     "execution_count": 10,
     "metadata": {},
     "output_type": "execute_result"
    }
   ],
   "source": [
    "train_df.shape"
   ]
  },
  {
   "cell_type": "code",
   "execution_count": 11,
   "id": "b21cd10d",
   "metadata": {},
   "outputs": [
    {
     "name": "stdout",
     "output_type": "stream",
     "text": [
      "(2786560, 77)\n",
      "(2785577, 77)\n",
      "(2783837, 77)\n",
      "(2784971, 77)\n",
      "(2785252, 77)\n"
     ]
    }
   ],
   "source": [
    "valid_df = prepare_data('valid')\n",
    "valid_df = pd.concat(valid_df).reset_index(drop=True)"
   ]
  },
  {
   "cell_type": "code",
   "execution_count": 12,
   "id": "7b852379",
   "metadata": {},
   "outputs": [
    {
     "data": {
      "text/plain": [
       "(13926197, 104)"
      ]
     },
     "execution_count": 12,
     "metadata": {},
     "output_type": "execute_result"
    }
   ],
   "source": [
    "valid_df.shape"
   ]
  },
  {
   "cell_type": "code",
   "execution_count": 13,
   "id": "40dd4e88",
   "metadata": {},
   "outputs": [
    {
     "data": {
      "text/plain": [
       "0    12922139\n",
       "1     1008972\n",
       "Name: label, dtype: int64"
      ]
     },
     "execution_count": 13,
     "metadata": {},
     "output_type": "execute_result"
    }
   ],
   "source": [
    "train_df.label.value_counts()"
   ]
  },
  {
   "cell_type": "code",
   "execution_count": 14,
   "id": "7f62da50",
   "metadata": {},
   "outputs": [
    {
     "data": {
      "text/plain": [
       "0    12922592\n",
       "1     1003605\n",
       "Name: label, dtype: int64"
      ]
     },
     "execution_count": 14,
     "metadata": {},
     "output_type": "execute_result"
    }
   ],
   "source": [
    "valid_df.label.value_counts()"
   ]
  },
  {
   "cell_type": "code",
   "execution_count": 15,
   "id": "cc249e6e",
   "metadata": {},
   "outputs": [
    {
     "data": {
      "text/plain": [
       "56"
      ]
     },
     "execution_count": 15,
     "metadata": {},
     "output_type": "execute_result"
    }
   ],
   "source": [
    "train_df = pd.concat([train_df, valid_df], axis=0).reset_index(drop=True)\n",
    "\n",
    "del valid_df\n",
    "gc.collect()"
   ]
  },
  {
   "cell_type": "code",
   "execution_count": 16,
   "id": "08c916d3",
   "metadata": {},
   "outputs": [],
   "source": [
    "# FEATURES = ['kdist', 'kneighbors', 'kdist_country', 'kneighbors_country', 'name_sim', 'name_gesh','name_leven', \n",
    "#             'name_jaro', 'name_lcs', 'name_len_diff', 'name_nleven', 'name_nlcsk', 'name_nlcs', 'address_sim', \n",
    "#             'address_gesh', 'address_leven', 'address_jaro', 'address_lcs', 'address_len_diff', 'address_nleven', \n",
    "#             'address_nlcsk', 'address_nlcs', 'city_gesh', 'city_leven', 'city_jaro', 'city_lcs', 'city_len_diff', \n",
    "#             'city_nleven', 'city_nlcsk', 'city_nlcs', 'state_sim', 'state_gesh', 'state_leven', 'state_jaro', \n",
    "#             'state_lcs', 'state_len_diff', 'state_nleven', 'state_nlcsk', 'state_nlcs', 'zip_gesh', 'zip_leven', \n",
    "#             'zip_jaro', 'zip_lcs', 'url_sim', 'url_gesh', 'url_leven', 'url_jaro', 'url_lcs', 'url_len_diff', \n",
    "#             'url_nleven', 'url_nlcsk', 'url_nlcs', 'phone_gesh', 'phone_leven', 'phone_jaro', 'phone_lcs', \n",
    "#             'categories_sim', 'categories_gesh', 'categories_leven', 'categories_jaro', 'categories_lcs', \n",
    "#             'categories_len_diff', 'categories_nleven', 'categories_nlcsk', 'categories_nlcs', 'country_sim', \n",
    "#             'country_gesh', 'country_leven', 'country_nleven', 'kdist_diff', 'kneighbors_mean', \n",
    "#             'name_1', 'categories_1', 'address_1', 'state_1', 'url_1', 'country_1', 'name_2',\n",
    "#             'categories_2', 'address_2', 'state_2', 'url_2', 'country_2', 'sim_sum', 'gesh_sum',\n",
    "#             'leven_sum', 'jaro_sum', 'lcs_sum', 'sim_std', 'gesh_std', 'leven_std',\n",
    "#             'jaro_std', 'lcs_std', 'info_power_1', 'info_power_2', 'info_diff']\n",
    "\n",
    "\n",
    "# cat_cols = []\n",
    "# for col in FEATURES:\n",
    "#     if train_df[col].nunique()<50:\n",
    "#         cat_cols.append(col)\n",
    "        \n",
    "# print(len(cat_cols))"
   ]
  },
  {
   "cell_type": "code",
   "execution_count": 17,
   "id": "f4e930ba",
   "metadata": {},
   "outputs": [],
   "source": [
    "# cat_cols"
   ]
  },
  {
   "cell_type": "code",
   "execution_count": 18,
   "id": "a81cbd7c",
   "metadata": {},
   "outputs": [],
   "source": [
    "TRAIN_FEATURES = ['kdist', 'kneighbors', 'kdist_country', 'kneighbors_country', 'name_sim', 'name_gesh','name_leven', \n",
    "                'name_jaro', 'name_lcs', 'name_len_diff', 'name_nleven', 'name_nlcsk', 'name_nlcs', 'address_sim', \n",
    "                'address_gesh', 'address_leven', 'address_jaro', 'address_lcs', 'address_len_diff', 'address_nleven', \n",
    "                'address_nlcsk', 'address_nlcs', 'city_gesh', 'city_leven', 'city_jaro', 'city_lcs', 'city_len_diff', \n",
    "                'city_nleven', 'city_nlcsk', 'city_nlcs', 'state_sim', 'state_gesh', 'state_leven', 'state_jaro', \n",
    "                'state_lcs', 'state_len_diff', 'state_nleven', 'state_nlcsk', 'state_nlcs', 'zip_gesh', 'zip_leven', \n",
    "                'zip_jaro', 'zip_lcs', 'url_sim', 'url_gesh', 'url_leven', 'url_jaro', 'url_lcs', 'url_len_diff', \n",
    "                'url_nleven', 'url_nlcsk', 'url_nlcs', 'phone_gesh', 'phone_leven', 'phone_jaro', 'phone_lcs', \n",
    "                'categories_sim', 'categories_gesh', 'categories_leven', 'categories_jaro', 'categories_lcs', \n",
    "                'categories_len_diff', 'categories_nleven', 'categories_nlcsk', 'categories_nlcs', 'country_sim', \n",
    "                'country_gesh', 'country_leven', 'country_nleven', 'kdist_diff', 'kneighbors_mean', \n",
    "                'name_1', 'categories_1', 'address_1', 'state_1', 'url_1', 'country_1', 'name_2',\n",
    "                'categories_2', 'address_2', 'state_2', 'url_2', 'country_2', 'sim_sum', 'gesh_sum',\n",
    "                'leven_sum', 'jaro_sum', 'lcs_sum', 'sim_std', 'gesh_std', 'leven_std',\n",
    "                'jaro_std', 'lcs_std', 'info_power_1', 'info_power_2', 'info_diff']"
   ]
  },
  {
   "cell_type": "code",
   "execution_count": 19,
   "id": "09dfdf5e",
   "metadata": {},
   "outputs": [
    {
     "data": {
      "application/vnd.jupyter.widget-view+json": {
       "model_id": "8b8322a27ed64408b33579664e57023c",
       "version_major": 2,
       "version_minor": 0
      },
      "text/plain": [
       "0it [00:00, ?it/s]"
      ]
     },
     "metadata": {},
     "output_type": "display_data"
    }
   ],
   "source": [
    "NFOLDS = 5\n",
    "kf = StratifiedKFold(n_splits = NFOLDS, shuffle=True, random_state=2018)\n",
    "for i, (trn_idx, val_idx) in tqdm(enumerate(kf.split(train_df, train_df[\"label\"], train_df[\"label\"]))):\n",
    "    train_df.loc[val_idx, \"fold\"] = i"
   ]
  },
  {
   "cell_type": "code",
   "execution_count": 20,
   "id": "bd82fe70",
   "metadata": {},
   "outputs": [],
   "source": [
    "import lightgbm as lgbm\n",
    "\n",
    "def fit_lgbm(X, y, params=None, es_rounds=20, seed=42, N_SPLITS=5, \n",
    "             n_class=None, model_dir=None, folds=None):\n",
    "    \n",
    "    models = []\n",
    "    oof = np.zeros((len(y), n_class), dtype=np.float64)\n",
    "    \n",
    "    for i in tqdm(range(NFOLDS)):\n",
    "        print(f\"== fold {i} ==\")\n",
    "        trn_idx = folds!=i\n",
    "        val_idx = folds==i\n",
    "        X_train, y_train = X[trn_idx], y.iloc[trn_idx]\n",
    "        X_valid, y_valid = X.iloc[val_idx], y.iloc[val_idx]\n",
    "\n",
    "        if model_dir is None:\n",
    "            model = lgbm.LGBMClassifier(**params)\n",
    "            model.fit(\n",
    "                X_train, y_train, \n",
    "                eval_set=[(X_valid, y_valid)],  \n",
    "                early_stopping_rounds=es_rounds, \n",
    "                verbose=50)\n",
    "        else:\n",
    "            with open(f'../src/models/BinaryModels/lgb_2set_5f_binary{i}.pkl', 'rb') as f:\n",
    "                model = pickle.load(f)\n",
    "            \n",
    "        pred = model.predict_proba(X_valid)\n",
    "        oof[val_idx] = pred\n",
    "        models.append(model)\n",
    "        \n",
    "        file = f'../src/models/BinaryModels/lgb_2set_5f_binary{i}.pkl'\n",
    "        pickle.dump(model, open(file, 'wb'))\n",
    "        print()\n",
    "\n",
    "    cv = (oof.argmax(axis=-1) == y).mean()\n",
    "    print(f\"CV-accuracy: {cv}\")\n",
    "\n",
    "    return oof, models\n",
    "\n",
    "def inference_lgbm(models, feat_df):\n",
    "    pred = np.array([model.predict_proba(feat_df) for model in models])\n",
    "    pred = np.mean(pred, axis=0)\n",
    "    return pred"
   ]
  },
  {
   "cell_type": "code",
   "execution_count": 21,
   "id": "1d49f2cc",
   "metadata": {
    "scrolled": true
   },
   "outputs": [
    {
     "data": {
      "application/vnd.jupyter.widget-view+json": {
       "model_id": "c217631771184280be9726ee2a156e74",
       "version_major": 2,
       "version_minor": 0
      },
      "text/plain": [
       "  0%|          | 0/5 [00:00<?, ?it/s]"
      ]
     },
     "metadata": {},
     "output_type": "display_data"
    },
    {
     "name": "stdout",
     "output_type": "stream",
     "text": [
      "== fold 0 ==\n",
      "[50]\tvalid_0's binary_logloss: 0.0406085\tvalid_0's auc: 0.993831\n",
      "[100]\tvalid_0's binary_logloss: 0.0389113\tvalid_0's auc: 0.99438\n",
      "[150]\tvalid_0's binary_logloss: 0.038004\tvalid_0's auc: 0.994667\n",
      "[200]\tvalid_0's binary_logloss: 0.037316\tvalid_0's auc: 0.994884\n",
      "[250]\tvalid_0's binary_logloss: 0.0367756\tvalid_0's auc: 0.995031\n",
      "[300]\tvalid_0's binary_logloss: 0.0363473\tvalid_0's auc: 0.995156\n",
      "[350]\tvalid_0's binary_logloss: 0.0359008\tvalid_0's auc: 0.995279\n",
      "[400]\tvalid_0's binary_logloss: 0.0354739\tvalid_0's auc: 0.995409\n",
      "[450]\tvalid_0's binary_logloss: 0.0350776\tvalid_0's auc: 0.99551\n",
      "[500]\tvalid_0's binary_logloss: 0.0347198\tvalid_0's auc: 0.995606\n",
      "[550]\tvalid_0's binary_logloss: 0.0343791\tvalid_0's auc: 0.995689\n",
      "[600]\tvalid_0's binary_logloss: 0.0340766\tvalid_0's auc: 0.995768\n",
      "[650]\tvalid_0's binary_logloss: 0.0337812\tvalid_0's auc: 0.995844\n",
      "[700]\tvalid_0's binary_logloss: 0.0334809\tvalid_0's auc: 0.995923\n",
      "[750]\tvalid_0's binary_logloss: 0.0332148\tvalid_0's auc: 0.995982\n",
      "[800]\tvalid_0's binary_logloss: 0.0329257\tvalid_0's auc: 0.996054\n",
      "[850]\tvalid_0's binary_logloss: 0.0326661\tvalid_0's auc: 0.996116\n",
      "[900]\tvalid_0's binary_logloss: 0.0324048\tvalid_0's auc: 0.996178\n",
      "[950]\tvalid_0's binary_logloss: 0.0321582\tvalid_0's auc: 0.996234\n",
      "[1000]\tvalid_0's binary_logloss: 0.0319024\tvalid_0's auc: 0.996294\n",
      "[1050]\tvalid_0's binary_logloss: 0.0316789\tvalid_0's auc: 0.996342\n",
      "[1100]\tvalid_0's binary_logloss: 0.03146\tvalid_0's auc: 0.996387\n",
      "[1150]\tvalid_0's binary_logloss: 0.0312259\tvalid_0's auc: 0.996438\n",
      "[1200]\tvalid_0's binary_logloss: 0.0310069\tvalid_0's auc: 0.996489\n",
      "[1250]\tvalid_0's binary_logloss: 0.0308182\tvalid_0's auc: 0.996526\n",
      "[1300]\tvalid_0's binary_logloss: 0.0306182\tvalid_0's auc: 0.996575\n",
      "[1350]\tvalid_0's binary_logloss: 0.0304204\tvalid_0's auc: 0.996618\n",
      "[1400]\tvalid_0's binary_logloss: 0.0302204\tvalid_0's auc: 0.996659\n",
      "[1450]\tvalid_0's binary_logloss: 0.030029\tvalid_0's auc: 0.996702\n",
      "[1500]\tvalid_0's binary_logloss: 0.0298294\tvalid_0's auc: 0.996737\n",
      "[1550]\tvalid_0's binary_logloss: 0.0296518\tvalid_0's auc: 0.996774\n",
      "[1600]\tvalid_0's binary_logloss: 0.0294577\tvalid_0's auc: 0.996813\n",
      "[1650]\tvalid_0's binary_logloss: 0.0293003\tvalid_0's auc: 0.996845\n",
      "[1700]\tvalid_0's binary_logloss: 0.0291351\tvalid_0's auc: 0.996871\n",
      "[1750]\tvalid_0's binary_logloss: 0.028976\tvalid_0's auc: 0.996899\n",
      "[1800]\tvalid_0's binary_logloss: 0.0288431\tvalid_0's auc: 0.996927\n",
      "[1850]\tvalid_0's binary_logloss: 0.0286705\tvalid_0's auc: 0.996962\n",
      "[1900]\tvalid_0's binary_logloss: 0.0285099\tvalid_0's auc: 0.996993\n",
      "[1950]\tvalid_0's binary_logloss: 0.0283559\tvalid_0's auc: 0.997023\n",
      "[2000]\tvalid_0's binary_logloss: 0.028194\tvalid_0's auc: 0.99705\n",
      "[2050]\tvalid_0's binary_logloss: 0.0280577\tvalid_0's auc: 0.997074\n",
      "[2100]\tvalid_0's binary_logloss: 0.0279039\tvalid_0's auc: 0.997101\n",
      "[2150]\tvalid_0's binary_logloss: 0.0277483\tvalid_0's auc: 0.99713\n",
      "[2200]\tvalid_0's binary_logloss: 0.0276238\tvalid_0's auc: 0.997153\n",
      "[2250]\tvalid_0's binary_logloss: 0.0274715\tvalid_0's auc: 0.997181\n",
      "[2300]\tvalid_0's binary_logloss: 0.0273204\tvalid_0's auc: 0.99721\n",
      "[2350]\tvalid_0's binary_logloss: 0.0271913\tvalid_0's auc: 0.997229\n",
      "[2400]\tvalid_0's binary_logloss: 0.0270658\tvalid_0's auc: 0.997253\n",
      "[2450]\tvalid_0's binary_logloss: 0.0269332\tvalid_0's auc: 0.997277\n",
      "[2500]\tvalid_0's binary_logloss: 0.0268102\tvalid_0's auc: 0.997296\n",
      "[2550]\tvalid_0's binary_logloss: 0.0266871\tvalid_0's auc: 0.997316\n",
      "[2600]\tvalid_0's binary_logloss: 0.0265834\tvalid_0's auc: 0.997333\n",
      "[2650]\tvalid_0's binary_logloss: 0.0264448\tvalid_0's auc: 0.997359\n",
      "[2700]\tvalid_0's binary_logloss: 0.0263218\tvalid_0's auc: 0.997379\n",
      "[2750]\tvalid_0's binary_logloss: 0.0262108\tvalid_0's auc: 0.9974\n",
      "[2800]\tvalid_0's binary_logloss: 0.0261099\tvalid_0's auc: 0.997416\n",
      "[2850]\tvalid_0's binary_logloss: 0.0260211\tvalid_0's auc: 0.997429\n",
      "[2900]\tvalid_0's binary_logloss: 0.0259209\tvalid_0's auc: 0.997444\n",
      "[2950]\tvalid_0's binary_logloss: 0.0258303\tvalid_0's auc: 0.997458\n",
      "[3000]\tvalid_0's binary_logloss: 0.0257298\tvalid_0's auc: 0.997473\n",
      "\n",
      "== fold 1 ==\n",
      "[50]\tvalid_0's binary_logloss: 0.0404378\tvalid_0's auc: 0.993944\n",
      "[100]\tvalid_0's binary_logloss: 0.0387983\tvalid_0's auc: 0.994436\n",
      "[150]\tvalid_0's binary_logloss: 0.0378305\tvalid_0's auc: 0.99473\n",
      "[200]\tvalid_0's binary_logloss: 0.0372612\tvalid_0's auc: 0.994899\n",
      "[250]\tvalid_0's binary_logloss: 0.0367309\tvalid_0's auc: 0.995064\n",
      "[300]\tvalid_0's binary_logloss: 0.036272\tvalid_0's auc: 0.995193\n",
      "[350]\tvalid_0's binary_logloss: 0.0358415\tvalid_0's auc: 0.995318\n",
      "[400]\tvalid_0's binary_logloss: 0.0354422\tvalid_0's auc: 0.995425\n",
      "[450]\tvalid_0's binary_logloss: 0.0350809\tvalid_0's auc: 0.995528\n",
      "[500]\tvalid_0's binary_logloss: 0.0347132\tvalid_0's auc: 0.995627\n",
      "[550]\tvalid_0's binary_logloss: 0.0343939\tvalid_0's auc: 0.995707\n",
      "[600]\tvalid_0's binary_logloss: 0.0340741\tvalid_0's auc: 0.995791\n",
      "[650]\tvalid_0's binary_logloss: 0.0337848\tvalid_0's auc: 0.995861\n",
      "[700]\tvalid_0's binary_logloss: 0.0335184\tvalid_0's auc: 0.995928\n",
      "[750]\tvalid_0's binary_logloss: 0.0332088\tvalid_0's auc: 0.996014\n",
      "[800]\tvalid_0's binary_logloss: 0.0329353\tvalid_0's auc: 0.996079\n",
      "[850]\tvalid_0's binary_logloss: 0.0326602\tvalid_0's auc: 0.996154\n",
      "[900]\tvalid_0's binary_logloss: 0.0324642\tvalid_0's auc: 0.996192\n",
      "[950]\tvalid_0's binary_logloss: 0.0322245\tvalid_0's auc: 0.996248\n",
      "[1000]\tvalid_0's binary_logloss: 0.0320398\tvalid_0's auc: 0.996292\n",
      "[1050]\tvalid_0's binary_logloss: 0.0318117\tvalid_0's auc: 0.996344\n",
      "[1100]\tvalid_0's binary_logloss: 0.0315998\tvalid_0's auc: 0.9964\n",
      "[1150]\tvalid_0's binary_logloss: 0.0314088\tvalid_0's auc: 0.99644\n",
      "[1200]\tvalid_0's binary_logloss: 0.031197\tvalid_0's auc: 0.996487\n",
      "[1250]\tvalid_0's binary_logloss: 0.0310315\tvalid_0's auc: 0.996516\n",
      "[1300]\tvalid_0's binary_logloss: 0.0308321\tvalid_0's auc: 0.996556\n",
      "[1350]\tvalid_0's binary_logloss: 0.0306646\tvalid_0's auc: 0.996596\n",
      "[1400]\tvalid_0's binary_logloss: 0.0304586\tvalid_0's auc: 0.996643\n",
      "[1450]\tvalid_0's binary_logloss: 0.0302654\tvalid_0's auc: 0.996687\n",
      "[1500]\tvalid_0's binary_logloss: 0.0300883\tvalid_0's auc: 0.996726\n",
      "[1550]\tvalid_0's binary_logloss: 0.0299195\tvalid_0's auc: 0.99676\n",
      "[1600]\tvalid_0's binary_logloss: 0.0297369\tvalid_0's auc: 0.996797\n",
      "[1650]\tvalid_0's binary_logloss: 0.0295828\tvalid_0's auc: 0.996827\n",
      "[1700]\tvalid_0's binary_logloss: 0.0294206\tvalid_0's auc: 0.99686\n",
      "[1750]\tvalid_0's binary_logloss: 0.0292417\tvalid_0's auc: 0.996896\n",
      "[1800]\tvalid_0's binary_logloss: 0.0290903\tvalid_0's auc: 0.996921\n",
      "[1850]\tvalid_0's binary_logloss: 0.0289168\tvalid_0's auc: 0.996957\n",
      "[1900]\tvalid_0's binary_logloss: 0.0287523\tvalid_0's auc: 0.996987\n",
      "[1950]\tvalid_0's binary_logloss: 0.0285847\tvalid_0's auc: 0.99702\n",
      "[2000]\tvalid_0's binary_logloss: 0.0284342\tvalid_0's auc: 0.99705\n",
      "[2050]\tvalid_0's binary_logloss: 0.0282665\tvalid_0's auc: 0.99708\n",
      "[2100]\tvalid_0's binary_logloss: 0.0281076\tvalid_0's auc: 0.997104\n",
      "[2150]\tvalid_0's binary_logloss: 0.0279398\tvalid_0's auc: 0.997134\n",
      "[2200]\tvalid_0's binary_logloss: 0.027806\tvalid_0's auc: 0.997157\n",
      "[2250]\tvalid_0's binary_logloss: 0.0276875\tvalid_0's auc: 0.997176\n",
      "[2300]\tvalid_0's binary_logloss: 0.0275502\tvalid_0's auc: 0.9972\n",
      "[2350]\tvalid_0's binary_logloss: 0.0274243\tvalid_0's auc: 0.997222\n",
      "[2400]\tvalid_0's binary_logloss: 0.0273042\tvalid_0's auc: 0.997242\n",
      "[2450]\tvalid_0's binary_logloss: 0.0271758\tvalid_0's auc: 0.997263\n",
      "[2500]\tvalid_0's binary_logloss: 0.0270449\tvalid_0's auc: 0.997286\n",
      "[2550]\tvalid_0's binary_logloss: 0.0269231\tvalid_0's auc: 0.997306\n",
      "[2600]\tvalid_0's binary_logloss: 0.0268135\tvalid_0's auc: 0.997326\n",
      "[2650]\tvalid_0's binary_logloss: 0.0266795\tvalid_0's auc: 0.997348\n",
      "[2700]\tvalid_0's binary_logloss: 0.0265571\tvalid_0's auc: 0.997367\n",
      "[2750]\tvalid_0's binary_logloss: 0.0264198\tvalid_0's auc: 0.997389\n",
      "[2800]\tvalid_0's binary_logloss: 0.0263221\tvalid_0's auc: 0.997406\n",
      "[2850]\tvalid_0's binary_logloss: 0.0262259\tvalid_0's auc: 0.997421\n",
      "[2900]\tvalid_0's binary_logloss: 0.0261037\tvalid_0's auc: 0.99744\n",
      "[2950]\tvalid_0's binary_logloss: 0.0260011\tvalid_0's auc: 0.997456\n",
      "[3000]\tvalid_0's binary_logloss: 0.025904\tvalid_0's auc: 0.99747\n",
      "\n",
      "== fold 2 ==\n",
      "[50]\tvalid_0's binary_logloss: 0.0405236\tvalid_0's auc: 0.993922\n",
      "[100]\tvalid_0's binary_logloss: 0.0388301\tvalid_0's auc: 0.994457\n",
      "[150]\tvalid_0's binary_logloss: 0.0379362\tvalid_0's auc: 0.994722\n"
     ]
    },
    {
     "name": "stdout",
     "output_type": "stream",
     "text": [
      "[200]\tvalid_0's binary_logloss: 0.0372993\tvalid_0's auc: 0.994926\n",
      "[250]\tvalid_0's binary_logloss: 0.0367488\tvalid_0's auc: 0.995091\n",
      "[300]\tvalid_0's binary_logloss: 0.0362237\tvalid_0's auc: 0.995229\n",
      "[350]\tvalid_0's binary_logloss: 0.0357542\tvalid_0's auc: 0.99537\n",
      "[400]\tvalid_0's binary_logloss: 0.0353623\tvalid_0's auc: 0.995475\n",
      "[450]\tvalid_0's binary_logloss: 0.0349391\tvalid_0's auc: 0.995586\n",
      "[500]\tvalid_0's binary_logloss: 0.0345693\tvalid_0's auc: 0.9957\n",
      "[550]\tvalid_0's binary_logloss: 0.0342572\tvalid_0's auc: 0.995777\n",
      "[600]\tvalid_0's binary_logloss: 0.0339536\tvalid_0's auc: 0.995846\n",
      "[650]\tvalid_0's binary_logloss: 0.0336528\tvalid_0's auc: 0.995924\n",
      "[700]\tvalid_0's binary_logloss: 0.0334012\tvalid_0's auc: 0.995984\n",
      "[750]\tvalid_0's binary_logloss: 0.0331053\tvalid_0's auc: 0.996061\n",
      "[800]\tvalid_0's binary_logloss: 0.0328376\tvalid_0's auc: 0.996118\n",
      "[850]\tvalid_0's binary_logloss: 0.0326192\tvalid_0's auc: 0.996167\n",
      "[900]\tvalid_0's binary_logloss: 0.0323418\tvalid_0's auc: 0.996229\n",
      "[950]\tvalid_0's binary_logloss: 0.0321167\tvalid_0's auc: 0.996284\n",
      "[1000]\tvalid_0's binary_logloss: 0.031886\tvalid_0's auc: 0.996337\n",
      "[1050]\tvalid_0's binary_logloss: 0.0316351\tvalid_0's auc: 0.996394\n",
      "[1100]\tvalid_0's binary_logloss: 0.0314219\tvalid_0's auc: 0.99644\n",
      "[1150]\tvalid_0's binary_logloss: 0.0312043\tvalid_0's auc: 0.996488\n",
      "[1200]\tvalid_0's binary_logloss: 0.0309824\tvalid_0's auc: 0.996533\n",
      "[1250]\tvalid_0's binary_logloss: 0.030796\tvalid_0's auc: 0.996571\n",
      "[1300]\tvalid_0's binary_logloss: 0.0305929\tvalid_0's auc: 0.996615\n",
      "[1350]\tvalid_0's binary_logloss: 0.0304054\tvalid_0's auc: 0.996657\n",
      "[1400]\tvalid_0's binary_logloss: 0.0302084\tvalid_0's auc: 0.996694\n",
      "[1450]\tvalid_0's binary_logloss: 0.030023\tvalid_0's auc: 0.99673\n",
      "[1500]\tvalid_0's binary_logloss: 0.0298283\tvalid_0's auc: 0.996763\n",
      "[1550]\tvalid_0's binary_logloss: 0.0296475\tvalid_0's auc: 0.996797\n",
      "[1600]\tvalid_0's binary_logloss: 0.0294874\tvalid_0's auc: 0.996827\n",
      "[1650]\tvalid_0's binary_logloss: 0.0293391\tvalid_0's auc: 0.996855\n",
      "[1700]\tvalid_0's binary_logloss: 0.0291615\tvalid_0's auc: 0.996887\n",
      "[1750]\tvalid_0's binary_logloss: 0.0289891\tvalid_0's auc: 0.99692\n",
      "[1800]\tvalid_0's binary_logloss: 0.0288364\tvalid_0's auc: 0.996953\n",
      "[1850]\tvalid_0's binary_logloss: 0.0287037\tvalid_0's auc: 0.996979\n",
      "[1900]\tvalid_0's binary_logloss: 0.0285539\tvalid_0's auc: 0.997007\n",
      "[1950]\tvalid_0's binary_logloss: 0.0284079\tvalid_0's auc: 0.997031\n",
      "[2000]\tvalid_0's binary_logloss: 0.0282498\tvalid_0's auc: 0.997059\n",
      "[2050]\tvalid_0's binary_logloss: 0.02812\tvalid_0's auc: 0.997082\n",
      "[2100]\tvalid_0's binary_logloss: 0.0279952\tvalid_0's auc: 0.997105\n",
      "[2150]\tvalid_0's binary_logloss: 0.0278478\tvalid_0's auc: 0.997129\n",
      "[2200]\tvalid_0's binary_logloss: 0.0277092\tvalid_0's auc: 0.997154\n",
      "[2250]\tvalid_0's binary_logloss: 0.0275803\tvalid_0's auc: 0.997176\n",
      "[2300]\tvalid_0's binary_logloss: 0.0274542\tvalid_0's auc: 0.997198\n",
      "[2350]\tvalid_0's binary_logloss: 0.0273258\tvalid_0's auc: 0.99722\n",
      "[2400]\tvalid_0's binary_logloss: 0.0271757\tvalid_0's auc: 0.99725\n",
      "[2450]\tvalid_0's binary_logloss: 0.0270578\tvalid_0's auc: 0.99727\n",
      "[2500]\tvalid_0's binary_logloss: 0.0269309\tvalid_0's auc: 0.997288\n",
      "[2550]\tvalid_0's binary_logloss: 0.0268345\tvalid_0's auc: 0.997306\n",
      "[2600]\tvalid_0's binary_logloss: 0.0267171\tvalid_0's auc: 0.997325\n",
      "[2650]\tvalid_0's binary_logloss: 0.0265941\tvalid_0's auc: 0.997346\n",
      "[2700]\tvalid_0's binary_logloss: 0.0264787\tvalid_0's auc: 0.997365\n",
      "[2750]\tvalid_0's binary_logloss: 0.0263661\tvalid_0's auc: 0.997384\n",
      "[2800]\tvalid_0's binary_logloss: 0.026263\tvalid_0's auc: 0.9974\n",
      "[2850]\tvalid_0's binary_logloss: 0.0261756\tvalid_0's auc: 0.997413\n",
      "[2900]\tvalid_0's binary_logloss: 0.0260591\tvalid_0's auc: 0.997435\n",
      "[2950]\tvalid_0's binary_logloss: 0.0259473\tvalid_0's auc: 0.99745\n",
      "[3000]\tvalid_0's binary_logloss: 0.0258457\tvalid_0's auc: 0.997465\n",
      "\n",
      "== fold 3 ==\n",
      "[50]\tvalid_0's binary_logloss: 0.0406132\tvalid_0's auc: 0.993925\n",
      "[100]\tvalid_0's binary_logloss: 0.038886\tvalid_0's auc: 0.994429\n",
      "[150]\tvalid_0's binary_logloss: 0.0380058\tvalid_0's auc: 0.99472\n",
      "[200]\tvalid_0's binary_logloss: 0.0373867\tvalid_0's auc: 0.994902\n",
      "[250]\tvalid_0's binary_logloss: 0.0368472\tvalid_0's auc: 0.995068\n",
      "[300]\tvalid_0's binary_logloss: 0.0363702\tvalid_0's auc: 0.995208\n",
      "[350]\tvalid_0's binary_logloss: 0.035934\tvalid_0's auc: 0.995322\n",
      "[400]\tvalid_0's binary_logloss: 0.0355174\tvalid_0's auc: 0.995436\n",
      "[450]\tvalid_0's binary_logloss: 0.0351303\tvalid_0's auc: 0.995541\n",
      "[500]\tvalid_0's binary_logloss: 0.0348448\tvalid_0's auc: 0.995621\n",
      "[550]\tvalid_0's binary_logloss: 0.0345347\tvalid_0's auc: 0.995709\n",
      "[600]\tvalid_0's binary_logloss: 0.0342429\tvalid_0's auc: 0.995783\n",
      "[650]\tvalid_0's binary_logloss: 0.0339343\tvalid_0's auc: 0.995872\n",
      "[700]\tvalid_0's binary_logloss: 0.0336488\tvalid_0's auc: 0.995937\n",
      "[750]\tvalid_0's binary_logloss: 0.0333656\tvalid_0's auc: 0.996008\n",
      "[800]\tvalid_0's binary_logloss: 0.0330992\tvalid_0's auc: 0.996069\n",
      "[850]\tvalid_0's binary_logloss: 0.0328731\tvalid_0's auc: 0.996119\n",
      "[900]\tvalid_0's binary_logloss: 0.0326119\tvalid_0's auc: 0.996175\n",
      "[950]\tvalid_0's binary_logloss: 0.0323716\tvalid_0's auc: 0.996231\n",
      "[1000]\tvalid_0's binary_logloss: 0.0321258\tvalid_0's auc: 0.996288\n",
      "[1050]\tvalid_0's binary_logloss: 0.0318748\tvalid_0's auc: 0.996343\n",
      "[1100]\tvalid_0's binary_logloss: 0.0316297\tvalid_0's auc: 0.996401\n",
      "[1150]\tvalid_0's binary_logloss: 0.0314278\tvalid_0's auc: 0.996445\n",
      "[1200]\tvalid_0's binary_logloss: 0.0312227\tvalid_0's auc: 0.996492\n",
      "[1250]\tvalid_0's binary_logloss: 0.0310179\tvalid_0's auc: 0.996536\n",
      "[1300]\tvalid_0's binary_logloss: 0.0308009\tvalid_0's auc: 0.996577\n",
      "[1350]\tvalid_0's binary_logloss: 0.0305988\tvalid_0's auc: 0.996616\n",
      "[1400]\tvalid_0's binary_logloss: 0.0303936\tvalid_0's auc: 0.996655\n",
      "[1450]\tvalid_0's binary_logloss: 0.0302239\tvalid_0's auc: 0.99669\n",
      "[1500]\tvalid_0's binary_logloss: 0.0300637\tvalid_0's auc: 0.996722\n",
      "[1550]\tvalid_0's binary_logloss: 0.0298848\tvalid_0's auc: 0.996759\n",
      "[1600]\tvalid_0's binary_logloss: 0.029681\tvalid_0's auc: 0.996794\n",
      "[1650]\tvalid_0's binary_logloss: 0.0295068\tvalid_0's auc: 0.996825\n",
      "[1700]\tvalid_0's binary_logloss: 0.0293402\tvalid_0's auc: 0.996857\n",
      "[1750]\tvalid_0's binary_logloss: 0.0291811\tvalid_0's auc: 0.996887\n",
      "[1800]\tvalid_0's binary_logloss: 0.0290141\tvalid_0's auc: 0.996923\n",
      "[1850]\tvalid_0's binary_logloss: 0.0288609\tvalid_0's auc: 0.996952\n",
      "[1900]\tvalid_0's binary_logloss: 0.0287212\tvalid_0's auc: 0.996976\n",
      "[1950]\tvalid_0's binary_logloss: 0.028546\tvalid_0's auc: 0.997012\n",
      "[2000]\tvalid_0's binary_logloss: 0.0283883\tvalid_0's auc: 0.997045\n",
      "[2050]\tvalid_0's binary_logloss: 0.02825\tvalid_0's auc: 0.99707\n",
      "[2100]\tvalid_0's binary_logloss: 0.0281091\tvalid_0's auc: 0.997095\n",
      "[2150]\tvalid_0's binary_logloss: 0.027973\tvalid_0's auc: 0.997118\n",
      "[2200]\tvalid_0's binary_logloss: 0.0278432\tvalid_0's auc: 0.997141\n",
      "[2250]\tvalid_0's binary_logloss: 0.0277111\tvalid_0's auc: 0.997164\n",
      "[2300]\tvalid_0's binary_logloss: 0.0275738\tvalid_0's auc: 0.997186\n",
      "[2350]\tvalid_0's binary_logloss: 0.0274513\tvalid_0's auc: 0.997205\n",
      "[2400]\tvalid_0's binary_logloss: 0.0273327\tvalid_0's auc: 0.997225\n",
      "[2450]\tvalid_0's binary_logloss: 0.0272084\tvalid_0's auc: 0.997249\n",
      "[2500]\tvalid_0's binary_logloss: 0.027093\tvalid_0's auc: 0.997268\n",
      "[2550]\tvalid_0's binary_logloss: 0.0269674\tvalid_0's auc: 0.99729\n",
      "[2600]\tvalid_0's binary_logloss: 0.0268371\tvalid_0's auc: 0.997312\n",
      "[2650]\tvalid_0's binary_logloss: 0.0267331\tvalid_0's auc: 0.99733\n",
      "[2700]\tvalid_0's binary_logloss: 0.0266267\tvalid_0's auc: 0.997347\n",
      "[2750]\tvalid_0's binary_logloss: 0.0265349\tvalid_0's auc: 0.997362\n",
      "[2800]\tvalid_0's binary_logloss: 0.0264037\tvalid_0's auc: 0.997381\n",
      "[2850]\tvalid_0's binary_logloss: 0.0262724\tvalid_0's auc: 0.997402\n",
      "[2900]\tvalid_0's binary_logloss: 0.0261442\tvalid_0's auc: 0.997424\n",
      "[2950]\tvalid_0's binary_logloss: 0.0260598\tvalid_0's auc: 0.997439\n",
      "[3000]\tvalid_0's binary_logloss: 0.0259297\tvalid_0's auc: 0.997462\n",
      "\n",
      "== fold 4 ==\n",
      "[50]\tvalid_0's binary_logloss: 0.0405813\tvalid_0's auc: 0.993889\n",
      "[100]\tvalid_0's binary_logloss: 0.0389693\tvalid_0's auc: 0.994378\n",
      "[150]\tvalid_0's binary_logloss: 0.0379738\tvalid_0's auc: 0.994666\n",
      "[200]\tvalid_0's binary_logloss: 0.0372787\tvalid_0's auc: 0.994894\n",
      "[250]\tvalid_0's binary_logloss: 0.0367495\tvalid_0's auc: 0.995045\n",
      "[300]\tvalid_0's binary_logloss: 0.0362714\tvalid_0's auc: 0.995201\n"
     ]
    },
    {
     "name": "stdout",
     "output_type": "stream",
     "text": [
      "[350]\tvalid_0's binary_logloss: 0.0358384\tvalid_0's auc: 0.995318\n",
      "[400]\tvalid_0's binary_logloss: 0.0354734\tvalid_0's auc: 0.995426\n",
      "[450]\tvalid_0's binary_logloss: 0.0351161\tvalid_0's auc: 0.995529\n",
      "[500]\tvalid_0's binary_logloss: 0.0347581\tvalid_0's auc: 0.995632\n",
      "[550]\tvalid_0's binary_logloss: 0.0344178\tvalid_0's auc: 0.995719\n",
      "[600]\tvalid_0's binary_logloss: 0.0340584\tvalid_0's auc: 0.99581\n",
      "[650]\tvalid_0's binary_logloss: 0.0338138\tvalid_0's auc: 0.995876\n",
      "[700]\tvalid_0's binary_logloss: 0.0335796\tvalid_0's auc: 0.995931\n",
      "[750]\tvalid_0's binary_logloss: 0.0333328\tvalid_0's auc: 0.995987\n",
      "[800]\tvalid_0's binary_logloss: 0.0330588\tvalid_0's auc: 0.996049\n",
      "[850]\tvalid_0's binary_logloss: 0.0328002\tvalid_0's auc: 0.996109\n",
      "[900]\tvalid_0's binary_logloss: 0.0325551\tvalid_0's auc: 0.996162\n",
      "[950]\tvalid_0's binary_logloss: 0.0322941\tvalid_0's auc: 0.996224\n",
      "[1000]\tvalid_0's binary_logloss: 0.0320713\tvalid_0's auc: 0.996274\n",
      "[1050]\tvalid_0's binary_logloss: 0.0318637\tvalid_0's auc: 0.996319\n",
      "[1100]\tvalid_0's binary_logloss: 0.0316543\tvalid_0's auc: 0.996374\n",
      "[1150]\tvalid_0's binary_logloss: 0.0314515\tvalid_0's auc: 0.996417\n",
      "[1200]\tvalid_0's binary_logloss: 0.0312604\tvalid_0's auc: 0.996459\n",
      "[1250]\tvalid_0's binary_logloss: 0.0310407\tvalid_0's auc: 0.996509\n",
      "[1300]\tvalid_0's binary_logloss: 0.0308383\tvalid_0's auc: 0.996551\n",
      "[1350]\tvalid_0's binary_logloss: 0.0306164\tvalid_0's auc: 0.996598\n",
      "[1400]\tvalid_0's binary_logloss: 0.0304215\tvalid_0's auc: 0.996633\n",
      "[1450]\tvalid_0's binary_logloss: 0.0302346\tvalid_0's auc: 0.996671\n",
      "[1500]\tvalid_0's binary_logloss: 0.0300089\tvalid_0's auc: 0.996715\n",
      "[1550]\tvalid_0's binary_logloss: 0.0298493\tvalid_0's auc: 0.996741\n",
      "[1600]\tvalid_0's binary_logloss: 0.0296715\tvalid_0's auc: 0.996774\n",
      "[1650]\tvalid_0's binary_logloss: 0.0295154\tvalid_0's auc: 0.996801\n",
      "[1700]\tvalid_0's binary_logloss: 0.0293698\tvalid_0's auc: 0.99683\n",
      "[1750]\tvalid_0's binary_logloss: 0.029221\tvalid_0's auc: 0.99686\n",
      "[1800]\tvalid_0's binary_logloss: 0.0290722\tvalid_0's auc: 0.996891\n",
      "[1850]\tvalid_0's binary_logloss: 0.0288955\tvalid_0's auc: 0.996926\n",
      "[1900]\tvalid_0's binary_logloss: 0.0287648\tvalid_0's auc: 0.996952\n",
      "[1950]\tvalid_0's binary_logloss: 0.0286328\tvalid_0's auc: 0.996973\n",
      "[2000]\tvalid_0's binary_logloss: 0.0284672\tvalid_0's auc: 0.997001\n",
      "[2050]\tvalid_0's binary_logloss: 0.0283274\tvalid_0's auc: 0.997025\n",
      "[2100]\tvalid_0's binary_logloss: 0.0281469\tvalid_0's auc: 0.997058\n",
      "[2150]\tvalid_0's binary_logloss: 0.0279829\tvalid_0's auc: 0.997089\n",
      "[2200]\tvalid_0's binary_logloss: 0.0278474\tvalid_0's auc: 0.997112\n",
      "[2250]\tvalid_0's binary_logloss: 0.0277463\tvalid_0's auc: 0.997129\n",
      "[2300]\tvalid_0's binary_logloss: 0.0275954\tvalid_0's auc: 0.997154\n",
      "[2350]\tvalid_0's binary_logloss: 0.0274582\tvalid_0's auc: 0.997175\n",
      "[2400]\tvalid_0's binary_logloss: 0.0273201\tvalid_0's auc: 0.997199\n",
      "[2450]\tvalid_0's binary_logloss: 0.0271988\tvalid_0's auc: 0.997224\n",
      "[2500]\tvalid_0's binary_logloss: 0.0270909\tvalid_0's auc: 0.997245\n",
      "[2550]\tvalid_0's binary_logloss: 0.0269969\tvalid_0's auc: 0.997259\n",
      "[2600]\tvalid_0's binary_logloss: 0.0268912\tvalid_0's auc: 0.997276\n",
      "[2650]\tvalid_0's binary_logloss: 0.0267533\tvalid_0's auc: 0.997299\n",
      "[2700]\tvalid_0's binary_logloss: 0.0266362\tvalid_0's auc: 0.99732\n",
      "[2750]\tvalid_0's binary_logloss: 0.0265246\tvalid_0's auc: 0.997341\n",
      "[2800]\tvalid_0's binary_logloss: 0.0264229\tvalid_0's auc: 0.997361\n",
      "[2850]\tvalid_0's binary_logloss: 0.0263088\tvalid_0's auc: 0.997379\n",
      "[2900]\tvalid_0's binary_logloss: 0.0262094\tvalid_0's auc: 0.997396\n",
      "[2950]\tvalid_0's binary_logloss: 0.0260997\tvalid_0's auc: 0.997414\n",
      "[3000]\tvalid_0's binary_logloss: 0.0260018\tvalid_0's auc: 0.997427\n",
      "\n",
      "CV-accuracy: 0.9911022630040204\n"
     ]
    }
   ],
   "source": [
    "params = {\n",
    "    'boosting_type': 'gbdt', \n",
    "    'objective': 'binary', \n",
    "    'tree_learner': 'feature',\n",
    "    'metric': ['binary_logloss', 'AUC'],\n",
    "    'learning_rate': 0.3,\n",
    "    'reg_alpha': 0.1,\n",
    "    'reg_lambda': 0.682,\n",
    "    'random_state': 42,\n",
    "    'max_depth': 9,\n",
    "    'num_leaves': 127, \n",
    "    'n_estimators': 3000,\n",
    "    \"colsample_bytree\": 0.785,\n",
    "    \"first_metric_only\": True,\n",
    "    \"max_bin\": 512\n",
    "}\n",
    "\n",
    "oof, models = fit_lgbm(train_df[TRAIN_FEATURES], train_df[\"label\"].astype(int), \n",
    "                       params=params, n_class=int(train_df[\"label\"].max() + 1), \n",
    "                       N_SPLITS=5, folds=train_df[\"fold\"].values)"
   ]
  },
  {
   "cell_type": "code",
   "execution_count": 22,
   "id": "8ac917ba",
   "metadata": {},
   "outputs": [
    {
     "data": {
      "image/png": "[encoded data removed]",
      "text/plain": [
       "<Figure size 1728x360 with 1 Axes>"
      ]
     },
     "metadata": {
      "needs_background": "light"
     },
     "output_type": "display_data"
    }
   ],
   "source": [
    "def plot_importances(models):\n",
    "    importance_df = pd.DataFrame(models[0].feature_importances_, \n",
    "                                 index=TRAIN_FEATURES, \n",
    "                                 columns=['importance'])\\\n",
    "                        .sort_values(\"importance\", ascending=False)\n",
    "\n",
    "    plt.subplots(figsize=(len(TRAIN_FEATURES) // 4, 5))\n",
    "    plt.bar(importance_df.index, importance_df.importance)\n",
    "    plt.grid()\n",
    "    plt.xticks(rotation=90)\n",
    "    plt.ylabel(\"importance\")\n",
    "    plt.tight_layout()\n",
    "    plt.show()\n",
    "\n",
    "plot_importances(models)"
   ]
  },
  {
   "cell_type": "code",
   "execution_count": 48,
   "id": "468b1100",
   "metadata": {},
   "outputs": [
    {
     "name": "stdout",
     "output_type": "stream",
     "text": [
      "Data package template written to: ../src/models/BinaryModels/dataset-metadata.json\r\n"
     ]
    }
   ],
   "source": [
    "# !kaggle datasets init -p ../src/models/BinaryModels"
   ]
  },
  {
   "cell_type": "code",
   "execution_count": 50,
   "id": "9bad329d",
   "metadata": {},
   "outputs": [
    {
     "name": "stdout",
     "output_type": "stream",
     "text": [
      "Starting upload for file lgbm_binary2.pkl\n",
      "Warning: Looks like you're using an outdated API Version, please consider updating (server 1.5.12 / client 1.5.6)\n",
      "100%|######################################| 11.4M/11.4M [00:03<00:00, 3.35MB/s]\n",
      "Upload successful: lgbm_binary2.pkl (11MB)\n",
      "Starting upload for file .ipynb_checkpoints.zip\n",
      "100%|#########################################| 22.0/22.0 [00:02<00:00, 8.60B/s]\n",
      "Upload successful: .ipynb_checkpoints.zip (22B)\n",
      "Starting upload for file lgbm_binary0.pkl\n",
      "100%|######################################| 11.4M/11.4M [00:03<00:00, 3.69MB/s]\n",
      "Upload successful: lgbm_binary0.pkl (11MB)\n",
      "Starting upload for file lgbm_binary1.pkl\n",
      "100%|######################################| 11.4M/11.4M [00:03<00:00, 3.70MB/s]\n",
      "Upload successful: lgbm_binary1.pkl (11MB)\n",
      "Your private Dataset is being created. Please check progress at https://www.kaggle.com/datasets/tarique7/foursqbinarylgb\n"
     ]
    }
   ],
   "source": [
    "# !kaggle datasets create -p ../src/models/BinaryModels --dir-mode zip"
   ]
  },
  {
   "cell_type": "code",
   "execution_count": 23,
   "id": "6f2d2b64",
   "metadata": {},
   "outputs": [
    {
     "name": "stdout",
     "output_type": "stream",
     "text": [
      "Starting upload for file lgb_2set_5f_binary0.pkl\n",
      "Warning: Looks like you're using an outdated API Version, please consider updating (server 1.5.12 / client 1.5.6)\n",
      "100%|######################################| 39.7M/39.7M [00:07<00:00, 5.79MB/s]\n",
      "Upload successful: lgb_2set_5f_binary0.pkl (40MB)\n",
      "Starting upload for file lgb_5f_binary4.pkl\n",
      "100%|######################################| 11.4M/11.4M [00:03<00:00, 3.52MB/s]\n",
      "Upload successful: lgb_5f_binary4.pkl (11MB)\n",
      "Starting upload for file lgb_2set_5f_binary3.pkl\n",
      "100%|######################################| 39.6M/39.6M [00:05<00:00, 7.50MB/s]\n",
      "Upload successful: lgb_2set_5f_binary3.pkl (40MB)\n",
      "Starting upload for file lgb_2set_5f_binary1.pkl\n",
      "100%|######################################| 39.6M/39.6M [00:06<00:00, 6.50MB/s]\n",
      "Upload successful: lgb_2set_5f_binary1.pkl (40MB)\n",
      "Starting upload for file lgbm_binary2.pkl\n",
      "100%|######################################| 11.4M/11.4M [00:03<00:00, 3.60MB/s]\n",
      "Upload successful: lgbm_binary2.pkl (11MB)\n",
      "Starting upload for file .ipynb_checkpoints.zip\n",
      "100%|#########################################| 22.0/22.0 [00:02<00:00, 7.75B/s]\n",
      "Upload successful: .ipynb_checkpoints.zip (22B)\n",
      "Starting upload for file lgb_2set_5f_binary4.pkl\n",
      "100%|######################################| 39.6M/39.6M [00:05<00:00, 7.08MB/s]\n",
      "Upload successful: lgb_2set_5f_binary4.pkl (40MB)\n",
      "Starting upload for file lgb_5f_binary0.pkl\n",
      "100%|######################################| 11.4M/11.4M [00:03<00:00, 3.56MB/s]\n",
      "Upload successful: lgb_5f_binary0.pkl (11MB)\n",
      "Starting upload for file lgbm_binary0.pkl\n",
      "100%|######################################| 11.4M/11.4M [00:03<00:00, 3.50MB/s]\n",
      "Upload successful: lgbm_binary0.pkl (11MB)\n",
      "Starting upload for file lgb_2set_5f_binary2.pkl\n",
      "100%|######################################| 39.6M/39.6M [00:05<00:00, 6.94MB/s]\n",
      "Upload successful: lgb_2set_5f_binary2.pkl (40MB)\n",
      "Starting upload for file lgb_5f_binary3.pkl\n",
      "100%|######################################| 11.4M/11.4M [00:03<00:00, 3.43MB/s]\n",
      "Upload successful: lgb_5f_binary3.pkl (11MB)\n",
      "Starting upload for file lgb_5f_binary2.pkl\n",
      "100%|######################################| 11.4M/11.4M [00:03<00:00, 3.58MB/s]\n",
      "Upload successful: lgb_5f_binary2.pkl (11MB)\n",
      "Starting upload for file lgbm_binary1.pkl\n",
      "100%|######################################| 11.4M/11.4M [00:03<00:00, 3.04MB/s]\n",
      "Upload successful: lgbm_binary1.pkl (11MB)\n",
      "Starting upload for file lgb_5f_binary1.pkl\n",
      "100%|######################################| 11.4M/11.4M [00:03<00:00, 3.16MB/s]\n",
      "Upload successful: lgb_5f_binary1.pkl (11MB)\n",
      "Dataset version is being created. Please check progress at https://www.kaggle.com/tarique7/foursqbinarylgb\n"
     ]
    }
   ],
   "source": [
    "!kaggle datasets version -m \"BothSets5Fold\" -p ../src/models/BinaryModels --dir-mode zip"
   ]
  },
  {
   "cell_type": "code",
   "execution_count": null,
   "id": "44e6840e",
   "metadata": {},
   "outputs": [],
   "source": []
  }
 ],
 "metadata": {
  "kernelspec": {
   "display_name": "Python 3",
   "language": "python",
   "name": "python3"
  },
  "language_info": {
   "codemirror_mode": {
    "name": "ipython",
    "version": 3
   },
   "file_extension": ".py",
   "mimetype": "text/x-python",
   "name": "python",
   "nbconvert_exporter": "python",
   "pygments_lexer": "ipython3",
   "version": "3.6.13"
  }
 },
 "nbformat": 4,
 "nbformat_minor": 5
}
