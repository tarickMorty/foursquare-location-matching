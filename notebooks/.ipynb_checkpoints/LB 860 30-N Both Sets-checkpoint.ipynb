{
 "cells": [
  {
   "cell_type": "code",
   "execution_count": 1,
   "id": "95c8cfa8",
   "metadata": {},
   "outputs": [],
   "source": [
    "import pandas as pd\n",
    "import numpy as np\n",
    "import lightgbm as lgb\n",
    "import matplotlib.pyplot as plt\n",
    "from tqdm.auto import tqdm\n",
    "import os\n",
    "import gc\n",
    "import random\n",
    "from sklearn.model_selection import GroupKFold, KFold, StratifiedKFold\n",
    "import seaborn as sns\n",
    "import pickle\n",
    "import json\n",
    "import re\n",
    "import time\n",
    "import sys\n",
    "pd.set_option('display.max_rows', 500)\n",
    "pd.set_option('display.max_columns', 500)\n",
    "\n",
    "import warnings\n",
    "warnings.filterwarnings('ignore')"
   ]
  },
  {
   "cell_type": "code",
   "execution_count": 2,
   "id": "1cfd2b9b",
   "metadata": {},
   "outputs": [],
   "source": [
    "tdata = pd.read_csv('../src/data/raw/train.csv')\n",
    "tdata['name'] = tdata['name'].isna().astype(int)\n",
    "tdata['categories'] = tdata['categories'].isna().astype(int)\n",
    "tdata['address'] = tdata['address'].isna().astype(int)\n",
    "tdata['state'] = tdata['state'].isna().astype(int)\n",
    "tdata['url'] = tdata['url'].isna().astype(int)\n",
    "tdata['country'] = tdata['country'].isna().astype(int)\n",
    "\n",
    "tdata = tdata[['id','name', 'categories', 'address', 'state', \n",
    "               'url', 'country']].drop_duplicates().reset_index(drop=True)"
   ]
  },
  {
   "cell_type": "code",
   "execution_count": 3,
   "id": "fd9d25ac",
   "metadata": {},
   "outputs": [],
   "source": [
    "def prepare_data(df_set):\n",
    "    \n",
    "    train_df = []\n",
    "    \n",
    "    for i in range(1, 6):\n",
    "    \n",
    "        t1 = pd.read_csv('../src/data/processed/'+df_set+str(i)+'.csv')\n",
    "        print(t1.shape)\n",
    "        t1['kdist_diff'] = (t1['kdist'] - t1['kdist_country'])/t1['kdist_country']\n",
    "        t1['kneighbors_mean'] = t1[['kneighbors', 'kneighbors_country']].mean(axis = 1)\n",
    "        \n",
    "        t1['sim_sum'] = t1[[col for col in t1.columns if 'sim' in col]].sum(axis=1)\n",
    "        t1['gesh_sum'] = t1[[col for col in t1.columns if 'gesh' in col]].sum(axis=1)\n",
    "        t1['leven_sum'] = t1[[col for col in t1.columns if '_leven' in col]].sum(axis=1)\n",
    "        t1['jaro_sum'] = t1[[col for col in t1.columns if 'jaro' in col]].sum(axis=1)\n",
    "        t1['lcs_sum'] = t1[[col for col in t1.columns if '_lcs' in col]].sum(axis=1)\n",
    "        t1['nlcsk_sum'] = t1[[col for col in t1.columns if '_nlcsk' in col]].sum(axis=1)\n",
    "        t1['nleven_sum'] = t1[[col for col in t1.columns if '_nleven' in col]].sum(axis=1)\n",
    "        t1['nlcs_sum'] = t1[[col for col in t1.columns if '_nlcs' in col]].sum(axis=1)\n",
    "\n",
    "        t1['sim_std'] = t1[[col for col in t1.columns if 'sim' in col]].std(axis=1)\n",
    "        t1['gesh_std'] = t1[[col for col in t1.columns if 'gesh' in col]].std(axis=1)\n",
    "        t1['leven_std'] = t1[[col for col in t1.columns if '_leven' in col]].std(axis=1)\n",
    "        t1['jaro_std'] = t1[[col for col in t1.columns if 'jaro' in col]].std(axis=1)\n",
    "        t1['lcs_std'] = t1[[col for col in t1.columns if '_lcs' in col]].std(axis=1)\n",
    "        t1['nlcsk_std'] = t1[[col for col in t1.columns if '_nlcsk' in col]].std(axis=1)\n",
    "        t1['nleven_std'] = t1[[col for col in t1.columns if '_nleven' in col]].std(axis=1)\n",
    "        t1['nlcs_std'] = t1[[col for col in t1.columns if '_nlcs' in col]].std(axis=1)\n",
    "\n",
    "        t1 = t1.merge(tdata, on='id', how='left')\n",
    "        t1 = t1.merge(tdata, left_on='match_id', right_on='id', how='left', suffixes=['_1','_2'])\n",
    "        t1 = t1.drop('id_2', axis=1).rename(columns={'id_1':'id'})\n",
    "        \n",
    "        t1['info_power_1'] = t1[[col for col in t1.columns if '_1' in col]].lt(1).sum(axis=1)\n",
    "        t1['info_power_2'] = t1[[col for col in t1.columns if '_2' in col]].lt(1).sum(axis=1)\n",
    "        t1['info_diff'] = t1['info_power_1'] - t1['info_power_2']\n",
    "        \n",
    "        train_df.append(t1)\n",
    "        \n",
    "        del t1\n",
    "    \n",
    "    return train_df"
   ]
  },
  {
   "cell_type": "code",
   "execution_count": 4,
   "id": "a8d87800",
   "metadata": {},
   "outputs": [
    {
     "name": "stdout",
     "output_type": "stream",
     "text": [
      "(3882850, 77)\n",
      "(3886305, 77)\n",
      "(3889652, 77)\n",
      "(3879931, 77)\n",
      "(3881083, 77)\n"
     ]
    }
   ],
   "source": [
    "train_df = prepare_data('train_data_30n_')\n",
    "train_df = pd.concat(train_df).reset_index(drop=True)"
   ]
  },
  {
   "cell_type": "code",
   "execution_count": 5,
   "id": "8184a3ec",
   "metadata": {},
   "outputs": [
    {
     "data": {
      "text/plain": [
       "(19419821, 110)"
      ]
     },
     "execution_count": 5,
     "metadata": {},
     "output_type": "execute_result"
    }
   ],
   "source": [
    "train_df.shape"
   ]
  },
  {
   "cell_type": "code",
   "execution_count": 6,
   "id": "b21cd10d",
   "metadata": {},
   "outputs": [
    {
     "name": "stdout",
     "output_type": "stream",
     "text": [
      "(4226328, 77)\n",
      "(4222560, 77)\n",
      "(4221347, 77)\n",
      "(4223522, 77)\n",
      "(4224276, 77)\n"
     ]
    }
   ],
   "source": [
    "valid_df = prepare_data('valid_data_30n_')\n",
    "valid_df = pd.concat(valid_df).reset_index(drop=True)"
   ]
  },
  {
   "cell_type": "code",
   "execution_count": 7,
   "id": "7b852379",
   "metadata": {},
   "outputs": [
    {
     "data": {
      "text/plain": [
       "(21118033, 110)"
      ]
     },
     "execution_count": 7,
     "metadata": {},
     "output_type": "execute_result"
    }
   ],
   "source": [
    "valid_df.shape"
   ]
  },
  {
   "cell_type": "code",
   "execution_count": 8,
   "id": "40dd4e88",
   "metadata": {},
   "outputs": [
    {
     "data": {
      "text/plain": [
       "0    18384909\n",
       "1     1034912\n",
       "Name: label, dtype: int64"
      ]
     },
     "execution_count": 8,
     "metadata": {},
     "output_type": "execute_result"
    }
   ],
   "source": [
    "train_df.label.value_counts()"
   ]
  },
  {
   "cell_type": "code",
   "execution_count": 9,
   "id": "7f62da50",
   "metadata": {},
   "outputs": [
    {
     "data": {
      "text/plain": [
       "0    20080358\n",
       "1     1037675\n",
       "Name: label, dtype: int64"
      ]
     },
     "execution_count": 9,
     "metadata": {},
     "output_type": "execute_result"
    }
   ],
   "source": [
    "valid_df.label.value_counts()"
   ]
  },
  {
   "cell_type": "code",
   "execution_count": 10,
   "id": "cc249e6e",
   "metadata": {},
   "outputs": [
    {
     "data": {
      "text/plain": [
       "7"
      ]
     },
     "execution_count": 10,
     "metadata": {},
     "output_type": "execute_result"
    }
   ],
   "source": [
    "train_df = pd.concat([train_df, valid_df], axis=0).reset_index(drop=True)\n",
    "\n",
    "del valid_df\n",
    "gc.collect()"
   ]
  },
  {
   "cell_type": "code",
   "execution_count": 11,
   "id": "08c916d3",
   "metadata": {},
   "outputs": [],
   "source": [
    "# FEATURES = ['kdist', 'kneighbors', 'kdist_country', 'kneighbors_country', 'name_sim', 'name_gesh','name_leven', \n",
    "#             'name_jaro', 'name_lcs', 'name_len_diff', 'name_nleven', 'name_nlcsk', 'name_nlcs', 'address_sim', \n",
    "#             'address_gesh', 'address_leven', 'address_jaro', 'address_lcs', 'address_len_diff', 'address_nleven', \n",
    "#             'address_nlcsk', 'address_nlcs', 'city_gesh', 'city_leven', 'city_jaro', 'city_lcs', 'city_len_diff', \n",
    "#             'city_nleven', 'city_nlcsk', 'city_nlcs', 'state_sim', 'state_gesh', 'state_leven', 'state_jaro', \n",
    "#             'state_lcs', 'state_len_diff', 'state_nleven', 'state_nlcsk', 'state_nlcs', 'zip_gesh', 'zip_leven', \n",
    "#             'zip_jaro', 'zip_lcs', 'url_sim', 'url_gesh', 'url_leven', 'url_jaro', 'url_lcs', 'url_len_diff', \n",
    "#             'url_nleven', 'url_nlcsk', 'url_nlcs', 'phone_gesh', 'phone_leven', 'phone_jaro', 'phone_lcs', \n",
    "#             'categories_sim', 'categories_gesh', 'categories_leven', 'categories_jaro', 'categories_lcs', \n",
    "#             'categories_len_diff', 'categories_nleven', 'categories_nlcsk', 'categories_nlcs', 'country_sim', \n",
    "#             'country_gesh', 'country_leven', 'country_nleven', 'kdist_diff', 'kneighbors_mean', \n",
    "#             'name_1', 'categories_1', 'address_1', 'state_1', 'url_1', 'country_1', 'name_2',\n",
    "#             'categories_2', 'address_2', 'state_2', 'url_2', 'country_2', 'sim_sum', 'gesh_sum',\n",
    "#             'leven_sum', 'jaro_sum', 'lcs_sum', 'sim_std', 'gesh_std', 'leven_std',\n",
    "#             'jaro_std', 'lcs_std', 'info_power_1', 'info_power_2', 'info_diff']\n",
    "\n",
    "\n",
    "# cat_cols = []\n",
    "# for col in FEATURES:\n",
    "#     if train_df[col].nunique()<50:\n",
    "#         cat_cols.append(col)\n",
    "        \n",
    "# print(len(cat_cols))"
   ]
  },
  {
   "cell_type": "code",
   "execution_count": 12,
   "id": "f4e930ba",
   "metadata": {},
   "outputs": [],
   "source": [
    "# cat_cols"
   ]
  },
  {
   "cell_type": "code",
   "execution_count": 13,
   "id": "a81cbd7c",
   "metadata": {},
   "outputs": [],
   "source": [
    "TRAIN_FEATURES = ['kdist', 'kneighbors', 'kdist_country', 'kneighbors_country', 'name_sim', 'name_gesh','name_leven', \n",
    "                'name_jaro', 'name_lcs', 'name_len_diff', 'name_nleven', 'name_nlcsk', 'name_nlcs', 'address_sim', \n",
    "                'address_gesh', 'address_leven', 'address_jaro', 'address_lcs', 'address_len_diff', 'address_nleven', \n",
    "                'address_nlcsk', 'address_nlcs', 'city_gesh', 'city_leven', 'city_jaro', 'city_lcs', 'city_len_diff', \n",
    "                'city_nleven', 'city_nlcsk', 'city_nlcs', 'state_sim', 'state_gesh', 'state_leven', 'state_jaro', \n",
    "                'state_lcs', 'state_len_diff', 'state_nleven', 'state_nlcsk', 'state_nlcs', 'zip_gesh', 'zip_leven', \n",
    "                'zip_jaro', 'zip_lcs', 'url_sim', 'url_gesh', 'url_leven', 'url_jaro', 'url_lcs', 'url_len_diff', \n",
    "                'url_nleven', 'url_nlcsk', 'url_nlcs', 'phone_gesh', 'phone_leven', 'phone_jaro', 'phone_lcs', \n",
    "                'categories_sim', 'categories_gesh', 'categories_leven', 'categories_jaro', 'categories_lcs', \n",
    "                'categories_len_diff', 'categories_nleven', 'categories_nlcsk', 'categories_nlcs', 'country_sim', \n",
    "                'country_gesh', 'country_leven', 'country_nleven', 'kdist_diff', 'kneighbors_mean', \n",
    "                'name_1', 'categories_1', 'address_1', 'state_1', 'url_1', 'country_1', 'name_2',\n",
    "                'categories_2', 'address_2', 'state_2', 'url_2', 'country_2', 'sim_sum', 'gesh_sum',\n",
    "                'leven_sum', 'jaro_sum', 'lcs_sum', 'sim_std', 'gesh_std', 'leven_std',\n",
    "                'jaro_std', 'lcs_std', 'info_power_1', 'info_power_2', 'info_diff', \n",
    "                'nleven_sum', 'nlcsk_sum', 'nlcs_sum', 'nleven_std', 'nlcsk_std', 'nlcs_std']"
   ]
  },
  {
   "cell_type": "code",
   "execution_count": 14,
   "id": "09dfdf5e",
   "metadata": {},
   "outputs": [
    {
     "data": {
      "application/vnd.jupyter.widget-view+json": {
       "model_id": "c12c6069d5934263846d7be6758efb5f",
       "version_major": 2,
       "version_minor": 0
      },
      "text/plain": [
       "0it [00:00, ?it/s]"
      ]
     },
     "metadata": {},
     "output_type": "display_data"
    }
   ],
   "source": [
    "NFOLDS = 5\n",
    "kf = StratifiedKFold(n_splits = NFOLDS, shuffle=True, random_state=2018)\n",
    "for i, (trn_idx, val_idx) in tqdm(enumerate(kf.split(train_df, train_df[\"label\"], train_df[\"label\"]))):\n",
    "    train_df.loc[val_idx, \"fold\"] = i"
   ]
  },
  {
   "cell_type": "code",
   "execution_count": 15,
   "id": "958180f3",
   "metadata": {},
   "outputs": [
    {
     "data": {
      "text/plain": [
       "0    0.948873\n",
       "1    0.051127\n",
       "Name: label, dtype: float64"
      ]
     },
     "execution_count": 15,
     "metadata": {},
     "output_type": "execute_result"
    }
   ],
   "source": [
    "train_df.label.value_counts()/len(train_df)"
   ]
  },
  {
   "cell_type": "code",
   "execution_count": 16,
   "id": "bd82fe70",
   "metadata": {},
   "outputs": [],
   "source": [
    "import lightgbm as lgbm\n",
    "\n",
    "def fit_lgbm(X, y, params=None, es_rounds=15, seed=42, N_SPLITS=5, \n",
    "             n_class=None, model_dir=None, folds=None):\n",
    "    \n",
    "    models = []\n",
    "    oof = np.zeros((len(y), n_class), dtype=np.float64)\n",
    "    \n",
    "    for i in tqdm(range(NFOLDS)):\n",
    "        print(f\"== fold {i} ==\")\n",
    "        trn_idx = folds!=i\n",
    "        val_idx = folds==i\n",
    "        X_train, y_train = X[trn_idx], y.iloc[trn_idx]\n",
    "        X_valid, y_valid = X.iloc[val_idx], y.iloc[val_idx]\n",
    "\n",
    "        if model_dir is None:\n",
    "            model = lgbm.LGBMClassifier(**params)\n",
    "            model.fit(\n",
    "                X_train, y_train, \n",
    "                eval_set=[(X_valid, y_valid)],  \n",
    "                early_stopping_rounds=es_rounds, \n",
    "                verbose=50)\n",
    "        else:\n",
    "            with open(f'../src/models/BinaryModels/lgb_t30_2set_5f_binary{i}.pkl', 'rb') as f:\n",
    "                model = pickle.load(f)\n",
    "            \n",
    "        pred = model.predict_proba(X_valid)\n",
    "        oof[val_idx] = pred\n",
    "        models.append(model)\n",
    "        \n",
    "        file = f'../src/models/BinaryModels/lgb_t30_2set_5f_binary{i}.pkl'\n",
    "        pickle.dump(model, open(file, 'wb'))\n",
    "        print()\n",
    "\n",
    "    cv = (oof.argmax(axis=-1) == y).mean()\n",
    "    print(f\"CV-accuracy: {cv}\")\n",
    "\n",
    "    return oof, models\n",
    "\n",
    "def inference_lgbm(models, feat_df):\n",
    "    pred = np.array([model.predict_proba(feat_df) for model in models])\n",
    "    pred = np.mean(pred, axis=0)\n",
    "    return pred"
   ]
  },
  {
   "cell_type": "code",
   "execution_count": 17,
   "id": "87b3e26c",
   "metadata": {
    "scrolled": true
   },
   "outputs": [
    {
     "data": {
      "application/vnd.jupyter.widget-view+json": {
       "model_id": "f3c6b540dc0f4b6a815cedbb40258030",
       "version_major": 2,
       "version_minor": 0
      },
      "text/plain": [
       "  0%|          | 0/5 [00:00<?, ?it/s]"
      ]
     },
     "metadata": {},
     "output_type": "display_data"
    },
    {
     "name": "stdout",
     "output_type": "stream",
     "text": [
      "== fold 0 ==\n",
      "[LightGBM] [Warning] bagging_fraction is set=0.4086, subsample=1.0 will be ignored. Current value: bagging_fraction=0.4086\n",
      "[LightGBM] [Warning] min_data_in_leaf is set=127, min_child_samples=20 will be ignored. Current value: min_data_in_leaf=127\n",
      "[LightGBM] [Warning] bagging_freq is set=7, subsample_freq=0 will be ignored. Current value: bagging_freq=7\n",
      "[50]\tvalid_0's binary_logloss: 0.032165\tvalid_0's auc: 0.994332\n",
      "[100]\tvalid_0's binary_logloss: 0.030916\tvalid_0's auc: 0.994784\n",
      "[150]\tvalid_0's binary_logloss: 0.0303392\tvalid_0's auc: 0.995003\n",
      "[200]\tvalid_0's binary_logloss: 0.0298939\tvalid_0's auc: 0.995162\n",
      "[250]\tvalid_0's binary_logloss: 0.0295236\tvalid_0's auc: 0.995274\n",
      "[300]\tvalid_0's binary_logloss: 0.0293075\tvalid_0's auc: 0.99536\n",
      "[350]\tvalid_0's binary_logloss: 0.0290859\tvalid_0's auc: 0.995432\n",
      "[400]\tvalid_0's binary_logloss: 0.0288578\tvalid_0's auc: 0.995504\n",
      "[450]\tvalid_0's binary_logloss: 0.0286775\tvalid_0's auc: 0.995566\n",
      "[500]\tvalid_0's binary_logloss: 0.0285118\tvalid_0's auc: 0.995626\n",
      "[550]\tvalid_0's binary_logloss: 0.0283713\tvalid_0's auc: 0.995672\n",
      "[600]\tvalid_0's binary_logloss: 0.0282322\tvalid_0's auc: 0.995713\n",
      "[650]\tvalid_0's binary_logloss: 0.0280985\tvalid_0's auc: 0.995756\n",
      "[700]\tvalid_0's binary_logloss: 0.0279565\tvalid_0's auc: 0.995802\n",
      "[750]\tvalid_0's binary_logloss: 0.0278288\tvalid_0's auc: 0.995846\n",
      "[800]\tvalid_0's binary_logloss: 0.0277039\tvalid_0's auc: 0.995889\n",
      "[850]\tvalid_0's binary_logloss: 0.0275845\tvalid_0's auc: 0.995922\n",
      "[900]\tvalid_0's binary_logloss: 0.0274635\tvalid_0's auc: 0.995957\n",
      "[950]\tvalid_0's binary_logloss: 0.0273483\tvalid_0's auc: 0.99599\n",
      "[1000]\tvalid_0's binary_logloss: 0.0272657\tvalid_0's auc: 0.996024\n",
      "[1050]\tvalid_0's binary_logloss: 0.02717\tvalid_0's auc: 0.996051\n",
      "[1100]\tvalid_0's binary_logloss: 0.0270653\tvalid_0's auc: 0.996089\n",
      "[1150]\tvalid_0's binary_logloss: 0.0269579\tvalid_0's auc: 0.996119\n",
      "[1200]\tvalid_0's binary_logloss: 0.0268617\tvalid_0's auc: 0.996144\n",
      "[1250]\tvalid_0's binary_logloss: 0.0267588\tvalid_0's auc: 0.996176\n",
      "[1300]\tvalid_0's binary_logloss: 0.0266718\tvalid_0's auc: 0.996207\n",
      "[1350]\tvalid_0's binary_logloss: 0.0265882\tvalid_0's auc: 0.996231\n",
      "[1400]\tvalid_0's binary_logloss: 0.0264974\tvalid_0's auc: 0.996258\n",
      "[1450]\tvalid_0's binary_logloss: 0.0264168\tvalid_0's auc: 0.996281\n",
      "[1500]\tvalid_0's binary_logloss: 0.0263584\tvalid_0's auc: 0.996304\n",
      "[1550]\tvalid_0's binary_logloss: 0.0262889\tvalid_0's auc: 0.996319\n",
      "[1600]\tvalid_0's binary_logloss: 0.0262195\tvalid_0's auc: 0.996337\n",
      "[1650]\tvalid_0's binary_logloss: 0.0261591\tvalid_0's auc: 0.996348\n",
      "[1700]\tvalid_0's binary_logloss: 0.0260825\tvalid_0's auc: 0.996366\n",
      "[1750]\tvalid_0's binary_logloss: 0.0260098\tvalid_0's auc: 0.996388\n",
      "[1800]\tvalid_0's binary_logloss: 0.0259457\tvalid_0's auc: 0.996403\n",
      "[1850]\tvalid_0's binary_logloss: 0.0258905\tvalid_0's auc: 0.99642\n",
      "[1900]\tvalid_0's binary_logloss: 0.025818\tvalid_0's auc: 0.996446\n",
      "[1950]\tvalid_0's binary_logloss: 0.025733\tvalid_0's auc: 0.996469\n",
      "[2000]\tvalid_0's binary_logloss: 0.0256667\tvalid_0's auc: 0.996483\n",
      "[2050]\tvalid_0's binary_logloss: 0.0255938\tvalid_0's auc: 0.996503\n",
      "[2100]\tvalid_0's binary_logloss: 0.0255373\tvalid_0's auc: 0.99652\n",
      "[2150]\tvalid_0's binary_logloss: 0.0254616\tvalid_0's auc: 0.996541\n",
      "[2200]\tvalid_0's binary_logloss: 0.0254085\tvalid_0's auc: 0.996562\n",
      "[2250]\tvalid_0's binary_logloss: 0.02537\tvalid_0's auc: 0.996573\n",
      "[2300]\tvalid_0's binary_logloss: 0.0253182\tvalid_0's auc: 0.996588\n",
      "[2350]\tvalid_0's binary_logloss: 0.0252657\tvalid_0's auc: 0.996599\n",
      "[2400]\tvalid_0's binary_logloss: 0.0252238\tvalid_0's auc: 0.996606\n",
      "[2450]\tvalid_0's binary_logloss: 0.0251735\tvalid_0's auc: 0.996624\n",
      "[2500]\tvalid_0's binary_logloss: 0.0251241\tvalid_0's auc: 0.996637\n",
      "[2550]\tvalid_0's binary_logloss: 0.0250943\tvalid_0's auc: 0.996648\n",
      "[2600]\tvalid_0's binary_logloss: 0.0250445\tvalid_0's auc: 0.996663\n",
      "[2650]\tvalid_0's binary_logloss: 0.0250091\tvalid_0's auc: 0.996668\n",
      "[2700]\tvalid_0's binary_logloss: 0.0249667\tvalid_0's auc: 0.99668\n",
      "[2750]\tvalid_0's binary_logloss: 0.0249107\tvalid_0's auc: 0.996697\n",
      "[2800]\tvalid_0's binary_logloss: 0.0248655\tvalid_0's auc: 0.996709\n",
      "[2850]\tvalid_0's binary_logloss: 0.0248267\tvalid_0's auc: 0.996721\n",
      "[2900]\tvalid_0's binary_logloss: 0.0247911\tvalid_0's auc: 0.996729\n",
      "[2950]\tvalid_0's binary_logloss: 0.024757\tvalid_0's auc: 0.996743\n",
      "[3000]\tvalid_0's binary_logloss: 0.0247128\tvalid_0's auc: 0.996752\n",
      "\n",
      "== fold 1 ==\n",
      "[LightGBM] [Warning] bagging_fraction is set=0.4086, subsample=1.0 will be ignored. Current value: bagging_fraction=0.4086\n",
      "[LightGBM] [Warning] min_data_in_leaf is set=127, min_child_samples=20 will be ignored. Current value: min_data_in_leaf=127\n",
      "[LightGBM] [Warning] bagging_freq is set=7, subsample_freq=0 will be ignored. Current value: bagging_freq=7\n",
      "[50]\tvalid_0's binary_logloss: 0.0323403\tvalid_0's auc: 0.99418\n",
      "[100]\tvalid_0's binary_logloss: 0.0311565\tvalid_0's auc: 0.994636\n",
      "[150]\tvalid_0's binary_logloss: 0.0305613\tvalid_0's auc: 0.994864\n",
      "[200]\tvalid_0's binary_logloss: 0.030125\tvalid_0's auc: 0.99502\n",
      "[250]\tvalid_0's binary_logloss: 0.0297798\tvalid_0's auc: 0.995138\n",
      "[300]\tvalid_0's binary_logloss: 0.0294826\tvalid_0's auc: 0.99525\n",
      "[350]\tvalid_0's binary_logloss: 0.0292425\tvalid_0's auc: 0.995335\n",
      "[400]\tvalid_0's binary_logloss: 0.0290254\tvalid_0's auc: 0.995407\n",
      "[450]\tvalid_0's binary_logloss: 0.0288432\tvalid_0's auc: 0.995467\n",
      "[500]\tvalid_0's binary_logloss: 0.0286569\tvalid_0's auc: 0.995529\n",
      "[550]\tvalid_0's binary_logloss: 0.0284863\tvalid_0's auc: 0.995593\n",
      "[600]\tvalid_0's binary_logloss: 0.0283377\tvalid_0's auc: 0.995643\n",
      "[650]\tvalid_0's binary_logloss: 0.0282113\tvalid_0's auc: 0.995692\n",
      "[700]\tvalid_0's binary_logloss: 0.0280737\tvalid_0's auc: 0.995732\n",
      "[750]\tvalid_0's binary_logloss: 0.0279377\tvalid_0's auc: 0.995775\n",
      "[800]\tvalid_0's binary_logloss: 0.027818\tvalid_0's auc: 0.995812\n",
      "[850]\tvalid_0's binary_logloss: 0.0276952\tvalid_0's auc: 0.995847\n",
      "[900]\tvalid_0's binary_logloss: 0.0275512\tvalid_0's auc: 0.995892\n",
      "[950]\tvalid_0's binary_logloss: 0.0274316\tvalid_0's auc: 0.995929\n",
      "[1000]\tvalid_0's binary_logloss: 0.0273135\tvalid_0's auc: 0.995966\n",
      "[1050]\tvalid_0's binary_logloss: 0.0272226\tvalid_0's auc: 0.995995\n",
      "[1100]\tvalid_0's binary_logloss: 0.0271362\tvalid_0's auc: 0.996026\n",
      "[1150]\tvalid_0's binary_logloss: 0.027049\tvalid_0's auc: 0.996053\n",
      "[1200]\tvalid_0's binary_logloss: 0.0269728\tvalid_0's auc: 0.996075\n",
      "[1250]\tvalid_0's binary_logloss: 0.0268726\tvalid_0's auc: 0.996103\n",
      "[1300]\tvalid_0's binary_logloss: 0.0267776\tvalid_0's auc: 0.99613\n",
      "[1350]\tvalid_0's binary_logloss: 0.0266939\tvalid_0's auc: 0.996152\n",
      "[1400]\tvalid_0's binary_logloss: 0.0266032\tvalid_0's auc: 0.996174\n",
      "[1450]\tvalid_0's binary_logloss: 0.0265353\tvalid_0's auc: 0.996195\n",
      "[1500]\tvalid_0's binary_logloss: 0.0264653\tvalid_0's auc: 0.996217\n",
      "[1550]\tvalid_0's binary_logloss: 0.0263834\tvalid_0's auc: 0.996242\n",
      "[1600]\tvalid_0's binary_logloss: 0.0263103\tvalid_0's auc: 0.996259\n",
      "[1650]\tvalid_0's binary_logloss: 0.026249\tvalid_0's auc: 0.996278\n",
      "[1700]\tvalid_0's binary_logloss: 0.0261862\tvalid_0's auc: 0.996294\n",
      "[1750]\tvalid_0's binary_logloss: 0.0261125\tvalid_0's auc: 0.996317\n",
      "[1800]\tvalid_0's binary_logloss: 0.026064\tvalid_0's auc: 0.996327\n",
      "[1850]\tvalid_0's binary_logloss: 0.0260178\tvalid_0's auc: 0.996339\n",
      "[1900]\tvalid_0's binary_logloss: 0.0259477\tvalid_0's auc: 0.996361\n",
      "[1950]\tvalid_0's binary_logloss: 0.0258918\tvalid_0's auc: 0.996378\n",
      "[2000]\tvalid_0's binary_logloss: 0.0258289\tvalid_0's auc: 0.996392\n",
      "[2050]\tvalid_0's binary_logloss: 0.025756\tvalid_0's auc: 0.996418\n",
      "[2100]\tvalid_0's binary_logloss: 0.0256935\tvalid_0's auc: 0.996436\n",
      "[2150]\tvalid_0's binary_logloss: 0.0256283\tvalid_0's auc: 0.996456\n",
      "[2200]\tvalid_0's binary_logloss: 0.0255663\tvalid_0's auc: 0.996476\n",
      "[2250]\tvalid_0's binary_logloss: 0.0255255\tvalid_0's auc: 0.996488\n",
      "[2300]\tvalid_0's binary_logloss: 0.0254824\tvalid_0's auc: 0.996506\n",
      "[2350]\tvalid_0's binary_logloss: 0.0254497\tvalid_0's auc: 0.996513\n",
      "[2400]\tvalid_0's binary_logloss: 0.0253985\tvalid_0's auc: 0.996527\n",
      "[2450]\tvalid_0's binary_logloss: 0.0253333\tvalid_0's auc: 0.996546\n",
      "[2500]\tvalid_0's binary_logloss: 0.0252819\tvalid_0's auc: 0.996561\n",
      "[2550]\tvalid_0's binary_logloss: 0.0252377\tvalid_0's auc: 0.996571\n",
      "[2600]\tvalid_0's binary_logloss: 0.0251927\tvalid_0's auc: 0.996584\n",
      "[2650]\tvalid_0's binary_logloss: 0.0251482\tvalid_0's auc: 0.996601\n"
     ]
    },
    {
     "name": "stdout",
     "output_type": "stream",
     "text": [
      "[2700]\tvalid_0's binary_logloss: 0.0251091\tvalid_0's auc: 0.996612\n",
      "[2750]\tvalid_0's binary_logloss: 0.0250507\tvalid_0's auc: 0.996631\n",
      "[2800]\tvalid_0's binary_logloss: 0.0250078\tvalid_0's auc: 0.996638\n",
      "[2850]\tvalid_0's binary_logloss: 0.0249521\tvalid_0's auc: 0.996657\n",
      "[2900]\tvalid_0's binary_logloss: 0.0249023\tvalid_0's auc: 0.996672\n",
      "[2950]\tvalid_0's binary_logloss: 0.0248504\tvalid_0's auc: 0.996691\n",
      "[3000]\tvalid_0's binary_logloss: 0.0248123\tvalid_0's auc: 0.9967\n",
      "\n",
      "== fold 2 ==\n",
      "[LightGBM] [Warning] bagging_fraction is set=0.4086, subsample=1.0 will be ignored. Current value: bagging_fraction=0.4086\n",
      "[LightGBM] [Warning] min_data_in_leaf is set=127, min_child_samples=20 will be ignored. Current value: min_data_in_leaf=127\n",
      "[LightGBM] [Warning] bagging_freq is set=7, subsample_freq=0 will be ignored. Current value: bagging_freq=7\n",
      "[50]\tvalid_0's binary_logloss: 0.0320975\tvalid_0's auc: 0.994322\n",
      "[100]\tvalid_0's binary_logloss: 0.0308948\tvalid_0's auc: 0.994772\n",
      "[150]\tvalid_0's binary_logloss: 0.0302774\tvalid_0's auc: 0.995002\n",
      "[200]\tvalid_0's binary_logloss: 0.0299109\tvalid_0's auc: 0.995147\n",
      "[250]\tvalid_0's binary_logloss: 0.029566\tvalid_0's auc: 0.995266\n",
      "[300]\tvalid_0's binary_logloss: 0.0292853\tvalid_0's auc: 0.995362\n",
      "[350]\tvalid_0's binary_logloss: 0.0290328\tvalid_0's auc: 0.995452\n",
      "[400]\tvalid_0's binary_logloss: 0.0288264\tvalid_0's auc: 0.995522\n",
      "[450]\tvalid_0's binary_logloss: 0.028639\tvalid_0's auc: 0.995577\n",
      "[500]\tvalid_0's binary_logloss: 0.0284329\tvalid_0's auc: 0.99565\n",
      "[550]\tvalid_0's binary_logloss: 0.0282567\tvalid_0's auc: 0.99571\n",
      "[600]\tvalid_0's binary_logloss: 0.0280874\tvalid_0's auc: 0.995757\n",
      "[650]\tvalid_0's binary_logloss: 0.02793\tvalid_0's auc: 0.995813\n",
      "[700]\tvalid_0's binary_logloss: 0.0277859\tvalid_0's auc: 0.995862\n",
      "[750]\tvalid_0's binary_logloss: 0.0276633\tvalid_0's auc: 0.995908\n",
      "[800]\tvalid_0's binary_logloss: 0.0275389\tvalid_0's auc: 0.995942\n",
      "[850]\tvalid_0's binary_logloss: 0.0274\tvalid_0's auc: 0.995984\n",
      "[900]\tvalid_0's binary_logloss: 0.0272976\tvalid_0's auc: 0.996018\n",
      "[950]\tvalid_0's binary_logloss: 0.0271872\tvalid_0's auc: 0.99605\n",
      "[1000]\tvalid_0's binary_logloss: 0.0270887\tvalid_0's auc: 0.996079\n",
      "[1050]\tvalid_0's binary_logloss: 0.0269763\tvalid_0's auc: 0.996109\n",
      "[1100]\tvalid_0's binary_logloss: 0.0268712\tvalid_0's auc: 0.996139\n",
      "[1150]\tvalid_0's binary_logloss: 0.0267779\tvalid_0's auc: 0.996166\n",
      "[1200]\tvalid_0's binary_logloss: 0.0266755\tvalid_0's auc: 0.996193\n",
      "[1250]\tvalid_0's binary_logloss: 0.0265908\tvalid_0's auc: 0.996209\n",
      "[1300]\tvalid_0's binary_logloss: 0.0265083\tvalid_0's auc: 0.996235\n",
      "[1350]\tvalid_0's binary_logloss: 0.0264417\tvalid_0's auc: 0.996256\n",
      "[1400]\tvalid_0's binary_logloss: 0.0263426\tvalid_0's auc: 0.996283\n",
      "[1450]\tvalid_0's binary_logloss: 0.0262722\tvalid_0's auc: 0.996312\n",
      "[1500]\tvalid_0's binary_logloss: 0.0261988\tvalid_0's auc: 0.996334\n",
      "[1550]\tvalid_0's binary_logloss: 0.0261048\tvalid_0's auc: 0.996359\n",
      "[1600]\tvalid_0's binary_logloss: 0.0260386\tvalid_0's auc: 0.996382\n",
      "[1650]\tvalid_0's binary_logloss: 0.0259573\tvalid_0's auc: 0.996408\n",
      "[1700]\tvalid_0's binary_logloss: 0.025886\tvalid_0's auc: 0.996426\n",
      "[1750]\tvalid_0's binary_logloss: 0.0258292\tvalid_0's auc: 0.996444\n",
      "[1800]\tvalid_0's binary_logloss: 0.0257556\tvalid_0's auc: 0.996462\n",
      "[1850]\tvalid_0's binary_logloss: 0.0256972\tvalid_0's auc: 0.996477\n",
      "[1900]\tvalid_0's binary_logloss: 0.025623\tvalid_0's auc: 0.996496\n",
      "[1950]\tvalid_0's binary_logloss: 0.025557\tvalid_0's auc: 0.996512\n",
      "[2000]\tvalid_0's binary_logloss: 0.0254829\tvalid_0's auc: 0.996529\n",
      "[2050]\tvalid_0's binary_logloss: 0.025429\tvalid_0's auc: 0.996541\n",
      "[2100]\tvalid_0's binary_logloss: 0.0253813\tvalid_0's auc: 0.996551\n",
      "[2150]\tvalid_0's binary_logloss: 0.0253449\tvalid_0's auc: 0.996566\n",
      "[2200]\tvalid_0's binary_logloss: 0.0252938\tvalid_0's auc: 0.996581\n",
      "[2250]\tvalid_0's binary_logloss: 0.025253\tvalid_0's auc: 0.996589\n",
      "[2300]\tvalid_0's binary_logloss: 0.025192\tvalid_0's auc: 0.996607\n",
      "[2350]\tvalid_0's binary_logloss: 0.0251358\tvalid_0's auc: 0.996622\n",
      "[2400]\tvalid_0's binary_logloss: 0.0250887\tvalid_0's auc: 0.996633\n",
      "[2450]\tvalid_0's binary_logloss: 0.0250408\tvalid_0's auc: 0.996647\n",
      "[2500]\tvalid_0's binary_logloss: 0.0249833\tvalid_0's auc: 0.996665\n",
      "[2550]\tvalid_0's binary_logloss: 0.0249428\tvalid_0's auc: 0.996676\n",
      "[2600]\tvalid_0's binary_logloss: 0.0249057\tvalid_0's auc: 0.996687\n",
      "[2650]\tvalid_0's binary_logloss: 0.024857\tvalid_0's auc: 0.996704\n",
      "[2700]\tvalid_0's binary_logloss: 0.0248011\tvalid_0's auc: 0.996723\n",
      "[2750]\tvalid_0's binary_logloss: 0.0247393\tvalid_0's auc: 0.996741\n",
      "[2800]\tvalid_0's binary_logloss: 0.0247107\tvalid_0's auc: 0.99675\n",
      "[2850]\tvalid_0's binary_logloss: 0.0246744\tvalid_0's auc: 0.996761\n",
      "[2900]\tvalid_0's binary_logloss: 0.0246155\tvalid_0's auc: 0.996781\n",
      "\n",
      "== fold 3 ==\n",
      "[LightGBM] [Warning] bagging_fraction is set=0.4086, subsample=1.0 will be ignored. Current value: bagging_fraction=0.4086\n",
      "[LightGBM] [Warning] min_data_in_leaf is set=127, min_child_samples=20 will be ignored. Current value: min_data_in_leaf=127\n",
      "[LightGBM] [Warning] bagging_freq is set=7, subsample_freq=0 will be ignored. Current value: bagging_freq=7\n",
      "[50]\tvalid_0's binary_logloss: 0.032209\tvalid_0's auc: 0.994282\n",
      "[100]\tvalid_0's binary_logloss: 0.0310122\tvalid_0's auc: 0.99472\n",
      "[150]\tvalid_0's binary_logloss: 0.0303999\tvalid_0's auc: 0.994945\n",
      "[200]\tvalid_0's binary_logloss: 0.0299508\tvalid_0's auc: 0.995083\n",
      "[250]\tvalid_0's binary_logloss: 0.0296347\tvalid_0's auc: 0.995207\n",
      "[300]\tvalid_0's binary_logloss: 0.0293826\tvalid_0's auc: 0.995296\n",
      "[350]\tvalid_0's binary_logloss: 0.0290906\tvalid_0's auc: 0.995395\n",
      "[400]\tvalid_0's binary_logloss: 0.0288541\tvalid_0's auc: 0.995485\n",
      "[450]\tvalid_0's binary_logloss: 0.0286569\tvalid_0's auc: 0.995555\n",
      "[500]\tvalid_0's binary_logloss: 0.0284767\tvalid_0's auc: 0.995604\n",
      "[550]\tvalid_0's binary_logloss: 0.0283205\tvalid_0's auc: 0.995652\n",
      "[600]\tvalid_0's binary_logloss: 0.0281899\tvalid_0's auc: 0.995693\n",
      "[650]\tvalid_0's binary_logloss: 0.0280348\tvalid_0's auc: 0.995744\n",
      "[700]\tvalid_0's binary_logloss: 0.0278987\tvalid_0's auc: 0.995785\n",
      "[750]\tvalid_0's binary_logloss: 0.0277543\tvalid_0's auc: 0.995823\n",
      "[800]\tvalid_0's binary_logloss: 0.0276578\tvalid_0's auc: 0.995858\n",
      "[850]\tvalid_0's binary_logloss: 0.0275438\tvalid_0's auc: 0.995892\n",
      "[900]\tvalid_0's binary_logloss: 0.0274467\tvalid_0's auc: 0.995921\n",
      "[950]\tvalid_0's binary_logloss: 0.0273348\tvalid_0's auc: 0.995958\n",
      "[1000]\tvalid_0's binary_logloss: 0.0272281\tvalid_0's auc: 0.995988\n",
      "[1050]\tvalid_0's binary_logloss: 0.027144\tvalid_0's auc: 0.996008\n",
      "[1100]\tvalid_0's binary_logloss: 0.027049\tvalid_0's auc: 0.996042\n",
      "[1150]\tvalid_0's binary_logloss: 0.0269545\tvalid_0's auc: 0.996071\n",
      "[1200]\tvalid_0's binary_logloss: 0.0268442\tvalid_0's auc: 0.996105\n",
      "[1250]\tvalid_0's binary_logloss: 0.0267561\tvalid_0's auc: 0.996127\n",
      "[1300]\tvalid_0's binary_logloss: 0.0266683\tvalid_0's auc: 0.996148\n",
      "[1350]\tvalid_0's binary_logloss: 0.026595\tvalid_0's auc: 0.996163\n",
      "[1400]\tvalid_0's binary_logloss: 0.0265095\tvalid_0's auc: 0.996188\n",
      "[1450]\tvalid_0's binary_logloss: 0.0264335\tvalid_0's auc: 0.996208\n",
      "[1500]\tvalid_0's binary_logloss: 0.0263437\tvalid_0's auc: 0.996238\n",
      "[1550]\tvalid_0's binary_logloss: 0.0262645\tvalid_0's auc: 0.996264\n",
      "[1600]\tvalid_0's binary_logloss: 0.0261966\tvalid_0's auc: 0.996285\n",
      "[1650]\tvalid_0's binary_logloss: 0.0261248\tvalid_0's auc: 0.99631\n",
      "[1700]\tvalid_0's binary_logloss: 0.0260487\tvalid_0's auc: 0.996334\n",
      "[1750]\tvalid_0's binary_logloss: 0.0259965\tvalid_0's auc: 0.996349\n",
      "[1800]\tvalid_0's binary_logloss: 0.025941\tvalid_0's auc: 0.996363\n",
      "[1850]\tvalid_0's binary_logloss: 0.025857\tvalid_0's auc: 0.996395\n",
      "[1900]\tvalid_0's binary_logloss: 0.0257992\tvalid_0's auc: 0.996409\n",
      "[1950]\tvalid_0's binary_logloss: 0.0257372\tvalid_0's auc: 0.996426\n",
      "[2000]\tvalid_0's binary_logloss: 0.0256839\tvalid_0's auc: 0.996439\n",
      "[2050]\tvalid_0's binary_logloss: 0.0256229\tvalid_0's auc: 0.996455\n",
      "[2100]\tvalid_0's binary_logloss: 0.0255734\tvalid_0's auc: 0.99647\n",
      "[2150]\tvalid_0's binary_logloss: 0.0255224\tvalid_0's auc: 0.996483\n",
      "[2200]\tvalid_0's binary_logloss: 0.0254808\tvalid_0's auc: 0.996496\n",
      "[2250]\tvalid_0's binary_logloss: 0.0254338\tvalid_0's auc: 0.996506\n",
      "[2300]\tvalid_0's binary_logloss: 0.0253664\tvalid_0's auc: 0.996521\n",
      "[2350]\tvalid_0's binary_logloss: 0.0253221\tvalid_0's auc: 0.996534\n",
      "[2400]\tvalid_0's binary_logloss: 0.0252702\tvalid_0's auc: 0.996549\n"
     ]
    },
    {
     "name": "stdout",
     "output_type": "stream",
     "text": [
      "[2450]\tvalid_0's binary_logloss: 0.0252156\tvalid_0's auc: 0.996562\n",
      "[2500]\tvalid_0's binary_logloss: 0.0251823\tvalid_0's auc: 0.996571\n",
      "[2550]\tvalid_0's binary_logloss: 0.0251371\tvalid_0's auc: 0.996579\n",
      "[2600]\tvalid_0's binary_logloss: 0.0250893\tvalid_0's auc: 0.996592\n",
      "[2650]\tvalid_0's binary_logloss: 0.0250318\tvalid_0's auc: 0.996609\n",
      "[2700]\tvalid_0's binary_logloss: 0.0249839\tvalid_0's auc: 0.996622\n",
      "[2750]\tvalid_0's binary_logloss: 0.0249329\tvalid_0's auc: 0.996639\n",
      "[2800]\tvalid_0's binary_logloss: 0.0248789\tvalid_0's auc: 0.996649\n",
      "[2850]\tvalid_0's binary_logloss: 0.0248368\tvalid_0's auc: 0.996667\n",
      "[2900]\tvalid_0's binary_logloss: 0.0247984\tvalid_0's auc: 0.996678\n",
      "[2950]\tvalid_0's binary_logloss: 0.0247473\tvalid_0's auc: 0.996691\n",
      "[3000]\tvalid_0's binary_logloss: 0.0247213\tvalid_0's auc: 0.9967\n",
      "\n",
      "== fold 4 ==\n",
      "[LightGBM] [Warning] bagging_fraction is set=0.4086, subsample=1.0 will be ignored. Current value: bagging_fraction=0.4086\n",
      "[LightGBM] [Warning] min_data_in_leaf is set=127, min_child_samples=20 will be ignored. Current value: min_data_in_leaf=127\n",
      "[LightGBM] [Warning] bagging_freq is set=7, subsample_freq=0 will be ignored. Current value: bagging_freq=7\n",
      "[50]\tvalid_0's binary_logloss: 0.0321756\tvalid_0's auc: 0.994295\n",
      "[100]\tvalid_0's binary_logloss: 0.0309808\tvalid_0's auc: 0.994754\n",
      "[150]\tvalid_0's binary_logloss: 0.0303764\tvalid_0's auc: 0.994967\n",
      "[200]\tvalid_0's binary_logloss: 0.0299469\tvalid_0's auc: 0.995125\n",
      "[250]\tvalid_0's binary_logloss: 0.0296093\tvalid_0's auc: 0.995243\n",
      "[300]\tvalid_0's binary_logloss: 0.0293213\tvalid_0's auc: 0.995361\n",
      "[350]\tvalid_0's binary_logloss: 0.029092\tvalid_0's auc: 0.995441\n",
      "[400]\tvalid_0's binary_logloss: 0.0288516\tvalid_0's auc: 0.995517\n",
      "[450]\tvalid_0's binary_logloss: 0.0286633\tvalid_0's auc: 0.995582\n",
      "[500]\tvalid_0's binary_logloss: 0.0284822\tvalid_0's auc: 0.995644\n",
      "[550]\tvalid_0's binary_logloss: 0.0283358\tvalid_0's auc: 0.995688\n",
      "[600]\tvalid_0's binary_logloss: 0.0281901\tvalid_0's auc: 0.995735\n",
      "[650]\tvalid_0's binary_logloss: 0.02803\tvalid_0's auc: 0.995779\n",
      "[700]\tvalid_0's binary_logloss: 0.0278869\tvalid_0's auc: 0.995828\n",
      "[750]\tvalid_0's binary_logloss: 0.0277363\tvalid_0's auc: 0.995875\n",
      "[800]\tvalid_0's binary_logloss: 0.0276111\tvalid_0's auc: 0.995914\n",
      "[850]\tvalid_0's binary_logloss: 0.0275002\tvalid_0's auc: 0.995948\n",
      "[900]\tvalid_0's binary_logloss: 0.0273708\tvalid_0's auc: 0.995987\n",
      "[950]\tvalid_0's binary_logloss: 0.0272656\tvalid_0's auc: 0.996024\n",
      "[1000]\tvalid_0's binary_logloss: 0.0271693\tvalid_0's auc: 0.996055\n",
      "[1050]\tvalid_0's binary_logloss: 0.0270559\tvalid_0's auc: 0.996087\n",
      "[1100]\tvalid_0's binary_logloss: 0.0269453\tvalid_0's auc: 0.996116\n",
      "[1150]\tvalid_0's binary_logloss: 0.0268659\tvalid_0's auc: 0.996135\n",
      "[1200]\tvalid_0's binary_logloss: 0.0267638\tvalid_0's auc: 0.996166\n",
      "[1250]\tvalid_0's binary_logloss: 0.0266772\tvalid_0's auc: 0.996195\n",
      "[1300]\tvalid_0's binary_logloss: 0.0266156\tvalid_0's auc: 0.996215\n",
      "[1350]\tvalid_0's binary_logloss: 0.0265387\tvalid_0's auc: 0.996236\n",
      "[1400]\tvalid_0's binary_logloss: 0.0264473\tvalid_0's auc: 0.996257\n",
      "[1450]\tvalid_0's binary_logloss: 0.0263593\tvalid_0's auc: 0.996283\n",
      "[1500]\tvalid_0's binary_logloss: 0.0262679\tvalid_0's auc: 0.996312\n",
      "[1550]\tvalid_0's binary_logloss: 0.0261804\tvalid_0's auc: 0.996335\n",
      "[1600]\tvalid_0's binary_logloss: 0.0260926\tvalid_0's auc: 0.996358\n",
      "[1650]\tvalid_0's binary_logloss: 0.0260097\tvalid_0's auc: 0.996383\n",
      "[1700]\tvalid_0's binary_logloss: 0.0259411\tvalid_0's auc: 0.996395\n",
      "[1750]\tvalid_0's binary_logloss: 0.0258873\tvalid_0's auc: 0.996405\n",
      "[1800]\tvalid_0's binary_logloss: 0.0258357\tvalid_0's auc: 0.996421\n",
      "[1850]\tvalid_0's binary_logloss: 0.0257707\tvalid_0's auc: 0.99644\n",
      "[1900]\tvalid_0's binary_logloss: 0.0257109\tvalid_0's auc: 0.996457\n",
      "[1950]\tvalid_0's binary_logloss: 0.0256624\tvalid_0's auc: 0.996472\n",
      "[2000]\tvalid_0's binary_logloss: 0.0255953\tvalid_0's auc: 0.996488\n",
      "[2050]\tvalid_0's binary_logloss: 0.0255333\tvalid_0's auc: 0.996504\n",
      "[2100]\tvalid_0's binary_logloss: 0.0254708\tvalid_0's auc: 0.996524\n",
      "[2150]\tvalid_0's binary_logloss: 0.0254084\tvalid_0's auc: 0.996538\n",
      "[2200]\tvalid_0's binary_logloss: 0.0253413\tvalid_0's auc: 0.996558\n",
      "[2250]\tvalid_0's binary_logloss: 0.0252895\tvalid_0's auc: 0.996576\n",
      "[2300]\tvalid_0's binary_logloss: 0.0252349\tvalid_0's auc: 0.99659\n",
      "[2350]\tvalid_0's binary_logloss: 0.0251803\tvalid_0's auc: 0.996603\n",
      "[2400]\tvalid_0's binary_logloss: 0.0251327\tvalid_0's auc: 0.996613\n",
      "[2450]\tvalid_0's binary_logloss: 0.0250726\tvalid_0's auc: 0.996628\n",
      "[2500]\tvalid_0's binary_logloss: 0.0250383\tvalid_0's auc: 0.99664\n",
      "[2550]\tvalid_0's binary_logloss: 0.0249965\tvalid_0's auc: 0.996655\n",
      "[2600]\tvalid_0's binary_logloss: 0.02495\tvalid_0's auc: 0.996668\n",
      "[2650]\tvalid_0's binary_logloss: 0.0248972\tvalid_0's auc: 0.996688\n",
      "[2700]\tvalid_0's binary_logloss: 0.0248548\tvalid_0's auc: 0.996699\n",
      "[2750]\tvalid_0's binary_logloss: 0.0248086\tvalid_0's auc: 0.99671\n",
      "[2800]\tvalid_0's binary_logloss: 0.0247876\tvalid_0's auc: 0.996724\n",
      "[2850]\tvalid_0's binary_logloss: 0.0247369\tvalid_0's auc: 0.996733\n",
      "[2900]\tvalid_0's binary_logloss: 0.0247105\tvalid_0's auc: 0.996737\n",
      "\n",
      "CV-accuracy: 0.991591562789683\n"
     ]
    }
   ],
   "source": [
    "params = {\n",
    "    'boosting_type': 'gbdt', \n",
    "    'objective': 'binary', \n",
    "    'tree_learner': 'feature',\n",
    "    'metric': ['binary_logloss', 'AUC'],\n",
    "    'learning_rate': 0.3,\n",
    "    'reg_alpha': 0.1,\n",
    "    'reg_lambda': 0.682,\n",
    "    'random_state': 42,\n",
    "    'max_depth': 9,\n",
    "    'num_leaves': 127, \n",
    "    'n_estimators': 3000,\n",
    "    \"colsample_bytree\": 0.785,\n",
    "    \"first_metric_only\": True,\n",
    "    \"max_bin\": 512,\n",
    "    \n",
    "    \"bagging_fraction\": 0.4086,\n",
    "    \"bagging_freq\": 7,\n",
    "    \"subsample_for_bin\": 300000,\n",
    "    \"min_data_in_leaf\": 127\n",
    "}\n",
    "\n",
    "oof, models = fit_lgbm(train_df[TRAIN_FEATURES], train_df[\"label\"].astype(int), \n",
    "                       params=params, n_class=int(train_df[\"label\"].max() + 1), \n",
    "                       N_SPLITS=NFOLDS, folds=train_df[\"fold\"].values)"
   ]
  },
  {
   "cell_type": "code",
   "execution_count": 18,
   "id": "8ac917ba",
   "metadata": {},
   "outputs": [
    {
     "data": {
      "image/png": "[encoded data removed]",
      "text/plain": [
       "<Figure size 1800x360 with 1 Axes>"
      ]
     },
     "metadata": {
      "needs_background": "light"
     },
     "output_type": "display_data"
    }
   ],
   "source": [
    "def plot_importances(models):\n",
    "    importance_df = pd.DataFrame(models[0].feature_importances_, \n",
    "                                 index=TRAIN_FEATURES, \n",
    "                                 columns=['importance'])\\\n",
    "                        .sort_values(\"importance\", ascending=False)\n",
    "\n",
    "    plt.subplots(figsize=(len(TRAIN_FEATURES) // 4, 5))\n",
    "    plt.bar(importance_df.index, importance_df.importance)\n",
    "    plt.grid()\n",
    "    plt.xticks(rotation=90)\n",
    "    plt.ylabel(\"importance\")\n",
    "    plt.tight_layout()\n",
    "    plt.show()\n",
    "\n",
    "plot_importances(models)"
   ]
  },
  {
   "cell_type": "code",
   "execution_count": 19,
   "id": "468b1100",
   "metadata": {},
   "outputs": [],
   "source": [
    "# !kaggle datasets init -p ../src/models/BinaryModels"
   ]
  },
  {
   "cell_type": "code",
   "execution_count": 20,
   "id": "9bad329d",
   "metadata": {},
   "outputs": [],
   "source": [
    "# !kaggle datasets create -p ../src/models/BinaryModels --dir-mode zip"
   ]
  },
  {
   "cell_type": "code",
   "execution_count": 21,
   "id": "6f2d2b64",
   "metadata": {},
   "outputs": [
    {
     "name": "stdout",
     "output_type": "stream",
     "text": [
      "Starting upload for file lgb_2set_5f_binary0.pkl\n",
      "Warning: Looks like you're using an outdated API Version, please consider updating (server 1.5.12 / client 1.5.6)\n",
      "100%|######################################| 39.7M/39.7M [00:07<00:00, 5.88MB/s]\n",
      "Upload successful: lgb_2set_5f_binary0.pkl (40MB)\n",
      "Starting upload for file lgb_5f_binary4.pkl\n",
      "100%|######################################| 11.4M/11.4M [00:03<00:00, 3.66MB/s]\n",
      "Upload successful: lgb_5f_binary4.pkl (11MB)\n",
      "Starting upload for file lgb_2set_5f_binary3.pkl\n",
      "100%|######################################| 39.6M/39.6M [00:05<00:00, 7.27MB/s]\n",
      "Upload successful: lgb_2set_5f_binary3.pkl (40MB)\n",
      "Starting upload for file lgb_t30_2set_5f_binary4.pkl\n",
      "100%|######################################| 38.8M/38.8M [00:08<00:00, 4.70MB/s]\n",
      "Upload successful: lgb_t30_2set_5f_binary4.pkl (39MB)\n",
      "Starting upload for file lgb_t30_2set_5f_binary3.pkl\n",
      "100%|######################################| 40.0M/40.0M [00:05<00:00, 7.82MB/s]\n",
      "Upload successful: lgb_t30_2set_5f_binary3.pkl (40MB)\n",
      "Starting upload for file lgb_2set_5f_binary1.pkl\n",
      "100%|######################################| 39.6M/39.6M [00:06<00:00, 6.84MB/s]\n",
      "Upload successful: lgb_2set_5f_binary1.pkl (40MB)\n",
      "Starting upload for file lgbm_binary2.pkl\n",
      "100%|######################################| 11.4M/11.4M [00:03<00:00, 3.33MB/s]\n",
      "Upload successful: lgbm_binary2.pkl (11MB)\n",
      "Starting upload for file .ipynb_checkpoints.zip\n",
      "100%|#########################################| 22.0/22.0 [00:02<00:00, 8.25B/s]\n",
      "Upload successful: .ipynb_checkpoints.zip (22B)\n",
      "Starting upload for file lgb_2set_5f_binary4.pkl\n",
      "100%|######################################| 39.6M/39.6M [00:06<00:00, 6.83MB/s]\n",
      "Upload successful: lgb_2set_5f_binary4.pkl (40MB)\n",
      "Starting upload for file lgb_5f_binary0.pkl\n",
      "100%|######################################| 11.4M/11.4M [00:02<00:00, 5.57MB/s]\n",
      "Upload successful: lgb_5f_binary0.pkl (11MB)\n",
      "Starting upload for file lgbm_binary0.pkl\n",
      "100%|######################################| 11.4M/11.4M [00:03<00:00, 3.82MB/s]\n",
      "Upload successful: lgbm_binary0.pkl (11MB)\n",
      "Starting upload for file lgb_2set_5f_binary2.pkl\n",
      "100%|######################################| 39.6M/39.6M [00:05<00:00, 6.97MB/s]\n",
      "Upload successful: lgb_2set_5f_binary2.pkl (40MB)\n",
      "Starting upload for file lgb_t30_2set_5f_binary1.pkl\n",
      "100%|######################################| 40.0M/40.0M [00:05<00:00, 7.42MB/s]\n",
      "Upload successful: lgb_t30_2set_5f_binary1.pkl (40MB)\n",
      "Starting upload for file lgb_5f_binary3.pkl\n",
      "100%|######################################| 11.4M/11.4M [00:03<00:00, 3.24MB/s]\n",
      "Upload successful: lgb_5f_binary3.pkl (11MB)\n",
      "Starting upload for file lgb_5f_binary2.pkl\n",
      "100%|######################################| 11.4M/11.4M [00:01<00:00, 7.32MB/s]\n",
      "Upload successful: lgb_5f_binary2.pkl (11MB)\n",
      "Starting upload for file lgb_t30_2set_5f_binary0.pkl\n",
      "100%|######################################| 40.1M/40.1M [00:05<00:00, 7.23MB/s]\n",
      "Upload successful: lgb_t30_2set_5f_binary0.pkl (40MB)\n",
      "Starting upload for file lgbm_binary1.pkl\n",
      "100%|######################################| 11.4M/11.4M [00:03<00:00, 3.01MB/s]\n",
      "Upload successful: lgbm_binary1.pkl (11MB)\n",
      "Starting upload for file lgb_5f_binary1.pkl\n",
      "100%|######################################| 11.4M/11.4M [00:03<00:00, 3.23MB/s]\n",
      "Upload successful: lgb_5f_binary1.pkl (11MB)\n",
      "Starting upload for file lgb_t30_2set_5f_binary2.pkl\n",
      "100%|######################################| 39.0M/39.0M [00:05<00:00, 7.57MB/s]\n",
      "Upload successful: lgb_t30_2set_5f_binary2.pkl (39MB)\n",
      "Dataset version is being created. Please check progress at https://www.kaggle.com/tarique7/foursqbinarylgb\n"
     ]
    }
   ],
   "source": [
    "!kaggle datasets version -m \"BothSets30n5Fold\" -p ../src/models/BinaryModels --dir-mode zip"
   ]
  },
  {
   "cell_type": "code",
   "execution_count": null,
   "id": "44e6840e",
   "metadata": {},
   "outputs": [],
   "source": []
  }
 ],
 "metadata": {
  "kernelspec": {
   "display_name": "Python 3",
   "language": "python",
   "name": "python3"
  },
  "language_info": {
   "codemirror_mode": {
    "name": "ipython",
    "version": 3
   },
   "file_extension": ".py",
   "mimetype": "text/x-python",
   "name": "python",
   "nbconvert_exporter": "python",
   "pygments_lexer": "ipython3",
   "version": "3.6.13"
  }
 },
 "nbformat": 4,
 "nbformat_minor": 5
}
