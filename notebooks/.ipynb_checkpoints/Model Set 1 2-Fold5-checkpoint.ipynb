{
 "cells": [
  {
   "cell_type": "code",
   "execution_count": 1,
   "id": "95c8cfa8",
   "metadata": {},
   "outputs": [],
   "source": [
    "import pandas as pd\n",
    "import numpy as np\n",
    "import lightgbm as lgb\n",
    "import matplotlib.pyplot as plt\n",
    "from tqdm.auto import tqdm\n",
    "import os\n",
    "import gc\n",
    "import random\n",
    "from sklearn.model_selection import GroupKFold, KFold, StratifiedKFold\n",
    "import seaborn as sns\n",
    "import pickle\n",
    "import json\n",
    "import re\n",
    "import time\n",
    "import sys\n",
    "pd.set_option('display.max_rows', 500)\n",
    "pd.set_option('display.max_columns', 500)\n",
    "\n",
    "import warnings\n",
    "warnings.filterwarnings('ignore')"
   ]
  },
  {
   "cell_type": "code",
   "execution_count": 2,
   "id": "e3fd22ff",
   "metadata": {},
   "outputs": [],
   "source": [
    "tfn1 = 'train_all_25n_'\n",
    "tfn2 = 'valid_all_25n_'\n",
    "\n",
    "nsets = 3\n",
    "model_file_name = 'lgb_set12_'"
   ]
  },
  {
   "cell_type": "code",
   "execution_count": 3,
   "id": "1cfd2b9b",
   "metadata": {},
   "outputs": [],
   "source": [
    "tdata = pd.read_csv('../src/data/raw/train.csv')\n",
    "tdata['name'] = tdata['name'].isna().astype(int)\n",
    "tdata['categories'] = tdata['categories'].isna().astype(int)\n",
    "tdata['address'] = tdata['address'].isna().astype(int)\n",
    "tdata['state'] = tdata['state'].isna().astype(int)\n",
    "tdata['url'] = tdata['url'].isna().astype(int)\n",
    "tdata['country'] = tdata['country'].isna().astype(int)\n",
    "\n",
    "tdata = tdata[['id','name', 'categories', 'address', 'state', \n",
    "               'url', 'country']].drop_duplicates().reset_index(drop=True)"
   ]
  },
  {
   "cell_type": "code",
   "execution_count": 4,
   "id": "fd9d25ac",
   "metadata": {},
   "outputs": [],
   "source": [
    "def prepare_data(df_set):\n",
    "    \n",
    "    train_df = []\n",
    "    \n",
    "    for i in range(1, nsets+1):\n",
    "    \n",
    "        t1 = pd.read_csv('../src/data/processed/'+df_set+str(i)+'.csv')\n",
    "        print(t1.shape)\n",
    "        t1['kdist_diff'] = (t1['kdist'] - t1['kdist_country'])/t1['kdist_country']\n",
    "        t1['kneighbors_mean'] = t1[['kneighbors', 'kneighbors_country']].mean(axis = 1)\n",
    "        \n",
    "        t1['sim_mean'] = t1[[col for col in t1.columns if 'sim' in col]].mean(axis=1)\n",
    "        t1['jaro_mean'] = t1[[col for col in t1.columns if 'jaro' in col]].mean(axis=1)\n",
    "        t1['lcs_mean'] = t1[[col for col in t1.columns if '_lcs' in col]].mean(axis=1)        \n",
    "        \n",
    "        t1['sim_sum'] = t1[[col for col in t1.columns if 'sim' in col]].sum(axis=1)\n",
    "        t1['gesh_sum'] = t1[[col for col in t1.columns if 'gesh' in col]].sum(axis=1)\n",
    "        t1['leven_sum'] = t1[[col for col in t1.columns if '_leven' in col]].sum(axis=1)\n",
    "        t1['jaro_sum'] = t1[[col for col in t1.columns if 'jaro' in col]].sum(axis=1)\n",
    "        t1['lcs_sum'] = t1[[col for col in t1.columns if '_lcs' in col]].sum(axis=1)\n",
    "        t1['nlcsk_sum'] = t1[[col for col in t1.columns if '_nlcsk' in col]].sum(axis=1)\n",
    "        t1['nleven_sum'] = t1[[col for col in t1.columns if '_nleven' in col]].sum(axis=1)\n",
    "        t1['nlcs_sum'] = t1[[col for col in t1.columns if '_nlcs' in col]].sum(axis=1)\n",
    "\n",
    "        t1['sim_std'] = t1[[col for col in t1.columns if 'sim' in col]].std(axis=1)\n",
    "        t1['gesh_std'] = t1[[col for col in t1.columns if 'gesh' in col]].std(axis=1)\n",
    "        t1['leven_std'] = t1[[col for col in t1.columns if '_leven' in col]].std(axis=1)\n",
    "        t1['jaro_std'] = t1[[col for col in t1.columns if 'jaro' in col]].std(axis=1)\n",
    "        t1['lcs_std'] = t1[[col for col in t1.columns if '_lcs' in col]].std(axis=1)\n",
    "        t1['nlcsk_std'] = t1[[col for col in t1.columns if '_nlcsk' in col]].std(axis=1)\n",
    "        t1['nleven_std'] = t1[[col for col in t1.columns if '_nleven' in col]].std(axis=1)\n",
    "        t1['nlcs_std'] = t1[[col for col in t1.columns if '_nlcs' in col]].std(axis=1)\n",
    "\n",
    "        t1 = t1.merge(tdata, on='id', how='left')\n",
    "        t1 = t1.merge(tdata, left_on='match_id', right_on='id', how='left', suffixes=['_1','_2'])\n",
    "        t1 = t1.drop('id_2', axis=1).rename(columns={'id_1':'id'})\n",
    "        \n",
    "        t1['info_power_1'] = t1[[col for col in t1.columns if '_1' in col]].lt(1).sum(axis=1)\n",
    "        t1['info_power_2'] = t1[[col for col in t1.columns if '_2' in col]].lt(1).sum(axis=1)\n",
    "        t1['info_diff'] = t1['info_power_1'] - t1['info_power_2']\n",
    "        \n",
    "        t1['kdist_diff_x_info_diff'] = t1['kdist_diff']*t1['info_diff']\n",
    "        \n",
    "        t1 = t1.drop([col for col in t1.columns if '_1' in col], axis=1)\n",
    "        t1 = t1.drop([col for col in t1.columns if '_2' in col], axis=1)\n",
    "        gc.collect()\n",
    "                \n",
    "        train_df.append(t1)\n",
    "        \n",
    "        del t1\n",
    "        gc.collect()\n",
    "    \n",
    "    return train_df"
   ]
  },
  {
   "cell_type": "code",
   "execution_count": 5,
   "id": "43d62e99",
   "metadata": {},
   "outputs": [
    {
     "name": "stdout",
     "output_type": "stream",
     "text": [
      "(7692825, 96)\n",
      "(5794725, 96)\n",
      "(5357151, 96)\n",
      "CPU times: user 7min 35s, sys: 3min 2s, total: 10min 38s\n",
      "Wall time: 10min 51s\n"
     ]
    }
   ],
   "source": [
    "%%time\n",
    "train_df = prepare_data(tfn1)"
   ]
  },
  {
   "cell_type": "code",
   "execution_count": 6,
   "id": "b2d91f2b",
   "metadata": {},
   "outputs": [
    {
     "name": "stdout",
     "output_type": "stream",
     "text": [
      "CPU times: user 13.5 s, sys: 9.42 s, total: 22.9 s\n",
      "Wall time: 22.9 s\n"
     ]
    }
   ],
   "source": [
    "%%time\n",
    "train_df = pd.concat(train_df).reset_index(drop=True)"
   ]
  },
  {
   "cell_type": "code",
   "execution_count": 7,
   "id": "8184a3ec",
   "metadata": {},
   "outputs": [
    {
     "data": {
      "text/plain": [
       "(18844701, 119)"
      ]
     },
     "execution_count": 7,
     "metadata": {},
     "output_type": "execute_result"
    }
   ],
   "source": [
    "train_df.shape"
   ]
  },
  {
   "cell_type": "code",
   "execution_count": 8,
   "id": "b21cd10d",
   "metadata": {},
   "outputs": [
    {
     "name": "stdout",
     "output_type": "stream",
     "text": [
      "(7546775, 96)\n",
      "(5798729, 96)\n",
      "(5360801, 96)\n",
      "CPU times: user 7min 42s, sys: 3min 8s, total: 10min 50s\n",
      "Wall time: 11min 3s\n"
     ]
    }
   ],
   "source": [
    "%%time\n",
    "valid_df = prepare_data(tfn2)"
   ]
  },
  {
   "cell_type": "code",
   "execution_count": 9,
   "id": "bb09384c",
   "metadata": {},
   "outputs": [
    {
     "name": "stdout",
     "output_type": "stream",
     "text": [
      "CPU times: user 19.1 s, sys: 14.5 s, total: 33.6 s\n",
      "Wall time: 33.6 s\n"
     ]
    }
   ],
   "source": [
    "%%time\n",
    "valid_df = pd.concat(valid_df).reset_index(drop=True)"
   ]
  },
  {
   "cell_type": "code",
   "execution_count": 10,
   "id": "7b852379",
   "metadata": {},
   "outputs": [
    {
     "data": {
      "text/plain": [
       "(18706305, 119)"
      ]
     },
     "execution_count": 10,
     "metadata": {},
     "output_type": "execute_result"
    }
   ],
   "source": [
    "valid_df.shape"
   ]
  },
  {
   "cell_type": "code",
   "execution_count": 11,
   "id": "b1ede4c2",
   "metadata": {},
   "outputs": [
    {
     "data": {
      "text/plain": [
       "0    17808387\n",
       "1     1036314\n",
       "Name: label, dtype: int64"
      ]
     },
     "execution_count": 11,
     "metadata": {},
     "output_type": "execute_result"
    }
   ],
   "source": [
    "train_df.label.value_counts()"
   ]
  },
  {
   "cell_type": "code",
   "execution_count": 12,
   "id": "10468cf1",
   "metadata": {},
   "outputs": [
    {
     "data": {
      "text/plain": [
       "0    17676533\n",
       "1     1029772\n",
       "Name: label, dtype: int64"
      ]
     },
     "execution_count": 12,
     "metadata": {},
     "output_type": "execute_result"
    }
   ],
   "source": [
    "valid_df.label.value_counts()"
   ]
  },
  {
   "cell_type": "code",
   "execution_count": 13,
   "id": "cc249e6e",
   "metadata": {},
   "outputs": [
    {
     "name": "stdout",
     "output_type": "stream",
     "text": [
      "CPU times: user 57.4 s, sys: 49.3 s, total: 1min 46s\n",
      "Wall time: 1min 46s\n"
     ]
    },
    {
     "data": {
      "text/plain": [
       "0"
      ]
     },
     "execution_count": 13,
     "metadata": {},
     "output_type": "execute_result"
    }
   ],
   "source": [
    "%%time\n",
    "train_df = pd.concat([train_df, valid_df], axis=0).reset_index(drop=True)\n",
    "\n",
    "del valid_df\n",
    "gc.collect()"
   ]
  },
  {
   "cell_type": "code",
   "execution_count": 14,
   "id": "a81cbd7c",
   "metadata": {},
   "outputs": [],
   "source": [
    "TRAIN_FEATURES = ['kdist', 'kneighbors', 'kdist_country', 'kneighbors_country', 'name_sim', 'name_gesh','name_leven', \n",
    "                'name_jaro', 'name_lcs', 'name_len_diff', 'name_nleven', 'name_nlcsk', 'name_nlcs', 'address_sim', \n",
    "                'address_gesh', 'address_leven', 'address_jaro', 'address_lcs', 'address_len_diff', 'address_nleven', \n",
    "                'address_nlcsk', 'address_nlcs', 'city_gesh', 'city_leven', 'city_jaro', 'city_lcs', 'city_len_diff', \n",
    "                'city_nleven', 'city_nlcsk', 'city_nlcs', 'state_sim', 'state_gesh', 'state_leven', 'state_jaro', \n",
    "                'state_lcs', 'state_len_diff', 'state_nleven', 'state_nlcsk', 'state_nlcs', 'zip_gesh', 'zip_leven', \n",
    "                'zip_jaro', 'zip_lcs', 'url_sim', 'url_gesh', 'url_leven', 'url_jaro', 'url_lcs', 'url_len_diff', \n",
    "                'url_nleven', 'url_nlcsk', 'url_nlcs', 'phone_gesh', 'phone_leven', 'phone_jaro', 'phone_lcs', \n",
    "                'categories_sim', 'categories_gesh', 'categories_leven', 'categories_jaro', 'categories_lcs', \n",
    "                'categories_len_diff', 'categories_nleven', 'categories_nlcsk', 'categories_nlcs', 'country_sim', \n",
    "                'country_gesh', 'country_leven', 'country_nleven', 'kdist_diff', 'kneighbors_mean', \n",
    "                'sim_sum', 'gesh_sum', 'leven_sum', 'jaro_sum','lcs_sum', 'sim_std', 'gesh_std', 'leven_std',\n",
    "                'jaro_std', 'lcs_std', 'info_diff', 'nleven_sum', 'nlcsk_sum', 'nlcs_sum', 'nleven_std', \n",
    "                'nlcsk_std', 'nlcs_std', 'sim_mean','jaro_mean','lcs_mean','kdist_diff_x_info_diff',\n",
    "                'name_w_ratio', 'name_partial_ratio', 'name_tokenset_ratio', 'name_tokensort_ratio', \n",
    "                'name_fuzz_power', 'categories_w_ratio', 'categories_partial_ratio', 'categories_tokenset_ratio', \n",
    "                'categories_tokensort_ratio', 'categories_fuzz_power', 'address_w_ratio', 'address_partial_ratio', \n",
    "                'address_tokenset_ratio', 'address_tokensort_ratio', 'address_fuzz_power', \n",
    "                'dlon','dlat','country_x_poi_count_mean', 'name_similarity'\n",
    "                ]"
   ]
  },
  {
   "cell_type": "code",
   "execution_count": 15,
   "id": "09dfdf5e",
   "metadata": {},
   "outputs": [
    {
     "data": {
      "application/vnd.jupyter.widget-view+json": {
       "model_id": "0e0a600ba37446e6bf5d6fbdbbb218d8",
       "version_major": 2,
       "version_minor": 0
      },
      "text/plain": [
       "0it [00:00, ?it/s]"
      ]
     },
     "metadata": {},
     "output_type": "display_data"
    },
    {
     "name": "stdout",
     "output_type": "stream",
     "text": [
      "CPU times: user 59.6 s, sys: 40.2 s, total: 1min 39s\n",
      "Wall time: 1min 39s\n"
     ]
    }
   ],
   "source": [
    "%%time\n",
    "NFOLDS = 5\n",
    "kf = StratifiedKFold(n_splits = NFOLDS, shuffle=True, random_state=42)\n",
    "for i, (trn_idx, val_idx) in tqdm(enumerate(kf.split(train_df, train_df[\"label\"], train_df[\"label\"]))):\n",
    "    train_df.loc[val_idx, \"fold\"] = i"
   ]
  },
  {
   "cell_type": "code",
   "execution_count": 16,
   "id": "9f333792",
   "metadata": {},
   "outputs": [
    {
     "data": {
      "text/plain": [
       "0    0.944979\n",
       "1    0.055021\n",
       "Name: label, dtype: float64"
      ]
     },
     "execution_count": 16,
     "metadata": {},
     "output_type": "execute_result"
    }
   ],
   "source": [
    "train_df.label.value_counts()/len(train_df)"
   ]
  },
  {
   "cell_type": "code",
   "execution_count": 17,
   "id": "bd82fe70",
   "metadata": {},
   "outputs": [],
   "source": [
    "import lightgbm as lgbm\n",
    "\n",
    "def fit_lgbm(X, y, params=None, es_rounds=20, seed=42, N_SPLITS=5, \n",
    "             n_class=None, model_dir=None, folds=None):\n",
    "    \n",
    "    models = []\n",
    "    oof = np.zeros((len(y), n_class), dtype=np.float64)\n",
    "    \n",
    "    for i in tqdm(range(NFOLDS)):\n",
    "        print(f\"== fold {i} ==\")\n",
    "        trn_idx = folds!=i\n",
    "        val_idx = folds==i\n",
    "        X_train, y_train = X[trn_idx], y.iloc[trn_idx]\n",
    "        X_valid, y_valid = X.iloc[val_idx], y.iloc[val_idx]\n",
    "        \n",
    "        if i==4:\n",
    "            model = lgbm.LGBMClassifier(**params)\n",
    "            model.fit(\n",
    "                X_train, y_train, \n",
    "                eval_set=[(X_valid, y_valid)],  \n",
    "                early_stopping_rounds=es_rounds, \n",
    "                verbose=50)\n",
    "            \n",
    "            file = f'../src/models/ScaledModels/{model_file_name}{i}.pkl'\n",
    "            pickle.dump(model, open(file, 'wb'))\n",
    "        else:\n",
    "            with open(f'../src/models/ScaledModels/{model_file_name}{i}.pkl', 'rb') as f:\n",
    "                model = pickle.load(f)\n",
    "            \n",
    "        pred = model.predict_proba(X_valid)\n",
    "        oof[val_idx] = pred\n",
    "        models.append(model)\n",
    "        print()\n",
    "\n",
    "    cv = (oof.argmax(axis=-1) == y).mean()\n",
    "    print(f\"CV-accuracy: {cv}\")\n",
    "\n",
    "    return oof, models\n",
    "\n",
    "def inference_lgbm(models, feat_df):\n",
    "    pred = np.array([model.predict_proba(feat_df) for model in models])\n",
    "    pred = np.mean(pred, axis=0)\n",
    "    return pred"
   ]
  },
  {
   "cell_type": "code",
   "execution_count": 18,
   "id": "0d5cbafe",
   "metadata": {
    "scrolled": true
   },
   "outputs": [
    {
     "data": {
      "application/vnd.jupyter.widget-view+json": {
       "model_id": "a8252a551a2240a9acb18042a5dec0f7",
       "version_major": 2,
       "version_minor": 0
      },
      "text/plain": [
       "  0%|          | 0/5 [00:00<?, ?it/s]"
      ]
     },
     "metadata": {},
     "output_type": "display_data"
    },
    {
     "name": "stdout",
     "output_type": "stream",
     "text": [
      "== fold 0 ==\n",
      "\n",
      "== fold 1 ==\n",
      "\n",
      "== fold 2 ==\n",
      "\n",
      "== fold 3 ==\n",
      "\n",
      "== fold 4 ==\n",
      "[50]\tvalid_0's binary_logloss: 0.0284827\tvalid_0's auc: 0.996134\n",
      "[100]\tvalid_0's binary_logloss: 0.0268402\tvalid_0's auc: 0.996581\n",
      "[150]\tvalid_0's binary_logloss: 0.0259418\tvalid_0's auc: 0.996826\n",
      "[200]\tvalid_0's binary_logloss: 0.0253963\tvalid_0's auc: 0.996978\n",
      "[250]\tvalid_0's binary_logloss: 0.0248934\tvalid_0's auc: 0.99712\n",
      "[300]\tvalid_0's binary_logloss: 0.0244129\tvalid_0's auc: 0.997236\n",
      "[350]\tvalid_0's binary_logloss: 0.024032\tvalid_0's auc: 0.997349\n",
      "[400]\tvalid_0's binary_logloss: 0.0236511\tvalid_0's auc: 0.997437\n",
      "[450]\tvalid_0's binary_logloss: 0.023348\tvalid_0's auc: 0.997513\n",
      "[500]\tvalid_0's binary_logloss: 0.0230521\tvalid_0's auc: 0.997572\n",
      "[550]\tvalid_0's binary_logloss: 0.02276\tvalid_0's auc: 0.997644\n",
      "[600]\tvalid_0's binary_logloss: 0.0224597\tvalid_0's auc: 0.997717\n",
      "[650]\tvalid_0's binary_logloss: 0.0221831\tvalid_0's auc: 0.997776\n",
      "[700]\tvalid_0's binary_logloss: 0.0219234\tvalid_0's auc: 0.997835\n",
      "[750]\tvalid_0's binary_logloss: 0.0216176\tvalid_0's auc: 0.997894\n",
      "[800]\tvalid_0's binary_logloss: 0.0213799\tvalid_0's auc: 0.997943\n",
      "[850]\tvalid_0's binary_logloss: 0.0211475\tvalid_0's auc: 0.99799\n",
      "[900]\tvalid_0's binary_logloss: 0.0209462\tvalid_0's auc: 0.998027\n",
      "[950]\tvalid_0's binary_logloss: 0.0207181\tvalid_0's auc: 0.998069\n",
      "[1000]\tvalid_0's binary_logloss: 0.0204796\tvalid_0's auc: 0.998113\n",
      "[1050]\tvalid_0's binary_logloss: 0.0202789\tvalid_0's auc: 0.998151\n",
      "[1100]\tvalid_0's binary_logloss: 0.0200563\tvalid_0's auc: 0.998194\n",
      "[1150]\tvalid_0's binary_logloss: 0.0198717\tvalid_0's auc: 0.998228\n",
      "[1200]\tvalid_0's binary_logloss: 0.0196848\tvalid_0's auc: 0.998256\n",
      "[1250]\tvalid_0's binary_logloss: 0.0195006\tvalid_0's auc: 0.998282\n",
      "[1300]\tvalid_0's binary_logloss: 0.0193645\tvalid_0's auc: 0.998304\n",
      "[1350]\tvalid_0's binary_logloss: 0.0192032\tvalid_0's auc: 0.998329\n",
      "[1400]\tvalid_0's binary_logloss: 0.0190472\tvalid_0's auc: 0.998355\n",
      "[1450]\tvalid_0's binary_logloss: 0.0188939\tvalid_0's auc: 0.998378\n",
      "[1500]\tvalid_0's binary_logloss: 0.0187202\tvalid_0's auc: 0.998406\n",
      "[1550]\tvalid_0's binary_logloss: 0.018564\tvalid_0's auc: 0.99843\n",
      "[1600]\tvalid_0's binary_logloss: 0.0184003\tvalid_0's auc: 0.998455\n",
      "[1650]\tvalid_0's binary_logloss: 0.0182626\tvalid_0's auc: 0.998474\n",
      "[1700]\tvalid_0's binary_logloss: 0.018089\tvalid_0's auc: 0.998503\n",
      "[1750]\tvalid_0's binary_logloss: 0.017949\tvalid_0's auc: 0.998525\n",
      "[1800]\tvalid_0's binary_logloss: 0.0178153\tvalid_0's auc: 0.998544\n",
      "[1850]\tvalid_0's binary_logloss: 0.0176571\tvalid_0's auc: 0.998566\n",
      "[1900]\tvalid_0's binary_logloss: 0.0175191\tvalid_0's auc: 0.998586\n",
      "[1950]\tvalid_0's binary_logloss: 0.0173742\tvalid_0's auc: 0.998606\n",
      "[2000]\tvalid_0's binary_logloss: 0.0172656\tvalid_0's auc: 0.998618\n",
      "[2050]\tvalid_0's binary_logloss: 0.0171512\tvalid_0's auc: 0.998633\n",
      "[2100]\tvalid_0's binary_logloss: 0.0170151\tvalid_0's auc: 0.998652\n",
      "[2150]\tvalid_0's binary_logloss: 0.0168957\tvalid_0's auc: 0.998665\n",
      "[2200]\tvalid_0's binary_logloss: 0.0167536\tvalid_0's auc: 0.998682\n",
      "[2250]\tvalid_0's binary_logloss: 0.0166508\tvalid_0's auc: 0.998693\n",
      "[2300]\tvalid_0's binary_logloss: 0.0165273\tvalid_0's auc: 0.998708\n",
      "[2350]\tvalid_0's binary_logloss: 0.016387\tvalid_0's auc: 0.998724\n",
      "[2400]\tvalid_0's binary_logloss: 0.016274\tvalid_0's auc: 0.998736\n",
      "[2450]\tvalid_0's binary_logloss: 0.0161673\tvalid_0's auc: 0.998749\n",
      "[2500]\tvalid_0's binary_logloss: 0.0160594\tvalid_0's auc: 0.998761\n",
      "[2550]\tvalid_0's binary_logloss: 0.0159189\tvalid_0's auc: 0.998779\n",
      "[2600]\tvalid_0's binary_logloss: 0.0158132\tvalid_0's auc: 0.998792\n",
      "[2650]\tvalid_0's binary_logloss: 0.0157305\tvalid_0's auc: 0.998801\n",
      "[2700]\tvalid_0's binary_logloss: 0.0156181\tvalid_0's auc: 0.998813\n",
      "[2750]\tvalid_0's binary_logloss: 0.0155158\tvalid_0's auc: 0.998824\n",
      "[2800]\tvalid_0's binary_logloss: 0.0154283\tvalid_0's auc: 0.998831\n",
      "[2850]\tvalid_0's binary_logloss: 0.0153416\tvalid_0's auc: 0.998841\n",
      "[2900]\tvalid_0's binary_logloss: 0.0152508\tvalid_0's auc: 0.998849\n",
      "[2950]\tvalid_0's binary_logloss: 0.0151609\tvalid_0's auc: 0.998859\n",
      "[3000]\tvalid_0's binary_logloss: 0.0150986\tvalid_0's auc: 0.998864\n",
      "\n",
      "CV-accuracy: 0.9949087915247863\n"
     ]
    }
   ],
   "source": [
    "params = {\n",
    "    'boosting_type': 'gbdt', \n",
    "    'objective': 'binary', \n",
    "    'tree_learner': 'feature',\n",
    "    'metric': ['binary_logloss', 'AUC'],\n",
    "    'learning_rate': 0.3,\n",
    "    'reg_alpha': 0.1,\n",
    "    'reg_lambda': 0.682,\n",
    "    'random_state': 2018,\n",
    "    'max_depth': 9,\n",
    "    'num_leaves': 127, \n",
    "    'n_estimators': 3000,\n",
    "    \"colsample_bytree\": 0.785,\n",
    "    \"first_metric_only\": True,\n",
    "    \"max_bin\": 512\n",
    "}\n",
    "\n",
    "oof, models = fit_lgbm(train_df[TRAIN_FEATURES], train_df[\"label\"].astype(int), \n",
    "                       params=params, n_class=int(train_df[\"label\"].max() + 1), \n",
    "                       N_SPLITS=NFOLDS, folds=train_df[\"fold\"].values)"
   ]
  },
  {
   "cell_type": "code",
   "execution_count": 19,
   "id": "da96f0b0",
   "metadata": {},
   "outputs": [
    {
     "data": {
      "image/png": "[encoded data removed]",
      "text/plain": [
       "<Figure size 1944x360 with 1 Axes>"
      ]
     },
     "metadata": {
      "needs_background": "light"
     },
     "output_type": "display_data"
    }
   ],
   "source": [
    "def plot_importances(models):\n",
    "    importance_df = pd.DataFrame(models[0].feature_importances_, \n",
    "                                 index=TRAIN_FEATURES, \n",
    "                                 columns=['importance'])\\\n",
    "                        .sort_values(\"importance\", ascending=False)\n",
    "\n",
    "    plt.subplots(figsize=(len(TRAIN_FEATURES) // 4, 5))\n",
    "    plt.bar(importance_df.index, importance_df.importance)\n",
    "    plt.grid()\n",
    "    plt.xticks(rotation=90)\n",
    "    plt.ylabel(\"importance\")\n",
    "    plt.tight_layout()\n",
    "    plt.show()\n",
    "\n",
    "plot_importances(models)"
   ]
  },
  {
   "cell_type": "code",
   "execution_count": 20,
   "id": "468b1100",
   "metadata": {},
   "outputs": [],
   "source": [
    "# !kaggle datasets init -p ../src/models/BinaryModels"
   ]
  },
  {
   "cell_type": "code",
   "execution_count": 21,
   "id": "9bad329d",
   "metadata": {},
   "outputs": [],
   "source": [
    "# !kaggle datasets create -p ../src/models/BinaryModels --dir-mode zip"
   ]
  },
  {
   "cell_type": "code",
   "execution_count": 22,
   "id": "6f2d2b64",
   "metadata": {},
   "outputs": [
    {
     "name": "stdout",
     "output_type": "stream",
     "text": [
      "Starting upload for file lgb_set12_3.pkl\n",
      "Warning: Looks like you're using an outdated API Version, please consider updating (server 1.5.12 / client 1.5.6)\n",
      "100%|######################################| 39.8M/39.8M [00:05<00:00, 7.20MB/s]\n",
      "Upload successful: lgb_set12_3.pkl (40MB)\n",
      "Starting upload for file lgb_set12_4.pkl\n",
      "100%|######################################| 39.8M/39.8M [00:05<00:00, 7.23MB/s]\n",
      "Upload successful: lgb_set12_4.pkl (40MB)\n",
      "Starting upload for file lgb_set12_2.pkl\n",
      "100%|######################################| 39.8M/39.8M [00:06<00:00, 6.61MB/s]\n",
      "Upload successful: lgb_set12_2.pkl (40MB)\n",
      "Starting upload for file .ipynb_checkpoints.zip\n",
      "100%|#########################################| 22.0/22.0 [00:02<00:00, 7.79B/s]\n",
      "Upload successful: .ipynb_checkpoints.zip (22B)\n",
      "Starting upload for file lgb_set12_0.pkl\n",
      "100%|######################################| 39.8M/39.8M [00:05<00:00, 6.96MB/s]\n",
      "Upload successful: lgb_set12_0.pkl (40MB)\n",
      "Starting upload for file lgb_set12_1.pkl\n",
      "100%|######################################| 39.8M/39.8M [00:04<00:00, 9.02MB/s]\n",
      "Upload successful: lgb_set12_1.pkl (40MB)\n",
      "Dataset version is being created. Please check progress at https://www.kaggle.com/tarique7/foursqscaledlgb\n"
     ]
    }
   ],
   "source": [
    "!kaggle datasets version -m \"NewModel\" -p ../src/models/ScaledModels --dir-mode zip"
   ]
  },
  {
   "cell_type": "code",
   "execution_count": null,
   "id": "44e6840e",
   "metadata": {},
   "outputs": [],
   "source": []
  }
 ],
 "metadata": {
  "kernelspec": {
   "display_name": "Python 3",
   "language": "python",
   "name": "python3"
  },
  "language_info": {
   "codemirror_mode": {
    "name": "ipython",
    "version": 3
   },
   "file_extension": ".py",
   "mimetype": "text/x-python",
   "name": "python",
   "nbconvert_exporter": "python",
   "pygments_lexer": "ipython3",
   "version": "3.6.13"
  }
 },
 "nbformat": 4,
 "nbformat_minor": 5
}
