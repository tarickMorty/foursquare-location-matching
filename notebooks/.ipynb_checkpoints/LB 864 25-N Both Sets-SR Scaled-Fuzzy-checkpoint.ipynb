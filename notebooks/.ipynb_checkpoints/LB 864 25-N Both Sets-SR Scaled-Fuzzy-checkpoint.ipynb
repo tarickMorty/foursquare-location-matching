{
 "cells": [
  {
   "cell_type": "code",
   "execution_count": 1,
   "id": "95c8cfa8",
   "metadata": {},
   "outputs": [],
   "source": [
    "import pandas as pd\n",
    "import numpy as np\n",
    "import lightgbm as lgb\n",
    "import matplotlib.pyplot as plt\n",
    "from tqdm.auto import tqdm\n",
    "import os\n",
    "import gc\n",
    "import random\n",
    "from sklearn.model_selection import GroupKFold, KFold, StratifiedKFold\n",
    "import seaborn as sns\n",
    "import pickle\n",
    "import json\n",
    "import re\n",
    "import time\n",
    "import sys\n",
    "pd.set_option('display.max_rows', 500)\n",
    "pd.set_option('display.max_columns', 500)\n",
    "\n",
    "import warnings\n",
    "warnings.filterwarnings('ignore')"
   ]
  },
  {
   "cell_type": "code",
   "execution_count": 2,
   "id": "e3fd22ff",
   "metadata": {},
   "outputs": [],
   "source": [
    "tfn1 = 'train_data_sr_scaled_25n_'\n",
    "tfn2 = 'valid_data_sr_scaled_25n_'\n",
    "\n",
    "nsets = 3\n",
    "model_file_name = 'sr_scaled_5f_t25_'"
   ]
  },
  {
   "cell_type": "code",
   "execution_count": 3,
   "id": "1cfd2b9b",
   "metadata": {},
   "outputs": [],
   "source": [
    "tdata = pd.read_csv('../src/data/raw/train.csv')\n",
    "tdata['name'] = tdata['name'].isna().astype(int)\n",
    "tdata['categories'] = tdata['categories'].isna().astype(int)\n",
    "tdata['address'] = tdata['address'].isna().astype(int)\n",
    "tdata['state'] = tdata['state'].isna().astype(int)\n",
    "tdata['url'] = tdata['url'].isna().astype(int)\n",
    "tdata['country'] = tdata['country'].isna().astype(int)\n",
    "\n",
    "tdata = tdata[['id','name', 'categories', 'address', 'state', \n",
    "               'url', 'country']].drop_duplicates().reset_index(drop=True)"
   ]
  },
  {
   "cell_type": "code",
   "execution_count": 4,
   "id": "fd9d25ac",
   "metadata": {},
   "outputs": [],
   "source": [
    "def prepare_data(df_set):\n",
    "    \n",
    "    train_df = []\n",
    "    \n",
    "    for i in range(1, nsets+1):\n",
    "    \n",
    "        t1 = pd.read_csv('../src/data/processed/'+df_set+str(i)+'.csv')\n",
    "        print(t1.shape)\n",
    "        \n",
    "        t1['fuzz_power_all'] = 1-t1[[col for col in t1.columns if 'fuzz_power' \n",
    "                           in col]].sum(axis=1)/(100*len([col for col in t1.columns if 'fuzz_power' in col]))\n",
    "        t1['sim_mean'] = 1 - t1[[col for col in t1.columns if 'sim' in col]].mean(axis=1)\n",
    "\n",
    "#         t1['kdist_diff'] = (t1['kdist'] - t1['kdist_country'])/t1['kdist_country']\n",
    "        \n",
    "        t1['kdist'] = t1['kdist'].fillna(0) + t1['fuzz_power_all'] + t1['sim_mean']\n",
    "        t1['kdist_country'] = t1['kdist_country'].fillna(0) + t1['fuzz_power_all'] + t1['sim_mean']\n",
    "        t1['kdist_diff'] = (t1['kdist'] - t1['kdist_country'])/t1['kdist_country']\n",
    "\n",
    "        t1['kneighbors_mean'] = t1[['kneighbors', 'kneighbors_country']].mean(axis = 1)\n",
    "        \n",
    "#         t1['sim_mean'] = t1[[col for col in t1.columns if 'sim' in col]].mean(axis=1)\n",
    "        t1['jaro_mean'] = t1[[col for col in t1.columns if 'jaro' in col]].mean(axis=1)\n",
    "        t1['lcs_mean'] = t1[[col for col in t1.columns if '_lcs' in col]].mean(axis=1)        \n",
    "        \n",
    "        t1['sim_sum'] = t1[[col for col in t1.columns if 'sim' in col]].sum(axis=1)\n",
    "        t1['gesh_sum'] = t1[[col for col in t1.columns if 'gesh' in col]].sum(axis=1)\n",
    "        t1['leven_sum'] = t1[[col for col in t1.columns if '_leven' in col]].sum(axis=1)\n",
    "        t1['jaro_sum'] = t1[[col for col in t1.columns if 'jaro' in col]].sum(axis=1)\n",
    "        t1['lcs_sum'] = t1[[col for col in t1.columns if '_lcs' in col]].sum(axis=1)\n",
    "        t1['nlcsk_sum'] = t1[[col for col in t1.columns if '_nlcsk' in col]].sum(axis=1)\n",
    "        t1['nleven_sum'] = t1[[col for col in t1.columns if '_nleven' in col]].sum(axis=1)\n",
    "        t1['nlcs_sum'] = t1[[col for col in t1.columns if '_nlcs' in col]].sum(axis=1)\n",
    "\n",
    "        t1['sim_std'] = t1[[col for col in t1.columns if 'sim' in col]].std(axis=1)\n",
    "        t1['gesh_std'] = t1[[col for col in t1.columns if 'gesh' in col]].std(axis=1)\n",
    "        t1['leven_std'] = t1[[col for col in t1.columns if '_leven' in col]].std(axis=1)\n",
    "        t1['jaro_std'] = t1[[col for col in t1.columns if 'jaro' in col]].std(axis=1)\n",
    "        t1['lcs_std'] = t1[[col for col in t1.columns if '_lcs' in col]].std(axis=1)\n",
    "        t1['nlcsk_std'] = t1[[col for col in t1.columns if '_nlcsk' in col]].std(axis=1)\n",
    "        t1['nleven_std'] = t1[[col for col in t1.columns if '_nleven' in col]].std(axis=1)\n",
    "        t1['nlcs_std'] = t1[[col for col in t1.columns if '_nlcs' in col]].std(axis=1)\n",
    "\n",
    "        t1 = t1.merge(tdata, on='id', how='left')\n",
    "        t1 = t1.merge(tdata, left_on='match_id', right_on='id', how='left', suffixes=['_1','_2'])\n",
    "        t1 = t1.drop('id_2', axis=1).rename(columns={'id_1':'id'})\n",
    "        \n",
    "        t1['info_power_1'] = t1[[col for col in t1.columns if '_1' in col]].lt(1).sum(axis=1)\n",
    "        t1['info_power_2'] = t1[[col for col in t1.columns if '_2' in col]].lt(1).sum(axis=1)\n",
    "        t1['info_diff'] = t1['info_power_1'] - t1['info_power_2']\n",
    "        \n",
    "        t1['kdist_diff_x_info_diff'] = t1['kdist_diff']*t1['info_diff']\n",
    "        \n",
    "        t1 = t1.drop([col for col in t1.columns if '_1' in col], axis=1)\n",
    "        t1 = t1.drop([col for col in t1.columns if '_2' in col], axis=1)\n",
    "        gc.collect()\n",
    "        \n",
    "        train_df.append(t1)\n",
    "        \n",
    "        del t1\n",
    "        gc.collect()\n",
    "    \n",
    "    return train_df"
   ]
  },
  {
   "cell_type": "code",
   "execution_count": 5,
   "id": "a8d87800",
   "metadata": {},
   "outputs": [
    {
     "name": "stdout",
     "output_type": "stream",
     "text": [
      "(5511558, 92)\n",
      "(5498470, 92)\n",
      "(5522210, 92)\n",
      "CPU times: user 6min 44s, sys: 2min 33s, total: 9min 18s\n",
      "Wall time: 9min 18s\n"
     ]
    }
   ],
   "source": [
    "%%time\n",
    "train_df = prepare_data(tfn1)"
   ]
  },
  {
   "cell_type": "code",
   "execution_count": 6,
   "id": "68adf156",
   "metadata": {},
   "outputs": [
    {
     "name": "stdout",
     "output_type": "stream",
     "text": [
      "CPU times: user 12.7 s, sys: 7.69 s, total: 20.4 s\n",
      "Wall time: 20.4 s\n"
     ]
    }
   ],
   "source": [
    "%%time\n",
    "train_df = pd.concat(train_df).reset_index(drop=True)"
   ]
  },
  {
   "cell_type": "code",
   "execution_count": 7,
   "id": "8184a3ec",
   "metadata": {},
   "outputs": [
    {
     "data": {
      "text/plain": [
       "(16532238, 116)"
      ]
     },
     "execution_count": 7,
     "metadata": {},
     "output_type": "execute_result"
    }
   ],
   "source": [
    "train_df.shape"
   ]
  },
  {
   "cell_type": "code",
   "execution_count": 8,
   "id": "b21cd10d",
   "metadata": {},
   "outputs": [
    {
     "name": "stdout",
     "output_type": "stream",
     "text": [
      "(5493835, 92)\n",
      "(5523338, 92)\n",
      "(5505856, 92)\n",
      "CPU times: user 6min 48s, sys: 2min 38s, total: 9min 27s\n",
      "Wall time: 9min 27s\n"
     ]
    }
   ],
   "source": [
    "%%time\n",
    "valid_df = prepare_data(tfn2)"
   ]
  },
  {
   "cell_type": "code",
   "execution_count": 9,
   "id": "bb09384c",
   "metadata": {},
   "outputs": [
    {
     "name": "stdout",
     "output_type": "stream",
     "text": [
      "CPU times: user 14.8 s, sys: 10.8 s, total: 25.6 s\n",
      "Wall time: 25.6 s\n"
     ]
    }
   ],
   "source": [
    "%%time\n",
    "valid_df = pd.concat(valid_df).reset_index(drop=True)"
   ]
  },
  {
   "cell_type": "code",
   "execution_count": 10,
   "id": "7b852379",
   "metadata": {},
   "outputs": [
    {
     "data": {
      "text/plain": [
       "(16523029, 116)"
      ]
     },
     "execution_count": 10,
     "metadata": {},
     "output_type": "execute_result"
    }
   ],
   "source": [
    "valid_df.shape"
   ]
  },
  {
   "cell_type": "code",
   "execution_count": 11,
   "id": "40dd4e88",
   "metadata": {},
   "outputs": [
    {
     "data": {
      "text/plain": [
       "0    15501174\n",
       "1     1031064\n",
       "Name: label, dtype: int64"
      ]
     },
     "execution_count": 11,
     "metadata": {},
     "output_type": "execute_result"
    }
   ],
   "source": [
    "train_df.label.value_counts()"
   ]
  },
  {
   "cell_type": "code",
   "execution_count": 12,
   "id": "7f62da50",
   "metadata": {},
   "outputs": [
    {
     "data": {
      "text/plain": [
       "0    15499140\n",
       "1     1023889\n",
       "Name: label, dtype: int64"
      ]
     },
     "execution_count": 12,
     "metadata": {},
     "output_type": "execute_result"
    }
   ],
   "source": [
    "valid_df.label.value_counts()"
   ]
  },
  {
   "cell_type": "code",
   "execution_count": 13,
   "id": "cc249e6e",
   "metadata": {},
   "outputs": [
    {
     "name": "stdout",
     "output_type": "stream",
     "text": [
      "CPU times: user 50 s, sys: 37.5 s, total: 1min 27s\n",
      "Wall time: 1min 27s\n"
     ]
    },
    {
     "data": {
      "text/plain": [
       "0"
      ]
     },
     "execution_count": 13,
     "metadata": {},
     "output_type": "execute_result"
    }
   ],
   "source": [
    "%%time\n",
    "train_df = pd.concat([train_df, valid_df], axis=0).reset_index(drop=True)\n",
    "\n",
    "del valid_df\n",
    "gc.collect()"
   ]
  },
  {
   "cell_type": "code",
   "execution_count": 14,
   "id": "958180f3",
   "metadata": {},
   "outputs": [
    {
     "data": {
      "text/plain": [
       "0    0.937833\n",
       "1    0.062167\n",
       "Name: label, dtype: float64"
      ]
     },
     "execution_count": 14,
     "metadata": {},
     "output_type": "execute_result"
    }
   ],
   "source": [
    "train_df.label.value_counts()/len(train_df)"
   ]
  },
  {
   "cell_type": "code",
   "execution_count": 17,
   "id": "a81cbd7c",
   "metadata": {},
   "outputs": [
    {
     "data": {
      "text/plain": [
       "108"
      ]
     },
     "execution_count": 17,
     "metadata": {},
     "output_type": "execute_result"
    }
   ],
   "source": [
    "TRAIN_FEATURES = ['kdist', 'kneighbors', 'kdist_country', 'kneighbors_country', 'name_sim', 'name_gesh','name_leven', \n",
    "                'name_jaro', 'name_lcs', 'name_len_diff', 'name_nleven', 'name_nlcsk', 'name_nlcs', 'address_sim', \n",
    "                'address_gesh', 'address_leven', 'address_jaro', 'address_lcs', 'address_len_diff', 'address_nleven', \n",
    "                'address_nlcsk', 'address_nlcs', 'city_gesh', 'city_leven', 'city_jaro', 'city_lcs', 'city_len_diff', \n",
    "                'city_nleven', 'city_nlcsk', 'city_nlcs', 'state_sim', 'state_gesh', 'state_leven', 'state_jaro', \n",
    "                'state_lcs', 'state_len_diff', 'state_nleven', 'state_nlcsk', 'state_nlcs', 'zip_gesh', 'zip_leven', \n",
    "                'zip_jaro', 'zip_lcs', 'url_sim', 'url_gesh', 'url_leven', 'url_jaro', 'url_lcs', 'url_len_diff', \n",
    "                'url_nleven', 'url_nlcsk', 'url_nlcs', 'phone_gesh', 'phone_leven', 'phone_jaro', 'phone_lcs', \n",
    "                'categories_sim', 'categories_gesh', 'categories_leven', 'categories_jaro', 'categories_lcs', \n",
    "                'categories_len_diff', 'categories_nleven', 'categories_nlcsk', 'categories_nlcs', 'country_sim', \n",
    "                'country_gesh', 'country_leven', 'country_nleven', 'kdist_diff', 'kneighbors_mean', \n",
    "                'sim_sum', 'gesh_sum', 'leven_sum', 'jaro_sum','lcs_sum', 'sim_std', 'gesh_std', 'leven_std',\n",
    "                'jaro_std', 'lcs_std', 'info_diff', 'nleven_sum', 'nlcsk_sum', 'nlcs_sum', 'nleven_std', \n",
    "                'nlcsk_std', 'nlcs_std', 'sim_mean','jaro_mean','lcs_mean','kdist_diff_x_info_diff',\n",
    "                'name_w_ratio', 'name_partial_ratio', 'name_tokenset_ratio', 'name_tokensort_ratio', \n",
    "                'name_fuzz_power', 'categories_w_ratio', 'categories_partial_ratio', 'categories_tokenset_ratio', \n",
    "                'categories_tokensort_ratio', 'categories_fuzz_power', 'address_w_ratio', 'address_partial_ratio', \n",
    "                'address_tokenset_ratio', 'address_tokensort_ratio', 'address_fuzz_power', 'fuzz_power_all'\n",
    "                ]\n",
    "\n",
    "len(TRAIN_FEATURES)"
   ]
  },
  {
   "cell_type": "code",
   "execution_count": 16,
   "id": "09dfdf5e",
   "metadata": {},
   "outputs": [
    {
     "data": {
      "application/vnd.jupyter.widget-view+json": {
       "model_id": "10621abe588f481cb0e6cc41abffb75b",
       "version_major": 2,
       "version_minor": 0
      },
      "text/plain": [
       "0it [00:00, ?it/s]"
      ]
     },
     "metadata": {},
     "output_type": "display_data"
    },
    {
     "name": "stdout",
     "output_type": "stream",
     "text": [
      "CPU times: user 48.1 s, sys: 35.7 s, total: 1min 23s\n",
      "Wall time: 1min 23s\n"
     ]
    }
   ],
   "source": [
    "%%time\n",
    "NFOLDS = 5\n",
    "kf = StratifiedKFold(n_splits = NFOLDS, shuffle=True, random_state=42)\n",
    "for i, (trn_idx, val_idx) in tqdm(enumerate(kf.split(train_df, train_df[\"label\"], train_df[\"label\"]))):\n",
    "    train_df.loc[val_idx, \"fold\"] = i"
   ]
  },
  {
   "cell_type": "code",
   "execution_count": 18,
   "id": "bd82fe70",
   "metadata": {},
   "outputs": [],
   "source": [
    "import lightgbm as lgbm\n",
    "\n",
    "def fit_lgbm(X, y, params=None, es_rounds=20, seed=42, N_SPLITS=5, \n",
    "             n_class=None, model_dir=None, folds=None):\n",
    "    \n",
    "    models = []\n",
    "    oof = np.zeros((len(y), n_class), dtype=np.float64)\n",
    "    \n",
    "    for i in tqdm(range(NFOLDS)):\n",
    "        print(f\"== fold {i} ==\")\n",
    "        trn_idx = folds!=i\n",
    "        val_idx = folds==i\n",
    "        X_train, y_train = X[trn_idx], y.iloc[trn_idx]\n",
    "        X_valid, y_valid = X.iloc[val_idx], y.iloc[val_idx]\n",
    "\n",
    "        if model_dir is None:\n",
    "            model = lgbm.LGBMClassifier(**params)\n",
    "            model.fit(\n",
    "                X_train, y_train, \n",
    "                eval_set=[(X_valid, y_valid)],  \n",
    "                early_stopping_rounds=es_rounds, \n",
    "                verbose=50)\n",
    "        else:\n",
    "            with open(f'../src/models/ScaledModels/{model_file_name}{i}.pkl', 'rb') as f:\n",
    "                model = pickle.load(f)\n",
    "            \n",
    "        pred = model.predict_proba(X_valid)\n",
    "        oof[val_idx] = pred\n",
    "        models.append(model)\n",
    "        \n",
    "        file = f'../src/models/ScaledModels/{model_file_name}{i}.pkl'\n",
    "        pickle.dump(model, open(file, 'wb'))\n",
    "        print()\n",
    "\n",
    "    cv = (oof.argmax(axis=-1) == y).mean()\n",
    "    print(f\"CV-accuracy: {cv}\")\n",
    "\n",
    "    return oof, models\n",
    "\n",
    "def inference_lgbm(models, feat_df):\n",
    "    pred = np.array([model.predict_proba(feat_df) for model in models])\n",
    "    pred = np.mean(pred, axis=0)\n",
    "    return pred"
   ]
  },
  {
   "cell_type": "code",
   "execution_count": 19,
   "id": "87b3e26c",
   "metadata": {
    "scrolled": true
   },
   "outputs": [
    {
     "data": {
      "application/vnd.jupyter.widget-view+json": {
       "model_id": "daf78742e0a64f1cacb7c6c9418baeb5",
       "version_major": 2,
       "version_minor": 0
      },
      "text/plain": [
       "  0%|          | 0/5 [00:00<?, ?it/s]"
      ]
     },
     "metadata": {},
     "output_type": "display_data"
    },
    {
     "name": "stdout",
     "output_type": "stream",
     "text": [
      "== fold 0 ==\n",
      "[50]\tvalid_0's binary_logloss: 0.0365876\tvalid_0's auc: 0.993857\tvalid_0's average_precision: 0.956455\n",
      "[100]\tvalid_0's binary_logloss: 0.03483\tvalid_0's auc: 0.994538\tvalid_0's average_precision: 0.960001\n",
      "[150]\tvalid_0's binary_logloss: 0.0339033\tvalid_0's auc: 0.994857\tvalid_0's average_precision: 0.961797\n",
      "[200]\tvalid_0's binary_logloss: 0.033217\tvalid_0's auc: 0.995097\tvalid_0's average_precision: 0.963133\n",
      "[250]\tvalid_0's binary_logloss: 0.0327628\tvalid_0's auc: 0.995246\tvalid_0's average_precision: 0.964\n",
      "[300]\tvalid_0's binary_logloss: 0.0323353\tvalid_0's auc: 0.995388\tvalid_0's average_precision: 0.964814\n",
      "[350]\tvalid_0's binary_logloss: 0.0318478\tvalid_0's auc: 0.995543\tvalid_0's average_precision: 0.965739\n",
      "[400]\tvalid_0's binary_logloss: 0.0315176\tvalid_0's auc: 0.995649\tvalid_0's average_precision: 0.966353\n",
      "[450]\tvalid_0's binary_logloss: 0.0311406\tvalid_0's auc: 0.995763\tvalid_0's average_precision: 0.967056\n",
      "[500]\tvalid_0's binary_logloss: 0.0307982\tvalid_0's auc: 0.995859\tvalid_0's average_precision: 0.967677\n",
      "[550]\tvalid_0's binary_logloss: 0.03049\tvalid_0's auc: 0.995954\tvalid_0's average_precision: 0.96825\n",
      "[600]\tvalid_0's binary_logloss: 0.0301928\tvalid_0's auc: 0.996045\tvalid_0's average_precision: 0.968805\n",
      "[650]\tvalid_0's binary_logloss: 0.0299474\tvalid_0's auc: 0.996113\tvalid_0's average_precision: 0.96925\n",
      "[700]\tvalid_0's binary_logloss: 0.0296785\tvalid_0's auc: 0.996191\tvalid_0's average_precision: 0.969734\n",
      "[750]\tvalid_0's binary_logloss: 0.0294632\tvalid_0's auc: 0.996237\tvalid_0's average_precision: 0.970104\n",
      "[800]\tvalid_0's binary_logloss: 0.0292542\tvalid_0's auc: 0.996295\tvalid_0's average_precision: 0.97047\n",
      "[850]\tvalid_0's binary_logloss: 0.0290325\tvalid_0's auc: 0.996357\tvalid_0's average_precision: 0.970872\n",
      "[900]\tvalid_0's binary_logloss: 0.0288079\tvalid_0's auc: 0.996407\tvalid_0's average_precision: 0.971258\n",
      "[950]\tvalid_0's binary_logloss: 0.0285275\tvalid_0's auc: 0.99647\tvalid_0's average_precision: 0.971738\n",
      "[1000]\tvalid_0's binary_logloss: 0.0283105\tvalid_0's auc: 0.996524\tvalid_0's average_precision: 0.972119\n",
      "[1050]\tvalid_0's binary_logloss: 0.0280958\tvalid_0's auc: 0.996573\tvalid_0's average_precision: 0.972485\n",
      "[1100]\tvalid_0's binary_logloss: 0.0279136\tvalid_0's auc: 0.996619\tvalid_0's average_precision: 0.972799\n",
      "[1150]\tvalid_0's binary_logloss: 0.0277064\tvalid_0's auc: 0.996664\tvalid_0's average_precision: 0.973148\n",
      "[1200]\tvalid_0's binary_logloss: 0.0275053\tvalid_0's auc: 0.996719\tvalid_0's average_precision: 0.973498\n",
      "[1250]\tvalid_0's binary_logloss: 0.0273082\tvalid_0's auc: 0.996763\tvalid_0's average_precision: 0.973827\n",
      "[1300]\tvalid_0's binary_logloss: 0.0271093\tvalid_0's auc: 0.996814\tvalid_0's average_precision: 0.974167\n",
      "[1350]\tvalid_0's binary_logloss: 0.0269572\tvalid_0's auc: 0.996848\tvalid_0's average_precision: 0.974424\n",
      "[1400]\tvalid_0's binary_logloss: 0.0267708\tvalid_0's auc: 0.996893\tvalid_0's average_precision: 0.974741\n",
      "[1450]\tvalid_0's binary_logloss: 0.0265836\tvalid_0's auc: 0.996932\tvalid_0's average_precision: 0.975053\n",
      "[1500]\tvalid_0's binary_logloss: 0.0263963\tvalid_0's auc: 0.996974\tvalid_0's average_precision: 0.975371\n",
      "[1550]\tvalid_0's binary_logloss: 0.0262252\tvalid_0's auc: 0.997015\tvalid_0's average_precision: 0.975657\n",
      "[1600]\tvalid_0's binary_logloss: 0.0260696\tvalid_0's auc: 0.997049\tvalid_0's average_precision: 0.975912\n",
      "[1650]\tvalid_0's binary_logloss: 0.0259037\tvalid_0's auc: 0.997085\tvalid_0's average_precision: 0.976183\n",
      "[1700]\tvalid_0's binary_logloss: 0.0257228\tvalid_0's auc: 0.997126\tvalid_0's average_precision: 0.976484\n",
      "[1750]\tvalid_0's binary_logloss: 0.0255372\tvalid_0's auc: 0.99717\tvalid_0's average_precision: 0.976796\n",
      "[1800]\tvalid_0's binary_logloss: 0.0253755\tvalid_0's auc: 0.997199\tvalid_0's average_precision: 0.977057\n",
      "[1850]\tvalid_0's binary_logloss: 0.0252362\tvalid_0's auc: 0.997229\tvalid_0's average_precision: 0.977282\n",
      "[1900]\tvalid_0's binary_logloss: 0.0250818\tvalid_0's auc: 0.997258\tvalid_0's average_precision: 0.977533\n",
      "[1950]\tvalid_0's binary_logloss: 0.0249304\tvalid_0's auc: 0.997284\tvalid_0's average_precision: 0.977767\n",
      "[2000]\tvalid_0's binary_logloss: 0.0247836\tvalid_0's auc: 0.997315\tvalid_0's average_precision: 0.978007\n",
      "[2050]\tvalid_0's binary_logloss: 0.0246623\tvalid_0's auc: 0.997338\tvalid_0's average_precision: 0.978196\n",
      "[2100]\tvalid_0's binary_logloss: 0.0245347\tvalid_0's auc: 0.997363\tvalid_0's average_precision: 0.978399\n",
      "[2150]\tvalid_0's binary_logloss: 0.0243971\tvalid_0's auc: 0.997389\tvalid_0's average_precision: 0.978615\n",
      "[2200]\tvalid_0's binary_logloss: 0.0242685\tvalid_0's auc: 0.997416\tvalid_0's average_precision: 0.978813\n",
      "[2250]\tvalid_0's binary_logloss: 0.024139\tvalid_0's auc: 0.997438\tvalid_0's average_precision: 0.979009\n",
      "[2300]\tvalid_0's binary_logloss: 0.0240012\tvalid_0's auc: 0.997463\tvalid_0's average_precision: 0.979233\n",
      "[2350]\tvalid_0's binary_logloss: 0.0238614\tvalid_0's auc: 0.997485\tvalid_0's average_precision: 0.979445\n",
      "[2400]\tvalid_0's binary_logloss: 0.0237167\tvalid_0's auc: 0.997515\tvalid_0's average_precision: 0.979669\n",
      "[2450]\tvalid_0's binary_logloss: 0.0235885\tvalid_0's auc: 0.997535\tvalid_0's average_precision: 0.979862\n",
      "[2500]\tvalid_0's binary_logloss: 0.0234642\tvalid_0's auc: 0.997559\tvalid_0's average_precision: 0.980054\n",
      "[2550]\tvalid_0's binary_logloss: 0.0233455\tvalid_0's auc: 0.99758\tvalid_0's average_precision: 0.980233\n",
      "[2600]\tvalid_0's binary_logloss: 0.0232207\tvalid_0's auc: 0.997603\tvalid_0's average_precision: 0.980423\n",
      "[2650]\tvalid_0's binary_logloss: 0.0231077\tvalid_0's auc: 0.997626\tvalid_0's average_precision: 0.980596\n",
      "[2700]\tvalid_0's binary_logloss: 0.0229976\tvalid_0's auc: 0.997645\tvalid_0's average_precision: 0.980761\n",
      "[2750]\tvalid_0's binary_logloss: 0.0228752\tvalid_0's auc: 0.997667\tvalid_0's average_precision: 0.98094\n",
      "[2800]\tvalid_0's binary_logloss: 0.0227642\tvalid_0's auc: 0.997684\tvalid_0's average_precision: 0.981106\n",
      "[2850]\tvalid_0's binary_logloss: 0.0226406\tvalid_0's auc: 0.997705\tvalid_0's average_precision: 0.981294\n",
      "[2900]\tvalid_0's binary_logloss: 0.0225329\tvalid_0's auc: 0.997721\tvalid_0's average_precision: 0.981446\n",
      "[2950]\tvalid_0's binary_logloss: 0.0224336\tvalid_0's auc: 0.997738\tvalid_0's average_precision: 0.981595\n",
      "[3000]\tvalid_0's binary_logloss: 0.0223378\tvalid_0's auc: 0.997754\tvalid_0's average_precision: 0.981738\n",
      "\n",
      "== fold 1 ==\n",
      "[50]\tvalid_0's binary_logloss: 0.0368052\tvalid_0's auc: 0.993796\tvalid_0's average_precision: 0.956122\n",
      "[100]\tvalid_0's binary_logloss: 0.0350468\tvalid_0's auc: 0.994439\tvalid_0's average_precision: 0.959616\n",
      "[150]\tvalid_0's binary_logloss: 0.0341649\tvalid_0's auc: 0.994758\tvalid_0's average_precision: 0.961347\n",
      "[200]\tvalid_0's binary_logloss: 0.0335185\tvalid_0's auc: 0.99498\tvalid_0's average_precision: 0.962583\n",
      "[250]\tvalid_0's binary_logloss: 0.0330214\tvalid_0's auc: 0.995155\tvalid_0's average_precision: 0.963531\n",
      "[300]\tvalid_0's binary_logloss: 0.0324645\tvalid_0's auc: 0.995346\tvalid_0's average_precision: 0.964596\n",
      "[350]\tvalid_0's binary_logloss: 0.0320979\tvalid_0's auc: 0.995467\tvalid_0's average_precision: 0.965289\n",
      "[400]\tvalid_0's binary_logloss: 0.0317327\tvalid_0's auc: 0.9956\tvalid_0's average_precision: 0.965983\n",
      "[450]\tvalid_0's binary_logloss: 0.0313908\tvalid_0's auc: 0.995698\tvalid_0's average_precision: 0.96661\n",
      "[500]\tvalid_0's binary_logloss: 0.031053\tvalid_0's auc: 0.995798\tvalid_0's average_precision: 0.967241\n",
      "[550]\tvalid_0's binary_logloss: 0.0307681\tvalid_0's auc: 0.995879\tvalid_0's average_precision: 0.967771\n",
      "[600]\tvalid_0's binary_logloss: 0.0304571\tvalid_0's auc: 0.995975\tvalid_0's average_precision: 0.968347\n",
      "[650]\tvalid_0's binary_logloss: 0.0301769\tvalid_0's auc: 0.996058\tvalid_0's average_precision: 0.968868\n",
      "[700]\tvalid_0's binary_logloss: 0.0298941\tvalid_0's auc: 0.996126\tvalid_0's average_precision: 0.969371\n",
      "[750]\tvalid_0's binary_logloss: 0.0296692\tvalid_0's auc: 0.996189\tvalid_0's average_precision: 0.969785\n",
      "[800]\tvalid_0's binary_logloss: 0.0294486\tvalid_0's auc: 0.996245\tvalid_0's average_precision: 0.970173\n",
      "[850]\tvalid_0's binary_logloss: 0.0292019\tvalid_0's auc: 0.996303\tvalid_0's average_precision: 0.970604\n",
      "[900]\tvalid_0's binary_logloss: 0.028964\tvalid_0's auc: 0.996362\tvalid_0's average_precision: 0.971031\n",
      "[950]\tvalid_0's binary_logloss: 0.0287245\tvalid_0's auc: 0.996418\tvalid_0's average_precision: 0.97144\n"
     ]
    },
    {
     "name": "stdout",
     "output_type": "stream",
     "text": [
      "[1000]\tvalid_0's binary_logloss: 0.0285102\tvalid_0's auc: 0.996476\tvalid_0's average_precision: 0.971823\n",
      "[1050]\tvalid_0's binary_logloss: 0.0283153\tvalid_0's auc: 0.996524\tvalid_0's average_precision: 0.972164\n",
      "[1100]\tvalid_0's binary_logloss: 0.0280972\tvalid_0's auc: 0.996578\tvalid_0's average_precision: 0.972545\n",
      "[1150]\tvalid_0's binary_logloss: 0.0278878\tvalid_0's auc: 0.996628\tvalid_0's average_precision: 0.972906\n",
      "[1200]\tvalid_0's binary_logloss: 0.0277108\tvalid_0's auc: 0.996667\tvalid_0's average_precision: 0.973215\n",
      "[1250]\tvalid_0's binary_logloss: 0.0275265\tvalid_0's auc: 0.996707\tvalid_0's average_precision: 0.973528\n",
      "[1300]\tvalid_0's binary_logloss: 0.0273248\tvalid_0's auc: 0.996755\tvalid_0's average_precision: 0.973875\n",
      "[1350]\tvalid_0's binary_logloss: 0.0271365\tvalid_0's auc: 0.996797\tvalid_0's average_precision: 0.974189\n",
      "[1400]\tvalid_0's binary_logloss: 0.0269416\tvalid_0's auc: 0.996846\tvalid_0's average_precision: 0.974525\n",
      "[1450]\tvalid_0's binary_logloss: 0.0267721\tvalid_0's auc: 0.996881\tvalid_0's average_precision: 0.974807\n",
      "[1500]\tvalid_0's binary_logloss: 0.026588\tvalid_0's auc: 0.996923\tvalid_0's average_precision: 0.975118\n",
      "[1550]\tvalid_0's binary_logloss: 0.0264188\tvalid_0's auc: 0.996958\tvalid_0's average_precision: 0.975393\n",
      "[1600]\tvalid_0's binary_logloss: 0.0262323\tvalid_0's auc: 0.997004\tvalid_0's average_precision: 0.975704\n",
      "[1650]\tvalid_0's binary_logloss: 0.0260765\tvalid_0's auc: 0.997039\tvalid_0's average_precision: 0.975968\n",
      "[1700]\tvalid_0's binary_logloss: 0.025905\tvalid_0's auc: 0.997073\tvalid_0's average_precision: 0.976247\n",
      "[1750]\tvalid_0's binary_logloss: 0.0257481\tvalid_0's auc: 0.997104\tvalid_0's average_precision: 0.976504\n",
      "[1800]\tvalid_0's binary_logloss: 0.0256321\tvalid_0's auc: 0.997129\tvalid_0's average_precision: 0.9767\n",
      "[1850]\tvalid_0's binary_logloss: 0.0254814\tvalid_0's auc: 0.997154\tvalid_0's average_precision: 0.976936\n",
      "[1900]\tvalid_0's binary_logloss: 0.0253254\tvalid_0's auc: 0.997192\tvalid_0's average_precision: 0.977199\n",
      "[1950]\tvalid_0's binary_logloss: 0.025167\tvalid_0's auc: 0.997221\tvalid_0's average_precision: 0.977448\n",
      "[2000]\tvalid_0's binary_logloss: 0.0250056\tvalid_0's auc: 0.997256\tvalid_0's average_precision: 0.977706\n",
      "[2050]\tvalid_0's binary_logloss: 0.0248572\tvalid_0's auc: 0.997285\tvalid_0's average_precision: 0.97795\n",
      "[2100]\tvalid_0's binary_logloss: 0.0247056\tvalid_0's auc: 0.997314\tvalid_0's average_precision: 0.978192\n",
      "[2150]\tvalid_0's binary_logloss: 0.0245523\tvalid_0's auc: 0.997347\tvalid_0's average_precision: 0.978435\n",
      "[2200]\tvalid_0's binary_logloss: 0.0243924\tvalid_0's auc: 0.997376\tvalid_0's average_precision: 0.978687\n",
      "[2250]\tvalid_0's binary_logloss: 0.0242862\tvalid_0's auc: 0.997393\tvalid_0's average_precision: 0.97885\n",
      "[2300]\tvalid_0's binary_logloss: 0.0241395\tvalid_0's auc: 0.997421\tvalid_0's average_precision: 0.979078\n",
      "[2350]\tvalid_0's binary_logloss: 0.0240039\tvalid_0's auc: 0.997448\tvalid_0's average_precision: 0.979298\n",
      "[2400]\tvalid_0's binary_logloss: 0.0238693\tvalid_0's auc: 0.99747\tvalid_0's average_precision: 0.979498\n",
      "[2450]\tvalid_0's binary_logloss: 0.0237418\tvalid_0's auc: 0.997492\tvalid_0's average_precision: 0.979689\n",
      "[2500]\tvalid_0's binary_logloss: 0.0236128\tvalid_0's auc: 0.997514\tvalid_0's average_precision: 0.979884\n",
      "[2550]\tvalid_0's binary_logloss: 0.0235104\tvalid_0's auc: 0.99753\tvalid_0's average_precision: 0.980034\n",
      "[2600]\tvalid_0's binary_logloss: 0.0234039\tvalid_0's auc: 0.997547\tvalid_0's average_precision: 0.980198\n",
      "[2650]\tvalid_0's binary_logloss: 0.0232717\tvalid_0's auc: 0.997572\tvalid_0's average_precision: 0.980406\n",
      "[2700]\tvalid_0's binary_logloss: 0.0231525\tvalid_0's auc: 0.99759\tvalid_0's average_precision: 0.980577\n",
      "[2750]\tvalid_0's binary_logloss: 0.0230514\tvalid_0's auc: 0.997607\tvalid_0's average_precision: 0.980729\n",
      "[2800]\tvalid_0's binary_logloss: 0.022928\tvalid_0's auc: 0.997625\tvalid_0's average_precision: 0.980913\n",
      "[2850]\tvalid_0's binary_logloss: 0.0228242\tvalid_0's auc: 0.997639\tvalid_0's average_precision: 0.981056\n",
      "[2900]\tvalid_0's binary_logloss: 0.0227149\tvalid_0's auc: 0.997659\tvalid_0's average_precision: 0.981212\n",
      "[2950]\tvalid_0's binary_logloss: 0.0226157\tvalid_0's auc: 0.997673\tvalid_0's average_precision: 0.981359\n",
      "[3000]\tvalid_0's binary_logloss: 0.02251\tvalid_0's auc: 0.997691\tvalid_0's average_precision: 0.981518\n",
      "\n",
      "== fold 2 ==\n",
      "[50]\tvalid_0's binary_logloss: 0.036474\tvalid_0's auc: 0.993875\tvalid_0's average_precision: 0.956646\n",
      "[100]\tvalid_0's binary_logloss: 0.0348781\tvalid_0's auc: 0.994455\tvalid_0's average_precision: 0.959837\n",
      "[150]\tvalid_0's binary_logloss: 0.0339463\tvalid_0's auc: 0.994785\tvalid_0's average_precision: 0.961679\n",
      "[200]\tvalid_0's binary_logloss: 0.0332644\tvalid_0's auc: 0.994995\tvalid_0's average_precision: 0.962982\n",
      "[250]\tvalid_0's binary_logloss: 0.032719\tvalid_0's auc: 0.995211\tvalid_0's average_precision: 0.964041\n",
      "[300]\tvalid_0's binary_logloss: 0.0322135\tvalid_0's auc: 0.995391\tvalid_0's average_precision: 0.965019\n",
      "[350]\tvalid_0's binary_logloss: 0.0318679\tvalid_0's auc: 0.995503\tvalid_0's average_precision: 0.965676\n",
      "[400]\tvalid_0's binary_logloss: 0.0314675\tvalid_0's auc: 0.995637\tvalid_0's average_precision: 0.966436\n",
      "[450]\tvalid_0's binary_logloss: 0.0310959\tvalid_0's auc: 0.995755\tvalid_0's average_precision: 0.967135\n",
      "[500]\tvalid_0's binary_logloss: 0.0307925\tvalid_0's auc: 0.99583\tvalid_0's average_precision: 0.967679\n",
      "[550]\tvalid_0's binary_logloss: 0.0304783\tvalid_0's auc: 0.995926\tvalid_0's average_precision: 0.968257\n",
      "[600]\tvalid_0's binary_logloss: 0.0301822\tvalid_0's auc: 0.996013\tvalid_0's average_precision: 0.9688\n",
      "[650]\tvalid_0's binary_logloss: 0.0298701\tvalid_0's auc: 0.996095\tvalid_0's average_precision: 0.969358\n",
      "[700]\tvalid_0's binary_logloss: 0.0295772\tvalid_0's auc: 0.996165\tvalid_0's average_precision: 0.969875\n",
      "[750]\tvalid_0's binary_logloss: 0.029309\tvalid_0's auc: 0.996242\tvalid_0's average_precision: 0.97036\n",
      "[800]\tvalid_0's binary_logloss: 0.0290646\tvalid_0's auc: 0.996313\tvalid_0's average_precision: 0.970805\n",
      "[850]\tvalid_0's binary_logloss: 0.0288155\tvalid_0's auc: 0.996382\tvalid_0's average_precision: 0.97125\n",
      "[900]\tvalid_0's binary_logloss: 0.0285871\tvalid_0's auc: 0.996439\tvalid_0's average_precision: 0.971648\n",
      "[950]\tvalid_0's binary_logloss: 0.0283537\tvalid_0's auc: 0.996498\tvalid_0's average_precision: 0.972055\n",
      "[1000]\tvalid_0's binary_logloss: 0.0281014\tvalid_0's auc: 0.996565\tvalid_0's average_precision: 0.972499\n",
      "[1050]\tvalid_0's binary_logloss: 0.0278734\tvalid_0's auc: 0.996618\tvalid_0's average_precision: 0.972898\n",
      "[1100]\tvalid_0's binary_logloss: 0.0276539\tvalid_0's auc: 0.996671\tvalid_0's average_precision: 0.973275\n",
      "[1150]\tvalid_0's binary_logloss: 0.0274282\tvalid_0's auc: 0.996731\tvalid_0's average_precision: 0.973675\n",
      "[1200]\tvalid_0's binary_logloss: 0.0272323\tvalid_0's auc: 0.996777\tvalid_0's average_precision: 0.974009\n",
      "[1250]\tvalid_0's binary_logloss: 0.0270705\tvalid_0's auc: 0.996814\tvalid_0's average_precision: 0.974281\n",
      "[1300]\tvalid_0's binary_logloss: 0.0268891\tvalid_0's auc: 0.996862\tvalid_0's average_precision: 0.974598\n",
      "[1350]\tvalid_0's binary_logloss: 0.0267218\tvalid_0's auc: 0.996896\tvalid_0's average_precision: 0.974876\n",
      "[1400]\tvalid_0's binary_logloss: 0.0265324\tvalid_0's auc: 0.996939\tvalid_0's average_precision: 0.975188\n",
      "[1450]\tvalid_0's binary_logloss: 0.026361\tvalid_0's auc: 0.996982\tvalid_0's average_precision: 0.975479\n",
      "[1500]\tvalid_0's binary_logloss: 0.0261839\tvalid_0's auc: 0.997017\tvalid_0's average_precision: 0.975768\n",
      "[1550]\tvalid_0's binary_logloss: 0.0260214\tvalid_0's auc: 0.997051\tvalid_0's average_precision: 0.976028\n",
      "[1600]\tvalid_0's binary_logloss: 0.0258607\tvalid_0's auc: 0.997086\tvalid_0's average_precision: 0.976291\n",
      "[1650]\tvalid_0's binary_logloss: 0.0256726\tvalid_0's auc: 0.997128\tvalid_0's average_precision: 0.976599\n",
      "[1700]\tvalid_0's binary_logloss: 0.0255077\tvalid_0's auc: 0.997159\tvalid_0's average_precision: 0.976859\n",
      "[1750]\tvalid_0's binary_logloss: 0.0253755\tvalid_0's auc: 0.997183\tvalid_0's average_precision: 0.977066\n",
      "[1800]\tvalid_0's binary_logloss: 0.0251961\tvalid_0's auc: 0.997224\tvalid_0's average_precision: 0.977364\n",
      "[1850]\tvalid_0's binary_logloss: 0.025007\tvalid_0's auc: 0.997263\tvalid_0's average_precision: 0.977668\n",
      "[1900]\tvalid_0's binary_logloss: 0.0248328\tvalid_0's auc: 0.997299\tvalid_0's average_precision: 0.977947\n"
     ]
    },
    {
     "name": "stdout",
     "output_type": "stream",
     "text": [
      "[1950]\tvalid_0's binary_logloss: 0.0247065\tvalid_0's auc: 0.997324\tvalid_0's average_precision: 0.97815\n",
      "[2000]\tvalid_0's binary_logloss: 0.0245682\tvalid_0's auc: 0.99735\tvalid_0's average_precision: 0.978365\n",
      "[2050]\tvalid_0's binary_logloss: 0.0244513\tvalid_0's auc: 0.997373\tvalid_0's average_precision: 0.978553\n",
      "[2100]\tvalid_0's binary_logloss: 0.0243191\tvalid_0's auc: 0.997393\tvalid_0's average_precision: 0.978747\n",
      "[2150]\tvalid_0's binary_logloss: 0.0241854\tvalid_0's auc: 0.997417\tvalid_0's average_precision: 0.978954\n",
      "[2200]\tvalid_0's binary_logloss: 0.0240253\tvalid_0's auc: 0.997446\tvalid_0's average_precision: 0.979202\n",
      "[2250]\tvalid_0's binary_logloss: 0.023899\tvalid_0's auc: 0.997468\tvalid_0's average_precision: 0.979394\n",
      "[2300]\tvalid_0's binary_logloss: 0.0237599\tvalid_0's auc: 0.997492\tvalid_0's average_precision: 0.979609\n",
      "[2350]\tvalid_0's binary_logloss: 0.0236088\tvalid_0's auc: 0.997517\tvalid_0's average_precision: 0.979837\n",
      "[2400]\tvalid_0's binary_logloss: 0.0234765\tvalid_0's auc: 0.997539\tvalid_0's average_precision: 0.980036\n",
      "[2450]\tvalid_0's binary_logloss: 0.0233613\tvalid_0's auc: 0.99756\tvalid_0's average_precision: 0.980211\n",
      "[2500]\tvalid_0's binary_logloss: 0.0232295\tvalid_0's auc: 0.997583\tvalid_0's average_precision: 0.98041\n",
      "[2550]\tvalid_0's binary_logloss: 0.0231208\tvalid_0's auc: 0.9976\tvalid_0's average_precision: 0.980577\n",
      "[2600]\tvalid_0's binary_logloss: 0.0230086\tvalid_0's auc: 0.997619\tvalid_0's average_precision: 0.980743\n",
      "[2650]\tvalid_0's binary_logloss: 0.0228948\tvalid_0's auc: 0.997637\tvalid_0's average_precision: 0.980909\n",
      "[2700]\tvalid_0's binary_logloss: 0.0227656\tvalid_0's auc: 0.99766\tvalid_0's average_precision: 0.981104\n",
      "[2750]\tvalid_0's binary_logloss: 0.0226453\tvalid_0's auc: 0.997679\tvalid_0's average_precision: 0.981279\n",
      "[2800]\tvalid_0's binary_logloss: 0.0225102\tvalid_0's auc: 0.997705\tvalid_0's average_precision: 0.981481\n",
      "[2850]\tvalid_0's binary_logloss: 0.0223967\tvalid_0's auc: 0.997724\tvalid_0's average_precision: 0.981646\n",
      "[2900]\tvalid_0's binary_logloss: 0.0222895\tvalid_0's auc: 0.997744\tvalid_0's average_precision: 0.981804\n",
      "[2950]\tvalid_0's binary_logloss: 0.0221973\tvalid_0's auc: 0.997758\tvalid_0's average_precision: 0.981935\n",
      "[3000]\tvalid_0's binary_logloss: 0.0221011\tvalid_0's auc: 0.997771\tvalid_0's average_precision: 0.982071\n",
      "\n",
      "== fold 3 ==\n",
      "[50]\tvalid_0's binary_logloss: 0.0364305\tvalid_0's auc: 0.993881\tvalid_0's average_precision: 0.956782\n",
      "[100]\tvalid_0's binary_logloss: 0.0347205\tvalid_0's auc: 0.994509\tvalid_0's average_precision: 0.960145\n",
      "[150]\tvalid_0's binary_logloss: 0.0338729\tvalid_0's auc: 0.994801\tvalid_0's average_precision: 0.961782\n",
      "[200]\tvalid_0's binary_logloss: 0.0332013\tvalid_0's auc: 0.995051\tvalid_0's average_precision: 0.963107\n",
      "[250]\tvalid_0's binary_logloss: 0.0326594\tvalid_0's auc: 0.99523\tvalid_0's average_precision: 0.964146\n",
      "[300]\tvalid_0's binary_logloss: 0.0321688\tvalid_0's auc: 0.995395\tvalid_0's average_precision: 0.965082\n",
      "[350]\tvalid_0's binary_logloss: 0.0317548\tvalid_0's auc: 0.995526\tvalid_0's average_precision: 0.965864\n",
      "[400]\tvalid_0's binary_logloss: 0.031457\tvalid_0's auc: 0.995602\tvalid_0's average_precision: 0.966406\n",
      "[450]\tvalid_0's binary_logloss: 0.031118\tvalid_0's auc: 0.995712\tvalid_0's average_precision: 0.967046\n",
      "[500]\tvalid_0's binary_logloss: 0.0308335\tvalid_0's auc: 0.995794\tvalid_0's average_precision: 0.967572\n",
      "[550]\tvalid_0's binary_logloss: 0.0305581\tvalid_0's auc: 0.995885\tvalid_0's average_precision: 0.968089\n",
      "[600]\tvalid_0's binary_logloss: 0.0302283\tvalid_0's auc: 0.995981\tvalid_0's average_precision: 0.9687\n",
      "[650]\tvalid_0's binary_logloss: 0.0299518\tvalid_0's auc: 0.996058\tvalid_0's average_precision: 0.969201\n",
      "[700]\tvalid_0's binary_logloss: 0.0296948\tvalid_0's auc: 0.996127\tvalid_0's average_precision: 0.969664\n",
      "[750]\tvalid_0's binary_logloss: 0.029403\tvalid_0's auc: 0.996214\tvalid_0's average_precision: 0.970192\n",
      "[800]\tvalid_0's binary_logloss: 0.0291537\tvalid_0's auc: 0.996282\tvalid_0's average_precision: 0.970631\n",
      "[850]\tvalid_0's binary_logloss: 0.0289203\tvalid_0's auc: 0.996345\tvalid_0's average_precision: 0.97105\n",
      "[900]\tvalid_0's binary_logloss: 0.0286698\tvalid_0's auc: 0.996413\tvalid_0's average_precision: 0.9715\n",
      "[950]\tvalid_0's binary_logloss: 0.0284204\tvalid_0's auc: 0.99647\tvalid_0's average_precision: 0.971928\n",
      "[1000]\tvalid_0's binary_logloss: 0.0282152\tvalid_0's auc: 0.99653\tvalid_0's average_precision: 0.972292\n",
      "[1050]\tvalid_0's binary_logloss: 0.0280198\tvalid_0's auc: 0.996576\tvalid_0's average_precision: 0.972629\n",
      "[1100]\tvalid_0's binary_logloss: 0.0277851\tvalid_0's auc: 0.996628\tvalid_0's average_precision: 0.973029\n",
      "[1150]\tvalid_0's binary_logloss: 0.0275696\tvalid_0's auc: 0.996682\tvalid_0's average_precision: 0.973398\n",
      "[1200]\tvalid_0's binary_logloss: 0.0273987\tvalid_0's auc: 0.996722\tvalid_0's average_precision: 0.973686\n",
      "[1250]\tvalid_0's binary_logloss: 0.027192\tvalid_0's auc: 0.996774\tvalid_0's average_precision: 0.97404\n",
      "[1300]\tvalid_0's binary_logloss: 0.0269881\tvalid_0's auc: 0.99682\tvalid_0's average_precision: 0.974386\n",
      "[1350]\tvalid_0's binary_logloss: 0.026805\tvalid_0's auc: 0.996863\tvalid_0's average_precision: 0.974699\n",
      "[1400]\tvalid_0's binary_logloss: 0.0266403\tvalid_0's auc: 0.996902\tvalid_0's average_precision: 0.974978\n",
      "[1450]\tvalid_0's binary_logloss: 0.0264561\tvalid_0's auc: 0.996948\tvalid_0's average_precision: 0.975291\n",
      "[1500]\tvalid_0's binary_logloss: 0.0262769\tvalid_0's auc: 0.996986\tvalid_0's average_precision: 0.975582\n",
      "[1550]\tvalid_0's binary_logloss: 0.0260967\tvalid_0's auc: 0.997023\tvalid_0's average_precision: 0.975874\n",
      "[1600]\tvalid_0's binary_logloss: 0.0259172\tvalid_0's auc: 0.997068\tvalid_0's average_precision: 0.976179\n",
      "[1650]\tvalid_0's binary_logloss: 0.025729\tvalid_0's auc: 0.997105\tvalid_0's average_precision: 0.976484\n",
      "[1700]\tvalid_0's binary_logloss: 0.0255902\tvalid_0's auc: 0.997129\tvalid_0's average_precision: 0.976698\n",
      "[1750]\tvalid_0's binary_logloss: 0.0254415\tvalid_0's auc: 0.997161\tvalid_0's average_precision: 0.976944\n",
      "[1800]\tvalid_0's binary_logloss: 0.0253029\tvalid_0's auc: 0.99719\tvalid_0's average_precision: 0.977169\n",
      "[1850]\tvalid_0's binary_logloss: 0.0251464\tvalid_0's auc: 0.997222\tvalid_0's average_precision: 0.977417\n",
      "[1900]\tvalid_0's binary_logloss: 0.0249682\tvalid_0's auc: 0.997256\tvalid_0's average_precision: 0.977703\n",
      "[1950]\tvalid_0's binary_logloss: 0.0248305\tvalid_0's auc: 0.997282\tvalid_0's average_precision: 0.977916\n",
      "[2000]\tvalid_0's binary_logloss: 0.024685\tvalid_0's auc: 0.997311\tvalid_0's average_precision: 0.978148\n",
      "[2050]\tvalid_0's binary_logloss: 0.0245461\tvalid_0's auc: 0.997336\tvalid_0's average_precision: 0.978359\n",
      "[2100]\tvalid_0's binary_logloss: 0.0243682\tvalid_0's auc: 0.997372\tvalid_0's average_precision: 0.978642\n",
      "[2150]\tvalid_0's binary_logloss: 0.0242343\tvalid_0's auc: 0.9974\tvalid_0's average_precision: 0.978851\n",
      "[2200]\tvalid_0's binary_logloss: 0.0240977\tvalid_0's auc: 0.997427\tvalid_0's average_precision: 0.979063\n",
      "[2250]\tvalid_0's binary_logloss: 0.0239618\tvalid_0's auc: 0.997453\tvalid_0's average_precision: 0.979276\n",
      "[2300]\tvalid_0's binary_logloss: 0.0238422\tvalid_0's auc: 0.997472\tvalid_0's average_precision: 0.979455\n",
      "[2350]\tvalid_0's binary_logloss: 0.0237149\tvalid_0's auc: 0.997498\tvalid_0's average_precision: 0.979653\n",
      "[2400]\tvalid_0's binary_logloss: 0.0235975\tvalid_0's auc: 0.997523\tvalid_0's average_precision: 0.979838\n",
      "[2450]\tvalid_0's binary_logloss: 0.0234517\tvalid_0's auc: 0.997547\tvalid_0's average_precision: 0.980054\n",
      "[2500]\tvalid_0's binary_logloss: 0.0233364\tvalid_0's auc: 0.997571\tvalid_0's average_precision: 0.980235\n",
      "[2550]\tvalid_0's binary_logloss: 0.0232061\tvalid_0's auc: 0.997596\tvalid_0's average_precision: 0.980432\n",
      "[2600]\tvalid_0's binary_logloss: 0.0230904\tvalid_0's auc: 0.997615\tvalid_0's average_precision: 0.980607\n",
      "[2650]\tvalid_0's binary_logloss: 0.0229636\tvalid_0's auc: 0.997635\tvalid_0's average_precision: 0.980797\n",
      "[2700]\tvalid_0's binary_logloss: 0.0228289\tvalid_0's auc: 0.997657\tvalid_0's average_precision: 0.980996\n",
      "[2750]\tvalid_0's binary_logloss: 0.0227044\tvalid_0's auc: 0.997677\tvalid_0's average_precision: 0.981179\n",
      "[2800]\tvalid_0's binary_logloss: 0.0225769\tvalid_0's auc: 0.997698\tvalid_0's average_precision: 0.981368\n",
      "[2850]\tvalid_0's binary_logloss: 0.0224552\tvalid_0's auc: 0.997719\tvalid_0's average_precision: 0.981546\n"
     ]
    },
    {
     "name": "stdout",
     "output_type": "stream",
     "text": [
      "[2900]\tvalid_0's binary_logloss: 0.0223543\tvalid_0's auc: 0.997737\tvalid_0's average_precision: 0.981691\n",
      "[2950]\tvalid_0's binary_logloss: 0.0222358\tvalid_0's auc: 0.997758\tvalid_0's average_precision: 0.981865\n",
      "[3000]\tvalid_0's binary_logloss: 0.0221351\tvalid_0's auc: 0.997772\tvalid_0's average_precision: 0.982005\n",
      "\n",
      "== fold 4 ==\n",
      "[50]\tvalid_0's binary_logloss: 0.0365679\tvalid_0's auc: 0.993806\tvalid_0's average_precision: 0.956456\n",
      "[100]\tvalid_0's binary_logloss: 0.0348898\tvalid_0's auc: 0.994412\tvalid_0's average_precision: 0.959806\n",
      "[150]\tvalid_0's binary_logloss: 0.0340531\tvalid_0's auc: 0.994728\tvalid_0's average_precision: 0.961451\n",
      "[200]\tvalid_0's binary_logloss: 0.0334361\tvalid_0's auc: 0.994956\tvalid_0's average_precision: 0.962649\n",
      "[250]\tvalid_0's binary_logloss: 0.0328109\tvalid_0's auc: 0.995181\tvalid_0's average_precision: 0.963853\n",
      "[300]\tvalid_0's binary_logloss: 0.0323176\tvalid_0's auc: 0.99533\tvalid_0's average_precision: 0.964784\n",
      "[350]\tvalid_0's binary_logloss: 0.0318505\tvalid_0's auc: 0.995477\tvalid_0's average_precision: 0.965663\n",
      "[400]\tvalid_0's binary_logloss: 0.0314728\tvalid_0's auc: 0.995603\tvalid_0's average_precision: 0.966401\n",
      "[450]\tvalid_0's binary_logloss: 0.0311606\tvalid_0's auc: 0.99568\tvalid_0's average_precision: 0.966966\n",
      "[500]\tvalid_0's binary_logloss: 0.0308767\tvalid_0's auc: 0.995769\tvalid_0's average_precision: 0.967487\n",
      "[550]\tvalid_0's binary_logloss: 0.0305917\tvalid_0's auc: 0.995861\tvalid_0's average_precision: 0.968009\n",
      "[600]\tvalid_0's binary_logloss: 0.0303308\tvalid_0's auc: 0.995942\tvalid_0's average_precision: 0.968491\n",
      "[650]\tvalid_0's binary_logloss: 0.0300612\tvalid_0's auc: 0.996024\tvalid_0's average_precision: 0.968984\n",
      "[700]\tvalid_0's binary_logloss: 0.0297778\tvalid_0's auc: 0.996106\tvalid_0's average_precision: 0.9695\n",
      "[750]\tvalid_0's binary_logloss: 0.0295176\tvalid_0's auc: 0.996175\tvalid_0's average_precision: 0.96996\n",
      "[800]\tvalid_0's binary_logloss: 0.0292632\tvalid_0's auc: 0.996243\tvalid_0's average_precision: 0.970411\n",
      "[850]\tvalid_0's binary_logloss: 0.0290089\tvalid_0's auc: 0.99631\tvalid_0's average_precision: 0.970863\n",
      "[900]\tvalid_0's binary_logloss: 0.0287878\tvalid_0's auc: 0.996367\tvalid_0's average_precision: 0.971248\n",
      "[950]\tvalid_0's binary_logloss: 0.0285722\tvalid_0's auc: 0.996421\tvalid_0's average_precision: 0.971618\n",
      "[1000]\tvalid_0's binary_logloss: 0.028329\tvalid_0's auc: 0.996489\tvalid_0's average_precision: 0.972043\n",
      "[1050]\tvalid_0's binary_logloss: 0.0280868\tvalid_0's auc: 0.996552\tvalid_0's average_precision: 0.97247\n",
      "[1100]\tvalid_0's binary_logloss: 0.0278907\tvalid_0's auc: 0.996594\tvalid_0's average_precision: 0.972804\n",
      "[1150]\tvalid_0's binary_logloss: 0.027672\tvalid_0's auc: 0.996649\tvalid_0's average_precision: 0.973182\n",
      "[1200]\tvalid_0's binary_logloss: 0.0275029\tvalid_0's auc: 0.996691\tvalid_0's average_precision: 0.973475\n",
      "[1250]\tvalid_0's binary_logloss: 0.0273137\tvalid_0's auc: 0.996734\tvalid_0's average_precision: 0.973797\n",
      "[1300]\tvalid_0's binary_logloss: 0.0271117\tvalid_0's auc: 0.996784\tvalid_0's average_precision: 0.974147\n",
      "[1350]\tvalid_0's binary_logloss: 0.0269136\tvalid_0's auc: 0.996831\tvalid_0's average_precision: 0.974479\n",
      "[1400]\tvalid_0's binary_logloss: 0.0267315\tvalid_0's auc: 0.99687\tvalid_0's average_precision: 0.974778\n",
      "[1450]\tvalid_0's binary_logloss: 0.0265448\tvalid_0's auc: 0.996914\tvalid_0's average_precision: 0.975093\n",
      "[1500]\tvalid_0's binary_logloss: 0.0263741\tvalid_0's auc: 0.996949\tvalid_0's average_precision: 0.975379\n",
      "[1550]\tvalid_0's binary_logloss: 0.026202\tvalid_0's auc: 0.996986\tvalid_0's average_precision: 0.975659\n",
      "[1600]\tvalid_0's binary_logloss: 0.0260296\tvalid_0's auc: 0.99702\tvalid_0's average_precision: 0.975935\n",
      "[1650]\tvalid_0's binary_logloss: 0.0258706\tvalid_0's auc: 0.997054\tvalid_0's average_precision: 0.976201\n",
      "[1700]\tvalid_0's binary_logloss: 0.0257167\tvalid_0's auc: 0.997096\tvalid_0's average_precision: 0.976466\n",
      "[1750]\tvalid_0's binary_logloss: 0.0255682\tvalid_0's auc: 0.997127\tvalid_0's average_precision: 0.97671\n",
      "[1800]\tvalid_0's binary_logloss: 0.0254167\tvalid_0's auc: 0.997156\tvalid_0's average_precision: 0.976953\n",
      "[1850]\tvalid_0's binary_logloss: 0.0252332\tvalid_0's auc: 0.997199\tvalid_0's average_precision: 0.97726\n",
      "[1900]\tvalid_0's binary_logloss: 0.0250762\tvalid_0's auc: 0.99723\tvalid_0's average_precision: 0.97751\n",
      "[1950]\tvalid_0's binary_logloss: 0.0249249\tvalid_0's auc: 0.997257\tvalid_0's average_precision: 0.977752\n",
      "[2000]\tvalid_0's binary_logloss: 0.024765\tvalid_0's auc: 0.997285\tvalid_0's average_precision: 0.977996\n",
      "[2050]\tvalid_0's binary_logloss: 0.0246267\tvalid_0's auc: 0.997312\tvalid_0's average_precision: 0.978216\n",
      "[2100]\tvalid_0's binary_logloss: 0.0244921\tvalid_0's auc: 0.997339\tvalid_0's average_precision: 0.978433\n",
      "[2150]\tvalid_0's binary_logloss: 0.0243708\tvalid_0's auc: 0.997366\tvalid_0's average_precision: 0.97863\n",
      "[2200]\tvalid_0's binary_logloss: 0.0242569\tvalid_0's auc: 0.997389\tvalid_0's average_precision: 0.978815\n",
      "[2250]\tvalid_0's binary_logloss: 0.0241466\tvalid_0's auc: 0.997407\tvalid_0's average_precision: 0.978982\n",
      "[2300]\tvalid_0's binary_logloss: 0.0240126\tvalid_0's auc: 0.997429\tvalid_0's average_precision: 0.979184\n",
      "[2350]\tvalid_0's binary_logloss: 0.0238816\tvalid_0's auc: 0.997452\tvalid_0's average_precision: 0.979385\n",
      "[2400]\tvalid_0's binary_logloss: 0.0237341\tvalid_0's auc: 0.997478\tvalid_0's average_precision: 0.979611\n",
      "[2450]\tvalid_0's binary_logloss: 0.0235915\tvalid_0's auc: 0.997501\tvalid_0's average_precision: 0.979827\n",
      "[2500]\tvalid_0's binary_logloss: 0.0234573\tvalid_0's auc: 0.997522\tvalid_0's average_precision: 0.980027\n",
      "[2550]\tvalid_0's binary_logloss: 0.0233498\tvalid_0's auc: 0.997537\tvalid_0's average_precision: 0.980185\n",
      "[2600]\tvalid_0's binary_logloss: 0.0232367\tvalid_0's auc: 0.997555\tvalid_0's average_precision: 0.980352\n",
      "[2650]\tvalid_0's binary_logloss: 0.0231189\tvalid_0's auc: 0.997576\tvalid_0's average_precision: 0.980533\n",
      "[2700]\tvalid_0's binary_logloss: 0.0230137\tvalid_0's auc: 0.997591\tvalid_0's average_precision: 0.980686\n",
      "[2750]\tvalid_0's binary_logloss: 0.0229064\tvalid_0's auc: 0.997605\tvalid_0's average_precision: 0.98084\n",
      "[2800]\tvalid_0's binary_logloss: 0.0227741\tvalid_0's auc: 0.997628\tvalid_0's average_precision: 0.981034\n",
      "[2850]\tvalid_0's binary_logloss: 0.0226732\tvalid_0's auc: 0.997644\tvalid_0's average_precision: 0.981182\n",
      "[2900]\tvalid_0's binary_logloss: 0.0225713\tvalid_0's auc: 0.997658\tvalid_0's average_precision: 0.981324\n",
      "[2950]\tvalid_0's binary_logloss: 0.0224619\tvalid_0's auc: 0.997678\tvalid_0's average_precision: 0.981488\n",
      "[3000]\tvalid_0's binary_logloss: 0.022347\tvalid_0's auc: 0.997697\tvalid_0's average_precision: 0.981658\n",
      "\n",
      "CV-accuracy: 0.9924528215125293\n"
     ]
    }
   ],
   "source": [
    "params = {\n",
    "    'boosting_type': 'gbdt', \n",
    "    'objective': 'binary', \n",
    "    'tree_learner': 'feature',\n",
    "    'metric': ['binary_logloss', 'AUC', 'average_precision'],\n",
    "    'learning_rate': 0.3,\n",
    "    'reg_alpha': 0.3876,\n",
    "    'reg_lambda': 0.982,\n",
    "    'random_state': 2018,\n",
    "    'max_depth': 9,\n",
    "    'num_leaves': 127, \n",
    "    'n_estimators': 3000,\n",
    "    \"colsample_bytree\": 0.725,\n",
    "    \"first_metric_only\": True,\n",
    "    \"max_bin\": 512\n",
    "}\n",
    "\n",
    "oof, models = fit_lgbm(train_df[TRAIN_FEATURES], train_df[\"label\"].astype(int), \n",
    "                       params=params, n_class=int(train_df[\"label\"].max() + 1), \n",
    "                       N_SPLITS=NFOLDS, folds=train_df[\"fold\"].values)"
   ]
  },
  {
   "cell_type": "code",
   "execution_count": 20,
   "id": "8ac917ba",
   "metadata": {},
   "outputs": [
    {
     "data": {
      "image/png": "[encoded data removed]",
      "text/plain": [
       "<Figure size 1944x360 with 1 Axes>"
      ]
     },
     "metadata": {
      "needs_background": "light"
     },
     "output_type": "display_data"
    }
   ],
   "source": [
    "def plot_importances(models):\n",
    "    importance_df = pd.DataFrame(models[0].feature_importances_, \n",
    "                                 index=TRAIN_FEATURES, \n",
    "                                 columns=['importance'])\\\n",
    "                        .sort_values(\"importance\", ascending=False)\n",
    "\n",
    "    plt.subplots(figsize=(len(TRAIN_FEATURES) // 4, 5))\n",
    "    plt.bar(importance_df.index, importance_df.importance)\n",
    "    plt.grid()\n",
    "    plt.xticks(rotation=90)\n",
    "    plt.ylabel(\"importance\")\n",
    "    plt.tight_layout()\n",
    "    plt.show()\n",
    "\n",
    "plot_importances(models)"
   ]
  },
  {
   "cell_type": "code",
   "execution_count": 31,
   "id": "468b1100",
   "metadata": {},
   "outputs": [],
   "source": [
    "# !kaggle datasets init -p ../src/models/ScaledModels"
   ]
  },
  {
   "cell_type": "code",
   "execution_count": 21,
   "id": "9bad329d",
   "metadata": {},
   "outputs": [
    {
     "name": "stdout",
     "output_type": "stream",
     "text": [
      "Starting upload for file sr_scaled_5f_t25_4.pkl\n",
      "Warning: Looks like you're using an outdated API Version, please consider updating (server 1.5.12 / client 1.5.6)\n",
      "100%|######################################| 39.5M/39.5M [00:06<00:00, 6.78MB/s]\n",
      "Upload successful: sr_scaled_5f_t25_4.pkl (39MB)\n",
      "Starting upload for file sr_scaled_5f_t25_2.pkl\n",
      "100%|######################################| 39.4M/39.4M [00:04<00:00, 8.40MB/s]\n",
      "Upload successful: sr_scaled_5f_t25_2.pkl (39MB)\n",
      "Starting upload for file sr_scaled_5f_t25_3.pkl\n",
      "100%|######################################| 39.5M/39.5M [00:06<00:00, 6.10MB/s]\n",
      "Upload successful: sr_scaled_5f_t25_3.pkl (39MB)\n",
      "Starting upload for file .ipynb_checkpoints.zip\n",
      "100%|#########################################| 22.0/22.0 [00:02<00:00, 7.80B/s]\n",
      "Upload successful: .ipynb_checkpoints.zip (22B)\n",
      "Starting upload for file sr_scaled_5f_t25_1.pkl\n",
      "100%|######################################| 39.4M/39.4M [00:02<00:00, 16.5MB/s]\n",
      "Upload successful: sr_scaled_5f_t25_1.pkl (39MB)\n",
      "Starting upload for file sr_scaled_5f_t25_0.pkl\n",
      "100%|######################################| 39.5M/39.5M [00:06<00:00, 5.92MB/s]\n",
      "Upload successful: sr_scaled_5f_t25_0.pkl (39MB)\n",
      "Your private Dataset is being created. Please check progress at https://www.kaggle.com/datasets/tarique7/foursqscaledlgb\n"
     ]
    }
   ],
   "source": [
    "!kaggle datasets create -p ../src/models/ScaledModels --dir-mode zip"
   ]
  },
  {
   "cell_type": "code",
   "execution_count": null,
   "id": "44e6840e",
   "metadata": {},
   "outputs": [],
   "source": []
  }
 ],
 "metadata": {
  "kernelspec": {
   "display_name": "Python 3",
   "language": "python",
   "name": "python3"
  },
  "language_info": {
   "codemirror_mode": {
    "name": "ipython",
    "version": 3
   },
   "file_extension": ".py",
   "mimetype": "text/x-python",
   "name": "python",
   "nbconvert_exporter": "python",
   "pygments_lexer": "ipython3",
   "version": "3.6.13"
  }
 },
 "nbformat": 4,
 "nbformat_minor": 5
}
