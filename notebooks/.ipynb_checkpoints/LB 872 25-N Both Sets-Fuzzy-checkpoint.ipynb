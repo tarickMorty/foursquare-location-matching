{
 "cells": [
  {
   "cell_type": "code",
   "execution_count": 1,
   "id": "95c8cfa8",
   "metadata": {},
   "outputs": [],
   "source": [
    "import pandas as pd\n",
    "import numpy as np\n",
    "import lightgbm as lgb\n",
    "import matplotlib.pyplot as plt\n",
    "from tqdm.auto import tqdm\n",
    "import os\n",
    "import gc\n",
    "import random\n",
    "from sklearn.model_selection import GroupKFold, KFold, StratifiedKFold\n",
    "import seaborn as sns\n",
    "import pickle\n",
    "import json\n",
    "import re\n",
    "import time\n",
    "import sys\n",
    "pd.set_option('display.max_rows', 500)\n",
    "pd.set_option('display.max_columns', 500)\n",
    "\n",
    "import warnings\n",
    "warnings.filterwarnings('ignore')"
   ]
  },
  {
   "cell_type": "code",
   "execution_count": 2,
   "id": "5a09d782",
   "metadata": {},
   "outputs": [],
   "source": [
    "tfn1 = 'train_data_25n_'\n",
    "tfn2 = 'valid_data_25n_'\n",
    "\n",
    "ffn1 = 'train_fuzz_data_25n_'\n",
    "ffn2 = 'valid_fuzz_data_25n_'\n",
    "\n",
    "nsets = 3\n",
    "model_file_name = 'lgb_fuzz_t25_2set_5f_binary'"
   ]
  },
  {
   "cell_type": "code",
   "execution_count": 3,
   "id": "1cfd2b9b",
   "metadata": {},
   "outputs": [],
   "source": [
    "tdata = pd.read_csv('../src/data/raw/train.csv')\n",
    "tdata['name'] = tdata['name'].isna().astype(int)\n",
    "tdata['categories'] = tdata['categories'].isna().astype(int)\n",
    "tdata['address'] = tdata['address'].isna().astype(int)\n",
    "tdata['state'] = tdata['state'].isna().astype(int)\n",
    "tdata['url'] = tdata['url'].isna().astype(int)\n",
    "tdata['country'] = tdata['country'].isna().astype(int)\n",
    "\n",
    "tdata = tdata[['id','name', 'categories', 'address', 'state', \n",
    "               'url', 'country']].drop_duplicates().reset_index(drop=True)"
   ]
  },
  {
   "cell_type": "code",
   "execution_count": 4,
   "id": "fd9d25ac",
   "metadata": {},
   "outputs": [],
   "source": [
    "def prepare_data(df_set, fuzz_set):\n",
    "    \n",
    "    train_df = []\n",
    "    \n",
    "    for i in range(1, nsets+1):\n",
    "    \n",
    "        t1 = pd.read_csv('../src/data/processed/'+df_set+str(i)+'.csv')\n",
    "        print(t1.shape)\n",
    "        t1['kdist_diff'] = (t1['kdist'] - t1['kdist_country'])/t1['kdist_country']\n",
    "        t1['kneighbors_mean'] = t1[['kneighbors', 'kneighbors_country']].mean(axis = 1)\n",
    "        \n",
    "        t1['sim_mean'] = t1[[col for col in t1.columns if 'sim' in col]].mean(axis=1)\n",
    "        t1['jaro_mean'] = t1[[col for col in t1.columns if 'jaro' in col]].mean(axis=1)\n",
    "        t1['lcs_mean'] = t1[[col for col in t1.columns if '_lcs' in col]].mean(axis=1)        \n",
    "        \n",
    "        t1['sim_sum'] = t1[[col for col in t1.columns if 'sim' in col]].sum(axis=1)\n",
    "        t1['gesh_sum'] = t1[[col for col in t1.columns if 'gesh' in col]].sum(axis=1)\n",
    "        t1['leven_sum'] = t1[[col for col in t1.columns if '_leven' in col]].sum(axis=1)\n",
    "        t1['jaro_sum'] = t1[[col for col in t1.columns if 'jaro' in col]].sum(axis=1)\n",
    "        t1['lcs_sum'] = t1[[col for col in t1.columns if '_lcs' in col]].sum(axis=1)\n",
    "        t1['nlcsk_sum'] = t1[[col for col in t1.columns if '_nlcsk' in col]].sum(axis=1)\n",
    "        t1['nleven_sum'] = t1[[col for col in t1.columns if '_nleven' in col]].sum(axis=1)\n",
    "        t1['nlcs_sum'] = t1[[col for col in t1.columns if '_nlcs' in col]].sum(axis=1)\n",
    "\n",
    "        t1['sim_std'] = t1[[col for col in t1.columns if 'sim' in col]].std(axis=1)\n",
    "        t1['gesh_std'] = t1[[col for col in t1.columns if 'gesh' in col]].std(axis=1)\n",
    "        t1['leven_std'] = t1[[col for col in t1.columns if '_leven' in col]].std(axis=1)\n",
    "        t1['jaro_std'] = t1[[col for col in t1.columns if 'jaro' in col]].std(axis=1)\n",
    "        t1['lcs_std'] = t1[[col for col in t1.columns if '_lcs' in col]].std(axis=1)\n",
    "        t1['nlcsk_std'] = t1[[col for col in t1.columns if '_nlcsk' in col]].std(axis=1)\n",
    "        t1['nleven_std'] = t1[[col for col in t1.columns if '_nleven' in col]].std(axis=1)\n",
    "        t1['nlcs_std'] = t1[[col for col in t1.columns if '_nlcs' in col]].std(axis=1)\n",
    "\n",
    "        t1 = t1.merge(tdata, on='id', how='left')\n",
    "        t1 = t1.merge(tdata, left_on='match_id', right_on='id', how='left', suffixes=['_1','_2'])\n",
    "        t1 = t1.drop('id_2', axis=1).rename(columns={'id_1':'id'})\n",
    "        \n",
    "        t1['info_power_1'] = t1[[col for col in t1.columns if '_1' in col]].lt(1).sum(axis=1)\n",
    "        t1['info_power_2'] = t1[[col for col in t1.columns if '_2' in col]].lt(1).sum(axis=1)\n",
    "        t1['info_diff'] = t1['info_power_1'] - t1['info_power_2']\n",
    "        \n",
    "        t1['kdist_diff_x_info_diff'] = t1['kdist_diff']*t1['info_diff']\n",
    "        \n",
    "        t1 = t1.drop([col for col in t1.columns if '_1' in col], axis=1)\n",
    "        t1 = t1.drop([col for col in t1.columns if '_2' in col], axis=1)\n",
    "        gc.collect()\n",
    "        \n",
    "        f1 = pd.read_csv('../src/data/processed/'+fuzz_set+str(i)+'.csv')\n",
    "        f1 = f1.drop(['id','match_id','kdist','kneighbors','kdist_country','kneighbors_country','label'], axis=1)\n",
    "        \n",
    "        t1 = pd.concat([t1, f1], axis=1)\n",
    "        \n",
    "        del f1\n",
    "        gc.collect()\n",
    "        \n",
    "        train_df.append(t1)\n",
    "        \n",
    "        del t1\n",
    "        gc.collect()\n",
    "    \n",
    "    return train_df"
   ]
  },
  {
   "cell_type": "code",
   "execution_count": 5,
   "id": "a8d87800",
   "metadata": {},
   "outputs": [
    {
     "name": "stdout",
     "output_type": "stream",
     "text": [
      "(5837212, 77)\n",
      "(5848974, 77)\n",
      "(5831684, 77)\n",
      "CPU times: user 6min 51s, sys: 2min 26s, total: 9min 17s\n",
      "Wall time: 9min 20s\n"
     ]
    }
   ],
   "source": [
    "%%time\n",
    "train_df = prepare_data(tfn1, ffn1)"
   ]
  },
  {
   "cell_type": "code",
   "execution_count": 6,
   "id": "6e3ff7af",
   "metadata": {},
   "outputs": [
    {
     "name": "stdout",
     "output_type": "stream",
     "text": [
      "CPU times: user 23.3 s, sys: 16.6 s, total: 39.9 s\n",
      "Wall time: 39.9 s\n"
     ]
    }
   ],
   "source": [
    "%%time\n",
    "train_df = pd.concat(train_df).reset_index(drop=True)"
   ]
  },
  {
   "cell_type": "code",
   "execution_count": 7,
   "id": "8184a3ec",
   "metadata": {},
   "outputs": [
    {
     "data": {
      "text/plain": [
       "(17517870, 120)"
      ]
     },
     "execution_count": 7,
     "metadata": {},
     "output_type": "execute_result"
    }
   ],
   "source": [
    "train_df.shape"
   ]
  },
  {
   "cell_type": "code",
   "execution_count": 8,
   "id": "b21cd10d",
   "metadata": {},
   "outputs": [
    {
     "name": "stdout",
     "output_type": "stream",
     "text": [
      "(5838073, 77)\n",
      "(5836792, 77)\n",
      "(5837910, 77)\n"
     ]
    }
   ],
   "source": [
    "valid_df = prepare_data(tfn2, ffn2)\n",
    "valid_df = pd.concat(valid_df).reset_index(drop=True)"
   ]
  },
  {
   "cell_type": "code",
   "execution_count": 9,
   "id": "7b852379",
   "metadata": {},
   "outputs": [
    {
     "data": {
      "text/plain": [
       "(17512775, 120)"
      ]
     },
     "execution_count": 9,
     "metadata": {},
     "output_type": "execute_result"
    }
   ],
   "source": [
    "valid_df.shape"
   ]
  },
  {
   "cell_type": "code",
   "execution_count": 10,
   "id": "40dd4e88",
   "metadata": {},
   "outputs": [
    {
     "data": {
      "text/plain": [
       "0    16489259\n",
       "1     1028611\n",
       "Name: label, dtype: int64"
      ]
     },
     "execution_count": 10,
     "metadata": {},
     "output_type": "execute_result"
    }
   ],
   "source": [
    "train_df.label.value_counts()"
   ]
  },
  {
   "cell_type": "code",
   "execution_count": 11,
   "id": "7f62da50",
   "metadata": {},
   "outputs": [
    {
     "data": {
      "text/plain": [
       "0    16490264\n",
       "1     1022511\n",
       "Name: label, dtype: int64"
      ]
     },
     "execution_count": 11,
     "metadata": {},
     "output_type": "execute_result"
    }
   ],
   "source": [
    "valid_df.label.value_counts()"
   ]
  },
  {
   "cell_type": "code",
   "execution_count": 12,
   "id": "cc249e6e",
   "metadata": {},
   "outputs": [
    {
     "data": {
      "text/plain": [
       "0"
      ]
     },
     "execution_count": 12,
     "metadata": {},
     "output_type": "execute_result"
    }
   ],
   "source": [
    "train_df = pd.concat([train_df, valid_df], axis=0).reset_index(drop=True)\n",
    "\n",
    "del valid_df\n",
    "gc.collect()"
   ]
  },
  {
   "cell_type": "code",
   "execution_count": 15,
   "id": "a81cbd7c",
   "metadata": {},
   "outputs": [],
   "source": [
    "TRAIN_FEATURES = ['kdist', 'kneighbors', 'kdist_country', 'kneighbors_country', 'name_sim', 'name_gesh','name_leven', \n",
    "                'name_jaro', 'name_lcs', 'name_len_diff', 'name_nleven', 'name_nlcsk', 'name_nlcs', 'address_sim', \n",
    "                'address_gesh', 'address_leven', 'address_jaro', 'address_lcs', 'address_len_diff', 'address_nleven', \n",
    "                'address_nlcsk', 'address_nlcs', 'city_gesh', 'city_leven', 'city_jaro', 'city_lcs', 'city_len_diff', \n",
    "                'city_nleven', 'city_nlcsk', 'city_nlcs', 'state_sim', 'state_gesh', 'state_leven', 'state_jaro', \n",
    "                'state_lcs', 'state_len_diff', 'state_nleven', 'state_nlcsk', 'state_nlcs', 'zip_gesh', 'zip_leven', \n",
    "                'zip_jaro', 'zip_lcs', 'url_sim', 'url_gesh', 'url_leven', 'url_jaro', 'url_lcs', 'url_len_diff', \n",
    "                'url_nleven', 'url_nlcsk', 'url_nlcs', 'phone_gesh', 'phone_leven', 'phone_jaro', 'phone_lcs', \n",
    "                'categories_sim', 'categories_gesh', 'categories_leven', 'categories_jaro', 'categories_lcs', \n",
    "                'categories_len_diff', 'categories_nleven', 'categories_nlcsk', 'categories_nlcs', 'country_sim', \n",
    "                'country_gesh', 'country_leven', 'country_nleven', 'kdist_diff', 'kneighbors_mean', \n",
    "                'sim_sum', 'gesh_sum', 'leven_sum', 'jaro_sum','lcs_sum', 'sim_std', 'gesh_std', 'leven_std',\n",
    "                'jaro_std', 'lcs_std', 'info_diff', 'nleven_sum', 'nlcsk_sum', 'nlcs_sum', 'nleven_std', \n",
    "                'nlcsk_std', 'nlcs_std', 'sim_mean','jaro_mean','lcs_mean','kdist_diff_x_info_diff',\n",
    "                'name_w_ratio', 'name_partial_ratio', 'name_tokenset_ratio', 'name_tokensort_ratio', \n",
    "                'name_fuzz_power', 'categories_w_ratio', 'categories_partial_ratio', 'categories_tokenset_ratio', \n",
    "                'categories_tokensort_ratio', 'categories_fuzz_power', 'address_w_ratio', 'address_partial_ratio', \n",
    "                'address_tokenset_ratio', 'address_tokensort_ratio', 'address_fuzz_power', \n",
    "                'url_w_ratio', 'url_partial_ratio', 'url_tokenset_ratio', 'url_tokensort_ratio', 'url_fuzz_power']"
   ]
  },
  {
   "cell_type": "code",
   "execution_count": 16,
   "id": "09dfdf5e",
   "metadata": {},
   "outputs": [
    {
     "data": {
      "application/vnd.jupyter.widget-view+json": {
       "model_id": "7bcbe09def3249d4ada82d03ec0a6765",
       "version_major": 2,
       "version_minor": 0
      },
      "text/plain": [
       "0it [00:00, ?it/s]"
      ]
     },
     "metadata": {},
     "output_type": "display_data"
    }
   ],
   "source": [
    "NFOLDS = 5\n",
    "kf = StratifiedKFold(n_splits = NFOLDS, shuffle=True, random_state=42)\n",
    "for i, (trn_idx, val_idx) in tqdm(enumerate(kf.split(train_df, train_df[\"label\"], train_df[\"label\"]))):\n",
    "    train_df.loc[val_idx, \"fold\"] = i"
   ]
  },
  {
   "cell_type": "code",
   "execution_count": 17,
   "id": "958180f3",
   "metadata": {},
   "outputs": [
    {
     "data": {
      "text/plain": [
       "0    0.941448\n",
       "1    0.058552\n",
       "Name: label, dtype: float64"
      ]
     },
     "execution_count": 17,
     "metadata": {},
     "output_type": "execute_result"
    }
   ],
   "source": [
    "train_df.label.value_counts()/len(train_df)"
   ]
  },
  {
   "cell_type": "code",
   "execution_count": 18,
   "id": "bd82fe70",
   "metadata": {},
   "outputs": [],
   "source": [
    "import lightgbm as lgbm\n",
    "\n",
    "def fit_lgbm(X, y, params=None, es_rounds=20, seed=42, N_SPLITS=5, \n",
    "             n_class=None, model_dir=None, folds=None):\n",
    "    \n",
    "    models = []\n",
    "    oof = np.zeros((len(y), n_class), dtype=np.float64)\n",
    "    \n",
    "    for i in tqdm(range(NFOLDS)):\n",
    "        print(f\"== fold {i} ==\")\n",
    "        trn_idx = folds!=i\n",
    "        val_idx = folds==i\n",
    "        X_train, y_train = X[trn_idx], y.iloc[trn_idx]\n",
    "        X_valid, y_valid = X.iloc[val_idx], y.iloc[val_idx]\n",
    "\n",
    "        if model_dir is None:\n",
    "            model = lgbm.LGBMClassifier(**params)\n",
    "            model.fit(\n",
    "                X_train, y_train, \n",
    "                eval_set=[(X_valid, y_valid)],  \n",
    "                early_stopping_rounds=es_rounds, \n",
    "                verbose=50)\n",
    "        else:\n",
    "            with open(f'../src/models/BinaryModels/{model_file_name}{i}.pkl', 'rb') as f:\n",
    "                model = pickle.load(f)\n",
    "            \n",
    "        pred = model.predict_proba(X_valid)\n",
    "        oof[val_idx] = pred\n",
    "        models.append(model)\n",
    "        \n",
    "        file = f'../src/models/BinaryModels/{model_file_name}{i}.pkl'\n",
    "        pickle.dump(model, open(file, 'wb'))\n",
    "        print()\n",
    "\n",
    "    cv = (oof.argmax(axis=-1) == y).mean()\n",
    "    print(f\"CV-accuracy: {cv}\")\n",
    "\n",
    "    return oof, models\n",
    "\n",
    "def inference_lgbm(models, feat_df):\n",
    "    pred = np.array([model.predict_proba(feat_df) for model in models])\n",
    "    pred = np.mean(pred, axis=0)\n",
    "    return pred"
   ]
  },
  {
   "cell_type": "code",
   "execution_count": 19,
   "id": "87b3e26c",
   "metadata": {
    "scrolled": true
   },
   "outputs": [
    {
     "data": {
      "application/vnd.jupyter.widget-view+json": {
       "model_id": "18a7909d65904e61933a75f742eefd6f",
       "version_major": 2,
       "version_minor": 0
      },
      "text/plain": [
       "  0%|          | 0/5 [00:00<?, ?it/s]"
      ]
     },
     "metadata": {},
     "output_type": "display_data"
    },
    {
     "name": "stdout",
     "output_type": "stream",
     "text": [
      "== fold 0 ==\n",
      "[50]\tvalid_0's binary_logloss: 0.0338232\tvalid_0's auc: 0.994501\n",
      "[100]\tvalid_0's binary_logloss: 0.032296\tvalid_0's auc: 0.99506\n",
      "[150]\tvalid_0's binary_logloss: 0.0314737\tvalid_0's auc: 0.99534\n",
      "[200]\tvalid_0's binary_logloss: 0.0307172\tvalid_0's auc: 0.995599\n",
      "[250]\tvalid_0's binary_logloss: 0.0302381\tvalid_0's auc: 0.99576\n",
      "[300]\tvalid_0's binary_logloss: 0.0297468\tvalid_0's auc: 0.995916\n",
      "[350]\tvalid_0's binary_logloss: 0.0294099\tvalid_0's auc: 0.996016\n",
      "[400]\tvalid_0's binary_logloss: 0.0290811\tvalid_0's auc: 0.996116\n",
      "[450]\tvalid_0's binary_logloss: 0.0287374\tvalid_0's auc: 0.996202\n",
      "[500]\tvalid_0's binary_logloss: 0.0283971\tvalid_0's auc: 0.996306\n",
      "[550]\tvalid_0's binary_logloss: 0.0280459\tvalid_0's auc: 0.996401\n",
      "[600]\tvalid_0's binary_logloss: 0.0277365\tvalid_0's auc: 0.996485\n",
      "[650]\tvalid_0's binary_logloss: 0.027426\tvalid_0's auc: 0.996567\n",
      "[700]\tvalid_0's binary_logloss: 0.0271547\tvalid_0's auc: 0.99664\n",
      "[750]\tvalid_0's binary_logloss: 0.0268985\tvalid_0's auc: 0.996705\n",
      "[800]\tvalid_0's binary_logloss: 0.0266564\tvalid_0's auc: 0.996761\n",
      "[850]\tvalid_0's binary_logloss: 0.0264288\tvalid_0's auc: 0.996814\n",
      "[900]\tvalid_0's binary_logloss: 0.0262244\tvalid_0's auc: 0.996866\n",
      "[950]\tvalid_0's binary_logloss: 0.0260077\tvalid_0's auc: 0.996916\n",
      "[1000]\tvalid_0's binary_logloss: 0.0257845\tvalid_0's auc: 0.99697\n",
      "[1050]\tvalid_0's binary_logloss: 0.0255699\tvalid_0's auc: 0.997013\n",
      "[1100]\tvalid_0's binary_logloss: 0.0253485\tvalid_0's auc: 0.997055\n",
      "[1150]\tvalid_0's binary_logloss: 0.0251613\tvalid_0's auc: 0.997098\n",
      "[1200]\tvalid_0's binary_logloss: 0.0249401\tvalid_0's auc: 0.997151\n",
      "[1250]\tvalid_0's binary_logloss: 0.0247216\tvalid_0's auc: 0.997196\n",
      "[1300]\tvalid_0's binary_logloss: 0.0245442\tvalid_0's auc: 0.997231\n",
      "[1350]\tvalid_0's binary_logloss: 0.0243692\tvalid_0's auc: 0.997268\n",
      "[1400]\tvalid_0's binary_logloss: 0.0241503\tvalid_0's auc: 0.997312\n",
      "[1450]\tvalid_0's binary_logloss: 0.0239811\tvalid_0's auc: 0.997349\n",
      "[1500]\tvalid_0's binary_logloss: 0.0238059\tvalid_0's auc: 0.997386\n",
      "[1550]\tvalid_0's binary_logloss: 0.0236256\tvalid_0's auc: 0.997419\n",
      "[1600]\tvalid_0's binary_logloss: 0.0234763\tvalid_0's auc: 0.997447\n",
      "[1650]\tvalid_0's binary_logloss: 0.0233027\tvalid_0's auc: 0.997477\n",
      "[1700]\tvalid_0's binary_logloss: 0.0231126\tvalid_0's auc: 0.99751\n",
      "[1750]\tvalid_0's binary_logloss: 0.0229587\tvalid_0's auc: 0.997543\n",
      "[1800]\tvalid_0's binary_logloss: 0.0227961\tvalid_0's auc: 0.997571\n",
      "[1850]\tvalid_0's binary_logloss: 0.0226424\tvalid_0's auc: 0.997598\n",
      "[1900]\tvalid_0's binary_logloss: 0.0225002\tvalid_0's auc: 0.997623\n",
      "[1950]\tvalid_0's binary_logloss: 0.0223474\tvalid_0's auc: 0.997651\n",
      "[2000]\tvalid_0's binary_logloss: 0.022215\tvalid_0's auc: 0.997676\n",
      "[2050]\tvalid_0's binary_logloss: 0.0220471\tvalid_0's auc: 0.997705\n",
      "[2100]\tvalid_0's binary_logloss: 0.021913\tvalid_0's auc: 0.997726\n",
      "[2150]\tvalid_0's binary_logloss: 0.0217527\tvalid_0's auc: 0.997756\n",
      "[2200]\tvalid_0's binary_logloss: 0.0216163\tvalid_0's auc: 0.997779\n",
      "[2250]\tvalid_0's binary_logloss: 0.0214867\tvalid_0's auc: 0.997801\n",
      "[2300]\tvalid_0's binary_logloss: 0.0213298\tvalid_0's auc: 0.997828\n",
      "[2350]\tvalid_0's binary_logloss: 0.0211895\tvalid_0's auc: 0.997849\n",
      "[2400]\tvalid_0's binary_logloss: 0.0210626\tvalid_0's auc: 0.997868\n",
      "[2450]\tvalid_0's binary_logloss: 0.020936\tvalid_0's auc: 0.997889\n",
      "[2500]\tvalid_0's binary_logloss: 0.0208182\tvalid_0's auc: 0.997906\n",
      "[2550]\tvalid_0's binary_logloss: 0.0207198\tvalid_0's auc: 0.997919\n",
      "[2600]\tvalid_0's binary_logloss: 0.0206103\tvalid_0's auc: 0.997934\n",
      "[2650]\tvalid_0's binary_logloss: 0.0204967\tvalid_0's auc: 0.997951\n",
      "[2700]\tvalid_0's binary_logloss: 0.0203848\tvalid_0's auc: 0.997969\n",
      "[2750]\tvalid_0's binary_logloss: 0.020273\tvalid_0's auc: 0.997985\n",
      "[2800]\tvalid_0's binary_logloss: 0.0201677\tvalid_0's auc: 0.998\n",
      "[2850]\tvalid_0's binary_logloss: 0.0200721\tvalid_0's auc: 0.998015\n",
      "[2900]\tvalid_0's binary_logloss: 0.0199868\tvalid_0's auc: 0.998025\n",
      "[2950]\tvalid_0's binary_logloss: 0.0198758\tvalid_0's auc: 0.99804\n",
      "[3000]\tvalid_0's binary_logloss: 0.0197742\tvalid_0's auc: 0.998052\n",
      "\n",
      "== fold 1 ==\n",
      "[50]\tvalid_0's binary_logloss: 0.0336511\tvalid_0's auc: 0.994636\n",
      "[100]\tvalid_0's binary_logloss: 0.0321517\tvalid_0's auc: 0.995182\n",
      "[150]\tvalid_0's binary_logloss: 0.0312623\tvalid_0's auc: 0.995477\n",
      "[200]\tvalid_0's binary_logloss: 0.0306544\tvalid_0's auc: 0.995665\n",
      "[250]\tvalid_0's binary_logloss: 0.0301448\tvalid_0's auc: 0.995824\n",
      "[300]\tvalid_0's binary_logloss: 0.0296839\tvalid_0's auc: 0.995976\n",
      "[350]\tvalid_0's binary_logloss: 0.0292409\tvalid_0's auc: 0.996096\n",
      "[400]\tvalid_0's binary_logloss: 0.0288191\tvalid_0's auc: 0.996218\n",
      "[450]\tvalid_0's binary_logloss: 0.0284612\tvalid_0's auc: 0.996311\n",
      "[500]\tvalid_0's binary_logloss: 0.0281563\tvalid_0's auc: 0.996398\n",
      "[550]\tvalid_0's binary_logloss: 0.0278685\tvalid_0's auc: 0.996471\n",
      "[600]\tvalid_0's binary_logloss: 0.0275809\tvalid_0's auc: 0.996553\n",
      "[650]\tvalid_0's binary_logloss: 0.0272785\tvalid_0's auc: 0.996637\n",
      "[700]\tvalid_0's binary_logloss: 0.0270139\tvalid_0's auc: 0.996699\n",
      "[750]\tvalid_0's binary_logloss: 0.0267226\tvalid_0's auc: 0.996761\n",
      "[800]\tvalid_0's binary_logloss: 0.0264644\tvalid_0's auc: 0.996826\n",
      "[850]\tvalid_0's binary_logloss: 0.0261912\tvalid_0's auc: 0.996897\n",
      "[900]\tvalid_0's binary_logloss: 0.0259416\tvalid_0's auc: 0.996958\n",
      "[950]\tvalid_0's binary_logloss: 0.0257401\tvalid_0's auc: 0.997004\n",
      "[1000]\tvalid_0's binary_logloss: 0.0255131\tvalid_0's auc: 0.997062\n",
      "[1050]\tvalid_0's binary_logloss: 0.0252912\tvalid_0's auc: 0.997109\n",
      "[1100]\tvalid_0's binary_logloss: 0.0250995\tvalid_0's auc: 0.997151\n",
      "[1150]\tvalid_0's binary_logloss: 0.0248761\tvalid_0's auc: 0.997202\n",
      "[1200]\tvalid_0's binary_logloss: 0.0246772\tvalid_0's auc: 0.997245\n",
      "[1250]\tvalid_0's binary_logloss: 0.0244535\tvalid_0's auc: 0.997296\n",
      "[1300]\tvalid_0's binary_logloss: 0.0242925\tvalid_0's auc: 0.99733\n",
      "[1350]\tvalid_0's binary_logloss: 0.0240921\tvalid_0's auc: 0.997377\n",
      "[1400]\tvalid_0's binary_logloss: 0.0239105\tvalid_0's auc: 0.997416\n",
      "[1450]\tvalid_0's binary_logloss: 0.0237646\tvalid_0's auc: 0.997445\n",
      "[1500]\tvalid_0's binary_logloss: 0.0236033\tvalid_0's auc: 0.997475\n",
      "[1550]\tvalid_0's binary_logloss: 0.0234549\tvalid_0's auc: 0.997505\n",
      "[1600]\tvalid_0's binary_logloss: 0.0232683\tvalid_0's auc: 0.997545\n",
      "[1650]\tvalid_0's binary_logloss: 0.0230966\tvalid_0's auc: 0.997578\n",
      "[1700]\tvalid_0's binary_logloss: 0.0229184\tvalid_0's auc: 0.99761\n",
      "[1750]\tvalid_0's binary_logloss: 0.0227481\tvalid_0's auc: 0.997641\n",
      "[1800]\tvalid_0's binary_logloss: 0.0225807\tvalid_0's auc: 0.99767\n",
      "[1850]\tvalid_0's binary_logloss: 0.0224403\tvalid_0's auc: 0.997699\n",
      "[1900]\tvalid_0's binary_logloss: 0.0222924\tvalid_0's auc: 0.997728\n",
      "[1950]\tvalid_0's binary_logloss: 0.0221367\tvalid_0's auc: 0.997762\n",
      "[2000]\tvalid_0's binary_logloss: 0.0219827\tvalid_0's auc: 0.997787\n",
      "[2050]\tvalid_0's binary_logloss: 0.0218256\tvalid_0's auc: 0.997815\n",
      "[2100]\tvalid_0's binary_logloss: 0.0216909\tvalid_0's auc: 0.997838\n",
      "[2150]\tvalid_0's binary_logloss: 0.0215498\tvalid_0's auc: 0.997858\n",
      "[2200]\tvalid_0's binary_logloss: 0.0214058\tvalid_0's auc: 0.997879\n",
      "[2250]\tvalid_0's binary_logloss: 0.0212798\tvalid_0's auc: 0.997898\n",
      "[2300]\tvalid_0's binary_logloss: 0.0211336\tvalid_0's auc: 0.997921\n",
      "[2350]\tvalid_0's binary_logloss: 0.0210155\tvalid_0's auc: 0.997936\n",
      "[2400]\tvalid_0's binary_logloss: 0.0208991\tvalid_0's auc: 0.997954\n",
      "[2450]\tvalid_0's binary_logloss: 0.0207931\tvalid_0's auc: 0.99797\n",
      "[2500]\tvalid_0's binary_logloss: 0.0206733\tvalid_0's auc: 0.997988\n",
      "[2550]\tvalid_0's binary_logloss: 0.0205464\tvalid_0's auc: 0.998007\n",
      "[2600]\tvalid_0's binary_logloss: 0.0204164\tvalid_0's auc: 0.998029\n",
      "[2650]\tvalid_0's binary_logloss: 0.0203034\tvalid_0's auc: 0.998046\n",
      "[2700]\tvalid_0's binary_logloss: 0.0201825\tvalid_0's auc: 0.998064\n",
      "[2750]\tvalid_0's binary_logloss: 0.0200765\tvalid_0's auc: 0.998078\n",
      "[2800]\tvalid_0's binary_logloss: 0.0199596\tvalid_0's auc: 0.998093\n",
      "[2850]\tvalid_0's binary_logloss: 0.0198599\tvalid_0's auc: 0.998107\n",
      "[2900]\tvalid_0's binary_logloss: 0.0197341\tvalid_0's auc: 0.998124\n",
      "[2950]\tvalid_0's binary_logloss: 0.0196285\tvalid_0's auc: 0.998139\n",
      "[3000]\tvalid_0's binary_logloss: 0.0195323\tvalid_0's auc: 0.998153\n",
      "\n",
      "== fold 2 ==\n",
      "[50]\tvalid_0's binary_logloss: 0.0338264\tvalid_0's auc: 0.994535\n",
      "[100]\tvalid_0's binary_logloss: 0.0322386\tvalid_0's auc: 0.995122\n",
      "[150]\tvalid_0's binary_logloss: 0.0314059\tvalid_0's auc: 0.99542\n"
     ]
    },
    {
     "name": "stdout",
     "output_type": "stream",
     "text": [
      "[200]\tvalid_0's binary_logloss: 0.0307066\tvalid_0's auc: 0.995646\n",
      "[250]\tvalid_0's binary_logloss: 0.0301742\tvalid_0's auc: 0.995819\n",
      "[300]\tvalid_0's binary_logloss: 0.0297144\tvalid_0's auc: 0.995964\n",
      "[350]\tvalid_0's binary_logloss: 0.0293438\tvalid_0's auc: 0.996066\n",
      "[400]\tvalid_0's binary_logloss: 0.028996\tvalid_0's auc: 0.996162\n",
      "[450]\tvalid_0's binary_logloss: 0.0286391\tvalid_0's auc: 0.996258\n",
      "[500]\tvalid_0's binary_logloss: 0.0283398\tvalid_0's auc: 0.996348\n",
      "[550]\tvalid_0's binary_logloss: 0.0280055\tvalid_0's auc: 0.996453\n",
      "[600]\tvalid_0's binary_logloss: 0.027713\tvalid_0's auc: 0.996528\n",
      "[650]\tvalid_0's binary_logloss: 0.0274316\tvalid_0's auc: 0.996599\n",
      "[700]\tvalid_0's binary_logloss: 0.027154\tvalid_0's auc: 0.996671\n",
      "[750]\tvalid_0's binary_logloss: 0.0268738\tvalid_0's auc: 0.996732\n",
      "[800]\tvalid_0's binary_logloss: 0.0266522\tvalid_0's auc: 0.996786\n",
      "[850]\tvalid_0's binary_logloss: 0.0264096\tvalid_0's auc: 0.996848\n",
      "[900]\tvalid_0's binary_logloss: 0.0261901\tvalid_0's auc: 0.996902\n",
      "[950]\tvalid_0's binary_logloss: 0.0259261\tvalid_0's auc: 0.996965\n",
      "[1000]\tvalid_0's binary_logloss: 0.0256779\tvalid_0's auc: 0.99702\n",
      "[1050]\tvalid_0's binary_logloss: 0.0254413\tvalid_0's auc: 0.99707\n",
      "[1100]\tvalid_0's binary_logloss: 0.0252356\tvalid_0's auc: 0.997117\n",
      "[1150]\tvalid_0's binary_logloss: 0.0250216\tvalid_0's auc: 0.997157\n",
      "[1200]\tvalid_0's binary_logloss: 0.0248498\tvalid_0's auc: 0.997196\n",
      "[1250]\tvalid_0's binary_logloss: 0.0246561\tvalid_0's auc: 0.997247\n",
      "[1300]\tvalid_0's binary_logloss: 0.0244598\tvalid_0's auc: 0.997284\n",
      "[1350]\tvalid_0's binary_logloss: 0.0242613\tvalid_0's auc: 0.997325\n",
      "[1400]\tvalid_0's binary_logloss: 0.0240833\tvalid_0's auc: 0.997365\n",
      "[1450]\tvalid_0's binary_logloss: 0.0239057\tvalid_0's auc: 0.997402\n",
      "[1500]\tvalid_0's binary_logloss: 0.023744\tvalid_0's auc: 0.997437\n",
      "[1550]\tvalid_0's binary_logloss: 0.0235665\tvalid_0's auc: 0.997473\n",
      "[1600]\tvalid_0's binary_logloss: 0.0233882\tvalid_0's auc: 0.997507\n",
      "[1650]\tvalid_0's binary_logloss: 0.0232264\tvalid_0's auc: 0.997543\n",
      "[1700]\tvalid_0's binary_logloss: 0.0230339\tvalid_0's auc: 0.997578\n",
      "[1750]\tvalid_0's binary_logloss: 0.0228714\tvalid_0's auc: 0.997608\n",
      "[1800]\tvalid_0's binary_logloss: 0.0226877\tvalid_0's auc: 0.997643\n",
      "[1850]\tvalid_0's binary_logloss: 0.0225256\tvalid_0's auc: 0.997671\n",
      "[1900]\tvalid_0's binary_logloss: 0.0223628\tvalid_0's auc: 0.997697\n",
      "[1950]\tvalid_0's binary_logloss: 0.0222025\tvalid_0's auc: 0.997723\n",
      "[2000]\tvalid_0's binary_logloss: 0.0220587\tvalid_0's auc: 0.997747\n",
      "[2050]\tvalid_0's binary_logloss: 0.0219219\tvalid_0's auc: 0.99777\n",
      "[2100]\tvalid_0's binary_logloss: 0.0217987\tvalid_0's auc: 0.997791\n",
      "[2150]\tvalid_0's binary_logloss: 0.0216634\tvalid_0's auc: 0.997811\n",
      "[2200]\tvalid_0's binary_logloss: 0.0215011\tvalid_0's auc: 0.997842\n",
      "[2250]\tvalid_0's binary_logloss: 0.0213794\tvalid_0's auc: 0.997866\n",
      "[2300]\tvalid_0's binary_logloss: 0.0212522\tvalid_0's auc: 0.997885\n",
      "[2350]\tvalid_0's binary_logloss: 0.0211262\tvalid_0's auc: 0.997907\n",
      "[2400]\tvalid_0's binary_logloss: 0.020992\tvalid_0's auc: 0.997925\n",
      "[2450]\tvalid_0's binary_logloss: 0.0208644\tvalid_0's auc: 0.997943\n",
      "[2500]\tvalid_0's binary_logloss: 0.0207494\tvalid_0's auc: 0.99796\n",
      "[2550]\tvalid_0's binary_logloss: 0.0206209\tvalid_0's auc: 0.997978\n",
      "[2600]\tvalid_0's binary_logloss: 0.0205104\tvalid_0's auc: 0.997994\n",
      "[2650]\tvalid_0's binary_logloss: 0.0204016\tvalid_0's auc: 0.99801\n",
      "[2700]\tvalid_0's binary_logloss: 0.020294\tvalid_0's auc: 0.99803\n",
      "[2750]\tvalid_0's binary_logloss: 0.0201735\tvalid_0's auc: 0.998046\n",
      "[2800]\tvalid_0's binary_logloss: 0.0200698\tvalid_0's auc: 0.998061\n",
      "[2850]\tvalid_0's binary_logloss: 0.0199677\tvalid_0's auc: 0.998076\n",
      "[2900]\tvalid_0's binary_logloss: 0.0198678\tvalid_0's auc: 0.99809\n",
      "[2950]\tvalid_0's binary_logloss: 0.0197657\tvalid_0's auc: 0.998104\n",
      "[3000]\tvalid_0's binary_logloss: 0.0196452\tvalid_0's auc: 0.998122\n",
      "\n",
      "== fold 3 ==\n",
      "[50]\tvalid_0's binary_logloss: 0.0337277\tvalid_0's auc: 0.994609\n",
      "[100]\tvalid_0's binary_logloss: 0.0320632\tvalid_0's auc: 0.995194\n",
      "[150]\tvalid_0's binary_logloss: 0.0312042\tvalid_0's auc: 0.995468\n",
      "[200]\tvalid_0's binary_logloss: 0.0306066\tvalid_0's auc: 0.995645\n",
      "[250]\tvalid_0's binary_logloss: 0.0301307\tvalid_0's auc: 0.995792\n",
      "[300]\tvalid_0's binary_logloss: 0.0296889\tvalid_0's auc: 0.995931\n",
      "[350]\tvalid_0's binary_logloss: 0.0292974\tvalid_0's auc: 0.996046\n",
      "[400]\tvalid_0's binary_logloss: 0.0289286\tvalid_0's auc: 0.996154\n",
      "[450]\tvalid_0's binary_logloss: 0.0285739\tvalid_0's auc: 0.996253\n",
      "[500]\tvalid_0's binary_logloss: 0.0282491\tvalid_0's auc: 0.996346\n",
      "[550]\tvalid_0's binary_logloss: 0.0279325\tvalid_0's auc: 0.996438\n",
      "[600]\tvalid_0's binary_logloss: 0.0276131\tvalid_0's auc: 0.996532\n",
      "[650]\tvalid_0's binary_logloss: 0.0273351\tvalid_0's auc: 0.996599\n",
      "[700]\tvalid_0's binary_logloss: 0.0270659\tvalid_0's auc: 0.99667\n",
      "[750]\tvalid_0's binary_logloss: 0.0268409\tvalid_0's auc: 0.996721\n",
      "[800]\tvalid_0's binary_logloss: 0.026591\tvalid_0's auc: 0.996782\n",
      "[850]\tvalid_0's binary_logloss: 0.0263174\tvalid_0's auc: 0.996856\n",
      "[900]\tvalid_0's binary_logloss: 0.0260655\tvalid_0's auc: 0.996918\n",
      "[950]\tvalid_0's binary_logloss: 0.0258469\tvalid_0's auc: 0.996971\n",
      "[1000]\tvalid_0's binary_logloss: 0.0256318\tvalid_0's auc: 0.997019\n",
      "[1050]\tvalid_0's binary_logloss: 0.0254486\tvalid_0's auc: 0.997055\n",
      "[1100]\tvalid_0's binary_logloss: 0.0252431\tvalid_0's auc: 0.997106\n",
      "[1150]\tvalid_0's binary_logloss: 0.0250151\tvalid_0's auc: 0.997154\n",
      "[1200]\tvalid_0's binary_logloss: 0.0248173\tvalid_0's auc: 0.997196\n",
      "[1250]\tvalid_0's binary_logloss: 0.024619\tvalid_0's auc: 0.997236\n",
      "[1300]\tvalid_0's binary_logloss: 0.0244299\tvalid_0's auc: 0.997272\n",
      "[1350]\tvalid_0's binary_logloss: 0.0242358\tvalid_0's auc: 0.997308\n",
      "[1400]\tvalid_0's binary_logloss: 0.0240461\tvalid_0's auc: 0.997345\n",
      "[1450]\tvalid_0's binary_logloss: 0.0238783\tvalid_0's auc: 0.997378\n",
      "[1500]\tvalid_0's binary_logloss: 0.0236977\tvalid_0's auc: 0.997412\n",
      "[1550]\tvalid_0's binary_logloss: 0.0235502\tvalid_0's auc: 0.997438\n",
      "[1600]\tvalid_0's binary_logloss: 0.0234057\tvalid_0's auc: 0.997464\n",
      "[1650]\tvalid_0's binary_logloss: 0.0232427\tvalid_0's auc: 0.997491\n",
      "[1700]\tvalid_0's binary_logloss: 0.0230822\tvalid_0's auc: 0.997521\n",
      "[1750]\tvalid_0's binary_logloss: 0.0229028\tvalid_0's auc: 0.997556\n",
      "[1800]\tvalid_0's binary_logloss: 0.0227505\tvalid_0's auc: 0.997585\n",
      "[1850]\tvalid_0's binary_logloss: 0.0225783\tvalid_0's auc: 0.997618\n",
      "[1900]\tvalid_0's binary_logloss: 0.0224172\tvalid_0's auc: 0.99765\n",
      "[1950]\tvalid_0's binary_logloss: 0.0222616\tvalid_0's auc: 0.997675\n",
      "[2000]\tvalid_0's binary_logloss: 0.0221147\tvalid_0's auc: 0.997702\n",
      "[2050]\tvalid_0's binary_logloss: 0.0219673\tvalid_0's auc: 0.997726\n",
      "[2100]\tvalid_0's binary_logloss: 0.0218128\tvalid_0's auc: 0.997756\n",
      "[2150]\tvalid_0's binary_logloss: 0.0216566\tvalid_0's auc: 0.997785\n",
      "[2200]\tvalid_0's binary_logloss: 0.0215066\tvalid_0's auc: 0.997812\n",
      "[2250]\tvalid_0's binary_logloss: 0.0213804\tvalid_0's auc: 0.99783\n",
      "[2300]\tvalid_0's binary_logloss: 0.0212737\tvalid_0's auc: 0.997846\n",
      "[2350]\tvalid_0's binary_logloss: 0.021143\tvalid_0's auc: 0.997866\n",
      "[2400]\tvalid_0's binary_logloss: 0.0210377\tvalid_0's auc: 0.997879\n",
      "[2450]\tvalid_0's binary_logloss: 0.0209239\tvalid_0's auc: 0.997895\n",
      "[2500]\tvalid_0's binary_logloss: 0.020789\tvalid_0's auc: 0.997915\n",
      "[2550]\tvalid_0's binary_logloss: 0.0206744\tvalid_0's auc: 0.997936\n",
      "[2600]\tvalid_0's binary_logloss: 0.0205779\tvalid_0's auc: 0.99795\n",
      "[2650]\tvalid_0's binary_logloss: 0.0204501\tvalid_0's auc: 0.997966\n",
      "[2700]\tvalid_0's binary_logloss: 0.0203535\tvalid_0's auc: 0.99798\n",
      "[2750]\tvalid_0's binary_logloss: 0.0202375\tvalid_0's auc: 0.997998\n",
      "[2800]\tvalid_0's binary_logloss: 0.0201231\tvalid_0's auc: 0.998016\n",
      "[2850]\tvalid_0's binary_logloss: 0.020027\tvalid_0's auc: 0.998029\n",
      "[2900]\tvalid_0's binary_logloss: 0.0199172\tvalid_0's auc: 0.998044\n",
      "[2950]\tvalid_0's binary_logloss: 0.019811\tvalid_0's auc: 0.998059\n",
      "[3000]\tvalid_0's binary_logloss: 0.0196966\tvalid_0's auc: 0.998077\n",
      "\n",
      "== fold 4 ==\n",
      "[50]\tvalid_0's binary_logloss: 0.0338736\tvalid_0's auc: 0.994505\n",
      "[100]\tvalid_0's binary_logloss: 0.0322907\tvalid_0's auc: 0.995052\n",
      "[150]\tvalid_0's binary_logloss: 0.031496\tvalid_0's auc: 0.99535\n",
      "[200]\tvalid_0's binary_logloss: 0.0308928\tvalid_0's auc: 0.995548\n",
      "[250]\tvalid_0's binary_logloss: 0.0303731\tvalid_0's auc: 0.99572\n",
      "[300]\tvalid_0's binary_logloss: 0.0298753\tvalid_0's auc: 0.995879\n"
     ]
    },
    {
     "name": "stdout",
     "output_type": "stream",
     "text": [
      "[350]\tvalid_0's binary_logloss: 0.0295153\tvalid_0's auc: 0.995996\n",
      "[400]\tvalid_0's binary_logloss: 0.0291102\tvalid_0's auc: 0.996117\n",
      "[450]\tvalid_0's binary_logloss: 0.0287751\tvalid_0's auc: 0.996221\n",
      "[500]\tvalid_0's binary_logloss: 0.0284927\tvalid_0's auc: 0.996298\n",
      "[550]\tvalid_0's binary_logloss: 0.0281758\tvalid_0's auc: 0.996385\n",
      "[600]\tvalid_0's binary_logloss: 0.0279137\tvalid_0's auc: 0.996457\n",
      "[650]\tvalid_0's binary_logloss: 0.0276342\tvalid_0's auc: 0.99653\n",
      "[700]\tvalid_0's binary_logloss: 0.0273549\tvalid_0's auc: 0.996607\n",
      "[750]\tvalid_0's binary_logloss: 0.0270546\tvalid_0's auc: 0.996692\n",
      "[800]\tvalid_0's binary_logloss: 0.0267643\tvalid_0's auc: 0.996769\n",
      "[850]\tvalid_0's binary_logloss: 0.0265009\tvalid_0's auc: 0.996834\n",
      "[900]\tvalid_0's binary_logloss: 0.0262491\tvalid_0's auc: 0.996897\n",
      "[950]\tvalid_0's binary_logloss: 0.0260116\tvalid_0's auc: 0.996957\n",
      "[1000]\tvalid_0's binary_logloss: 0.0257892\tvalid_0's auc: 0.997006\n",
      "[1050]\tvalid_0's binary_logloss: 0.0255561\tvalid_0's auc: 0.997058\n",
      "[1100]\tvalid_0's binary_logloss: 0.0253457\tvalid_0's auc: 0.997099\n",
      "[1150]\tvalid_0's binary_logloss: 0.025145\tvalid_0's auc: 0.997143\n",
      "[1200]\tvalid_0's binary_logloss: 0.0249394\tvalid_0's auc: 0.9972\n",
      "[1250]\tvalid_0's binary_logloss: 0.02471\tvalid_0's auc: 0.997257\n",
      "[1300]\tvalid_0's binary_logloss: 0.024549\tvalid_0's auc: 0.997295\n",
      "[1350]\tvalid_0's binary_logloss: 0.0243537\tvalid_0's auc: 0.997332\n",
      "[1400]\tvalid_0's binary_logloss: 0.0241595\tvalid_0's auc: 0.997369\n",
      "[1450]\tvalid_0's binary_logloss: 0.0239764\tvalid_0's auc: 0.997403\n",
      "[1500]\tvalid_0's binary_logloss: 0.0237868\tvalid_0's auc: 0.997446\n",
      "[1550]\tvalid_0's binary_logloss: 0.0235973\tvalid_0's auc: 0.997484\n",
      "[1600]\tvalid_0's binary_logloss: 0.0234108\tvalid_0's auc: 0.997523\n",
      "[1650]\tvalid_0's binary_logloss: 0.0232313\tvalid_0's auc: 0.997553\n",
      "[1700]\tvalid_0's binary_logloss: 0.0230751\tvalid_0's auc: 0.997583\n",
      "[1750]\tvalid_0's binary_logloss: 0.0229111\tvalid_0's auc: 0.997615\n",
      "[1800]\tvalid_0's binary_logloss: 0.0227527\tvalid_0's auc: 0.997648\n",
      "[1850]\tvalid_0's binary_logloss: 0.0226151\tvalid_0's auc: 0.997674\n",
      "[1900]\tvalid_0's binary_logloss: 0.0224767\tvalid_0's auc: 0.997697\n",
      "[1950]\tvalid_0's binary_logloss: 0.0223428\tvalid_0's auc: 0.997724\n",
      "[2000]\tvalid_0's binary_logloss: 0.0222041\tvalid_0's auc: 0.99775\n",
      "[2050]\tvalid_0's binary_logloss: 0.0220572\tvalid_0's auc: 0.997777\n",
      "[2100]\tvalid_0's binary_logloss: 0.0219202\tvalid_0's auc: 0.997802\n",
      "[2150]\tvalid_0's binary_logloss: 0.0217915\tvalid_0's auc: 0.997822\n",
      "[2200]\tvalid_0's binary_logloss: 0.021665\tvalid_0's auc: 0.997844\n",
      "[2250]\tvalid_0's binary_logloss: 0.0215451\tvalid_0's auc: 0.997865\n",
      "[2300]\tvalid_0's binary_logloss: 0.0214042\tvalid_0's auc: 0.997887\n",
      "[2350]\tvalid_0's binary_logloss: 0.0212718\tvalid_0's auc: 0.997911\n",
      "[2400]\tvalid_0's binary_logloss: 0.0211219\tvalid_0's auc: 0.997935\n",
      "[2450]\tvalid_0's binary_logloss: 0.0209987\tvalid_0's auc: 0.997951\n",
      "[2500]\tvalid_0's binary_logloss: 0.0208607\tvalid_0's auc: 0.997974\n",
      "[2550]\tvalid_0's binary_logloss: 0.0207323\tvalid_0's auc: 0.997993\n",
      "[2600]\tvalid_0's binary_logloss: 0.0206151\tvalid_0's auc: 0.998008\n",
      "[2650]\tvalid_0's binary_logloss: 0.020535\tvalid_0's auc: 0.998021\n",
      "[2700]\tvalid_0's binary_logloss: 0.0203897\tvalid_0's auc: 0.998049\n",
      "[2750]\tvalid_0's binary_logloss: 0.0202782\tvalid_0's auc: 0.998065\n",
      "[2800]\tvalid_0's binary_logloss: 0.0201551\tvalid_0's auc: 0.998084\n",
      "[2850]\tvalid_0's binary_logloss: 0.0200403\tvalid_0's auc: 0.9981\n",
      "[2900]\tvalid_0's binary_logloss: 0.0199453\tvalid_0's auc: 0.998112\n",
      "[2950]\tvalid_0's binary_logloss: 0.0198438\tvalid_0's auc: 0.998124\n",
      "[3000]\tvalid_0's binary_logloss: 0.0197256\tvalid_0's auc: 0.998142\n",
      "\n",
      "CV-accuracy: 0.9933457120187196\n"
     ]
    }
   ],
   "source": [
    "params = {\n",
    "    'boosting_type': 'gbdt', \n",
    "    'objective': 'binary', \n",
    "    'tree_learner': 'feature',\n",
    "    'metric': ['binary_logloss', 'AUC'],\n",
    "    'learning_rate': 0.3,\n",
    "    'reg_alpha': 0.1,\n",
    "    'reg_lambda': 0.682,\n",
    "    'random_state': 2018,\n",
    "    'max_depth': 9,\n",
    "    'num_leaves': 127, \n",
    "    'n_estimators': 3000,\n",
    "    \"colsample_bytree\": 0.785,\n",
    "    \"first_metric_only\": True,\n",
    "    \"max_bin\": 512\n",
    "}\n",
    "\n",
    "oof, models = fit_lgbm(train_df[TRAIN_FEATURES], train_df[\"label\"].astype(int), \n",
    "                       params=params, n_class=int(train_df[\"label\"].max() + 1), \n",
    "                       N_SPLITS=NFOLDS, folds=train_df[\"fold\"].values)"
   ]
  },
  {
   "cell_type": "code",
   "execution_count": 20,
   "id": "8ac917ba",
   "metadata": {},
   "outputs": [
    {
     "data": {
      "image/png": "[encoded data removed]",
      "text/plain": [
       "<Figure size 2016x360 with 1 Axes>"
      ]
     },
     "metadata": {
      "needs_background": "light"
     },
     "output_type": "display_data"
    }
   ],
   "source": [
    "def plot_importances(models):\n",
    "    importance_df = pd.DataFrame(models[0].feature_importances_, \n",
    "                                 index=TRAIN_FEATURES, \n",
    "                                 columns=['importance'])\\\n",
    "                        .sort_values(\"importance\", ascending=False)\n",
    "\n",
    "    plt.subplots(figsize=(len(TRAIN_FEATURES) // 4, 5))\n",
    "    plt.bar(importance_df.index, importance_df.importance)\n",
    "    plt.grid()\n",
    "    plt.xticks(rotation=90)\n",
    "    plt.ylabel(\"importance\")\n",
    "    plt.tight_layout()\n",
    "    plt.show()\n",
    "\n",
    "plot_importances(models)"
   ]
  },
  {
   "cell_type": "code",
   "execution_count": 21,
   "id": "468b1100",
   "metadata": {},
   "outputs": [],
   "source": [
    "# !kaggle datasets init -p ../src/models/BinaryModels"
   ]
  },
  {
   "cell_type": "code",
   "execution_count": 22,
   "id": "9bad329d",
   "metadata": {},
   "outputs": [],
   "source": [
    "# !kaggle datasets create -p ../src/models/BinaryModels --dir-mode zip"
   ]
  },
  {
   "cell_type": "code",
   "execution_count": 23,
   "id": "6f2d2b64",
   "metadata": {},
   "outputs": [
    {
     "name": "stdout",
     "output_type": "stream",
     "text": [
      "Starting upload for file lgb_2set_5f_binary0.pkl\n",
      "Warning: Looks like you're using an outdated API Version, please consider updating (server 1.5.12 / client 1.5.6)\n",
      "100%|######################################| 39.7M/39.7M [00:02<00:00, 14.1MB/s]\n",
      "Upload successful: lgb_2set_5f_binary0.pkl (40MB)\n",
      "Starting upload for file lgb_fuzz_t25_2set_5f_binary3.pkl\n",
      "100%|######################################| 39.7M/39.7M [00:02<00:00, 15.4MB/s]\n",
      "Upload successful: lgb_fuzz_t25_2set_5f_binary3.pkl (40MB)\n",
      "Starting upload for file lgb_t25_2set_5f_binary0.pkl\n",
      "100%|######################################| 39.7M/39.7M [00:02<00:00, 15.7MB/s]\n",
      "Upload successful: lgb_t25_2set_5f_binary0.pkl (40MB)\n",
      "Starting upload for file lgb_fuzz_t25_2set_5f_binary4.pkl\n",
      "100%|######################################| 39.7M/39.7M [00:02<00:00, 15.6MB/s]\n",
      "Upload successful: lgb_fuzz_t25_2set_5f_binary4.pkl (40MB)\n",
      "Starting upload for file lgb_5f_binary4.pkl\n",
      "100%|######################################| 11.4M/11.4M [00:01<00:00, 7.69MB/s]\n",
      "Upload successful: lgb_5f_binary4.pkl (11MB)\n",
      "Starting upload for file lgb_2set_5f_binary3.pkl\n",
      "100%|######################################| 39.6M/39.6M [00:02<00:00, 15.9MB/s]\n",
      "Upload successful: lgb_2set_5f_binary3.pkl (40MB)\n",
      "Starting upload for file lgb_fuzz_t25_2set_5f_binary1.pkl\n",
      "100%|######################################| 39.7M/39.7M [00:02<00:00, 15.2MB/s]\n",
      "Upload successful: lgb_fuzz_t25_2set_5f_binary1.pkl (40MB)\n",
      "Starting upload for file lgb_2set_5f_binary1.pkl\n",
      "100%|######################################| 39.6M/39.6M [00:02<00:00, 14.0MB/s]\n",
      "Upload successful: lgb_2set_5f_binary1.pkl (40MB)\n",
      "Starting upload for file lgbm_binary2.pkl\n",
      "100%|######################################| 11.4M/11.4M [00:01<00:00, 6.95MB/s]\n",
      "Upload successful: lgbm_binary2.pkl (11MB)\n",
      "Starting upload for file lgb_t25_2set_5f_binary1.pkl\n",
      "100%|######################################| 39.7M/39.7M [00:02<00:00, 15.9MB/s]\n",
      "Upload successful: lgb_t25_2set_5f_binary1.pkl (40MB)\n",
      "Starting upload for file .ipynb_checkpoints.zip\n",
      "100%|#########################################| 22.0/22.0 [00:02<00:00, 8.02B/s]\n",
      "Upload successful: .ipynb_checkpoints.zip (22B)\n",
      "Starting upload for file lgb_2set_5f_binary4.pkl\n",
      "100%|######################################| 39.6M/39.6M [00:05<00:00, 8.14MB/s]\n",
      "Upload successful: lgb_2set_5f_binary4.pkl (40MB)\n",
      "Starting upload for file lgb_fuzz_t25_2set_5f_binary2.pkl\n",
      "100%|######################################| 39.7M/39.7M [00:07<00:00, 5.32MB/s]\n",
      "Upload successful: lgb_fuzz_t25_2set_5f_binary2.pkl (40MB)\n",
      "Starting upload for file lgb_fuzz_t25_2set_5f_binary0.pkl\n",
      "100%|######################################| 39.7M/39.7M [00:05<00:00, 7.33MB/s]\n",
      "Upload successful: lgb_fuzz_t25_2set_5f_binary0.pkl (40MB)\n",
      "Starting upload for file lgb_t25_2set_5f_binary2.pkl\n",
      "100%|######################################| 39.7M/39.7M [00:05<00:00, 7.55MB/s]\n",
      "Upload successful: lgb_t25_2set_5f_binary2.pkl (40MB)\n",
      "Starting upload for file lgb_5f_binary0.pkl\n",
      "100%|######################################| 11.4M/11.4M [00:03<00:00, 3.52MB/s]\n",
      "Upload successful: lgb_5f_binary0.pkl (11MB)\n",
      "Starting upload for file lgbm_binary0.pkl\n",
      "100%|######################################| 11.4M/11.4M [00:03<00:00, 3.52MB/s]\n",
      "Upload successful: lgbm_binary0.pkl (11MB)\n",
      "Starting upload for file lgb_t25_2set_5f_binary3.pkl\n",
      "100%|######################################| 39.7M/39.7M [00:05<00:00, 8.16MB/s]\n",
      "Upload successful: lgb_t25_2set_5f_binary3.pkl (40MB)\n",
      "Starting upload for file lgb_t25_2set_5f_binary4.pkl\n",
      "100%|######################################| 39.7M/39.7M [00:06<00:00, 6.84MB/s]\n",
      "Upload successful: lgb_t25_2set_5f_binary4.pkl (40MB)\n",
      "Starting upload for file lgb_2set_5f_binary2.pkl\n",
      "100%|######################################| 39.6M/39.6M [00:06<00:00, 6.76MB/s]\n",
      "Upload successful: lgb_2set_5f_binary2.pkl (40MB)\n",
      "Starting upload for file lgb_5f_binary3.pkl\n",
      "100%|######################################| 11.4M/11.4M [00:03<00:00, 3.59MB/s]\n",
      "Upload successful: lgb_5f_binary3.pkl (11MB)\n",
      "Starting upload for file lgb_5f_binary2.pkl\n",
      "100%|######################################| 11.4M/11.4M [00:03<00:00, 3.31MB/s]\n",
      "Upload successful: lgb_5f_binary2.pkl (11MB)\n",
      "Starting upload for file lgbm_binary1.pkl\n",
      "100%|######################################| 11.4M/11.4M [00:03<00:00, 3.63MB/s]\n",
      "Upload successful: lgbm_binary1.pkl (11MB)\n",
      "Starting upload for file lgb_5f_binary1.pkl\n",
      "100%|######################################| 11.4M/11.4M [00:02<00:00, 4.39MB/s]\n",
      "Upload successful: lgb_5f_binary1.pkl (11MB)\n",
      "Dataset version is being created. Please check progress at https://www.kaggle.com/tarique7/foursqbinarylgb\n"
     ]
    }
   ],
   "source": [
    "!kaggle datasets version -m \"BothSetsFuzz25n5Fold\" -p ../src/models/BinaryModels --dir-mode zip"
   ]
  },
  {
   "cell_type": "code",
   "execution_count": null,
   "id": "44e6840e",
   "metadata": {},
   "outputs": [],
   "source": []
  }
 ],
 "metadata": {
  "kernelspec": {
   "display_name": "Python 3",
   "language": "python",
   "name": "python3"
  },
  "language_info": {
   "codemirror_mode": {
    "name": "ipython",
    "version": 3
   },
   "file_extension": ".py",
   "mimetype": "text/x-python",
   "name": "python",
   "nbconvert_exporter": "python",
   "pygments_lexer": "ipython3",
   "version": "3.6.13"
  }
 },
 "nbformat": 4,
 "nbformat_minor": 5
}
