{
 "cells": [
  {
   "cell_type": "code",
   "execution_count": 1,
   "id": "95c8cfa8",
   "metadata": {},
   "outputs": [],
   "source": [
    "import pandas as pd\n",
    "import numpy as np\n",
    "import lightgbm as lgb\n",
    "import matplotlib.pyplot as plt\n",
    "from tqdm.auto import tqdm\n",
    "import os\n",
    "import gc\n",
    "import random\n",
    "from sklearn.model_selection import GroupKFold, KFold, StratifiedKFold\n",
    "import seaborn as sns\n",
    "import pickle\n",
    "import json\n",
    "import re\n",
    "import time\n",
    "import sys\n",
    "pd.set_option('display.max_rows', 500)\n",
    "pd.set_option('display.max_columns', 500)\n",
    "\n",
    "import warnings\n",
    "warnings.filterwarnings('ignore')"
   ]
  },
  {
   "cell_type": "code",
   "execution_count": 2,
   "id": "e3fd22ff",
   "metadata": {},
   "outputs": [],
   "source": [
    "tfn1 = 'train_all_25n_'\n",
    "tfn2 = 'valid_all_25n_'\n",
    "\n",
    "nsets = 3\n",
    "model_file_name = 'lgb_set12_'"
   ]
  },
  {
   "cell_type": "code",
   "execution_count": 3,
   "id": "1cfd2b9b",
   "metadata": {},
   "outputs": [],
   "source": [
    "tdata = pd.read_csv('../src/data/raw/train.csv')\n",
    "tdata['name'] = tdata['name'].isna().astype(int)\n",
    "tdata['categories'] = tdata['categories'].isna().astype(int)\n",
    "tdata['address'] = tdata['address'].isna().astype(int)\n",
    "tdata['state'] = tdata['state'].isna().astype(int)\n",
    "tdata['url'] = tdata['url'].isna().astype(int)\n",
    "tdata['country'] = tdata['country'].isna().astype(int)\n",
    "\n",
    "tdata = tdata[['id','name', 'categories', 'address', 'state', \n",
    "               'url', 'country']].drop_duplicates().reset_index(drop=True)"
   ]
  },
  {
   "cell_type": "code",
   "execution_count": 4,
   "id": "fd9d25ac",
   "metadata": {},
   "outputs": [],
   "source": [
    "def prepare_data(df_set):\n",
    "    \n",
    "    train_df = []\n",
    "    \n",
    "    for i in range(1, nsets+1):\n",
    "    \n",
    "        t1 = pd.read_csv('../src/data/processed/'+df_set+str(i)+'.csv')\n",
    "        print(t1.shape)\n",
    "        t1['kdist_diff'] = (t1['kdist'] - t1['kdist_country'])/t1['kdist_country']\n",
    "        t1['kneighbors_mean'] = t1[['kneighbors', 'kneighbors_country']].mean(axis = 1)\n",
    "        \n",
    "        t1['sim_mean'] = t1[[col for col in t1.columns if 'sim' in col]].mean(axis=1)\n",
    "        t1['jaro_mean'] = t1[[col for col in t1.columns if 'jaro' in col]].mean(axis=1)\n",
    "        t1['lcs_mean'] = t1[[col for col in t1.columns if '_lcs' in col]].mean(axis=1)        \n",
    "        \n",
    "        t1['sim_sum'] = t1[[col for col in t1.columns if 'sim' in col]].sum(axis=1)\n",
    "        t1['gesh_sum'] = t1[[col for col in t1.columns if 'gesh' in col]].sum(axis=1)\n",
    "        t1['leven_sum'] = t1[[col for col in t1.columns if '_leven' in col]].sum(axis=1)\n",
    "        t1['jaro_sum'] = t1[[col for col in t1.columns if 'jaro' in col]].sum(axis=1)\n",
    "        t1['lcs_sum'] = t1[[col for col in t1.columns if '_lcs' in col]].sum(axis=1)\n",
    "        t1['nlcsk_sum'] = t1[[col for col in t1.columns if '_nlcsk' in col]].sum(axis=1)\n",
    "        t1['nleven_sum'] = t1[[col for col in t1.columns if '_nleven' in col]].sum(axis=1)\n",
    "        t1['nlcs_sum'] = t1[[col for col in t1.columns if '_nlcs' in col]].sum(axis=1)\n",
    "\n",
    "        t1['sim_std'] = t1[[col for col in t1.columns if 'sim' in col]].std(axis=1)\n",
    "        t1['gesh_std'] = t1[[col for col in t1.columns if 'gesh' in col]].std(axis=1)\n",
    "        t1['leven_std'] = t1[[col for col in t1.columns if '_leven' in col]].std(axis=1)\n",
    "        t1['jaro_std'] = t1[[col for col in t1.columns if 'jaro' in col]].std(axis=1)\n",
    "        t1['lcs_std'] = t1[[col for col in t1.columns if '_lcs' in col]].std(axis=1)\n",
    "        t1['nlcsk_std'] = t1[[col for col in t1.columns if '_nlcsk' in col]].std(axis=1)\n",
    "        t1['nleven_std'] = t1[[col for col in t1.columns if '_nleven' in col]].std(axis=1)\n",
    "        t1['nlcs_std'] = t1[[col for col in t1.columns if '_nlcs' in col]].std(axis=1)\n",
    "\n",
    "        t1 = t1.merge(tdata, on='id', how='left')\n",
    "        t1 = t1.merge(tdata, left_on='match_id', right_on='id', how='left', suffixes=['_1','_2'])\n",
    "        t1 = t1.drop('id_2', axis=1).rename(columns={'id_1':'id'})\n",
    "        \n",
    "        t1['info_power_1'] = t1[[col for col in t1.columns if '_1' in col]].lt(1).sum(axis=1)\n",
    "        t1['info_power_2'] = t1[[col for col in t1.columns if '_2' in col]].lt(1).sum(axis=1)\n",
    "        t1['info_diff'] = t1['info_power_1'] - t1['info_power_2']\n",
    "        \n",
    "        t1['kdist_diff_x_info_diff'] = t1['kdist_diff']*t1['info_diff']\n",
    "        \n",
    "        t1 = t1.drop([col for col in t1.columns if '_1' in col], axis=1)\n",
    "        t1 = t1.drop([col for col in t1.columns if '_2' in col], axis=1)\n",
    "        gc.collect()\n",
    "                \n",
    "        train_df.append(t1)\n",
    "        \n",
    "        del t1\n",
    "        gc.collect()\n",
    "    \n",
    "    return train_df"
   ]
  },
  {
   "cell_type": "code",
   "execution_count": 5,
   "id": "43d62e99",
   "metadata": {},
   "outputs": [
    {
     "name": "stdout",
     "output_type": "stream",
     "text": [
      "(7692825, 96)\n",
      "(5794725, 96)\n",
      "(5357151, 96)\n",
      "CPU times: user 7min 37s, sys: 2min 58s, total: 10min 36s\n",
      "Wall time: 10min 36s\n"
     ]
    }
   ],
   "source": [
    "%%time\n",
    "train_df = prepare_data(tfn1)"
   ]
  },
  {
   "cell_type": "code",
   "execution_count": 6,
   "id": "b2d91f2b",
   "metadata": {},
   "outputs": [
    {
     "name": "stdout",
     "output_type": "stream",
     "text": [
      "CPU times: user 14.8 s, sys: 9.87 s, total: 24.7 s\n",
      "Wall time: 24.7 s\n"
     ]
    }
   ],
   "source": [
    "%%time\n",
    "train_df = pd.concat(train_df).reset_index(drop=True)"
   ]
  },
  {
   "cell_type": "code",
   "execution_count": 7,
   "id": "8184a3ec",
   "metadata": {},
   "outputs": [
    {
     "data": {
      "text/plain": [
       "(18844701, 119)"
      ]
     },
     "execution_count": 7,
     "metadata": {},
     "output_type": "execute_result"
    }
   ],
   "source": [
    "train_df.shape"
   ]
  },
  {
   "cell_type": "code",
   "execution_count": 9,
   "id": "b21cd10d",
   "metadata": {},
   "outputs": [
    {
     "name": "stdout",
     "output_type": "stream",
     "text": [
      "(7546775, 96)\n",
      "(5798729, 96)\n",
      "(5360801, 96)\n",
      "CPU times: user 7min 29s, sys: 2min 59s, total: 10min 29s\n",
      "Wall time: 10min 29s\n"
     ]
    }
   ],
   "source": [
    "%%time\n",
    "valid_df = prepare_data(tfn2)"
   ]
  },
  {
   "cell_type": "code",
   "execution_count": 10,
   "id": "bb09384c",
   "metadata": {},
   "outputs": [
    {
     "name": "stdout",
     "output_type": "stream",
     "text": [
      "CPU times: user 16.4 s, sys: 11.7 s, total: 28.2 s\n",
      "Wall time: 28.2 s\n"
     ]
    }
   ],
   "source": [
    "%%time\n",
    "valid_df = pd.concat(valid_df).reset_index(drop=True)"
   ]
  },
  {
   "cell_type": "code",
   "execution_count": 11,
   "id": "7b852379",
   "metadata": {},
   "outputs": [
    {
     "data": {
      "text/plain": [
       "(18706305, 119)"
      ]
     },
     "execution_count": 11,
     "metadata": {},
     "output_type": "execute_result"
    }
   ],
   "source": [
    "valid_df.shape"
   ]
  },
  {
   "cell_type": "code",
   "execution_count": 12,
   "id": "b1ede4c2",
   "metadata": {},
   "outputs": [
    {
     "data": {
      "text/plain": [
       "0    17808387\n",
       "1     1036314\n",
       "Name: label, dtype: int64"
      ]
     },
     "execution_count": 12,
     "metadata": {},
     "output_type": "execute_result"
    }
   ],
   "source": [
    "train_df.label.value_counts()"
   ]
  },
  {
   "cell_type": "code",
   "execution_count": 13,
   "id": "10468cf1",
   "metadata": {},
   "outputs": [
    {
     "data": {
      "text/plain": [
       "0    17676533\n",
       "1     1029772\n",
       "Name: label, dtype: int64"
      ]
     },
     "execution_count": 13,
     "metadata": {},
     "output_type": "execute_result"
    }
   ],
   "source": [
    "valid_df.label.value_counts()"
   ]
  },
  {
   "cell_type": "code",
   "execution_count": 14,
   "id": "cc249e6e",
   "metadata": {},
   "outputs": [
    {
     "name": "stdout",
     "output_type": "stream",
     "text": [
      "CPU times: user 58.6 s, sys: 1min 58s, total: 2min 56s\n",
      "Wall time: 2min 57s\n"
     ]
    },
    {
     "data": {
      "text/plain": [
       "0"
      ]
     },
     "execution_count": 14,
     "metadata": {},
     "output_type": "execute_result"
    }
   ],
   "source": [
    "%%time\n",
    "train_df = pd.concat([train_df, valid_df], axis=0).reset_index(drop=True)\n",
    "\n",
    "del valid_df\n",
    "gc.collect()"
   ]
  },
  {
   "cell_type": "code",
   "execution_count": 16,
   "id": "a81cbd7c",
   "metadata": {},
   "outputs": [],
   "source": [
    "TRAIN_FEATURES = ['kdist', 'kneighbors', 'kdist_country', 'kneighbors_country', 'name_sim', 'name_gesh','name_leven', \n",
    "                'name_jaro', 'name_lcs', 'name_len_diff', 'name_nleven', 'name_nlcsk', 'name_nlcs', 'address_sim', \n",
    "                'address_gesh', 'address_leven', 'address_jaro', 'address_lcs', 'address_len_diff', 'address_nleven', \n",
    "                'address_nlcsk', 'address_nlcs', 'city_gesh', 'city_leven', 'city_jaro', 'city_lcs', 'city_len_diff', \n",
    "                'city_nleven', 'city_nlcsk', 'city_nlcs', 'state_sim', 'state_gesh', 'state_leven', 'state_jaro', \n",
    "                'state_lcs', 'state_len_diff', 'state_nleven', 'state_nlcsk', 'state_nlcs', 'zip_gesh', 'zip_leven', \n",
    "                'zip_jaro', 'zip_lcs', 'url_sim', 'url_gesh', 'url_leven', 'url_jaro', 'url_lcs', 'url_len_diff', \n",
    "                'url_nleven', 'url_nlcsk', 'url_nlcs', 'phone_gesh', 'phone_leven', 'phone_jaro', 'phone_lcs', \n",
    "                'categories_sim', 'categories_gesh', 'categories_leven', 'categories_jaro', 'categories_lcs', \n",
    "                'categories_len_diff', 'categories_nleven', 'categories_nlcsk', 'categories_nlcs', 'country_sim', \n",
    "                'country_gesh', 'country_leven', 'country_nleven', 'kdist_diff', 'kneighbors_mean', \n",
    "                'sim_sum', 'gesh_sum', 'leven_sum', 'jaro_sum','lcs_sum', 'sim_std', 'gesh_std', 'leven_std',\n",
    "                'jaro_std', 'lcs_std', 'info_diff', 'nleven_sum', 'nlcsk_sum', 'nlcs_sum', 'nleven_std', \n",
    "                'nlcsk_std', 'nlcs_std', 'sim_mean','jaro_mean','lcs_mean','kdist_diff_x_info_diff',\n",
    "                'name_w_ratio', 'name_partial_ratio', 'name_tokenset_ratio', 'name_tokensort_ratio', \n",
    "                'name_fuzz_power', 'categories_w_ratio', 'categories_partial_ratio', 'categories_tokenset_ratio', \n",
    "                'categories_tokensort_ratio', 'categories_fuzz_power', 'address_w_ratio', 'address_partial_ratio', \n",
    "                'address_tokenset_ratio', 'address_tokensort_ratio', 'address_fuzz_power', \n",
    "                'dlon','dlat','country_x_poi_count_mean', 'name_similarity'\n",
    "                ]"
   ]
  },
  {
   "cell_type": "code",
   "execution_count": 17,
   "id": "09dfdf5e",
   "metadata": {},
   "outputs": [
    {
     "data": {
      "application/vnd.jupyter.widget-view+json": {
       "model_id": "55478cecdf2542e4a95f80ce9bc8aef6",
       "version_major": 2,
       "version_minor": 0
      },
      "text/plain": [
       "0it [00:00, ?it/s]"
      ]
     },
     "metadata": {},
     "output_type": "display_data"
    },
    {
     "name": "stdout",
     "output_type": "stream",
     "text": [
      "CPU times: user 1min 1s, sys: 57.1 s, total: 1min 58s\n",
      "Wall time: 1min 58s\n"
     ]
    }
   ],
   "source": [
    "%%time\n",
    "NFOLDS = 5\n",
    "kf = StratifiedKFold(n_splits = NFOLDS, shuffle=True, random_state=42)\n",
    "for i, (trn_idx, val_idx) in tqdm(enumerate(kf.split(train_df, train_df[\"label\"], train_df[\"label\"]))):\n",
    "    train_df.loc[val_idx, \"fold\"] = i"
   ]
  },
  {
   "cell_type": "code",
   "execution_count": 18,
   "id": "9f333792",
   "metadata": {},
   "outputs": [
    {
     "data": {
      "text/plain": [
       "0    0.944979\n",
       "1    0.055021\n",
       "Name: label, dtype: float64"
      ]
     },
     "execution_count": 18,
     "metadata": {},
     "output_type": "execute_result"
    }
   ],
   "source": [
    "train_df.label.value_counts()/len(train_df)"
   ]
  },
  {
   "cell_type": "code",
   "execution_count": 19,
   "id": "bd82fe70",
   "metadata": {},
   "outputs": [],
   "source": [
    "import lightgbm as lgbm\n",
    "\n",
    "def fit_lgbm(X, y, params=None, es_rounds=20, seed=42, N_SPLITS=5, \n",
    "             n_class=None, model_dir=None, folds=None):\n",
    "    \n",
    "    models = []\n",
    "    oof = np.zeros((len(y), n_class), dtype=np.float64)\n",
    "    \n",
    "    for i in tqdm(range(NFOLDS)):\n",
    "        print(f\"== fold {i} ==\")\n",
    "        trn_idx = folds!=i\n",
    "        val_idx = folds==i\n",
    "        X_train, y_train = X[trn_idx], y.iloc[trn_idx]\n",
    "        X_valid, y_valid = X.iloc[val_idx], y.iloc[val_idx]\n",
    "\n",
    "        if model_dir is None:\n",
    "            model = lgbm.LGBMClassifier(**params)\n",
    "            model.fit(\n",
    "                X_train, y_train, \n",
    "                eval_set=[(X_valid, y_valid)],  \n",
    "                early_stopping_rounds=es_rounds, \n",
    "                verbose=50)\n",
    "        else:\n",
    "            with open(f'../src/models/ScaledModels/{model_file_name}{i}.pkl', 'rb') as f:\n",
    "                model = pickle.load(f)\n",
    "            \n",
    "        pred = model.predict_proba(X_valid)\n",
    "        oof[val_idx] = pred\n",
    "        models.append(model)\n",
    "        \n",
    "        file = f'../src/models/ScaledModels/{model_file_name}{i}.pkl'\n",
    "        pickle.dump(model, open(file, 'wb'))\n",
    "        print()\n",
    "\n",
    "    cv = (oof.argmax(axis=-1) == y).mean()\n",
    "    print(f\"CV-accuracy: {cv}\")\n",
    "\n",
    "    return oof, models\n",
    "\n",
    "def inference_lgbm(models, feat_df):\n",
    "    pred = np.array([model.predict_proba(feat_df) for model in models])\n",
    "    pred = np.mean(pred, axis=0)\n",
    "    return pred"
   ]
  },
  {
   "cell_type": "code",
   "execution_count": null,
   "id": "0d5cbafe",
   "metadata": {
    "scrolled": true
   },
   "outputs": [
    {
     "data": {
      "application/vnd.jupyter.widget-view+json": {
       "model_id": "9980e0af8c31494fbe976c7d74408d76",
       "version_major": 2,
       "version_minor": 0
      },
      "text/plain": [
       "  0%|          | 0/5 [00:00<?, ?it/s]"
      ]
     },
     "metadata": {},
     "output_type": "display_data"
    },
    {
     "name": "stdout",
     "output_type": "stream",
     "text": [
      "== fold 0 ==\n",
      "[50]\tvalid_0's binary_logloss: 0.0283144\tvalid_0's auc: 0.996188\n",
      "[100]\tvalid_0's binary_logloss: 0.0267797\tvalid_0's auc: 0.996621\n",
      "[150]\tvalid_0's binary_logloss: 0.0258853\tvalid_0's auc: 0.99688\n",
      "[200]\tvalid_0's binary_logloss: 0.0252718\tvalid_0's auc: 0.997043\n",
      "[250]\tvalid_0's binary_logloss: 0.0247781\tvalid_0's auc: 0.997179\n",
      "[300]\tvalid_0's binary_logloss: 0.0243312\tvalid_0's auc: 0.997303\n",
      "[350]\tvalid_0's binary_logloss: 0.0239429\tvalid_0's auc: 0.997402\n",
      "[400]\tvalid_0's binary_logloss: 0.0235855\tvalid_0's auc: 0.997486\n",
      "[450]\tvalid_0's binary_logloss: 0.0232416\tvalid_0's auc: 0.997564\n",
      "[500]\tvalid_0's binary_logloss: 0.0229268\tvalid_0's auc: 0.997639\n",
      "[550]\tvalid_0's binary_logloss: 0.0226654\tvalid_0's auc: 0.997699\n",
      "[600]\tvalid_0's binary_logloss: 0.022333\tvalid_0's auc: 0.997765\n",
      "[650]\tvalid_0's binary_logloss: 0.0221325\tvalid_0's auc: 0.997806\n",
      "[700]\tvalid_0's binary_logloss: 0.0218676\tvalid_0's auc: 0.99786\n",
      "[750]\tvalid_0's binary_logloss: 0.0216085\tvalid_0's auc: 0.997915\n",
      "[800]\tvalid_0's binary_logloss: 0.0213661\tvalid_0's auc: 0.997967\n",
      "[850]\tvalid_0's binary_logloss: 0.0211234\tvalid_0's auc: 0.998014\n",
      "[900]\tvalid_0's binary_logloss: 0.0208826\tvalid_0's auc: 0.998062\n",
      "[950]\tvalid_0's binary_logloss: 0.0206604\tvalid_0's auc: 0.998101\n",
      "[1000]\tvalid_0's binary_logloss: 0.0204391\tvalid_0's auc: 0.998132\n",
      "[1050]\tvalid_0's binary_logloss: 0.0202283\tvalid_0's auc: 0.998174\n",
      "[1100]\tvalid_0's binary_logloss: 0.0199972\tvalid_0's auc: 0.998212\n",
      "[1150]\tvalid_0's binary_logloss: 0.0198062\tvalid_0's auc: 0.998243\n",
      "[1200]\tvalid_0's binary_logloss: 0.0195949\tvalid_0's auc: 0.998281\n",
      "[1250]\tvalid_0's binary_logloss: 0.0193931\tvalid_0's auc: 0.998313\n",
      "[1300]\tvalid_0's binary_logloss: 0.0192028\tvalid_0's auc: 0.998342\n",
      "[1350]\tvalid_0's binary_logloss: 0.0190385\tvalid_0's auc: 0.998367\n",
      "[1400]\tvalid_0's binary_logloss: 0.0188571\tvalid_0's auc: 0.998397\n",
      "[1450]\tvalid_0's binary_logloss: 0.0186947\tvalid_0's auc: 0.998424\n",
      "[1500]\tvalid_0's binary_logloss: 0.0185291\tvalid_0's auc: 0.998444\n",
      "[1550]\tvalid_0's binary_logloss: 0.0183771\tvalid_0's auc: 0.998469\n",
      "[1600]\tvalid_0's binary_logloss: 0.0181792\tvalid_0's auc: 0.9985\n",
      "[1650]\tvalid_0's binary_logloss: 0.0180271\tvalid_0's auc: 0.998525\n",
      "[1700]\tvalid_0's binary_logloss: 0.0178747\tvalid_0's auc: 0.998548\n",
      "[1750]\tvalid_0's binary_logloss: 0.0177172\tvalid_0's auc: 0.99857\n",
      "[1800]\tvalid_0's binary_logloss: 0.017572\tvalid_0's auc: 0.998587\n",
      "[1850]\tvalid_0's binary_logloss: 0.0174238\tvalid_0's auc: 0.998607\n",
      "[1900]\tvalid_0's binary_logloss: 0.0172996\tvalid_0's auc: 0.998624\n",
      "[1950]\tvalid_0's binary_logloss: 0.0171477\tvalid_0's auc: 0.998645\n",
      "[2000]\tvalid_0's binary_logloss: 0.0170245\tvalid_0's auc: 0.998658\n",
      "[2050]\tvalid_0's binary_logloss: 0.016872\tvalid_0's auc: 0.998682\n",
      "[2100]\tvalid_0's binary_logloss: 0.0167562\tvalid_0's auc: 0.998696\n",
      "[2150]\tvalid_0's binary_logloss: 0.0166516\tvalid_0's auc: 0.998708\n",
      "[2200]\tvalid_0's binary_logloss: 0.0165164\tvalid_0's auc: 0.998724\n",
      "[2250]\tvalid_0's binary_logloss: 0.0163794\tvalid_0's auc: 0.998741\n",
      "[2300]\tvalid_0's binary_logloss: 0.0162427\tvalid_0's auc: 0.99876\n",
      "[2350]\tvalid_0's binary_logloss: 0.0161469\tvalid_0's auc: 0.998772\n",
      "[2400]\tvalid_0's binary_logloss: 0.016044\tvalid_0's auc: 0.998782\n",
      "[2450]\tvalid_0's binary_logloss: 0.0159392\tvalid_0's auc: 0.998793\n",
      "[2500]\tvalid_0's binary_logloss: 0.0158376\tvalid_0's auc: 0.998803\n",
      "[2550]\tvalid_0's binary_logloss: 0.0157157\tvalid_0's auc: 0.998817\n",
      "[2600]\tvalid_0's binary_logloss: 0.0156273\tvalid_0's auc: 0.998827\n",
      "[2650]\tvalid_0's binary_logloss: 0.0155161\tvalid_0's auc: 0.998839\n",
      "[2700]\tvalid_0's binary_logloss: 0.0154212\tvalid_0's auc: 0.998849\n",
      "[2750]\tvalid_0's binary_logloss: 0.0153257\tvalid_0's auc: 0.998857\n",
      "[2800]\tvalid_0's binary_logloss: 0.0152449\tvalid_0's auc: 0.998864\n",
      "[2850]\tvalid_0's binary_logloss: 0.0151452\tvalid_0's auc: 0.998874\n",
      "[2900]\tvalid_0's binary_logloss: 0.0150791\tvalid_0's auc: 0.998881\n",
      "[2950]\tvalid_0's binary_logloss: 0.0149721\tvalid_0's auc: 0.998892\n",
      "[3000]\tvalid_0's binary_logloss: 0.014862\tvalid_0's auc: 0.998901\n",
      "\n",
      "== fold 1 ==\n",
      "[50]\tvalid_0's binary_logloss: 0.0284537\tvalid_0's auc: 0.996185\n",
      "[100]\tvalid_0's binary_logloss: 0.0266672\tvalid_0's auc: 0.996669\n",
      "[150]\tvalid_0's binary_logloss: 0.0259495\tvalid_0's auc: 0.99688\n",
      "[200]\tvalid_0's binary_logloss: 0.0254105\tvalid_0's auc: 0.997034\n",
      "[250]\tvalid_0's binary_logloss: 0.024907\tvalid_0's auc: 0.997172\n",
      "[300]\tvalid_0's binary_logloss: 0.024425\tvalid_0's auc: 0.997287\n",
      "[350]\tvalid_0's binary_logloss: 0.0239793\tvalid_0's auc: 0.997402\n",
      "[400]\tvalid_0's binary_logloss: 0.0236397\tvalid_0's auc: 0.997478\n",
      "[450]\tvalid_0's binary_logloss: 0.0232814\tvalid_0's auc: 0.997562\n",
      "[500]\tvalid_0's binary_logloss: 0.0229537\tvalid_0's auc: 0.997639\n",
      "[550]\tvalid_0's binary_logloss: 0.0226385\tvalid_0's auc: 0.997705\n",
      "[600]\tvalid_0's binary_logloss: 0.0223726\tvalid_0's auc: 0.997761\n",
      "[650]\tvalid_0's binary_logloss: 0.022087\tvalid_0's auc: 0.997823\n",
      "[700]\tvalid_0's binary_logloss: 0.0218153\tvalid_0's auc: 0.997879\n",
      "[750]\tvalid_0's binary_logloss: 0.0215825\tvalid_0's auc: 0.997923\n",
      "[800]\tvalid_0's binary_logloss: 0.0213634\tvalid_0's auc: 0.997962\n",
      "[850]\tvalid_0's binary_logloss: 0.0211188\tvalid_0's auc: 0.998007\n",
      "[900]\tvalid_0's binary_logloss: 0.0208686\tvalid_0's auc: 0.99805\n",
      "[950]\tvalid_0's binary_logloss: 0.0206571\tvalid_0's auc: 0.998088\n",
      "[1000]\tvalid_0's binary_logloss: 0.020428\tvalid_0's auc: 0.99813\n",
      "[1050]\tvalid_0's binary_logloss: 0.0201927\tvalid_0's auc: 0.998172\n",
      "[1100]\tvalid_0's binary_logloss: 0.0199946\tvalid_0's auc: 0.998212\n",
      "[1150]\tvalid_0's binary_logloss: 0.0197533\tvalid_0's auc: 0.998259\n",
      "[1200]\tvalid_0's binary_logloss: 0.0195569\tvalid_0's auc: 0.99829\n",
      "[1250]\tvalid_0's binary_logloss: 0.0193693\tvalid_0's auc: 0.998322\n",
      "[1300]\tvalid_0's binary_logloss: 0.0191686\tvalid_0's auc: 0.998352\n",
      "[1350]\tvalid_0's binary_logloss: 0.0189817\tvalid_0's auc: 0.998379\n",
      "[1400]\tvalid_0's binary_logloss: 0.0188199\tvalid_0's auc: 0.998404\n",
      "[1450]\tvalid_0's binary_logloss: 0.0186502\tvalid_0's auc: 0.998431\n",
      "[1500]\tvalid_0's binary_logloss: 0.0185134\tvalid_0's auc: 0.998452\n",
      "[1550]\tvalid_0's binary_logloss: 0.0183545\tvalid_0's auc: 0.998477\n",
      "[1600]\tvalid_0's binary_logloss: 0.0182113\tvalid_0's auc: 0.998499\n",
      "[1650]\tvalid_0's binary_logloss: 0.0180561\tvalid_0's auc: 0.99852\n",
      "[1700]\tvalid_0's binary_logloss: 0.0178964\tvalid_0's auc: 0.998541\n",
      "[1750]\tvalid_0's binary_logloss: 0.0177436\tvalid_0's auc: 0.998563\n",
      "[1800]\tvalid_0's binary_logloss: 0.0176109\tvalid_0's auc: 0.99858\n",
      "[1850]\tvalid_0's binary_logloss: 0.017452\tvalid_0's auc: 0.998603\n",
      "[1900]\tvalid_0's binary_logloss: 0.0173092\tvalid_0's auc: 0.998621\n",
      "[1950]\tvalid_0's binary_logloss: 0.017164\tvalid_0's auc: 0.998641\n",
      "[2000]\tvalid_0's binary_logloss: 0.0170045\tvalid_0's auc: 0.998661\n",
      "[2050]\tvalid_0's binary_logloss: 0.0168721\tvalid_0's auc: 0.998675\n",
      "[2100]\tvalid_0's binary_logloss: 0.0167551\tvalid_0's auc: 0.998688\n",
      "[2150]\tvalid_0's binary_logloss: 0.0166173\tvalid_0's auc: 0.998703\n",
      "[2200]\tvalid_0's binary_logloss: 0.0165105\tvalid_0's auc: 0.998715\n",
      "[2250]\tvalid_0's binary_logloss: 0.0163837\tvalid_0's auc: 0.99873\n",
      "[2300]\tvalid_0's binary_logloss: 0.0162628\tvalid_0's auc: 0.998743\n",
      "[2350]\tvalid_0's binary_logloss: 0.0161696\tvalid_0's auc: 0.998753\n",
      "[2400]\tvalid_0's binary_logloss: 0.0160645\tvalid_0's auc: 0.998765\n",
      "[2450]\tvalid_0's binary_logloss: 0.0159536\tvalid_0's auc: 0.998779\n",
      "[2500]\tvalid_0's binary_logloss: 0.0158558\tvalid_0's auc: 0.998791\n",
      "[2550]\tvalid_0's binary_logloss: 0.0157448\tvalid_0's auc: 0.998804\n",
      "[2600]\tvalid_0's binary_logloss: 0.0156398\tvalid_0's auc: 0.998814\n",
      "[2650]\tvalid_0's binary_logloss: 0.0155302\tvalid_0's auc: 0.998826\n",
      "[2700]\tvalid_0's binary_logloss: 0.015422\tvalid_0's auc: 0.998836\n",
      "[2750]\tvalid_0's binary_logloss: 0.0153235\tvalid_0's auc: 0.998849\n",
      "[2800]\tvalid_0's binary_logloss: 0.0152236\tvalid_0's auc: 0.998859\n",
      "[2850]\tvalid_0's binary_logloss: 0.0151263\tvalid_0's auc: 0.99887\n",
      "[2900]\tvalid_0's binary_logloss: 0.0150389\tvalid_0's auc: 0.998879\n",
      "[2950]\tvalid_0's binary_logloss: 0.0149521\tvalid_0's auc: 0.998887\n",
      "[3000]\tvalid_0's binary_logloss: 0.0148518\tvalid_0's auc: 0.998897\n",
      "\n",
      "== fold 2 ==\n",
      "[50]\tvalid_0's binary_logloss: 0.0286278\tvalid_0's auc: 0.996064\n",
      "[100]\tvalid_0's binary_logloss: 0.0268707\tvalid_0's auc: 0.996615\n",
      "[150]\tvalid_0's binary_logloss: 0.0260796\tvalid_0's auc: 0.996836\n"
     ]
    },
    {
     "name": "stdout",
     "output_type": "stream",
     "text": [
      "[200]\tvalid_0's binary_logloss: 0.0254465\tvalid_0's auc: 0.99701\n",
      "[250]\tvalid_0's binary_logloss: 0.0248903\tvalid_0's auc: 0.997154\n",
      "[300]\tvalid_0's binary_logloss: 0.0244962\tvalid_0's auc: 0.99725\n",
      "[350]\tvalid_0's binary_logloss: 0.0240988\tvalid_0's auc: 0.997363\n",
      "[400]\tvalid_0's binary_logloss: 0.0237461\tvalid_0's auc: 0.997453\n",
      "[450]\tvalid_0's binary_logloss: 0.023406\tvalid_0's auc: 0.997539\n",
      "[500]\tvalid_0's binary_logloss: 0.0231145\tvalid_0's auc: 0.997604\n",
      "[550]\tvalid_0's binary_logloss: 0.0228231\tvalid_0's auc: 0.997665\n",
      "[600]\tvalid_0's binary_logloss: 0.0225422\tvalid_0's auc: 0.997717\n",
      "[650]\tvalid_0's binary_logloss: 0.0222601\tvalid_0's auc: 0.997773\n",
      "[700]\tvalid_0's binary_logloss: 0.0220047\tvalid_0's auc: 0.997822\n",
      "[750]\tvalid_0's binary_logloss: 0.0217762\tvalid_0's auc: 0.997865\n",
      "[800]\tvalid_0's binary_logloss: 0.0215335\tvalid_0's auc: 0.997918\n",
      "[850]\tvalid_0's binary_logloss: 0.021322\tvalid_0's auc: 0.997954\n",
      "[900]\tvalid_0's binary_logloss: 0.0210714\tvalid_0's auc: 0.998\n",
      "[950]\tvalid_0's binary_logloss: 0.0208481\tvalid_0's auc: 0.99804\n",
      "[1000]\tvalid_0's binary_logloss: 0.0206313\tvalid_0's auc: 0.998081\n",
      "[1050]\tvalid_0's binary_logloss: 0.0204364\tvalid_0's auc: 0.998119\n",
      "[1100]\tvalid_0's binary_logloss: 0.020221\tvalid_0's auc: 0.998152\n",
      "[1150]\tvalid_0's binary_logloss: 0.0200165\tvalid_0's auc: 0.99819\n",
      "[1200]\tvalid_0's binary_logloss: 0.0198169\tvalid_0's auc: 0.998228\n",
      "[1250]\tvalid_0's binary_logloss: 0.0196189\tvalid_0's auc: 0.998264\n",
      "[1300]\tvalid_0's binary_logloss: 0.0194279\tvalid_0's auc: 0.998296\n",
      "[1350]\tvalid_0's binary_logloss: 0.0192593\tvalid_0's auc: 0.99832\n",
      "[1400]\tvalid_0's binary_logloss: 0.019111\tvalid_0's auc: 0.998342\n",
      "[1450]\tvalid_0's binary_logloss: 0.0189496\tvalid_0's auc: 0.998369\n",
      "[1500]\tvalid_0's binary_logloss: 0.0188161\tvalid_0's auc: 0.99839\n",
      "[1550]\tvalid_0's binary_logloss: 0.0186334\tvalid_0's auc: 0.998418\n",
      "[1600]\tvalid_0's binary_logloss: 0.0184772\tvalid_0's auc: 0.99844\n",
      "[1650]\tvalid_0's binary_logloss: 0.0183212\tvalid_0's auc: 0.998463\n",
      "[1700]\tvalid_0's binary_logloss: 0.0181869\tvalid_0's auc: 0.998482\n",
      "[1750]\tvalid_0's binary_logloss: 0.0180319\tvalid_0's auc: 0.998503\n",
      "[1800]\tvalid_0's binary_logloss: 0.0178872\tvalid_0's auc: 0.998523\n",
      "[1850]\tvalid_0's binary_logloss: 0.0177661\tvalid_0's auc: 0.998539\n",
      "[1900]\tvalid_0's binary_logloss: 0.0176496\tvalid_0's auc: 0.998554\n",
      "[1950]\tvalid_0's binary_logloss: 0.01752\tvalid_0's auc: 0.998569\n",
      "[2000]\tvalid_0's binary_logloss: 0.017389\tvalid_0's auc: 0.998584\n",
      "[2050]\tvalid_0's binary_logloss: 0.0172419\tvalid_0's auc: 0.998604\n",
      "[2100]\tvalid_0's binary_logloss: 0.0171118\tvalid_0's auc: 0.998618\n",
      "[2150]\tvalid_0's binary_logloss: 0.0169956\tvalid_0's auc: 0.998633\n",
      "[2200]\tvalid_0's binary_logloss: 0.0168713\tvalid_0's auc: 0.998648\n",
      "[2250]\tvalid_0's binary_logloss: 0.0167491\tvalid_0's auc: 0.998664\n",
      "[2300]\tvalid_0's binary_logloss: 0.0166153\tvalid_0's auc: 0.99868\n",
      "[2350]\tvalid_0's binary_logloss: 0.0164957\tvalid_0's auc: 0.998693\n",
      "[2400]\tvalid_0's binary_logloss: 0.0163837\tvalid_0's auc: 0.998705\n",
      "[2450]\tvalid_0's binary_logloss: 0.0162936\tvalid_0's auc: 0.998716\n",
      "[2500]\tvalid_0's binary_logloss: 0.0162031\tvalid_0's auc: 0.998725\n",
      "[2550]\tvalid_0's binary_logloss: 0.0160806\tvalid_0's auc: 0.998739\n",
      "[2600]\tvalid_0's binary_logloss: 0.0159911\tvalid_0's auc: 0.998749\n",
      "[2650]\tvalid_0's binary_logloss: 0.0158902\tvalid_0's auc: 0.998759\n",
      "[2700]\tvalid_0's binary_logloss: 0.0157885\tvalid_0's auc: 0.998769\n",
      "[2750]\tvalid_0's binary_logloss: 0.0157044\tvalid_0's auc: 0.998778\n",
      "[2800]\tvalid_0's binary_logloss: 0.0156085\tvalid_0's auc: 0.998786\n",
      "[2850]\tvalid_0's binary_logloss: 0.0155166\tvalid_0's auc: 0.998795\n",
      "[2900]\tvalid_0's binary_logloss: 0.0154315\tvalid_0's auc: 0.998802\n",
      "[2950]\tvalid_0's binary_logloss: 0.0153296\tvalid_0's auc: 0.998812\n",
      "[3000]\tvalid_0's binary_logloss: 0.0152405\tvalid_0's auc: 0.998821\n",
      "\n",
      "== fold 3 ==\n",
      "[50]\tvalid_0's binary_logloss: 0.0284781\tvalid_0's auc: 0.996132\n",
      "[100]\tvalid_0's binary_logloss: 0.0268464\tvalid_0's auc: 0.996573\n",
      "[150]\tvalid_0's binary_logloss: 0.0259881\tvalid_0's auc: 0.996803\n",
      "[200]\tvalid_0's binary_logloss: 0.0254112\tvalid_0's auc: 0.996956\n",
      "[250]\tvalid_0's binary_logloss: 0.0249213\tvalid_0's auc: 0.997088\n",
      "[300]\tvalid_0's binary_logloss: 0.0245008\tvalid_0's auc: 0.997201\n",
      "[350]\tvalid_0's binary_logloss: 0.0240477\tvalid_0's auc: 0.997323\n",
      "[400]\tvalid_0's binary_logloss: 0.0237109\tvalid_0's auc: 0.997405\n",
      "[450]\tvalid_0's binary_logloss: 0.0233641\tvalid_0's auc: 0.997487\n",
      "[500]\tvalid_0's binary_logloss: 0.0229877\tvalid_0's auc: 0.997577\n",
      "[550]\tvalid_0's binary_logloss: 0.0227036\tvalid_0's auc: 0.99763\n",
      "[600]\tvalid_0's binary_logloss: 0.0224147\tvalid_0's auc: 0.997693\n",
      "[650]\tvalid_0's binary_logloss: 0.0221608\tvalid_0's auc: 0.99775\n",
      "[700]\tvalid_0's binary_logloss: 0.0219026\tvalid_0's auc: 0.997802\n",
      "[750]\tvalid_0's binary_logloss: 0.0216618\tvalid_0's auc: 0.997852\n",
      "[800]\tvalid_0's binary_logloss: 0.021384\tvalid_0's auc: 0.997911\n",
      "[850]\tvalid_0's binary_logloss: 0.0211496\tvalid_0's auc: 0.997959\n",
      "[900]\tvalid_0's binary_logloss: 0.0209117\tvalid_0's auc: 0.998007\n",
      "[950]\tvalid_0's binary_logloss: 0.0206851\tvalid_0's auc: 0.998051\n",
      "[1000]\tvalid_0's binary_logloss: 0.020482\tvalid_0's auc: 0.998088\n",
      "[1050]\tvalid_0's binary_logloss: 0.0202958\tvalid_0's auc: 0.998121\n",
      "[1100]\tvalid_0's binary_logloss: 0.0200774\tvalid_0's auc: 0.99816\n",
      "[1150]\tvalid_0's binary_logloss: 0.0198488\tvalid_0's auc: 0.9982\n",
      "[1200]\tvalid_0's binary_logloss: 0.01966\tvalid_0's auc: 0.99823\n",
      "[1250]\tvalid_0's binary_logloss: 0.019483\tvalid_0's auc: 0.998262\n",
      "[1300]\tvalid_0's binary_logloss: 0.0192741\tvalid_0's auc: 0.998301\n",
      "[1350]\tvalid_0's binary_logloss: 0.0190878\tvalid_0's auc: 0.998333\n",
      "[1400]\tvalid_0's binary_logloss: 0.0188876\tvalid_0's auc: 0.998365\n",
      "[1450]\tvalid_0's binary_logloss: 0.0187292\tvalid_0's auc: 0.998389\n",
      "[1500]\tvalid_0's binary_logloss: 0.0185676\tvalid_0's auc: 0.998411\n",
      "[1550]\tvalid_0's binary_logloss: 0.0183863\tvalid_0's auc: 0.998441\n",
      "[1600]\tvalid_0's binary_logloss: 0.0182277\tvalid_0's auc: 0.998462\n",
      "[1650]\tvalid_0's binary_logloss: 0.0180618\tvalid_0's auc: 0.998487\n",
      "[1700]\tvalid_0's binary_logloss: 0.0179313\tvalid_0's auc: 0.998506\n",
      "[1750]\tvalid_0's binary_logloss: 0.0177642\tvalid_0's auc: 0.998531\n",
      "[1800]\tvalid_0's binary_logloss: 0.0176245\tvalid_0's auc: 0.998551\n",
      "[1850]\tvalid_0's binary_logloss: 0.0174719\tvalid_0's auc: 0.99857\n",
      "[1900]\tvalid_0's binary_logloss: 0.0173372\tvalid_0's auc: 0.998592\n",
      "[1950]\tvalid_0's binary_logloss: 0.0172045\tvalid_0's auc: 0.998608\n",
      "[2000]\tvalid_0's binary_logloss: 0.0170704\tvalid_0's auc: 0.998625\n",
      "[2050]\tvalid_0's binary_logloss: 0.0169537\tvalid_0's auc: 0.998639\n",
      "[2100]\tvalid_0's binary_logloss: 0.0168309\tvalid_0's auc: 0.998653\n",
      "[2150]\tvalid_0's binary_logloss: 0.0167152\tvalid_0's auc: 0.998668\n",
      "[2200]\tvalid_0's binary_logloss: 0.0165871\tvalid_0's auc: 0.998684\n",
      "[2250]\tvalid_0's binary_logloss: 0.0164742\tvalid_0's auc: 0.998696\n",
      "[2300]\tvalid_0's binary_logloss: 0.0163557\tvalid_0's auc: 0.998708\n",
      "[2350]\tvalid_0's binary_logloss: 0.0162356\tvalid_0's auc: 0.998723\n",
      "[2400]\tvalid_0's binary_logloss: 0.0161121\tvalid_0's auc: 0.99874\n",
      "[2450]\tvalid_0's binary_logloss: 0.0160018\tvalid_0's auc: 0.998753\n",
      "[2500]\tvalid_0's binary_logloss: 0.0158702\tvalid_0's auc: 0.998767\n",
      "[2550]\tvalid_0's binary_logloss: 0.0157493\tvalid_0's auc: 0.998781\n",
      "[2600]\tvalid_0's binary_logloss: 0.0156417\tvalid_0's auc: 0.998793\n",
      "[2650]\tvalid_0's binary_logloss: 0.0155438\tvalid_0's auc: 0.998804\n",
      "[2700]\tvalid_0's binary_logloss: 0.0154363\tvalid_0's auc: 0.998815\n",
      "[2750]\tvalid_0's binary_logloss: 0.0153375\tvalid_0's auc: 0.998825\n",
      "[2800]\tvalid_0's binary_logloss: 0.015226\tvalid_0's auc: 0.998837\n",
      "[2850]\tvalid_0's binary_logloss: 0.0151181\tvalid_0's auc: 0.998848\n",
      "[2900]\tvalid_0's binary_logloss: 0.0150213\tvalid_0's auc: 0.998858\n",
      "[2950]\tvalid_0's binary_logloss: 0.0149373\tvalid_0's auc: 0.998868\n",
      "[3000]\tvalid_0's binary_logloss: 0.0148514\tvalid_0's auc: 0.998876\n",
      "\n",
      "== fold 4 ==\n"
     ]
    }
   ],
   "source": [
    "params = {\n",
    "    'boosting_type': 'gbdt', \n",
    "    'objective': 'binary', \n",
    "    'tree_learner': 'feature',\n",
    "    'metric': ['binary_logloss', 'AUC'],\n",
    "    'learning_rate': 0.3,\n",
    "    'reg_alpha': 0.1,\n",
    "    'reg_lambda': 0.682,\n",
    "    'random_state': 2018,\n",
    "    'max_depth': 9,\n",
    "    'num_leaves': 127, \n",
    "    'n_estimators': 3000,\n",
    "    \"colsample_bytree\": 0.785,\n",
    "    \"first_metric_only\": True,\n",
    "    \"max_bin\": 512\n",
    "}\n",
    "\n",
    "oof, models = fit_lgbm(train_df[TRAIN_FEATURES], train_df[\"label\"].astype(int), \n",
    "                       params=params, n_class=int(train_df[\"label\"].max() + 1), \n",
    "                       N_SPLITS=NFOLDS, folds=train_df[\"fold\"].values)"
   ]
  },
  {
   "cell_type": "code",
   "execution_count": null,
   "id": "da96f0b0",
   "metadata": {},
   "outputs": [],
   "source": [
    "def plot_importances(models):\n",
    "    importance_df = pd.DataFrame(models[0].feature_importances_, \n",
    "                                 index=TRAIN_FEATURES, \n",
    "                                 columns=['importance'])\\\n",
    "                        .sort_values(\"importance\", ascending=False)\n",
    "\n",
    "    plt.subplots(figsize=(len(TRAIN_FEATURES) // 4, 5))\n",
    "    plt.bar(importance_df.index, importance_df.importance)\n",
    "    plt.grid()\n",
    "    plt.xticks(rotation=90)\n",
    "    plt.ylabel(\"importance\")\n",
    "    plt.tight_layout()\n",
    "    plt.show()\n",
    "\n",
    "plot_importances(models)"
   ]
  },
  {
   "cell_type": "code",
   "execution_count": 31,
   "id": "468b1100",
   "metadata": {},
   "outputs": [],
   "source": [
    "# !kaggle datasets init -p ../src/models/BinaryModels"
   ]
  },
  {
   "cell_type": "code",
   "execution_count": 32,
   "id": "9bad329d",
   "metadata": {},
   "outputs": [],
   "source": [
    "# !kaggle datasets create -p ../src/models/BinaryModels --dir-mode zip"
   ]
  },
  {
   "cell_type": "code",
   "execution_count": null,
   "id": "6f2d2b64",
   "metadata": {},
   "outputs": [],
   "source": [
    "!kaggle datasets version -m \"NewModel\" -p ../src/models/BinaryModels --dir-mode zip"
   ]
  },
  {
   "cell_type": "code",
   "execution_count": null,
   "id": "44e6840e",
   "metadata": {},
   "outputs": [],
   "source": []
  }
 ],
 "metadata": {
  "kernelspec": {
   "display_name": "Python 3",
   "language": "python",
   "name": "python3"
  },
  "language_info": {
   "codemirror_mode": {
    "name": "ipython",
    "version": 3
   },
   "file_extension": ".py",
   "mimetype": "text/x-python",
   "name": "python",
   "nbconvert_exporter": "python",
   "pygments_lexer": "ipython3",
   "version": "3.6.13"
  }
 },
 "nbformat": 4,
 "nbformat_minor": 5
}
