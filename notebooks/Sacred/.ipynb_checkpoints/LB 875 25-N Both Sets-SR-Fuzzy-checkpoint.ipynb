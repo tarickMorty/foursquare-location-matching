{
 "cells": [
  {
   "cell_type": "code",
   "execution_count": 1,
   "id": "95c8cfa8",
   "metadata": {},
   "outputs": [],
   "source": [
    "import pandas as pd\n",
    "import numpy as np\n",
    "import lightgbm as lgb\n",
    "import matplotlib.pyplot as plt\n",
    "from tqdm.auto import tqdm\n",
    "import os\n",
    "import gc\n",
    "import random\n",
    "from sklearn.model_selection import GroupKFold, KFold, StratifiedKFold\n",
    "import seaborn as sns\n",
    "import pickle\n",
    "import json\n",
    "import re\n",
    "import time\n",
    "import sys\n",
    "pd.set_option('display.max_rows', 500)\n",
    "pd.set_option('display.max_columns', 500)\n",
    "\n",
    "import warnings\n",
    "warnings.filterwarnings('ignore')"
   ]
  },
  {
   "cell_type": "code",
   "execution_count": 2,
   "id": "e3fd22ff",
   "metadata": {},
   "outputs": [],
   "source": [
    "tfn1 = 'train_data_sr_25n_'\n",
    "tfn2 = 'valid_data_sr_25n_'\n",
    "\n",
    "ffn1 = 'train_fuzz_sr_25n_'\n",
    "ffn2 = 'valid_fuzz_sr_25n_'\n",
    "\n",
    "nsets = 3\n",
    "model_file_name = 'lgb_fuzz_t25_sr_2set_5f'"
   ]
  },
  {
   "cell_type": "code",
   "execution_count": 12,
   "id": "1cfd2b9b",
   "metadata": {},
   "outputs": [],
   "source": [
    "tdata = pd.read_csv('../src/data/raw/train.csv')\n",
    "tdata['name'] = tdata['name'].isna().astype(int)\n",
    "tdata['categories'] = tdata['categories'].isna().astype(int)\n",
    "tdata['address'] = tdata['address'].isna().astype(int)\n",
    "tdata['state'] = tdata['state'].isna().astype(int)\n",
    "tdata['url'] = tdata['url'].isna().astype(int)\n",
    "tdata['country'] = tdata['country'].isna().astype(int)\n",
    "\n",
    "tdata = tdata[['id','name', 'categories', 'address', 'state', \n",
    "               'url', 'country']].drop_duplicates().reset_index(drop=True)"
   ]
  },
  {
   "cell_type": "code",
   "execution_count": 13,
   "id": "fd9d25ac",
   "metadata": {},
   "outputs": [],
   "source": [
    "def prepare_data(df_set, fuzz_set):\n",
    "    \n",
    "    train_df = []\n",
    "    \n",
    "    for i in range(1, nsets+1):\n",
    "    \n",
    "        t1 = pd.read_csv('../src/data/processed/'+df_set+str(i)+'.csv')\n",
    "        print(t1.shape)\n",
    "        t1['kdist_diff'] = (t1['kdist'] - t1['kdist_country'])/t1['kdist_country']\n",
    "        t1['kneighbors_mean'] = t1[['kneighbors', 'kneighbors_country']].mean(axis = 1)\n",
    "        \n",
    "        t1['sim_mean'] = t1[[col for col in t1.columns if 'sim' in col]].mean(axis=1)\n",
    "        t1['jaro_mean'] = t1[[col for col in t1.columns if 'jaro' in col]].mean(axis=1)\n",
    "        t1['lcs_mean'] = t1[[col for col in t1.columns if '_lcs' in col]].mean(axis=1)        \n",
    "        \n",
    "        t1['sim_sum'] = t1[[col for col in t1.columns if 'sim' in col]].sum(axis=1)\n",
    "        t1['gesh_sum'] = t1[[col for col in t1.columns if 'gesh' in col]].sum(axis=1)\n",
    "        t1['leven_sum'] = t1[[col for col in t1.columns if '_leven' in col]].sum(axis=1)\n",
    "        t1['jaro_sum'] = t1[[col for col in t1.columns if 'jaro' in col]].sum(axis=1)\n",
    "        t1['lcs_sum'] = t1[[col for col in t1.columns if '_lcs' in col]].sum(axis=1)\n",
    "        t1['nlcsk_sum'] = t1[[col for col in t1.columns if '_nlcsk' in col]].sum(axis=1)\n",
    "        t1['nleven_sum'] = t1[[col for col in t1.columns if '_nleven' in col]].sum(axis=1)\n",
    "        t1['nlcs_sum'] = t1[[col for col in t1.columns if '_nlcs' in col]].sum(axis=1)\n",
    "\n",
    "        t1['sim_std'] = t1[[col for col in t1.columns if 'sim' in col]].std(axis=1)\n",
    "        t1['gesh_std'] = t1[[col for col in t1.columns if 'gesh' in col]].std(axis=1)\n",
    "        t1['leven_std'] = t1[[col for col in t1.columns if '_leven' in col]].std(axis=1)\n",
    "        t1['jaro_std'] = t1[[col for col in t1.columns if 'jaro' in col]].std(axis=1)\n",
    "        t1['lcs_std'] = t1[[col for col in t1.columns if '_lcs' in col]].std(axis=1)\n",
    "        t1['nlcsk_std'] = t1[[col for col in t1.columns if '_nlcsk' in col]].std(axis=1)\n",
    "        t1['nleven_std'] = t1[[col for col in t1.columns if '_nleven' in col]].std(axis=1)\n",
    "        t1['nlcs_std'] = t1[[col for col in t1.columns if '_nlcs' in col]].std(axis=1)\n",
    "\n",
    "        t1 = t1.merge(tdata, on='id', how='left')\n",
    "        t1 = t1.merge(tdata, left_on='match_id', right_on='id', how='left', suffixes=['_1','_2'])\n",
    "        t1 = t1.drop('id_2', axis=1).rename(columns={'id_1':'id'})\n",
    "        \n",
    "        t1['info_power_1'] = t1[[col for col in t1.columns if '_1' in col]].lt(1).sum(axis=1)\n",
    "        t1['info_power_2'] = t1[[col for col in t1.columns if '_2' in col]].lt(1).sum(axis=1)\n",
    "        t1['info_diff'] = t1['info_power_1'] - t1['info_power_2']\n",
    "        \n",
    "        t1['kdist_diff_x_info_diff'] = t1['kdist_diff']*t1['info_diff']\n",
    "        \n",
    "        t1 = t1.drop([col for col in t1.columns if '_1' in col], axis=1)\n",
    "        t1 = t1.drop([col for col in t1.columns if '_2' in col], axis=1)\n",
    "        gc.collect()\n",
    "        \n",
    "        f1 = pd.read_csv('../src/data/processed/'+fuzz_set+str(i)+'.csv')\n",
    "        f1 = f1.drop(['id','match_id','kdist','kneighbors','kdist_country','kneighbors_country','label'], axis=1)\n",
    "        \n",
    "        t1 = pd.concat([t1, f1], axis=1)\n",
    "        \n",
    "        del f1\n",
    "        gc.collect()\n",
    "        \n",
    "        train_df.append(t1)\n",
    "        \n",
    "        del t1\n",
    "        gc.collect()\n",
    "    \n",
    "    return train_df"
   ]
  },
  {
   "cell_type": "code",
   "execution_count": 14,
   "id": "a8d87800",
   "metadata": {},
   "outputs": [
    {
     "name": "stdout",
     "output_type": "stream",
     "text": [
      "(6278655, 77)\n",
      "(6276648, 77)\n",
      "(6284968, 77)\n",
      "CPU times: user 7min 18s, sys: 2min 36s, total: 9min 54s\n",
      "Wall time: 9min 57s\n"
     ]
    }
   ],
   "source": [
    "%%time\n",
    "train_df = prepare_data(tfn1, ffn1)"
   ]
  },
  {
   "cell_type": "code",
   "execution_count": 15,
   "id": "68adf156",
   "metadata": {},
   "outputs": [
    {
     "name": "stdout",
     "output_type": "stream",
     "text": [
      "CPU times: user 22.8 s, sys: 16.6 s, total: 39.4 s\n",
      "Wall time: 39.4 s\n"
     ]
    }
   ],
   "source": [
    "%%time\n",
    "train_df = pd.concat(train_df).reset_index(drop=True)"
   ]
  },
  {
   "cell_type": "code",
   "execution_count": 16,
   "id": "8184a3ec",
   "metadata": {},
   "outputs": [
    {
     "data": {
      "text/plain": [
       "(18840271, 115)"
      ]
     },
     "execution_count": 16,
     "metadata": {},
     "output_type": "execute_result"
    }
   ],
   "source": [
    "train_df.shape"
   ]
  },
  {
   "cell_type": "code",
   "execution_count": 17,
   "id": "b21cd10d",
   "metadata": {},
   "outputs": [
    {
     "name": "stdout",
     "output_type": "stream",
     "text": [
      "(6218388, 77)\n",
      "(6249423, 77)\n",
      "(6232077, 77)\n",
      "CPU times: user 7min 14s, sys: 2min 36s, total: 9min 51s\n",
      "Wall time: 9min 54s\n"
     ]
    }
   ],
   "source": [
    "%%time\n",
    "valid_df = prepare_data(tfn2, ffn2)"
   ]
  },
  {
   "cell_type": "code",
   "execution_count": 18,
   "id": "bb09384c",
   "metadata": {},
   "outputs": [
    {
     "name": "stdout",
     "output_type": "stream",
     "text": [
      "CPU times: user 25.6 s, sys: 18.2 s, total: 43.8 s\n",
      "Wall time: 43.8 s\n"
     ]
    }
   ],
   "source": [
    "%%time\n",
    "valid_df = pd.concat(valid_df).reset_index(drop=True)"
   ]
  },
  {
   "cell_type": "code",
   "execution_count": 19,
   "id": "7b852379",
   "metadata": {},
   "outputs": [
    {
     "data": {
      "text/plain": [
       "(18699888, 115)"
      ]
     },
     "execution_count": 19,
     "metadata": {},
     "output_type": "execute_result"
    }
   ],
   "source": [
    "valid_df.shape"
   ]
  },
  {
   "cell_type": "code",
   "execution_count": 20,
   "id": "40dd4e88",
   "metadata": {},
   "outputs": [
    {
     "data": {
      "text/plain": [
       "0    17804136\n",
       "1     1036135\n",
       "Name: label, dtype: int64"
      ]
     },
     "execution_count": 20,
     "metadata": {},
     "output_type": "execute_result"
    }
   ],
   "source": [
    "train_df.label.value_counts()"
   ]
  },
  {
   "cell_type": "code",
   "execution_count": 21,
   "id": "7f62da50",
   "metadata": {},
   "outputs": [
    {
     "data": {
      "text/plain": [
       "0    17670164\n",
       "1     1029724\n",
       "Name: label, dtype: int64"
      ]
     },
     "execution_count": 21,
     "metadata": {},
     "output_type": "execute_result"
    }
   ],
   "source": [
    "valid_df.label.value_counts()"
   ]
  },
  {
   "cell_type": "code",
   "execution_count": 22,
   "id": "cc249e6e",
   "metadata": {},
   "outputs": [
    {
     "name": "stdout",
     "output_type": "stream",
     "text": [
      "CPU times: user 54.4 s, sys: 52.4 s, total: 1min 46s\n",
      "Wall time: 1min 46s\n"
     ]
    },
    {
     "data": {
      "text/plain": [
       "0"
      ]
     },
     "execution_count": 22,
     "metadata": {},
     "output_type": "execute_result"
    }
   ],
   "source": [
    "%%time\n",
    "train_df = pd.concat([train_df, valid_df], axis=0).reset_index(drop=True)\n",
    "\n",
    "del valid_df\n",
    "gc.collect()"
   ]
  },
  {
   "cell_type": "code",
   "execution_count": 28,
   "id": "a81cbd7c",
   "metadata": {},
   "outputs": [],
   "source": [
    "TRAIN_FEATURES = ['kdist', 'kneighbors', 'kdist_country', 'kneighbors_country', 'name_sim', 'name_gesh','name_leven', \n",
    "                'name_jaro', 'name_lcs', 'name_len_diff', 'name_nleven', 'name_nlcsk', 'name_nlcs', 'address_sim', \n",
    "                'address_gesh', 'address_leven', 'address_jaro', 'address_lcs', 'address_len_diff', 'address_nleven', \n",
    "                'address_nlcsk', 'address_nlcs', 'city_gesh', 'city_leven', 'city_jaro', 'city_lcs', 'city_len_diff', \n",
    "                'city_nleven', 'city_nlcsk', 'city_nlcs', 'state_sim', 'state_gesh', 'state_leven', 'state_jaro', \n",
    "                'state_lcs', 'state_len_diff', 'state_nleven', 'state_nlcsk', 'state_nlcs', 'zip_gesh', 'zip_leven', \n",
    "                'zip_jaro', 'zip_lcs', 'url_sim', 'url_gesh', 'url_leven', 'url_jaro', 'url_lcs', 'url_len_diff', \n",
    "                'url_nleven', 'url_nlcsk', 'url_nlcs', 'phone_gesh', 'phone_leven', 'phone_jaro', 'phone_lcs', \n",
    "                'categories_sim', 'categories_gesh', 'categories_leven', 'categories_jaro', 'categories_lcs', \n",
    "                'categories_len_diff', 'categories_nleven', 'categories_nlcsk', 'categories_nlcs', 'country_sim', \n",
    "                'country_gesh', 'country_leven', 'country_nleven', 'kdist_diff', 'kneighbors_mean', \n",
    "                'sim_sum', 'gesh_sum', 'leven_sum', 'jaro_sum','lcs_sum', 'sim_std', 'gesh_std', 'leven_std',\n",
    "                'jaro_std', 'lcs_std', 'info_diff', 'nleven_sum', 'nlcsk_sum', 'nlcs_sum', 'nleven_std', \n",
    "                'nlcsk_std', 'nlcs_std', 'sim_mean','jaro_mean','lcs_mean','kdist_diff_x_info_diff',\n",
    "                'name_w_ratio', 'name_partial_ratio', 'name_tokenset_ratio', 'name_tokensort_ratio', \n",
    "                'name_fuzz_power', 'categories_w_ratio', 'categories_partial_ratio', 'categories_tokenset_ratio', \n",
    "                'categories_tokensort_ratio', 'categories_fuzz_power', 'address_w_ratio', 'address_partial_ratio', \n",
    "                'address_tokenset_ratio', 'address_tokensort_ratio', 'address_fuzz_power', \n",
    "#                 'url_w_ratio', 'url_partial_ratio', 'url_tokenset_ratio', 'url_tokensort_ratio', 'url_fuzz_power'\n",
    "                 ]"
   ]
  },
  {
   "cell_type": "code",
   "execution_count": 24,
   "id": "09dfdf5e",
   "metadata": {},
   "outputs": [
    {
     "data": {
      "application/vnd.jupyter.widget-view+json": {
       "model_id": "c4e74bbce37740ffb68a32d56055d7d3",
       "version_major": 2,
       "version_minor": 0
      },
      "text/plain": [
       "0it [00:00, ?it/s]"
      ]
     },
     "metadata": {},
     "output_type": "display_data"
    },
    {
     "name": "stdout",
     "output_type": "stream",
     "text": [
      "CPU times: user 54.9 s, sys: 33.9 s, total: 1min 28s\n",
      "Wall time: 1min 28s\n"
     ]
    }
   ],
   "source": [
    "%%time\n",
    "NFOLDS = 5\n",
    "kf = StratifiedKFold(n_splits = NFOLDS, shuffle=True, random_state=42)\n",
    "for i, (trn_idx, val_idx) in tqdm(enumerate(kf.split(train_df, train_df[\"label\"], train_df[\"label\"]))):\n",
    "    train_df.loc[val_idx, \"fold\"] = i"
   ]
  },
  {
   "cell_type": "code",
   "execution_count": 25,
   "id": "958180f3",
   "metadata": {},
   "outputs": [
    {
     "data": {
      "text/plain": [
       "0    0.944969\n",
       "1    0.055031\n",
       "Name: label, dtype: float64"
      ]
     },
     "execution_count": 25,
     "metadata": {},
     "output_type": "execute_result"
    }
   ],
   "source": [
    "train_df.label.value_counts()/len(train_df)"
   ]
  },
  {
   "cell_type": "code",
   "execution_count": 26,
   "id": "bd82fe70",
   "metadata": {},
   "outputs": [],
   "source": [
    "import lightgbm as lgbm\n",
    "\n",
    "def fit_lgbm(X, y, params=None, es_rounds=20, seed=42, N_SPLITS=5, \n",
    "             n_class=None, model_dir=None, folds=None):\n",
    "    \n",
    "    models = []\n",
    "    oof = np.zeros((len(y), n_class), dtype=np.float64)\n",
    "    \n",
    "    for i in tqdm(range(NFOLDS)):\n",
    "        print(f\"== fold {i} ==\")\n",
    "        trn_idx = folds!=i\n",
    "        val_idx = folds==i\n",
    "        X_train, y_train = X[trn_idx], y.iloc[trn_idx]\n",
    "        X_valid, y_valid = X.iloc[val_idx], y.iloc[val_idx]\n",
    "\n",
    "        if model_dir is None:\n",
    "            model = lgbm.LGBMClassifier(**params)\n",
    "            model.fit(\n",
    "                X_train, y_train, \n",
    "                eval_set=[(X_valid, y_valid)],  \n",
    "                early_stopping_rounds=es_rounds, \n",
    "                verbose=50)\n",
    "        else:\n",
    "            with open(f'../src/models/BinaryModels/{model_file_name}{i}.pkl', 'rb') as f:\n",
    "                model = pickle.load(f)\n",
    "            \n",
    "        pred = model.predict_proba(X_valid)\n",
    "        oof[val_idx] = pred\n",
    "        models.append(model)\n",
    "        \n",
    "        file = f'../src/models/BinaryModels/{model_file_name}{i}.pkl'\n",
    "        pickle.dump(model, open(file, 'wb'))\n",
    "        print()\n",
    "\n",
    "    cv = (oof.argmax(axis=-1) == y).mean()\n",
    "    print(f\"CV-accuracy: {cv}\")\n",
    "\n",
    "    return oof, models\n",
    "\n",
    "def inference_lgbm(models, feat_df):\n",
    "    pred = np.array([model.predict_proba(feat_df) for model in models])\n",
    "    pred = np.mean(pred, axis=0)\n",
    "    return pred"
   ]
  },
  {
   "cell_type": "code",
   "execution_count": 29,
   "id": "87b3e26c",
   "metadata": {
    "scrolled": true
   },
   "outputs": [
    {
     "data": {
      "application/vnd.jupyter.widget-view+json": {
       "model_id": "5f09e084e9c84f26b20d66a6da44f861",
       "version_major": 2,
       "version_minor": 0
      },
      "text/plain": [
       "  0%|          | 0/5 [00:00<?, ?it/s]"
      ]
     },
     "metadata": {},
     "output_type": "display_data"
    },
    {
     "name": "stdout",
     "output_type": "stream",
     "text": [
      "== fold 0 ==\n",
      "[50]\tvalid_0's binary_logloss: 0.0317212\tvalid_0's auc: 0.994913\n",
      "[100]\tvalid_0's binary_logloss: 0.03016\tvalid_0's auc: 0.995443\n",
      "[150]\tvalid_0's binary_logloss: 0.029396\tvalid_0's auc: 0.995699\n",
      "[200]\tvalid_0's binary_logloss: 0.0288572\tvalid_0's auc: 0.995915\n",
      "[250]\tvalid_0's binary_logloss: 0.0282678\tvalid_0's auc: 0.996094\n",
      "[300]\tvalid_0's binary_logloss: 0.0278614\tvalid_0's auc: 0.996229\n",
      "[350]\tvalid_0's binary_logloss: 0.0274806\tvalid_0's auc: 0.996331\n",
      "[400]\tvalid_0's binary_logloss: 0.0270848\tvalid_0's auc: 0.996433\n",
      "[450]\tvalid_0's binary_logloss: 0.0267774\tvalid_0's auc: 0.996525\n",
      "[500]\tvalid_0's binary_logloss: 0.0264691\tvalid_0's auc: 0.996614\n",
      "[550]\tvalid_0's binary_logloss: 0.0261961\tvalid_0's auc: 0.996687\n",
      "[600]\tvalid_0's binary_logloss: 0.0259201\tvalid_0's auc: 0.996759\n",
      "[650]\tvalid_0's binary_logloss: 0.0256411\tvalid_0's auc: 0.996832\n",
      "[700]\tvalid_0's binary_logloss: 0.0254134\tvalid_0's auc: 0.996892\n",
      "[750]\tvalid_0's binary_logloss: 0.0251785\tvalid_0's auc: 0.996956\n",
      "[800]\tvalid_0's binary_logloss: 0.0249423\tvalid_0's auc: 0.997017\n",
      "[850]\tvalid_0's binary_logloss: 0.02473\tvalid_0's auc: 0.997072\n",
      "[900]\tvalid_0's binary_logloss: 0.0245048\tvalid_0's auc: 0.997123\n",
      "[950]\tvalid_0's binary_logloss: 0.0242954\tvalid_0's auc: 0.99717\n",
      "[1000]\tvalid_0's binary_logloss: 0.0241039\tvalid_0's auc: 0.997216\n",
      "[1050]\tvalid_0's binary_logloss: 0.0239041\tvalid_0's auc: 0.99726\n",
      "[1100]\tvalid_0's binary_logloss: 0.0237124\tvalid_0's auc: 0.9973\n",
      "[1150]\tvalid_0's binary_logloss: 0.0235052\tvalid_0's auc: 0.997344\n",
      "[1200]\tvalid_0's binary_logloss: 0.0233149\tvalid_0's auc: 0.997381\n",
      "[1250]\tvalid_0's binary_logloss: 0.0231616\tvalid_0's auc: 0.997411\n",
      "[1300]\tvalid_0's binary_logloss: 0.0229698\tvalid_0's auc: 0.997453\n",
      "[1350]\tvalid_0's binary_logloss: 0.0227893\tvalid_0's auc: 0.997492\n",
      "[1400]\tvalid_0's binary_logloss: 0.022629\tvalid_0's auc: 0.997521\n",
      "[1450]\tvalid_0's binary_logloss: 0.0224232\tvalid_0's auc: 0.997564\n",
      "[1500]\tvalid_0's binary_logloss: 0.0222355\tvalid_0's auc: 0.997601\n",
      "[1550]\tvalid_0's binary_logloss: 0.022076\tvalid_0's auc: 0.99763\n",
      "[1600]\tvalid_0's binary_logloss: 0.0219327\tvalid_0's auc: 0.997655\n",
      "[1650]\tvalid_0's binary_logloss: 0.0217613\tvalid_0's auc: 0.997689\n",
      "[1700]\tvalid_0's binary_logloss: 0.0216167\tvalid_0's auc: 0.997715\n",
      "[1750]\tvalid_0's binary_logloss: 0.021457\tvalid_0's auc: 0.997747\n",
      "[1800]\tvalid_0's binary_logloss: 0.021321\tvalid_0's auc: 0.997772\n",
      "[1850]\tvalid_0's binary_logloss: 0.0211573\tvalid_0's auc: 0.997802\n",
      "[1900]\tvalid_0's binary_logloss: 0.0210062\tvalid_0's auc: 0.99783\n",
      "[1950]\tvalid_0's binary_logloss: 0.02088\tvalid_0's auc: 0.997852\n",
      "[2000]\tvalid_0's binary_logloss: 0.0207623\tvalid_0's auc: 0.997871\n",
      "[2050]\tvalid_0's binary_logloss: 0.0206202\tvalid_0's auc: 0.997895\n",
      "[2100]\tvalid_0's binary_logloss: 0.0204868\tvalid_0's auc: 0.997923\n",
      "[2150]\tvalid_0's binary_logloss: 0.0203496\tvalid_0's auc: 0.997946\n",
      "[2200]\tvalid_0's binary_logloss: 0.0202174\tvalid_0's auc: 0.997968\n",
      "[2250]\tvalid_0's binary_logloss: 0.0201079\tvalid_0's auc: 0.997986\n",
      "[2300]\tvalid_0's binary_logloss: 0.0199764\tvalid_0's auc: 0.998009\n",
      "[2350]\tvalid_0's binary_logloss: 0.0198497\tvalid_0's auc: 0.998029\n",
      "[2400]\tvalid_0's binary_logloss: 0.0197355\tvalid_0's auc: 0.998047\n",
      "[2450]\tvalid_0's binary_logloss: 0.0196094\tvalid_0's auc: 0.998065\n",
      "[2500]\tvalid_0's binary_logloss: 0.0194837\tvalid_0's auc: 0.998084\n",
      "[2550]\tvalid_0's binary_logloss: 0.0193643\tvalid_0's auc: 0.9981\n",
      "[2600]\tvalid_0's binary_logloss: 0.0192439\tvalid_0's auc: 0.998117\n",
      "[2650]\tvalid_0's binary_logloss: 0.0191476\tvalid_0's auc: 0.998131\n",
      "[2700]\tvalid_0's binary_logloss: 0.0190489\tvalid_0's auc: 0.998144\n",
      "[2750]\tvalid_0's binary_logloss: 0.0189436\tvalid_0's auc: 0.998158\n",
      "[2800]\tvalid_0's binary_logloss: 0.0188537\tvalid_0's auc: 0.998171\n",
      "[2850]\tvalid_0's binary_logloss: 0.018758\tvalid_0's auc: 0.998186\n",
      "[2900]\tvalid_0's binary_logloss: 0.0186616\tvalid_0's auc: 0.998197\n",
      "[2950]\tvalid_0's binary_logloss: 0.0185682\tvalid_0's auc: 0.998209\n",
      "[3000]\tvalid_0's binary_logloss: 0.0184786\tvalid_0's auc: 0.99822\n",
      "\n",
      "== fold 1 ==\n",
      "[50]\tvalid_0's binary_logloss: 0.0318802\tvalid_0's auc: 0.994861\n",
      "[100]\tvalid_0's binary_logloss: 0.0302693\tvalid_0's auc: 0.995453\n",
      "[150]\tvalid_0's binary_logloss: 0.0295363\tvalid_0's auc: 0.995696\n",
      "[200]\tvalid_0's binary_logloss: 0.0288921\tvalid_0's auc: 0.995905\n",
      "[250]\tvalid_0's binary_logloss: 0.0283714\tvalid_0's auc: 0.996074\n",
      "[300]\tvalid_0's binary_logloss: 0.0280218\tvalid_0's auc: 0.99617\n",
      "[350]\tvalid_0's binary_logloss: 0.027678\tvalid_0's auc: 0.996277\n",
      "[400]\tvalid_0's binary_logloss: 0.0273572\tvalid_0's auc: 0.996373\n",
      "[450]\tvalid_0's binary_logloss: 0.027001\tvalid_0's auc: 0.996482\n",
      "[500]\tvalid_0's binary_logloss: 0.0266479\tvalid_0's auc: 0.996588\n",
      "[550]\tvalid_0's binary_logloss: 0.026386\tvalid_0's auc: 0.996667\n",
      "[600]\tvalid_0's binary_logloss: 0.026126\tvalid_0's auc: 0.996733\n",
      "[650]\tvalid_0's binary_logloss: 0.0258744\tvalid_0's auc: 0.996798\n",
      "[700]\tvalid_0's binary_logloss: 0.0256061\tvalid_0's auc: 0.996868\n",
      "[750]\tvalid_0's binary_logloss: 0.025336\tvalid_0's auc: 0.996932\n",
      "[800]\tvalid_0's binary_logloss: 0.0251135\tvalid_0's auc: 0.996981\n",
      "[850]\tvalid_0's binary_logloss: 0.0248701\tvalid_0's auc: 0.997041\n",
      "[900]\tvalid_0's binary_logloss: 0.0246314\tvalid_0's auc: 0.997095\n",
      "[950]\tvalid_0's binary_logloss: 0.0243979\tvalid_0's auc: 0.997157\n",
      "[1000]\tvalid_0's binary_logloss: 0.0241801\tvalid_0's auc: 0.997206\n",
      "[1050]\tvalid_0's binary_logloss: 0.0239828\tvalid_0's auc: 0.997244\n",
      "[1100]\tvalid_0's binary_logloss: 0.0238001\tvalid_0's auc: 0.997284\n",
      "[1150]\tvalid_0's binary_logloss: 0.0236257\tvalid_0's auc: 0.997323\n",
      "[1200]\tvalid_0's binary_logloss: 0.0234423\tvalid_0's auc: 0.997366\n",
      "[1250]\tvalid_0's binary_logloss: 0.0232561\tvalid_0's auc: 0.997408\n",
      "[1300]\tvalid_0's binary_logloss: 0.0230658\tvalid_0's auc: 0.99745\n",
      "[1350]\tvalid_0's binary_logloss: 0.0228797\tvalid_0's auc: 0.997489\n",
      "[1400]\tvalid_0's binary_logloss: 0.022711\tvalid_0's auc: 0.997524\n",
      "[1450]\tvalid_0's binary_logloss: 0.022542\tvalid_0's auc: 0.997561\n",
      "[1500]\tvalid_0's binary_logloss: 0.0223662\tvalid_0's auc: 0.997596\n",
      "[1550]\tvalid_0's binary_logloss: 0.0221891\tvalid_0's auc: 0.997631\n",
      "[1600]\tvalid_0's binary_logloss: 0.0220305\tvalid_0's auc: 0.997667\n",
      "[1650]\tvalid_0's binary_logloss: 0.0218721\tvalid_0's auc: 0.997695\n",
      "[1700]\tvalid_0's binary_logloss: 0.0217236\tvalid_0's auc: 0.997723\n",
      "[1750]\tvalid_0's binary_logloss: 0.0215773\tvalid_0's auc: 0.997751\n",
      "[1800]\tvalid_0's binary_logloss: 0.021446\tvalid_0's auc: 0.997776\n",
      "[1850]\tvalid_0's binary_logloss: 0.0213137\tvalid_0's auc: 0.9978\n",
      "[1900]\tvalid_0's binary_logloss: 0.0211783\tvalid_0's auc: 0.997825\n",
      "[1950]\tvalid_0's binary_logloss: 0.021037\tvalid_0's auc: 0.997852\n",
      "[2000]\tvalid_0's binary_logloss: 0.0209123\tvalid_0's auc: 0.997873\n",
      "[2050]\tvalid_0's binary_logloss: 0.0207905\tvalid_0's auc: 0.997893\n",
      "[2100]\tvalid_0's binary_logloss: 0.0206555\tvalid_0's auc: 0.997921\n",
      "[2150]\tvalid_0's binary_logloss: 0.0205361\tvalid_0's auc: 0.997937\n",
      "[2200]\tvalid_0's binary_logloss: 0.0204123\tvalid_0's auc: 0.997956\n",
      "[2250]\tvalid_0's binary_logloss: 0.0202892\tvalid_0's auc: 0.997975\n",
      "[2300]\tvalid_0's binary_logloss: 0.0201536\tvalid_0's auc: 0.997998\n",
      "[2350]\tvalid_0's binary_logloss: 0.0200006\tvalid_0's auc: 0.998022\n",
      "[2400]\tvalid_0's binary_logloss: 0.0198698\tvalid_0's auc: 0.998045\n",
      "[2450]\tvalid_0's binary_logloss: 0.0197619\tvalid_0's auc: 0.998062\n",
      "[2500]\tvalid_0's binary_logloss: 0.0196364\tvalid_0's auc: 0.998079\n",
      "[2550]\tvalid_0's binary_logloss: 0.0195223\tvalid_0's auc: 0.998096\n",
      "[2600]\tvalid_0's binary_logloss: 0.0194341\tvalid_0's auc: 0.998109\n",
      "[2650]\tvalid_0's binary_logloss: 0.0193319\tvalid_0's auc: 0.998124\n",
      "[2700]\tvalid_0's binary_logloss: 0.0192279\tvalid_0's auc: 0.998138\n",
      "[2750]\tvalid_0's binary_logloss: 0.0191251\tvalid_0's auc: 0.998155\n",
      "[2800]\tvalid_0's binary_logloss: 0.0190215\tvalid_0's auc: 0.99817\n",
      "[2850]\tvalid_0's binary_logloss: 0.0189091\tvalid_0's auc: 0.998186\n",
      "[2900]\tvalid_0's binary_logloss: 0.0188326\tvalid_0's auc: 0.998199\n",
      "[2950]\tvalid_0's binary_logloss: 0.0187268\tvalid_0's auc: 0.998215\n",
      "[3000]\tvalid_0's binary_logloss: 0.0186232\tvalid_0's auc: 0.998233\n",
      "\n",
      "== fold 2 ==\n",
      "[50]\tvalid_0's binary_logloss: 0.0315928\tvalid_0's auc: 0.994968\n",
      "[100]\tvalid_0's binary_logloss: 0.0300936\tvalid_0's auc: 0.995498\n",
      "[150]\tvalid_0's binary_logloss: 0.0293333\tvalid_0's auc: 0.995758\n"
     ]
    },
    {
     "name": "stdout",
     "output_type": "stream",
     "text": [
      "[200]\tvalid_0's binary_logloss: 0.0287686\tvalid_0's auc: 0.995938\n",
      "[250]\tvalid_0's binary_logloss: 0.028275\tvalid_0's auc: 0.996088\n",
      "[300]\tvalid_0's binary_logloss: 0.0278621\tvalid_0's auc: 0.996212\n",
      "[350]\tvalid_0's binary_logloss: 0.0275172\tvalid_0's auc: 0.996328\n",
      "[400]\tvalid_0's binary_logloss: 0.0271381\tvalid_0's auc: 0.99644\n",
      "[450]\tvalid_0's binary_logloss: 0.0268184\tvalid_0's auc: 0.996536\n",
      "[500]\tvalid_0's binary_logloss: 0.0264798\tvalid_0's auc: 0.996633\n",
      "[550]\tvalid_0's binary_logloss: 0.0261794\tvalid_0's auc: 0.996706\n",
      "[600]\tvalid_0's binary_logloss: 0.0259141\tvalid_0's auc: 0.996773\n",
      "[650]\tvalid_0's binary_logloss: 0.0256612\tvalid_0's auc: 0.996835\n",
      "[700]\tvalid_0's binary_logloss: 0.0254268\tvalid_0's auc: 0.996892\n",
      "[750]\tvalid_0's binary_logloss: 0.0251729\tvalid_0's auc: 0.996957\n",
      "[800]\tvalid_0's binary_logloss: 0.0249677\tvalid_0's auc: 0.997005\n",
      "[850]\tvalid_0's binary_logloss: 0.0247523\tvalid_0's auc: 0.997055\n",
      "[900]\tvalid_0's binary_logloss: 0.0245292\tvalid_0's auc: 0.997113\n",
      "[950]\tvalid_0's binary_logloss: 0.0243261\tvalid_0's auc: 0.997159\n",
      "[1000]\tvalid_0's binary_logloss: 0.0240956\tvalid_0's auc: 0.997214\n",
      "[1050]\tvalid_0's binary_logloss: 0.0238759\tvalid_0's auc: 0.997259\n",
      "[1100]\tvalid_0's binary_logloss: 0.0236621\tvalid_0's auc: 0.997306\n",
      "[1150]\tvalid_0's binary_logloss: 0.0234855\tvalid_0's auc: 0.997342\n",
      "[1200]\tvalid_0's binary_logloss: 0.0233119\tvalid_0's auc: 0.997375\n",
      "[1250]\tvalid_0's binary_logloss: 0.0231354\tvalid_0's auc: 0.997413\n",
      "[1300]\tvalid_0's binary_logloss: 0.0229603\tvalid_0's auc: 0.997455\n",
      "[1350]\tvalid_0's binary_logloss: 0.0227759\tvalid_0's auc: 0.997494\n",
      "[1400]\tvalid_0's binary_logloss: 0.0225988\tvalid_0's auc: 0.997534\n",
      "[1450]\tvalid_0's binary_logloss: 0.0224263\tvalid_0's auc: 0.997569\n",
      "[1500]\tvalid_0's binary_logloss: 0.0222609\tvalid_0's auc: 0.997599\n",
      "[1550]\tvalid_0's binary_logloss: 0.0220915\tvalid_0's auc: 0.997634\n",
      "[1600]\tvalid_0's binary_logloss: 0.0219279\tvalid_0's auc: 0.997664\n",
      "[1650]\tvalid_0's binary_logloss: 0.0217742\tvalid_0's auc: 0.997697\n",
      "[1700]\tvalid_0's binary_logloss: 0.021613\tvalid_0's auc: 0.997724\n",
      "[1750]\tvalid_0's binary_logloss: 0.0214604\tvalid_0's auc: 0.997751\n",
      "[1800]\tvalid_0's binary_logloss: 0.021309\tvalid_0's auc: 0.997775\n",
      "[1850]\tvalid_0's binary_logloss: 0.0211626\tvalid_0's auc: 0.997802\n",
      "[1900]\tvalid_0's binary_logloss: 0.0210195\tvalid_0's auc: 0.997825\n",
      "[1950]\tvalid_0's binary_logloss: 0.0208966\tvalid_0's auc: 0.997846\n",
      "[2000]\tvalid_0's binary_logloss: 0.020747\tvalid_0's auc: 0.997872\n",
      "[2050]\tvalid_0's binary_logloss: 0.0206029\tvalid_0's auc: 0.997895\n",
      "[2100]\tvalid_0's binary_logloss: 0.0204761\tvalid_0's auc: 0.997916\n",
      "[2150]\tvalid_0's binary_logloss: 0.0203472\tvalid_0's auc: 0.997938\n",
      "[2200]\tvalid_0's binary_logloss: 0.0202208\tvalid_0's auc: 0.997961\n",
      "[2250]\tvalid_0's binary_logloss: 0.0200998\tvalid_0's auc: 0.997981\n",
      "[2300]\tvalid_0's binary_logloss: 0.0199772\tvalid_0's auc: 0.997999\n",
      "[2350]\tvalid_0's binary_logloss: 0.0198566\tvalid_0's auc: 0.998023\n",
      "[2400]\tvalid_0's binary_logloss: 0.0197449\tvalid_0's auc: 0.998041\n",
      "[2450]\tvalid_0's binary_logloss: 0.0196244\tvalid_0's auc: 0.99806\n",
      "[2500]\tvalid_0's binary_logloss: 0.0195174\tvalid_0's auc: 0.998079\n",
      "[2550]\tvalid_0's binary_logloss: 0.0194075\tvalid_0's auc: 0.998097\n",
      "[2600]\tvalid_0's binary_logloss: 0.0193018\tvalid_0's auc: 0.998114\n",
      "[2650]\tvalid_0's binary_logloss: 0.0191985\tvalid_0's auc: 0.998131\n",
      "[2700]\tvalid_0's binary_logloss: 0.0190959\tvalid_0's auc: 0.998146\n",
      "[2750]\tvalid_0's binary_logloss: 0.0189953\tvalid_0's auc: 0.998159\n",
      "[2800]\tvalid_0's binary_logloss: 0.018908\tvalid_0's auc: 0.998174\n",
      "[2850]\tvalid_0's binary_logloss: 0.0187993\tvalid_0's auc: 0.998187\n",
      "[2900]\tvalid_0's binary_logloss: 0.0186976\tvalid_0's auc: 0.998201\n",
      "[2950]\tvalid_0's binary_logloss: 0.018611\tvalid_0's auc: 0.998213\n",
      "[3000]\tvalid_0's binary_logloss: 0.0185147\tvalid_0's auc: 0.998228\n",
      "\n",
      "== fold 3 ==\n",
      "[50]\tvalid_0's binary_logloss: 0.0317809\tvalid_0's auc: 0.994917\n",
      "[100]\tvalid_0's binary_logloss: 0.0301811\tvalid_0's auc: 0.995449\n",
      "[150]\tvalid_0's binary_logloss: 0.0293754\tvalid_0's auc: 0.99574\n",
      "[200]\tvalid_0's binary_logloss: 0.0288195\tvalid_0's auc: 0.995925\n",
      "[250]\tvalid_0's binary_logloss: 0.0282994\tvalid_0's auc: 0.996093\n",
      "[300]\tvalid_0's binary_logloss: 0.0278918\tvalid_0's auc: 0.996226\n",
      "[350]\tvalid_0's binary_logloss: 0.0274722\tvalid_0's auc: 0.996358\n",
      "[400]\tvalid_0's binary_logloss: 0.0270749\tvalid_0's auc: 0.996452\n",
      "[450]\tvalid_0's binary_logloss: 0.026739\tvalid_0's auc: 0.996549\n",
      "[500]\tvalid_0's binary_logloss: 0.0264337\tvalid_0's auc: 0.996641\n",
      "[550]\tvalid_0's binary_logloss: 0.0261016\tvalid_0's auc: 0.996737\n",
      "[600]\tvalid_0's binary_logloss: 0.0258406\tvalid_0's auc: 0.996805\n",
      "[650]\tvalid_0's binary_logloss: 0.0255902\tvalid_0's auc: 0.996869\n",
      "[700]\tvalid_0's binary_logloss: 0.0253359\tvalid_0's auc: 0.996933\n",
      "[750]\tvalid_0's binary_logloss: 0.0250799\tvalid_0's auc: 0.997003\n",
      "[800]\tvalid_0's binary_logloss: 0.024837\tvalid_0's auc: 0.997061\n",
      "[850]\tvalid_0's binary_logloss: 0.0246076\tvalid_0's auc: 0.99711\n",
      "[900]\tvalid_0's binary_logloss: 0.0243395\tvalid_0's auc: 0.99718\n",
      "[950]\tvalid_0's binary_logloss: 0.0240949\tvalid_0's auc: 0.997236\n",
      "[1000]\tvalid_0's binary_logloss: 0.023904\tvalid_0's auc: 0.997279\n",
      "[1050]\tvalid_0's binary_logloss: 0.0237244\tvalid_0's auc: 0.99732\n",
      "[1100]\tvalid_0's binary_logloss: 0.0235352\tvalid_0's auc: 0.997363\n",
      "[1150]\tvalid_0's binary_logloss: 0.0233433\tvalid_0's auc: 0.997403\n",
      "[1200]\tvalid_0's binary_logloss: 0.0231395\tvalid_0's auc: 0.997441\n",
      "[1250]\tvalid_0's binary_logloss: 0.0229714\tvalid_0's auc: 0.997481\n",
      "[1300]\tvalid_0's binary_logloss: 0.0227841\tvalid_0's auc: 0.997519\n",
      "[1350]\tvalid_0's binary_logloss: 0.0225928\tvalid_0's auc: 0.997557\n",
      "[1400]\tvalid_0's binary_logloss: 0.0224075\tvalid_0's auc: 0.997594\n",
      "[1450]\tvalid_0's binary_logloss: 0.0222604\tvalid_0's auc: 0.997629\n",
      "[1500]\tvalid_0's binary_logloss: 0.0221078\tvalid_0's auc: 0.997657\n",
      "[1550]\tvalid_0's binary_logloss: 0.0219322\tvalid_0's auc: 0.997691\n",
      "[1600]\tvalid_0's binary_logloss: 0.0217657\tvalid_0's auc: 0.997722\n",
      "[1650]\tvalid_0's binary_logloss: 0.0216193\tvalid_0's auc: 0.997744\n",
      "[1700]\tvalid_0's binary_logloss: 0.0214571\tvalid_0's auc: 0.997779\n",
      "[1750]\tvalid_0's binary_logloss: 0.0212978\tvalid_0's auc: 0.997807\n",
      "[1800]\tvalid_0's binary_logloss: 0.0211599\tvalid_0's auc: 0.997835\n",
      "[1850]\tvalid_0's binary_logloss: 0.02103\tvalid_0's auc: 0.997857\n",
      "[1900]\tvalid_0's binary_logloss: 0.0208936\tvalid_0's auc: 0.99788\n",
      "[1950]\tvalid_0's binary_logloss: 0.0207747\tvalid_0's auc: 0.9979\n",
      "[2000]\tvalid_0's binary_logloss: 0.0206363\tvalid_0's auc: 0.997925\n",
      "[2050]\tvalid_0's binary_logloss: 0.0204997\tvalid_0's auc: 0.997952\n",
      "[2100]\tvalid_0's binary_logloss: 0.0203655\tvalid_0's auc: 0.997977\n",
      "[2150]\tvalid_0's binary_logloss: 0.0202518\tvalid_0's auc: 0.997996\n",
      "[2200]\tvalid_0's binary_logloss: 0.0201305\tvalid_0's auc: 0.998016\n",
      "[2250]\tvalid_0's binary_logloss: 0.0199905\tvalid_0's auc: 0.99804\n",
      "[2300]\tvalid_0's binary_logloss: 0.0198763\tvalid_0's auc: 0.998058\n",
      "[2350]\tvalid_0's binary_logloss: 0.0197472\tvalid_0's auc: 0.998079\n",
      "[2400]\tvalid_0's binary_logloss: 0.0196248\tvalid_0's auc: 0.998099\n",
      "[2450]\tvalid_0's binary_logloss: 0.0195205\tvalid_0's auc: 0.998116\n",
      "[2500]\tvalid_0's binary_logloss: 0.0194148\tvalid_0's auc: 0.998133\n",
      "[2550]\tvalid_0's binary_logloss: 0.0193098\tvalid_0's auc: 0.998147\n",
      "[2600]\tvalid_0's binary_logloss: 0.0192183\tvalid_0's auc: 0.998159\n",
      "[2650]\tvalid_0's binary_logloss: 0.0191155\tvalid_0's auc: 0.998174\n",
      "[2700]\tvalid_0's binary_logloss: 0.0190019\tvalid_0's auc: 0.998189\n",
      "[2750]\tvalid_0's binary_logloss: 0.0189025\tvalid_0's auc: 0.998201\n",
      "[2800]\tvalid_0's binary_logloss: 0.0187873\tvalid_0's auc: 0.998218\n",
      "[2850]\tvalid_0's binary_logloss: 0.0186819\tvalid_0's auc: 0.998233\n",
      "[2900]\tvalid_0's binary_logloss: 0.0185848\tvalid_0's auc: 0.998248\n",
      "[2950]\tvalid_0's binary_logloss: 0.0184901\tvalid_0's auc: 0.998263\n",
      "[3000]\tvalid_0's binary_logloss: 0.0183807\tvalid_0's auc: 0.998278\n",
      "\n",
      "== fold 4 ==\n",
      "[50]\tvalid_0's binary_logloss: 0.0317829\tvalid_0's auc: 0.994901\n",
      "[100]\tvalid_0's binary_logloss: 0.0303707\tvalid_0's auc: 0.995428\n",
      "[150]\tvalid_0's binary_logloss: 0.0295289\tvalid_0's auc: 0.995707\n",
      "[200]\tvalid_0's binary_logloss: 0.0289135\tvalid_0's auc: 0.995896\n",
      "[250]\tvalid_0's binary_logloss: 0.0283765\tvalid_0's auc: 0.996057\n",
      "[300]\tvalid_0's binary_logloss: 0.0279833\tvalid_0's auc: 0.996181\n"
     ]
    },
    {
     "name": "stdout",
     "output_type": "stream",
     "text": [
      "[350]\tvalid_0's binary_logloss: 0.0276071\tvalid_0's auc: 0.996291\n",
      "[400]\tvalid_0's binary_logloss: 0.0272467\tvalid_0's auc: 0.996402\n",
      "[450]\tvalid_0's binary_logloss: 0.0269252\tvalid_0's auc: 0.996502\n",
      "[500]\tvalid_0's binary_logloss: 0.0266239\tvalid_0's auc: 0.99659\n",
      "[550]\tvalid_0's binary_logloss: 0.026332\tvalid_0's auc: 0.996674\n",
      "[600]\tvalid_0's binary_logloss: 0.0260767\tvalid_0's auc: 0.996735\n",
      "[650]\tvalid_0's binary_logloss: 0.0257991\tvalid_0's auc: 0.996809\n",
      "[700]\tvalid_0's binary_logloss: 0.0255441\tvalid_0's auc: 0.996875\n",
      "[750]\tvalid_0's binary_logloss: 0.0252996\tvalid_0's auc: 0.996936\n",
      "[800]\tvalid_0's binary_logloss: 0.0250356\tvalid_0's auc: 0.997004\n",
      "[850]\tvalid_0's binary_logloss: 0.0247804\tvalid_0's auc: 0.997072\n",
      "[900]\tvalid_0's binary_logloss: 0.0245354\tvalid_0's auc: 0.997127\n",
      "[950]\tvalid_0's binary_logloss: 0.0243152\tvalid_0's auc: 0.997172\n",
      "[1000]\tvalid_0's binary_logloss: 0.0241088\tvalid_0's auc: 0.997213\n",
      "[1050]\tvalid_0's binary_logloss: 0.0239213\tvalid_0's auc: 0.997254\n",
      "[1100]\tvalid_0's binary_logloss: 0.0237094\tvalid_0's auc: 0.997312\n",
      "[1150]\tvalid_0's binary_logloss: 0.0235002\tvalid_0's auc: 0.99736\n",
      "[1200]\tvalid_0's binary_logloss: 0.0233168\tvalid_0's auc: 0.9974\n",
      "[1250]\tvalid_0's binary_logloss: 0.0231165\tvalid_0's auc: 0.99744\n",
      "[1300]\tvalid_0's binary_logloss: 0.0229428\tvalid_0's auc: 0.997477\n",
      "[1350]\tvalid_0's binary_logloss: 0.0227945\tvalid_0's auc: 0.99751\n",
      "[1400]\tvalid_0's binary_logloss: 0.0226281\tvalid_0's auc: 0.99754\n",
      "[1450]\tvalid_0's binary_logloss: 0.0224679\tvalid_0's auc: 0.997569\n",
      "[1500]\tvalid_0's binary_logloss: 0.0223096\tvalid_0's auc: 0.997598\n",
      "[1550]\tvalid_0's binary_logloss: 0.0221663\tvalid_0's auc: 0.997624\n",
      "[1600]\tvalid_0's binary_logloss: 0.0219992\tvalid_0's auc: 0.99766\n",
      "[1650]\tvalid_0's binary_logloss: 0.021823\tvalid_0's auc: 0.997693\n",
      "[1700]\tvalid_0's binary_logloss: 0.0216899\tvalid_0's auc: 0.997718\n",
      "[1750]\tvalid_0's binary_logloss: 0.021545\tvalid_0's auc: 0.997745\n",
      "[1800]\tvalid_0's binary_logloss: 0.0213877\tvalid_0's auc: 0.99777\n",
      "[1850]\tvalid_0's binary_logloss: 0.0212359\tvalid_0's auc: 0.997795\n",
      "[1900]\tvalid_0's binary_logloss: 0.0210923\tvalid_0's auc: 0.99782\n",
      "[1950]\tvalid_0's binary_logloss: 0.0209619\tvalid_0's auc: 0.997842\n",
      "[2000]\tvalid_0's binary_logloss: 0.0208153\tvalid_0's auc: 0.997867\n",
      "[2050]\tvalid_0's binary_logloss: 0.0206607\tvalid_0's auc: 0.997896\n",
      "[2100]\tvalid_0's binary_logloss: 0.0205275\tvalid_0's auc: 0.997918\n",
      "[2150]\tvalid_0's binary_logloss: 0.0203898\tvalid_0's auc: 0.997944\n",
      "[2200]\tvalid_0's binary_logloss: 0.0202673\tvalid_0's auc: 0.997964\n",
      "[2250]\tvalid_0's binary_logloss: 0.0201177\tvalid_0's auc: 0.997992\n",
      "[2300]\tvalid_0's binary_logloss: 0.0200019\tvalid_0's auc: 0.998007\n",
      "[2350]\tvalid_0's binary_logloss: 0.0198928\tvalid_0's auc: 0.99802\n",
      "[2400]\tvalid_0's binary_logloss: 0.0197896\tvalid_0's auc: 0.998036\n",
      "[2450]\tvalid_0's binary_logloss: 0.0196764\tvalid_0's auc: 0.998056\n",
      "[2500]\tvalid_0's binary_logloss: 0.0195822\tvalid_0's auc: 0.99807\n",
      "[2550]\tvalid_0's binary_logloss: 0.0194694\tvalid_0's auc: 0.998088\n",
      "[2600]\tvalid_0's binary_logloss: 0.0193574\tvalid_0's auc: 0.998104\n",
      "[2650]\tvalid_0's binary_logloss: 0.0192666\tvalid_0's auc: 0.998119\n",
      "[2700]\tvalid_0's binary_logloss: 0.0191547\tvalid_0's auc: 0.998137\n",
      "[2750]\tvalid_0's binary_logloss: 0.0190569\tvalid_0's auc: 0.998153\n",
      "[2800]\tvalid_0's binary_logloss: 0.0189665\tvalid_0's auc: 0.998166\n",
      "[2850]\tvalid_0's binary_logloss: 0.0188627\tvalid_0's auc: 0.998178\n",
      "[2900]\tvalid_0's binary_logloss: 0.0187554\tvalid_0's auc: 0.998191\n",
      "[2950]\tvalid_0's binary_logloss: 0.018642\tvalid_0's auc: 0.998206\n",
      "[3000]\tvalid_0's binary_logloss: 0.0185377\tvalid_0's auc: 0.998221\n",
      "\n",
      "CV-accuracy: 0.9937396908734457\n"
     ]
    }
   ],
   "source": [
    "params = {\n",
    "    'boosting_type': 'gbdt', \n",
    "    'objective': 'binary', \n",
    "    'tree_learner': 'feature',\n",
    "    'metric': ['binary_logloss', 'AUC'],\n",
    "    'learning_rate': 0.3,\n",
    "    'reg_alpha': 0.1,\n",
    "    'reg_lambda': 0.682,\n",
    "    'random_state': 2018,\n",
    "    'max_depth': 9,\n",
    "    'num_leaves': 127, \n",
    "    'n_estimators': 3000,\n",
    "    \"colsample_bytree\": 0.785,\n",
    "    \"first_metric_only\": True,\n",
    "    \"max_bin\": 512\n",
    "}\n",
    "\n",
    "oof, models = fit_lgbm(train_df[TRAIN_FEATURES], train_df[\"label\"].astype(int), \n",
    "                       params=params, n_class=int(train_df[\"label\"].max() + 1), \n",
    "                       N_SPLITS=NFOLDS, folds=train_df[\"fold\"].values)"
   ]
  },
  {
   "cell_type": "code",
   "execution_count": 30,
   "id": "8ac917ba",
   "metadata": {},
   "outputs": [
    {
     "data": {
      "image/png": "[encoded data removed]",
      "text/plain": [
       "<Figure size 1872x360 with 1 Axes>"
      ]
     },
     "metadata": {
      "needs_background": "light"
     },
     "output_type": "display_data"
    }
   ],
   "source": [
    "def plot_importances(models):\n",
    "    importance_df = pd.DataFrame(models[0].feature_importances_, \n",
    "                                 index=TRAIN_FEATURES, \n",
    "                                 columns=['importance'])\\\n",
    "                        .sort_values(\"importance\", ascending=False)\n",
    "\n",
    "    plt.subplots(figsize=(len(TRAIN_FEATURES) // 4, 5))\n",
    "    plt.bar(importance_df.index, importance_df.importance)\n",
    "    plt.grid()\n",
    "    plt.xticks(rotation=90)\n",
    "    plt.ylabel(\"importance\")\n",
    "    plt.tight_layout()\n",
    "    plt.show()\n",
    "\n",
    "plot_importances(models)"
   ]
  },
  {
   "cell_type": "code",
   "execution_count": 31,
   "id": "468b1100",
   "metadata": {},
   "outputs": [],
   "source": [
    "# !kaggle datasets init -p ../src/models/BinaryModels"
   ]
  },
  {
   "cell_type": "code",
   "execution_count": 32,
   "id": "9bad329d",
   "metadata": {},
   "outputs": [],
   "source": [
    "# !kaggle datasets create -p ../src/models/BinaryModels --dir-mode zip"
   ]
  },
  {
   "cell_type": "code",
   "execution_count": 33,
   "id": "6f2d2b64",
   "metadata": {},
   "outputs": [
    {
     "name": "stdout",
     "output_type": "stream",
     "text": [
      "Starting upload for file lgb_2set_5f_binary0.pkl\n",
      "Warning: Looks like you're using an outdated API Version, please consider updating (server 1.5.12 / client 1.5.6)\n",
      "100%|######################################| 39.7M/39.7M [00:02<00:00, 14.9MB/s]\n",
      "Upload successful: lgb_2set_5f_binary0.pkl (40MB)\n",
      "Starting upload for file lgb_fuzz_t25_2set_5f_binary3.pkl\n",
      "100%|######################################| 39.7M/39.7M [00:02<00:00, 15.2MB/s]\n",
      "Upload successful: lgb_fuzz_t25_2set_5f_binary3.pkl (40MB)\n",
      "Starting upload for file lgb_t25_2set_5f_binary0.pkl\n",
      "100%|######################################| 39.7M/39.7M [00:02<00:00, 15.3MB/s]\n",
      "Upload successful: lgb_t25_2set_5f_binary0.pkl (40MB)\n",
      "Starting upload for file lgb_fuzz_t25_2set_5f_binary4.pkl\n",
      "100%|######################################| 39.7M/39.7M [00:02<00:00, 16.3MB/s]\n",
      "Upload successful: lgb_fuzz_t25_2set_5f_binary4.pkl (40MB)\n",
      "Starting upload for file lgb_5f_binary4.pkl\n",
      "100%|######################################| 11.4M/11.4M [00:01<00:00, 6.82MB/s]\n",
      "Upload successful: lgb_5f_binary4.pkl (11MB)\n",
      "Starting upload for file lgb_2set_5f_binary3.pkl\n",
      "100%|######################################| 39.6M/39.6M [00:02<00:00, 16.0MB/s]\n",
      "Upload successful: lgb_2set_5f_binary3.pkl (40MB)\n",
      "Starting upload for file lgb_fuzz_t25_2set_5f_binary1.pkl\n",
      "100%|######################################| 39.7M/39.7M [00:02<00:00, 17.2MB/s]\n",
      "Upload successful: lgb_fuzz_t25_2set_5f_binary1.pkl (40MB)\n",
      "Starting upload for file lgb_2set_5f_binary1.pkl\n",
      "100%|######################################| 39.6M/39.6M [00:02<00:00, 16.7MB/s]\n",
      "Upload successful: lgb_2set_5f_binary1.pkl (40MB)\n",
      "Starting upload for file lgb_fuzz_t25_sr_2set_5f4.pkl\n",
      "100%|######################################| 39.6M/39.6M [00:02<00:00, 15.3MB/s]\n",
      "Upload successful: lgb_fuzz_t25_sr_2set_5f4.pkl (40MB)\n",
      "Starting upload for file lgb_t25_2set_5f_binary1.pkl\n",
      "100%|######################################| 39.7M/39.7M [00:02<00:00, 15.8MB/s]\n",
      "Upload successful: lgb_t25_2set_5f_binary1.pkl (40MB)\n",
      "Starting upload for file lgb_fuzz_t25_sr_2set_5f2.pkl\n",
      "100%|######################################| 39.7M/39.7M [00:02<00:00, 16.1MB/s]\n",
      "Upload successful: lgb_fuzz_t25_sr_2set_5f2.pkl (40MB)\n",
      "Starting upload for file .ipynb_checkpoints.zip\n",
      "100%|#########################################| 22.0/22.0 [00:01<00:00, 16.1B/s]\n",
      "Upload successful: .ipynb_checkpoints.zip (22B)\n",
      "Starting upload for file lgb_2set_5f_binary4.pkl\n",
      "100%|######################################| 39.6M/39.6M [00:02<00:00, 16.1MB/s]\n",
      "Upload successful: lgb_2set_5f_binary4.pkl (40MB)\n",
      "Starting upload for file lgb_fuzz_t25_2set_5f_binary2.pkl\n",
      "100%|######################################| 39.7M/39.7M [00:03<00:00, 13.7MB/s]\n",
      "Upload successful: lgb_fuzz_t25_2set_5f_binary2.pkl (40MB)\n",
      "Starting upload for file lgb_fuzz_t25_sr_2set_5f3.pkl\n",
      "100%|######################################| 39.7M/39.7M [00:02<00:00, 15.8MB/s]\n",
      "Upload successful: lgb_fuzz_t25_sr_2set_5f3.pkl (40MB)\n",
      "Starting upload for file lgb_fuzz_t25_2set_5f_binary0.pkl\n",
      "100%|######################################| 39.7M/39.7M [00:22<00:00, 1.82MB/s]\n",
      "Upload successful: lgb_fuzz_t25_2set_5f_binary0.pkl (40MB)\n",
      "Starting upload for file lgb_fuzz_t25_sr_2set_5f1.pkl\n",
      "100%|######################################| 39.7M/39.7M [00:02<00:00, 16.3MB/s]\n",
      "Upload successful: lgb_fuzz_t25_sr_2set_5f1.pkl (40MB)\n",
      "Starting upload for file lgb_t25_2set_5f_binary2.pkl\n",
      "100%|######################################| 39.7M/39.7M [00:02<00:00, 14.7MB/s]\n",
      "Upload successful: lgb_t25_2set_5f_binary2.pkl (40MB)\n",
      "Starting upload for file lgb_5f_binary0.pkl\n",
      "100%|######################################| 11.4M/11.4M [00:01<00:00, 6.47MB/s]\n",
      "Upload successful: lgb_5f_binary0.pkl (11MB)\n",
      "Starting upload for file lgb_t25_2set_5f_binary3.pkl\n",
      "100%|######################################| 39.7M/39.7M [00:02<00:00, 15.0MB/s]\n",
      "Upload successful: lgb_t25_2set_5f_binary3.pkl (40MB)\n",
      "Starting upload for file lgb_t25_2set_5f_binary4.pkl\n",
      "100%|######################################| 39.7M/39.7M [00:02<00:00, 15.5MB/s]\n",
      "Upload successful: lgb_t25_2set_5f_binary4.pkl (40MB)\n",
      "Starting upload for file lgb_fuzz_t25_sr_2set_5f0.pkl\n",
      "100%|######################################| 39.6M/39.6M [00:02<00:00, 14.3MB/s]\n",
      "Upload successful: lgb_fuzz_t25_sr_2set_5f0.pkl (40MB)\n",
      "Starting upload for file lgb_2set_5f_binary2.pkl\n",
      "100%|######################################| 39.6M/39.6M [00:02<00:00, 14.8MB/s]\n",
      "Upload successful: lgb_2set_5f_binary2.pkl (40MB)\n",
      "Starting upload for file lgb_5f_binary3.pkl\n",
      "100%|######################################| 11.4M/11.4M [00:01<00:00, 7.53MB/s]\n",
      "Upload successful: lgb_5f_binary3.pkl (11MB)\n",
      "Starting upload for file lgb_5f_binary2.pkl\n",
      "100%|######################################| 11.4M/11.4M [00:01<00:00, 6.59MB/s]\n",
      "Upload successful: lgb_5f_binary2.pkl (11MB)\n",
      "Starting upload for file lgb_5f_binary1.pkl\n",
      "100%|######################################| 11.4M/11.4M [00:01<00:00, 7.38MB/s]\n",
      "Upload successful: lgb_5f_binary1.pkl (11MB)\n",
      "Dataset version is being created. Please check progress at https://www.kaggle.com/tarique7/foursqbinarylgb\n"
     ]
    }
   ],
   "source": [
    "!kaggle datasets version -m \"SRFuzz25n\" -p ../src/models/BinaryModels --dir-mode zip"
   ]
  },
  {
   "cell_type": "code",
   "execution_count": null,
   "id": "44e6840e",
   "metadata": {},
   "outputs": [],
   "source": []
  }
 ],
 "metadata": {
  "kernelspec": {
   "display_name": "Python 3",
   "language": "python",
   "name": "python3"
  },
  "language_info": {
   "codemirror_mode": {
    "name": "ipython",
    "version": 3
   },
   "file_extension": ".py",
   "mimetype": "text/x-python",
   "name": "python",
   "nbconvert_exporter": "python",
   "pygments_lexer": "ipython3",
   "version": "3.6.13"
  }
 },
 "nbformat": 4,
 "nbformat_minor": 5
}
