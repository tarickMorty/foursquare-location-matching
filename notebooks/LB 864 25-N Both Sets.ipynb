{
 "cells": [
  {
   "cell_type": "code",
   "execution_count": 1,
   "id": "95c8cfa8",
   "metadata": {},
   "outputs": [],
   "source": [
    "import pandas as pd\n",
    "import numpy as np\n",
    "import lightgbm as lgb\n",
    "import matplotlib.pyplot as plt\n",
    "from tqdm.auto import tqdm\n",
    "import os\n",
    "import gc\n",
    "import random\n",
    "from sklearn.model_selection import GroupKFold, KFold, StratifiedKFold\n",
    "import seaborn as sns\n",
    "import pickle\n",
    "import json\n",
    "import re\n",
    "import time\n",
    "import sys\n",
    "pd.set_option('display.max_rows', 500)\n",
    "pd.set_option('display.max_columns', 500)\n",
    "\n",
    "import warnings\n",
    "warnings.filterwarnings('ignore')"
   ]
  },
  {
   "cell_type": "code",
   "execution_count": 6,
   "id": "1cfd2b9b",
   "metadata": {},
   "outputs": [],
   "source": [
    "tfn1 = 'train_data_25n_'\n",
    "tfn2 = 'valid_data_25n_'\n",
    "nsets = 3\n",
    "model_file_name = 'lgb_t25_2set_5f_binary'\n",
    "\n",
    "tdata = pd.read_csv('../src/data/raw/train.csv')\n",
    "tdata['name'] = tdata['name'].isna().astype(int)\n",
    "tdata['categories'] = tdata['categories'].isna().astype(int)\n",
    "tdata['address'] = tdata['address'].isna().astype(int)\n",
    "tdata['state'] = tdata['state'].isna().astype(int)\n",
    "tdata['url'] = tdata['url'].isna().astype(int)\n",
    "tdata['country'] = tdata['country'].isna().astype(int)\n",
    "\n",
    "tdata = tdata[['id','name', 'categories', 'address', 'state', \n",
    "               'url', 'country']].drop_duplicates().reset_index(drop=True)"
   ]
  },
  {
   "cell_type": "code",
   "execution_count": 7,
   "id": "fd9d25ac",
   "metadata": {},
   "outputs": [],
   "source": [
    "def prepare_data(df_set):\n",
    "    \n",
    "    train_df = []\n",
    "    \n",
    "    for i in range(1, nsets+1):\n",
    "    \n",
    "        t1 = pd.read_csv('../src/data/processed/'+df_set+str(i)+'.csv')\n",
    "        print(t1.shape)\n",
    "        t1['kdist_diff'] = (t1['kdist'] - t1['kdist_country'])/t1['kdist_country']\n",
    "        t1['kneighbors_mean'] = t1[['kneighbors', 'kneighbors_country']].mean(axis = 1)\n",
    "        \n",
    "        t1['sim_mean'] = t1[[col for col in t1.columns if 'sim' in col]].mean(axis=1)\n",
    "        t1['jaro_mean'] = t1[[col for col in t1.columns if 'jaro' in col]].mean(axis=1)\n",
    "        t1['lcs_mean'] = t1[[col for col in t1.columns if '_lcs' in col]].mean(axis=1)        \n",
    "        \n",
    "        t1['sim_sum'] = t1[[col for col in t1.columns if 'sim' in col]].sum(axis=1)\n",
    "        t1['gesh_sum'] = t1[[col for col in t1.columns if 'gesh' in col]].sum(axis=1)\n",
    "        t1['leven_sum'] = t1[[col for col in t1.columns if '_leven' in col]].sum(axis=1)\n",
    "        t1['jaro_sum'] = t1[[col for col in t1.columns if 'jaro' in col]].sum(axis=1)\n",
    "        t1['lcs_sum'] = t1[[col for col in t1.columns if '_lcs' in col]].sum(axis=1)\n",
    "        t1['nlcsk_sum'] = t1[[col for col in t1.columns if '_nlcsk' in col]].sum(axis=1)\n",
    "        t1['nleven_sum'] = t1[[col for col in t1.columns if '_nleven' in col]].sum(axis=1)\n",
    "        t1['nlcs_sum'] = t1[[col for col in t1.columns if '_nlcs' in col]].sum(axis=1)\n",
    "\n",
    "        t1['sim_std'] = t1[[col for col in t1.columns if 'sim' in col]].std(axis=1)\n",
    "        t1['gesh_std'] = t1[[col for col in t1.columns if 'gesh' in col]].std(axis=1)\n",
    "        t1['leven_std'] = t1[[col for col in t1.columns if '_leven' in col]].std(axis=1)\n",
    "        t1['jaro_std'] = t1[[col for col in t1.columns if 'jaro' in col]].std(axis=1)\n",
    "        t1['lcs_std'] = t1[[col for col in t1.columns if '_lcs' in col]].std(axis=1)\n",
    "        t1['nlcsk_std'] = t1[[col for col in t1.columns if '_nlcsk' in col]].std(axis=1)\n",
    "        t1['nleven_std'] = t1[[col for col in t1.columns if '_nleven' in col]].std(axis=1)\n",
    "        t1['nlcs_std'] = t1[[col for col in t1.columns if '_nlcs' in col]].std(axis=1)\n",
    "\n",
    "        t1 = t1.merge(tdata, on='id', how='left')\n",
    "        t1 = t1.merge(tdata, left_on='match_id', right_on='id', how='left', suffixes=['_1','_2'])\n",
    "        t1 = t1.drop('id_2', axis=1).rename(columns={'id_1':'id'})\n",
    "        \n",
    "        t1['info_power_1'] = t1[[col for col in t1.columns if '_1' in col]].lt(1).sum(axis=1)\n",
    "        t1['info_power_2'] = t1[[col for col in t1.columns if '_2' in col]].lt(1).sum(axis=1)\n",
    "        t1['info_diff'] = t1['info_power_1'] - t1['info_power_2']\n",
    "        \n",
    "        t1['kdist_diff_x_info_diff'] = t1['kdist_diff']*t1['info_diff']\n",
    "        \n",
    "        train_df.append(t1.drop(['info_power_1','info_power_2'], axis=1))\n",
    "        \n",
    "        del t1\n",
    "    \n",
    "    return train_df"
   ]
  },
  {
   "cell_type": "code",
   "execution_count": 8,
   "id": "a8d87800",
   "metadata": {},
   "outputs": [
    {
     "name": "stdout",
     "output_type": "stream",
     "text": [
      "(5837212, 77)\n",
      "(5848974, 77)\n",
      "(5831684, 77)\n"
     ]
    }
   ],
   "source": [
    "train_df = prepare_data(tfn1)\n",
    "train_df = pd.concat(train_df).reset_index(drop=True)"
   ]
  },
  {
   "cell_type": "code",
   "execution_count": 9,
   "id": "8184a3ec",
   "metadata": {},
   "outputs": [
    {
     "data": {
      "text/plain": [
       "(17517870, 112)"
      ]
     },
     "execution_count": 9,
     "metadata": {},
     "output_type": "execute_result"
    }
   ],
   "source": [
    "train_df.shape"
   ]
  },
  {
   "cell_type": "code",
   "execution_count": 10,
   "id": "b21cd10d",
   "metadata": {},
   "outputs": [
    {
     "name": "stdout",
     "output_type": "stream",
     "text": [
      "(5838073, 77)\n",
      "(5836792, 77)\n",
      "(5837910, 77)\n"
     ]
    }
   ],
   "source": [
    "valid_df = prepare_data(tfn2)\n",
    "valid_df = pd.concat(valid_df).reset_index(drop=True)"
   ]
  },
  {
   "cell_type": "code",
   "execution_count": 11,
   "id": "7b852379",
   "metadata": {},
   "outputs": [
    {
     "data": {
      "text/plain": [
       "(17512775, 112)"
      ]
     },
     "execution_count": 11,
     "metadata": {},
     "output_type": "execute_result"
    }
   ],
   "source": [
    "valid_df.shape"
   ]
  },
  {
   "cell_type": "code",
   "execution_count": 12,
   "id": "40dd4e88",
   "metadata": {},
   "outputs": [
    {
     "data": {
      "text/plain": [
       "0    16489259\n",
       "1     1028611\n",
       "Name: label, dtype: int64"
      ]
     },
     "execution_count": 12,
     "metadata": {},
     "output_type": "execute_result"
    }
   ],
   "source": [
    "train_df.label.value_counts()"
   ]
  },
  {
   "cell_type": "code",
   "execution_count": 13,
   "id": "7f62da50",
   "metadata": {},
   "outputs": [
    {
     "data": {
      "text/plain": [
       "0    16490264\n",
       "1     1022511\n",
       "Name: label, dtype: int64"
      ]
     },
     "execution_count": 13,
     "metadata": {},
     "output_type": "execute_result"
    }
   ],
   "source": [
    "valid_df.label.value_counts()"
   ]
  },
  {
   "cell_type": "code",
   "execution_count": 14,
   "id": "cc249e6e",
   "metadata": {},
   "outputs": [
    {
     "data": {
      "text/plain": [
       "7"
      ]
     },
     "execution_count": 14,
     "metadata": {},
     "output_type": "execute_result"
    }
   ],
   "source": [
    "train_df = pd.concat([train_df, valid_df], axis=0).reset_index(drop=True)\n",
    "\n",
    "del valid_df\n",
    "gc.collect()"
   ]
  },
  {
   "cell_type": "code",
   "execution_count": 15,
   "id": "08c916d3",
   "metadata": {},
   "outputs": [],
   "source": [
    "# FEATURES = ['kdist', 'kneighbors', 'kdist_country', 'kneighbors_country', 'name_sim', 'name_gesh','name_leven', \n",
    "#             'name_jaro', 'name_lcs', 'name_len_diff', 'name_nleven', 'name_nlcsk', 'name_nlcs', 'address_sim', \n",
    "#             'address_gesh', 'address_leven', 'address_jaro', 'address_lcs', 'address_len_diff', 'address_nleven', \n",
    "#             'address_nlcsk', 'address_nlcs', 'city_gesh', 'city_leven', 'city_jaro', 'city_lcs', 'city_len_diff', \n",
    "#             'city_nleven', 'city_nlcsk', 'city_nlcs', 'state_sim', 'state_gesh', 'state_leven', 'state_jaro', \n",
    "#             'state_lcs', 'state_len_diff', 'state_nleven', 'state_nlcsk', 'state_nlcs', 'zip_gesh', 'zip_leven', \n",
    "#             'zip_jaro', 'zip_lcs', 'url_sim', 'url_gesh', 'url_leven', 'url_jaro', 'url_lcs', 'url_len_diff', \n",
    "#             'url_nleven', 'url_nlcsk', 'url_nlcs', 'phone_gesh', 'phone_leven', 'phone_jaro', 'phone_lcs', \n",
    "#             'categories_sim', 'categories_gesh', 'categories_leven', 'categories_jaro', 'categories_lcs', \n",
    "#             'categories_len_diff', 'categories_nleven', 'categories_nlcsk', 'categories_nlcs', 'country_sim', \n",
    "#             'country_gesh', 'country_leven', 'country_nleven', 'kdist_diff', 'kneighbors_mean', \n",
    "#             'name_1', 'categories_1', 'address_1', 'state_1', 'url_1', 'country_1', 'name_2',\n",
    "#             'categories_2', 'address_2', 'state_2', 'url_2', 'country_2', 'sim_sum', 'gesh_sum',\n",
    "#             'leven_sum', 'jaro_sum', 'lcs_sum', 'sim_std', 'gesh_std', 'leven_std',\n",
    "#             'jaro_std', 'lcs_std', 'info_power_1', 'info_power_2', 'info_diff']\n",
    "\n",
    "\n",
    "# cat_cols = []\n",
    "# for col in FEATURES:\n",
    "#     if train_df[col].nunique()<50:\n",
    "#         cat_cols.append(col)\n",
    "        \n",
    "# print(len(cat_cols))"
   ]
  },
  {
   "cell_type": "code",
   "execution_count": 16,
   "id": "f4e930ba",
   "metadata": {},
   "outputs": [],
   "source": [
    "# cat_cols"
   ]
  },
  {
   "cell_type": "code",
   "execution_count": 17,
   "id": "a81cbd7c",
   "metadata": {},
   "outputs": [],
   "source": [
    "TRAIN_FEATURES = ['kdist', 'kneighbors', 'kdist_country', 'kneighbors_country', 'name_sim', 'name_gesh','name_leven', \n",
    "                'name_jaro', 'name_lcs', 'name_len_diff', 'name_nleven', 'name_nlcsk', 'name_nlcs', 'address_sim', \n",
    "                'address_gesh', 'address_leven', 'address_jaro', 'address_lcs', 'address_len_diff', 'address_nleven', \n",
    "                'address_nlcsk', 'address_nlcs', 'city_gesh', 'city_leven', 'city_jaro', 'city_lcs', 'city_len_diff', \n",
    "                'city_nleven', 'city_nlcsk', 'city_nlcs', 'state_sim', 'state_gesh', 'state_leven', 'state_jaro', \n",
    "                'state_lcs', 'state_len_diff', 'state_nleven', 'state_nlcsk', 'state_nlcs', 'zip_gesh', 'zip_leven', \n",
    "                'zip_jaro', 'zip_lcs', 'url_sim', 'url_gesh', 'url_leven', 'url_jaro', 'url_lcs', 'url_len_diff', \n",
    "                'url_nleven', 'url_nlcsk', 'url_nlcs', 'phone_gesh', 'phone_leven', 'phone_jaro', 'phone_lcs', \n",
    "                'categories_sim', 'categories_gesh', 'categories_leven', 'categories_jaro', 'categories_lcs', \n",
    "                'categories_len_diff', 'categories_nleven', 'categories_nlcsk', 'categories_nlcs', 'country_sim', \n",
    "                'country_gesh', 'country_leven', 'country_nleven', 'kdist_diff', 'kneighbors_mean', \n",
    "                'name_1', 'categories_1', 'address_1', 'state_1', 'url_1', 'country_1', 'name_2', 'categories_2', \n",
    "                'address_2', 'state_2', 'url_2', 'country_2', 'sim_sum', 'gesh_sum', 'leven_sum', 'jaro_sum', \n",
    "                'lcs_sum', 'sim_std', 'gesh_std', 'leven_std','jaro_std', 'lcs_std', \n",
    "#                 'info_power_1', 'info_power_2', \n",
    "                'info_diff', 'nleven_sum', 'nlcsk_sum', 'nlcs_sum', 'nleven_std', 'nlcsk_std', 'nlcs_std', \n",
    "                'sim_mean','jaro_mean','lcs_mean','kdist_diff_x_info_diff']"
   ]
  },
  {
   "cell_type": "code",
   "execution_count": 18,
   "id": "09dfdf5e",
   "metadata": {},
   "outputs": [
    {
     "data": {
      "application/vnd.jupyter.widget-view+json": {
       "model_id": "fff7bbd3a37a489c909320fee2382c02",
       "version_major": 2,
       "version_minor": 0
      },
      "text/plain": [
       "0it [00:00, ?it/s]"
      ]
     },
     "metadata": {},
     "output_type": "display_data"
    }
   ],
   "source": [
    "NFOLDS = 5\n",
    "kf = StratifiedKFold(n_splits = NFOLDS, shuffle=True, random_state=42)\n",
    "for i, (trn_idx, val_idx) in tqdm(enumerate(kf.split(train_df, train_df[\"label\"], train_df[\"label\"]))):\n",
    "    train_df.loc[val_idx, \"fold\"] = i"
   ]
  },
  {
   "cell_type": "code",
   "execution_count": 19,
   "id": "958180f3",
   "metadata": {},
   "outputs": [
    {
     "data": {
      "text/plain": [
       "0    0.941448\n",
       "1    0.058552\n",
       "Name: label, dtype: float64"
      ]
     },
     "execution_count": 19,
     "metadata": {},
     "output_type": "execute_result"
    }
   ],
   "source": [
    "train_df.label.value_counts()/len(train_df)"
   ]
  },
  {
   "cell_type": "code",
   "execution_count": 22,
   "id": "bd82fe70",
   "metadata": {},
   "outputs": [],
   "source": [
    "import lightgbm as lgbm\n",
    "\n",
    "def fit_lgbm(X, y, params=None, es_rounds=20, seed=42, N_SPLITS=5, \n",
    "             n_class=None, model_dir=None, folds=None):\n",
    "    \n",
    "    models = []\n",
    "    oof = np.zeros((len(y), n_class), dtype=np.float64)\n",
    "    \n",
    "    for i in tqdm(range(NFOLDS)):\n",
    "        print(f\"== fold {i} ==\")\n",
    "        trn_idx = folds!=i\n",
    "        val_idx = folds==i\n",
    "        X_train, y_train = X[trn_idx], y.iloc[trn_idx]\n",
    "        X_valid, y_valid = X.iloc[val_idx], y.iloc[val_idx]\n",
    "\n",
    "        if model_dir is None:\n",
    "            model = lgbm.LGBMClassifier(**params)\n",
    "            model.fit(\n",
    "                X_train, y_train, \n",
    "                eval_set=[(X_valid, y_valid)],  \n",
    "                early_stopping_rounds=es_rounds, \n",
    "                verbose=50)\n",
    "        else:\n",
    "            with open(f'../src/models/BinaryModels/{model_file_name}{i}.pkl', 'rb') as f:\n",
    "                model = pickle.load(f)\n",
    "            \n",
    "        pred = model.predict_proba(X_valid)\n",
    "        oof[val_idx] = pred\n",
    "        models.append(model)\n",
    "        \n",
    "        file = f'../src/models/BinaryModels/{model_file_name}{i}.pkl'\n",
    "        pickle.dump(model, open(file, 'wb'))\n",
    "        print()\n",
    "\n",
    "    cv = (oof.argmax(axis=-1) == y).mean()\n",
    "    print(f\"CV-accuracy: {cv}\")\n",
    "\n",
    "    return oof, models\n",
    "\n",
    "def inference_lgbm(models, feat_df):\n",
    "    pred = np.array([model.predict_proba(feat_df) for model in models])\n",
    "    pred = np.mean(pred, axis=0)\n",
    "    return pred"
   ]
  },
  {
   "cell_type": "code",
   "execution_count": 23,
   "id": "87b3e26c",
   "metadata": {
    "scrolled": true
   },
   "outputs": [
    {
     "data": {
      "application/vnd.jupyter.widget-view+json": {
       "model_id": "3534374821304dbcbd26c088fc7b5735",
       "version_major": 2,
       "version_minor": 0
      },
      "text/plain": [
       "  0%|          | 0/5 [00:00<?, ?it/s]"
      ]
     },
     "metadata": {},
     "output_type": "display_data"
    },
    {
     "name": "stdout",
     "output_type": "stream",
     "text": [
      "== fold 0 ==\n",
      "[50]\tvalid_0's binary_logloss: 0.0351716\tvalid_0's auc: 0.994095\n",
      "[100]\tvalid_0's binary_logloss: 0.0337875\tvalid_0's auc: 0.994607\n",
      "[150]\tvalid_0's binary_logloss: 0.0329387\tvalid_0's auc: 0.994896\n",
      "[200]\tvalid_0's binary_logloss: 0.0323023\tvalid_0's auc: 0.995099\n",
      "[250]\tvalid_0's binary_logloss: 0.0318923\tvalid_0's auc: 0.995228\n",
      "[300]\tvalid_0's binary_logloss: 0.0314741\tvalid_0's auc: 0.995363\n",
      "[350]\tvalid_0's binary_logloss: 0.0311021\tvalid_0's auc: 0.995472\n",
      "[400]\tvalid_0's binary_logloss: 0.0307808\tvalid_0's auc: 0.995559\n",
      "[450]\tvalid_0's binary_logloss: 0.0305014\tvalid_0's auc: 0.995645\n",
      "[500]\tvalid_0's binary_logloss: 0.0301914\tvalid_0's auc: 0.995743\n",
      "[550]\tvalid_0's binary_logloss: 0.0299048\tvalid_0's auc: 0.995836\n",
      "[600]\tvalid_0's binary_logloss: 0.0296585\tvalid_0's auc: 0.995906\n",
      "[650]\tvalid_0's binary_logloss: 0.029409\tvalid_0's auc: 0.995976\n",
      "[700]\tvalid_0's binary_logloss: 0.0291296\tvalid_0's auc: 0.996053\n",
      "[750]\tvalid_0's binary_logloss: 0.0289111\tvalid_0's auc: 0.996118\n",
      "[800]\tvalid_0's binary_logloss: 0.0287103\tvalid_0's auc: 0.996168\n",
      "[850]\tvalid_0's binary_logloss: 0.0284577\tvalid_0's auc: 0.99624\n",
      "[900]\tvalid_0's binary_logloss: 0.0282065\tvalid_0's auc: 0.996306\n",
      "[950]\tvalid_0's binary_logloss: 0.0280274\tvalid_0's auc: 0.996353\n",
      "[1000]\tvalid_0's binary_logloss: 0.0278361\tvalid_0's auc: 0.996399\n",
      "[1050]\tvalid_0's binary_logloss: 0.0276489\tvalid_0's auc: 0.996448\n",
      "[1100]\tvalid_0's binary_logloss: 0.0274642\tvalid_0's auc: 0.996491\n",
      "[1150]\tvalid_0's binary_logloss: 0.0272815\tvalid_0's auc: 0.996541\n",
      "[1200]\tvalid_0's binary_logloss: 0.0271006\tvalid_0's auc: 0.996584\n",
      "[1250]\tvalid_0's binary_logloss: 0.0269435\tvalid_0's auc: 0.996621\n",
      "[1300]\tvalid_0's binary_logloss: 0.0267745\tvalid_0's auc: 0.996665\n",
      "[1350]\tvalid_0's binary_logloss: 0.0265952\tvalid_0's auc: 0.996707\n",
      "[1400]\tvalid_0's binary_logloss: 0.0264249\tvalid_0's auc: 0.996749\n",
      "[1450]\tvalid_0's binary_logloss: 0.0262443\tvalid_0's auc: 0.996796\n",
      "[1500]\tvalid_0's binary_logloss: 0.0261079\tvalid_0's auc: 0.996825\n",
      "[1550]\tvalid_0's binary_logloss: 0.0259637\tvalid_0's auc: 0.996865\n",
      "[1600]\tvalid_0's binary_logloss: 0.0257893\tvalid_0's auc: 0.996909\n",
      "[1650]\tvalid_0's binary_logloss: 0.025608\tvalid_0's auc: 0.996954\n",
      "[1700]\tvalid_0's binary_logloss: 0.0254718\tvalid_0's auc: 0.996983\n",
      "[1750]\tvalid_0's binary_logloss: 0.0253335\tvalid_0's auc: 0.99701\n",
      "[1800]\tvalid_0's binary_logloss: 0.0252172\tvalid_0's auc: 0.99703\n",
      "[1850]\tvalid_0's binary_logloss: 0.0250822\tvalid_0's auc: 0.997059\n",
      "[1900]\tvalid_0's binary_logloss: 0.0249495\tvalid_0's auc: 0.997087\n",
      "[1950]\tvalid_0's binary_logloss: 0.0248294\tvalid_0's auc: 0.997113\n",
      "[2000]\tvalid_0's binary_logloss: 0.0247129\tvalid_0's auc: 0.997137\n",
      "[2050]\tvalid_0's binary_logloss: 0.0245956\tvalid_0's auc: 0.997162\n",
      "[2100]\tvalid_0's binary_logloss: 0.0244671\tvalid_0's auc: 0.997185\n",
      "[2150]\tvalid_0's binary_logloss: 0.0243482\tvalid_0's auc: 0.997209\n",
      "[2200]\tvalid_0's binary_logloss: 0.0242417\tvalid_0's auc: 0.997234\n",
      "[2250]\tvalid_0's binary_logloss: 0.0241309\tvalid_0's auc: 0.997257\n",
      "[2300]\tvalid_0's binary_logloss: 0.0239882\tvalid_0's auc: 0.997287\n",
      "[2350]\tvalid_0's binary_logloss: 0.0238708\tvalid_0's auc: 0.997311\n",
      "[2400]\tvalid_0's binary_logloss: 0.0237611\tvalid_0's auc: 0.997332\n",
      "[2450]\tvalid_0's binary_logloss: 0.0236514\tvalid_0's auc: 0.997352\n",
      "[2500]\tvalid_0's binary_logloss: 0.0235478\tvalid_0's auc: 0.997371\n",
      "[2550]\tvalid_0's binary_logloss: 0.0234747\tvalid_0's auc: 0.997386\n",
      "[2600]\tvalid_0's binary_logloss: 0.0233832\tvalid_0's auc: 0.997402\n",
      "[2650]\tvalid_0's binary_logloss: 0.0232716\tvalid_0's auc: 0.997423\n",
      "[2700]\tvalid_0's binary_logloss: 0.0231839\tvalid_0's auc: 0.997437\n",
      "[2750]\tvalid_0's binary_logloss: 0.0230972\tvalid_0's auc: 0.997452\n",
      "[2800]\tvalid_0's binary_logloss: 0.022981\tvalid_0's auc: 0.997473\n",
      "[2850]\tvalid_0's binary_logloss: 0.0228862\tvalid_0's auc: 0.997489\n",
      "[2900]\tvalid_0's binary_logloss: 0.0227835\tvalid_0's auc: 0.997506\n",
      "[2950]\tvalid_0's binary_logloss: 0.0227242\tvalid_0's auc: 0.997515\n",
      "[3000]\tvalid_0's binary_logloss: 0.0226349\tvalid_0's auc: 0.997531\n",
      "\n",
      "== fold 1 ==\n",
      "[50]\tvalid_0's binary_logloss: 0.0351421\tvalid_0's auc: 0.994187\n",
      "[100]\tvalid_0's binary_logloss: 0.0337322\tvalid_0's auc: 0.994681\n",
      "[150]\tvalid_0's binary_logloss: 0.0329984\tvalid_0's auc: 0.994936\n",
      "[200]\tvalid_0's binary_logloss: 0.0323351\tvalid_0's auc: 0.995166\n",
      "[250]\tvalid_0's binary_logloss: 0.0318396\tvalid_0's auc: 0.995308\n",
      "[300]\tvalid_0's binary_logloss: 0.0314325\tvalid_0's auc: 0.99544\n",
      "[350]\tvalid_0's binary_logloss: 0.0310897\tvalid_0's auc: 0.995555\n",
      "[400]\tvalid_0's binary_logloss: 0.0307618\tvalid_0's auc: 0.995655\n",
      "[450]\tvalid_0's binary_logloss: 0.0304197\tvalid_0's auc: 0.995755\n",
      "[500]\tvalid_0's binary_logloss: 0.0301124\tvalid_0's auc: 0.99585\n",
      "[550]\tvalid_0's binary_logloss: 0.0298109\tvalid_0's auc: 0.995943\n",
      "[600]\tvalid_0's binary_logloss: 0.0295501\tvalid_0's auc: 0.996024\n",
      "[650]\tvalid_0's binary_logloss: 0.0293118\tvalid_0's auc: 0.996088\n",
      "[700]\tvalid_0's binary_logloss: 0.0290557\tvalid_0's auc: 0.99616\n",
      "[750]\tvalid_0's binary_logloss: 0.0287906\tvalid_0's auc: 0.996235\n",
      "[800]\tvalid_0's binary_logloss: 0.028591\tvalid_0's auc: 0.996287\n",
      "[850]\tvalid_0's binary_logloss: 0.0283698\tvalid_0's auc: 0.996348\n",
      "[900]\tvalid_0's binary_logloss: 0.0281767\tvalid_0's auc: 0.996394\n",
      "[950]\tvalid_0's binary_logloss: 0.0279911\tvalid_0's auc: 0.996437\n",
      "[1000]\tvalid_0's binary_logloss: 0.0277846\tvalid_0's auc: 0.99649\n",
      "[1050]\tvalid_0's binary_logloss: 0.0275876\tvalid_0's auc: 0.996539\n",
      "[1100]\tvalid_0's binary_logloss: 0.0274028\tvalid_0's auc: 0.996587\n",
      "[1150]\tvalid_0's binary_logloss: 0.0272211\tvalid_0's auc: 0.996634\n",
      "[1200]\tvalid_0's binary_logloss: 0.0270531\tvalid_0's auc: 0.996668\n",
      "[1250]\tvalid_0's binary_logloss: 0.0268714\tvalid_0's auc: 0.996711\n",
      "[1300]\tvalid_0's binary_logloss: 0.0266931\tvalid_0's auc: 0.99675\n",
      "[1350]\tvalid_0's binary_logloss: 0.0265226\tvalid_0's auc: 0.99679\n",
      "[1400]\tvalid_0's binary_logloss: 0.0263705\tvalid_0's auc: 0.996823\n",
      "[1450]\tvalid_0's binary_logloss: 0.0262107\tvalid_0's auc: 0.996862\n",
      "[1500]\tvalid_0's binary_logloss: 0.0260729\tvalid_0's auc: 0.996895\n",
      "[1550]\tvalid_0's binary_logloss: 0.0258951\tvalid_0's auc: 0.996939\n",
      "[1600]\tvalid_0's binary_logloss: 0.0257517\tvalid_0's auc: 0.996973\n",
      "[1650]\tvalid_0's binary_logloss: 0.025608\tvalid_0's auc: 0.997006\n",
      "[1700]\tvalid_0's binary_logloss: 0.0254725\tvalid_0's auc: 0.997032\n",
      "[1750]\tvalid_0's binary_logloss: 0.0253368\tvalid_0's auc: 0.997063\n",
      "[1800]\tvalid_0's binary_logloss: 0.0251974\tvalid_0's auc: 0.997095\n",
      "[1850]\tvalid_0's binary_logloss: 0.0250856\tvalid_0's auc: 0.997121\n",
      "[1900]\tvalid_0's binary_logloss: 0.0249479\tvalid_0's auc: 0.99715\n",
      "[1950]\tvalid_0's binary_logloss: 0.0248145\tvalid_0's auc: 0.997181\n",
      "[2000]\tvalid_0's binary_logloss: 0.0247037\tvalid_0's auc: 0.997201\n",
      "[2050]\tvalid_0's binary_logloss: 0.0245525\tvalid_0's auc: 0.997231\n",
      "[2100]\tvalid_0's binary_logloss: 0.0244265\tvalid_0's auc: 0.997253\n",
      "[2150]\tvalid_0's binary_logloss: 0.024284\tvalid_0's auc: 0.997281\n",
      "[2200]\tvalid_0's binary_logloss: 0.0241636\tvalid_0's auc: 0.997304\n",
      "[2250]\tvalid_0's binary_logloss: 0.0240325\tvalid_0's auc: 0.997328\n",
      "[2300]\tvalid_0's binary_logloss: 0.0239241\tvalid_0's auc: 0.997352\n",
      "[2350]\tvalid_0's binary_logloss: 0.0238017\tvalid_0's auc: 0.997373\n",
      "[2400]\tvalid_0's binary_logloss: 0.0236905\tvalid_0's auc: 0.997393\n",
      "[2450]\tvalid_0's binary_logloss: 0.0235965\tvalid_0's auc: 0.997411\n",
      "[2500]\tvalid_0's binary_logloss: 0.0234803\tvalid_0's auc: 0.997431\n",
      "[2550]\tvalid_0's binary_logloss: 0.0233817\tvalid_0's auc: 0.997447\n",
      "[2600]\tvalid_0's binary_logloss: 0.023282\tvalid_0's auc: 0.997467\n",
      "[2650]\tvalid_0's binary_logloss: 0.0231732\tvalid_0's auc: 0.997488\n",
      "[2700]\tvalid_0's binary_logloss: 0.0230518\tvalid_0's auc: 0.997513\n",
      "[2750]\tvalid_0's binary_logloss: 0.022943\tvalid_0's auc: 0.997536\n",
      "[2800]\tvalid_0's binary_logloss: 0.0228527\tvalid_0's auc: 0.99755\n",
      "[2850]\tvalid_0's binary_logloss: 0.0227428\tvalid_0's auc: 0.997569\n",
      "[2900]\tvalid_0's binary_logloss: 0.0226535\tvalid_0's auc: 0.997583\n",
      "[2950]\tvalid_0's binary_logloss: 0.0225565\tvalid_0's auc: 0.997599\n",
      "[3000]\tvalid_0's binary_logloss: 0.0224663\tvalid_0's auc: 0.997614\n",
      "\n",
      "== fold 2 ==\n",
      "[50]\tvalid_0's binary_logloss: 0.0351981\tvalid_0's auc: 0.994174\n",
      "[100]\tvalid_0's binary_logloss: 0.0337102\tvalid_0's auc: 0.994687\n",
      "[150]\tvalid_0's binary_logloss: 0.0329909\tvalid_0's auc: 0.994951\n"
     ]
    },
    {
     "name": "stdout",
     "output_type": "stream",
     "text": [
      "[200]\tvalid_0's binary_logloss: 0.0324194\tvalid_0's auc: 0.995135\n",
      "[250]\tvalid_0's binary_logloss: 0.0319284\tvalid_0's auc: 0.995291\n",
      "[300]\tvalid_0's binary_logloss: 0.0315051\tvalid_0's auc: 0.995413\n",
      "[350]\tvalid_0's binary_logloss: 0.0311513\tvalid_0's auc: 0.995535\n",
      "[400]\tvalid_0's binary_logloss: 0.0307948\tvalid_0's auc: 0.995645\n",
      "[450]\tvalid_0's binary_logloss: 0.0304356\tvalid_0's auc: 0.995754\n",
      "[500]\tvalid_0's binary_logloss: 0.030134\tvalid_0's auc: 0.99585\n",
      "[550]\tvalid_0's binary_logloss: 0.0298387\tvalid_0's auc: 0.995929\n",
      "[600]\tvalid_0's binary_logloss: 0.0295714\tvalid_0's auc: 0.995999\n",
      "[650]\tvalid_0's binary_logloss: 0.0293084\tvalid_0's auc: 0.996076\n",
      "[700]\tvalid_0's binary_logloss: 0.029103\tvalid_0's auc: 0.996134\n",
      "[750]\tvalid_0's binary_logloss: 0.0288821\tvalid_0's auc: 0.99619\n",
      "[800]\tvalid_0's binary_logloss: 0.0286363\tvalid_0's auc: 0.996263\n",
      "[850]\tvalid_0's binary_logloss: 0.0284107\tvalid_0's auc: 0.99633\n",
      "[900]\tvalid_0's binary_logloss: 0.028208\tvalid_0's auc: 0.996386\n",
      "[950]\tvalid_0's binary_logloss: 0.0279824\tvalid_0's auc: 0.996434\n",
      "[1000]\tvalid_0's binary_logloss: 0.0277812\tvalid_0's auc: 0.996477\n",
      "[1050]\tvalid_0's binary_logloss: 0.0275592\tvalid_0's auc: 0.996534\n",
      "[1100]\tvalid_0's binary_logloss: 0.027364\tvalid_0's auc: 0.996587\n",
      "[1150]\tvalid_0's binary_logloss: 0.0271561\tvalid_0's auc: 0.996634\n",
      "[1200]\tvalid_0's binary_logloss: 0.0269664\tvalid_0's auc: 0.996679\n",
      "[1250]\tvalid_0's binary_logloss: 0.0268077\tvalid_0's auc: 0.996722\n",
      "[1300]\tvalid_0's binary_logloss: 0.0266562\tvalid_0's auc: 0.996757\n",
      "[1350]\tvalid_0's binary_logloss: 0.0265009\tvalid_0's auc: 0.99679\n",
      "[1400]\tvalid_0's binary_logloss: 0.0263424\tvalid_0's auc: 0.996826\n",
      "[1450]\tvalid_0's binary_logloss: 0.0261868\tvalid_0's auc: 0.996859\n",
      "[1500]\tvalid_0's binary_logloss: 0.0260403\tvalid_0's auc: 0.996888\n",
      "[1550]\tvalid_0's binary_logloss: 0.025913\tvalid_0's auc: 0.996918\n",
      "[1600]\tvalid_0's binary_logloss: 0.0257661\tvalid_0's auc: 0.996951\n",
      "[1650]\tvalid_0's binary_logloss: 0.0256116\tvalid_0's auc: 0.996984\n",
      "[1700]\tvalid_0's binary_logloss: 0.0254707\tvalid_0's auc: 0.997013\n",
      "[1750]\tvalid_0's binary_logloss: 0.025344\tvalid_0's auc: 0.997039\n",
      "[1800]\tvalid_0's binary_logloss: 0.025217\tvalid_0's auc: 0.997066\n",
      "[1850]\tvalid_0's binary_logloss: 0.0250868\tvalid_0's auc: 0.997091\n",
      "[1900]\tvalid_0's binary_logloss: 0.0249225\tvalid_0's auc: 0.997126\n",
      "[1950]\tvalid_0's binary_logloss: 0.0247861\tvalid_0's auc: 0.997152\n",
      "[2000]\tvalid_0's binary_logloss: 0.0246537\tvalid_0's auc: 0.997178\n",
      "[2050]\tvalid_0's binary_logloss: 0.0245425\tvalid_0's auc: 0.997198\n",
      "[2100]\tvalid_0's binary_logloss: 0.0243904\tvalid_0's auc: 0.997226\n",
      "[2150]\tvalid_0's binary_logloss: 0.0242694\tvalid_0's auc: 0.997249\n",
      "[2200]\tvalid_0's binary_logloss: 0.0241562\tvalid_0's auc: 0.997271\n",
      "[2250]\tvalid_0's binary_logloss: 0.0240405\tvalid_0's auc: 0.997293\n",
      "[2300]\tvalid_0's binary_logloss: 0.0239144\tvalid_0's auc: 0.99732\n",
      "[2350]\tvalid_0's binary_logloss: 0.0238055\tvalid_0's auc: 0.99734\n",
      "[2400]\tvalid_0's binary_logloss: 0.0236941\tvalid_0's auc: 0.997367\n",
      "[2450]\tvalid_0's binary_logloss: 0.0235987\tvalid_0's auc: 0.997384\n",
      "[2500]\tvalid_0's binary_logloss: 0.0235\tvalid_0's auc: 0.997405\n",
      "[2550]\tvalid_0's binary_logloss: 0.023416\tvalid_0's auc: 0.997419\n",
      "[2600]\tvalid_0's binary_logloss: 0.0233334\tvalid_0's auc: 0.997433\n",
      "[2650]\tvalid_0's binary_logloss: 0.0232349\tvalid_0's auc: 0.997449\n",
      "[2700]\tvalid_0's binary_logloss: 0.0231411\tvalid_0's auc: 0.997466\n",
      "[2750]\tvalid_0's binary_logloss: 0.0230475\tvalid_0's auc: 0.997484\n",
      "[2800]\tvalid_0's binary_logloss: 0.0229609\tvalid_0's auc: 0.9975\n",
      "[2850]\tvalid_0's binary_logloss: 0.0228705\tvalid_0's auc: 0.997518\n",
      "[2900]\tvalid_0's binary_logloss: 0.022777\tvalid_0's auc: 0.997536\n",
      "[2950]\tvalid_0's binary_logloss: 0.0226772\tvalid_0's auc: 0.997552\n",
      "[3000]\tvalid_0's binary_logloss: 0.0225731\tvalid_0's auc: 0.997573\n",
      "\n",
      "== fold 3 ==\n",
      "[50]\tvalid_0's binary_logloss: 0.0350179\tvalid_0's auc: 0.994181\n",
      "[100]\tvalid_0's binary_logloss: 0.0335686\tvalid_0's auc: 0.994684\n",
      "[150]\tvalid_0's binary_logloss: 0.0327964\tvalid_0's auc: 0.994948\n",
      "[200]\tvalid_0's binary_logloss: 0.0322388\tvalid_0's auc: 0.995153\n",
      "[250]\tvalid_0's binary_logloss: 0.0317326\tvalid_0's auc: 0.995305\n",
      "[300]\tvalid_0's binary_logloss: 0.0313539\tvalid_0's auc: 0.995427\n",
      "[350]\tvalid_0's binary_logloss: 0.0309759\tvalid_0's auc: 0.995549\n",
      "[400]\tvalid_0's binary_logloss: 0.0306481\tvalid_0's auc: 0.99565\n",
      "[450]\tvalid_0's binary_logloss: 0.0303449\tvalid_0's auc: 0.995736\n",
      "[500]\tvalid_0's binary_logloss: 0.030007\tvalid_0's auc: 0.995846\n",
      "[550]\tvalid_0's binary_logloss: 0.0296969\tvalid_0's auc: 0.99594\n",
      "[600]\tvalid_0's binary_logloss: 0.0293992\tvalid_0's auc: 0.996014\n",
      "[650]\tvalid_0's binary_logloss: 0.029162\tvalid_0's auc: 0.99607\n",
      "[700]\tvalid_0's binary_logloss: 0.0289496\tvalid_0's auc: 0.996129\n",
      "[750]\tvalid_0's binary_logloss: 0.0287239\tvalid_0's auc: 0.996194\n",
      "[800]\tvalid_0's binary_logloss: 0.0284926\tvalid_0's auc: 0.996261\n",
      "[850]\tvalid_0's binary_logloss: 0.0282698\tvalid_0's auc: 0.996317\n",
      "[900]\tvalid_0's binary_logloss: 0.0280761\tvalid_0's auc: 0.99637\n",
      "[950]\tvalid_0's binary_logloss: 0.0278807\tvalid_0's auc: 0.996424\n",
      "[1000]\tvalid_0's binary_logloss: 0.0276775\tvalid_0's auc: 0.996472\n",
      "[1050]\tvalid_0's binary_logloss: 0.0274998\tvalid_0's auc: 0.996513\n",
      "[1100]\tvalid_0's binary_logloss: 0.0272997\tvalid_0's auc: 0.996556\n",
      "[1150]\tvalid_0's binary_logloss: 0.027097\tvalid_0's auc: 0.996612\n",
      "[1200]\tvalid_0's binary_logloss: 0.0269194\tvalid_0's auc: 0.996657\n",
      "[1250]\tvalid_0's binary_logloss: 0.0267474\tvalid_0's auc: 0.996695\n",
      "[1300]\tvalid_0's binary_logloss: 0.026595\tvalid_0's auc: 0.99673\n",
      "[1350]\tvalid_0's binary_logloss: 0.0264229\tvalid_0's auc: 0.996767\n",
      "[1400]\tvalid_0's binary_logloss: 0.0262759\tvalid_0's auc: 0.996798\n",
      "[1450]\tvalid_0's binary_logloss: 0.0261158\tvalid_0's auc: 0.996831\n",
      "[1500]\tvalid_0's binary_logloss: 0.025986\tvalid_0's auc: 0.996862\n",
      "[1550]\tvalid_0's binary_logloss: 0.0258475\tvalid_0's auc: 0.996895\n",
      "[1600]\tvalid_0's binary_logloss: 0.0256978\tvalid_0's auc: 0.996925\n",
      "[1650]\tvalid_0's binary_logloss: 0.0255586\tvalid_0's auc: 0.996953\n",
      "[1700]\tvalid_0's binary_logloss: 0.025417\tvalid_0's auc: 0.996983\n",
      "[1750]\tvalid_0's binary_logloss: 0.0252826\tvalid_0's auc: 0.997009\n",
      "[1800]\tvalid_0's binary_logloss: 0.0251551\tvalid_0's auc: 0.997037\n",
      "[1850]\tvalid_0's binary_logloss: 0.0250367\tvalid_0's auc: 0.997057\n",
      "[1900]\tvalid_0's binary_logloss: 0.0249083\tvalid_0's auc: 0.997083\n",
      "[1950]\tvalid_0's binary_logloss: 0.0247829\tvalid_0's auc: 0.997112\n",
      "[2000]\tvalid_0's binary_logloss: 0.0246379\tvalid_0's auc: 0.997147\n",
      "[2050]\tvalid_0's binary_logloss: 0.0244993\tvalid_0's auc: 0.997172\n",
      "[2100]\tvalid_0's binary_logloss: 0.0243548\tvalid_0's auc: 0.997202\n",
      "[2150]\tvalid_0's binary_logloss: 0.0242455\tvalid_0's auc: 0.997227\n",
      "[2200]\tvalid_0's binary_logloss: 0.0241281\tvalid_0's auc: 0.997249\n",
      "[2250]\tvalid_0's binary_logloss: 0.0240202\tvalid_0's auc: 0.997269\n",
      "[2300]\tvalid_0's binary_logloss: 0.0239089\tvalid_0's auc: 0.997294\n",
      "[2350]\tvalid_0's binary_logloss: 0.0237902\tvalid_0's auc: 0.997315\n",
      "[2400]\tvalid_0's binary_logloss: 0.0236832\tvalid_0's auc: 0.997335\n",
      "[2450]\tvalid_0's binary_logloss: 0.0235681\tvalid_0's auc: 0.997357\n",
      "[2500]\tvalid_0's binary_logloss: 0.0234498\tvalid_0's auc: 0.997377\n",
      "[2550]\tvalid_0's binary_logloss: 0.0233432\tvalid_0's auc: 0.997396\n",
      "[2600]\tvalid_0's binary_logloss: 0.0232282\tvalid_0's auc: 0.99742\n",
      "[2650]\tvalid_0's binary_logloss: 0.0231254\tvalid_0's auc: 0.99744\n",
      "[2700]\tvalid_0's binary_logloss: 0.023037\tvalid_0's auc: 0.997455\n",
      "[2750]\tvalid_0's binary_logloss: 0.0229487\tvalid_0's auc: 0.997471\n",
      "[2800]\tvalid_0's binary_logloss: 0.0228654\tvalid_0's auc: 0.997484\n",
      "[2850]\tvalid_0's binary_logloss: 0.022788\tvalid_0's auc: 0.997498\n",
      "[2900]\tvalid_0's binary_logloss: 0.0226904\tvalid_0's auc: 0.997512\n",
      "[2950]\tvalid_0's binary_logloss: 0.0226162\tvalid_0's auc: 0.997525\n",
      "[3000]\tvalid_0's binary_logloss: 0.0225368\tvalid_0's auc: 0.997536\n",
      "\n",
      "== fold 4 ==\n",
      "[50]\tvalid_0's binary_logloss: 0.0353531\tvalid_0's auc: 0.993998\n",
      "[100]\tvalid_0's binary_logloss: 0.0338266\tvalid_0's auc: 0.994574\n",
      "[150]\tvalid_0's binary_logloss: 0.0330054\tvalid_0's auc: 0.994851\n",
      "[200]\tvalid_0's binary_logloss: 0.0323598\tvalid_0's auc: 0.995082\n",
      "[250]\tvalid_0's binary_logloss: 0.0319404\tvalid_0's auc: 0.995236\n",
      "[300]\tvalid_0's binary_logloss: 0.0315666\tvalid_0's auc: 0.995362\n",
      "[350]\tvalid_0's binary_logloss: 0.0311638\tvalid_0's auc: 0.995484\n"
     ]
    },
    {
     "name": "stdout",
     "output_type": "stream",
     "text": [
      "[400]\tvalid_0's binary_logloss: 0.030831\tvalid_0's auc: 0.995585\n",
      "[450]\tvalid_0's binary_logloss: 0.0304798\tvalid_0's auc: 0.995697\n",
      "[500]\tvalid_0's binary_logloss: 0.030236\tvalid_0's auc: 0.995773\n",
      "[550]\tvalid_0's binary_logloss: 0.029931\tvalid_0's auc: 0.995862\n",
      "[600]\tvalid_0's binary_logloss: 0.0296326\tvalid_0's auc: 0.995952\n",
      "[650]\tvalid_0's binary_logloss: 0.0293848\tvalid_0's auc: 0.99602\n",
      "[700]\tvalid_0's binary_logloss: 0.0291686\tvalid_0's auc: 0.996085\n",
      "[750]\tvalid_0's binary_logloss: 0.0289637\tvalid_0's auc: 0.996138\n",
      "[800]\tvalid_0's binary_logloss: 0.0287281\tvalid_0's auc: 0.996201\n",
      "[850]\tvalid_0's binary_logloss: 0.0285374\tvalid_0's auc: 0.996254\n",
      "[900]\tvalid_0's binary_logloss: 0.0283463\tvalid_0's auc: 0.996309\n",
      "[950]\tvalid_0's binary_logloss: 0.0281657\tvalid_0's auc: 0.996357\n",
      "[1000]\tvalid_0's binary_logloss: 0.027952\tvalid_0's auc: 0.996417\n",
      "[1050]\tvalid_0's binary_logloss: 0.0277843\tvalid_0's auc: 0.996464\n",
      "[1100]\tvalid_0's binary_logloss: 0.027595\tvalid_0's auc: 0.996512\n",
      "[1150]\tvalid_0's binary_logloss: 0.0274255\tvalid_0's auc: 0.996554\n",
      "[1200]\tvalid_0's binary_logloss: 0.0272508\tvalid_0's auc: 0.996597\n",
      "[1250]\tvalid_0's binary_logloss: 0.0270811\tvalid_0's auc: 0.99664\n",
      "[1300]\tvalid_0's binary_logloss: 0.0269001\tvalid_0's auc: 0.996683\n",
      "[1350]\tvalid_0's binary_logloss: 0.0267171\tvalid_0's auc: 0.996726\n",
      "[1400]\tvalid_0's binary_logloss: 0.0265452\tvalid_0's auc: 0.996773\n",
      "[1450]\tvalid_0's binary_logloss: 0.026395\tvalid_0's auc: 0.996809\n",
      "[1500]\tvalid_0's binary_logloss: 0.0262572\tvalid_0's auc: 0.99684\n",
      "[1550]\tvalid_0's binary_logloss: 0.0261072\tvalid_0's auc: 0.996873\n",
      "[1600]\tvalid_0's binary_logloss: 0.0259558\tvalid_0's auc: 0.996904\n",
      "[1650]\tvalid_0's binary_logloss: 0.0258058\tvalid_0's auc: 0.996936\n",
      "[1700]\tvalid_0's binary_logloss: 0.025678\tvalid_0's auc: 0.996964\n",
      "[1750]\tvalid_0's binary_logloss: 0.0255254\tvalid_0's auc: 0.996999\n",
      "[1800]\tvalid_0's binary_logloss: 0.0253743\tvalid_0's auc: 0.997036\n",
      "[1850]\tvalid_0's binary_logloss: 0.0252422\tvalid_0's auc: 0.997067\n",
      "[1900]\tvalid_0's binary_logloss: 0.0251256\tvalid_0's auc: 0.99709\n",
      "[1950]\tvalid_0's binary_logloss: 0.0250013\tvalid_0's auc: 0.997118\n",
      "[2000]\tvalid_0's binary_logloss: 0.0248784\tvalid_0's auc: 0.997145\n",
      "[2050]\tvalid_0's binary_logloss: 0.0247512\tvalid_0's auc: 0.997173\n",
      "[2100]\tvalid_0's binary_logloss: 0.0246354\tvalid_0's auc: 0.997197\n",
      "[2150]\tvalid_0's binary_logloss: 0.0245194\tvalid_0's auc: 0.997216\n",
      "[2200]\tvalid_0's binary_logloss: 0.0244004\tvalid_0's auc: 0.997241\n",
      "[2250]\tvalid_0's binary_logloss: 0.0242584\tvalid_0's auc: 0.997268\n",
      "[2300]\tvalid_0's binary_logloss: 0.0241622\tvalid_0's auc: 0.997288\n",
      "[2350]\tvalid_0's binary_logloss: 0.0240555\tvalid_0's auc: 0.997309\n",
      "[2400]\tvalid_0's binary_logloss: 0.023938\tvalid_0's auc: 0.997332\n",
      "[2450]\tvalid_0's binary_logloss: 0.0238028\tvalid_0's auc: 0.997361\n",
      "[2500]\tvalid_0's binary_logloss: 0.0236823\tvalid_0's auc: 0.997386\n",
      "[2550]\tvalid_0's binary_logloss: 0.0235949\tvalid_0's auc: 0.9974\n",
      "[2600]\tvalid_0's binary_logloss: 0.0234702\tvalid_0's auc: 0.997426\n",
      "[2650]\tvalid_0's binary_logloss: 0.0233708\tvalid_0's auc: 0.997444\n",
      "[2700]\tvalid_0's binary_logloss: 0.023261\tvalid_0's auc: 0.997467\n",
      "[2750]\tvalid_0's binary_logloss: 0.0231652\tvalid_0's auc: 0.997482\n",
      "[2800]\tvalid_0's binary_logloss: 0.0230769\tvalid_0's auc: 0.997497\n",
      "[2850]\tvalid_0's binary_logloss: 0.0229768\tvalid_0's auc: 0.997518\n",
      "[2900]\tvalid_0's binary_logloss: 0.0228936\tvalid_0's auc: 0.997533\n",
      "[2950]\tvalid_0's binary_logloss: 0.0227997\tvalid_0's auc: 0.997551\n",
      "[3000]\tvalid_0's binary_logloss: 0.0227051\tvalid_0's auc: 0.997568\n",
      "\n",
      "CV-accuracy: 0.9922165578167345\n"
     ]
    }
   ],
   "source": [
    "params = {\n",
    "    'boosting_type': 'gbdt', \n",
    "    'objective': 'binary', \n",
    "    'tree_learner': 'feature',\n",
    "    'metric': ['binary_logloss', 'AUC'],\n",
    "    'learning_rate': 0.3,\n",
    "    'reg_alpha': 0.1,\n",
    "    'reg_lambda': 0.682,\n",
    "    'random_state': 2018,\n",
    "    'max_depth': 9,\n",
    "    'num_leaves': 127, \n",
    "    'n_estimators': 3000,\n",
    "    \"colsample_bytree\": 0.785,\n",
    "    \"first_metric_only\": True,\n",
    "    \"max_bin\": 512,\n",
    "    \n",
    "#     \"bagging_fraction\": 0.4086,\n",
    "#     \"bagging_freq\": 7,\n",
    "#     \"subsample_for_bin\": 300000,\n",
    "#     \"min_data_in_leaf\": 127\n",
    "}\n",
    "\n",
    "oof, models = fit_lgbm(train_df[TRAIN_FEATURES], train_df[\"label\"].astype(int), \n",
    "                       params=params, n_class=int(train_df[\"label\"].max() + 1), \n",
    "                       N_SPLITS=NFOLDS, folds=train_df[\"fold\"].values)"
   ]
  },
  {
   "cell_type": "code",
   "execution_count": 24,
   "id": "8ac917ba",
   "metadata": {},
   "outputs": [
    {
     "data": {
      "image/png": "[encoded data removed]",
      "text/plain": [
       "<Figure size 1872x360 with 1 Axes>"
      ]
     },
     "metadata": {
      "needs_background": "light"
     },
     "output_type": "display_data"
    }
   ],
   "source": [
    "def plot_importances(models):\n",
    "    importance_df = pd.DataFrame(models[0].feature_importances_, \n",
    "                                 index=TRAIN_FEATURES, \n",
    "                                 columns=['importance'])\\\n",
    "                        .sort_values(\"importance\", ascending=False)\n",
    "\n",
    "    plt.subplots(figsize=(len(TRAIN_FEATURES) // 4, 5))\n",
    "    plt.bar(importance_df.index, importance_df.importance)\n",
    "    plt.grid()\n",
    "    plt.xticks(rotation=90)\n",
    "    plt.ylabel(\"importance\")\n",
    "    plt.tight_layout()\n",
    "    plt.show()\n",
    "\n",
    "plot_importances(models)"
   ]
  },
  {
   "cell_type": "code",
   "execution_count": 25,
   "id": "468b1100",
   "metadata": {},
   "outputs": [],
   "source": [
    "# !kaggle datasets init -p ../src/models/BinaryModels"
   ]
  },
  {
   "cell_type": "code",
   "execution_count": 26,
   "id": "9bad329d",
   "metadata": {},
   "outputs": [],
   "source": [
    "# !kaggle datasets create -p ../src/models/BinaryModels --dir-mode zip"
   ]
  },
  {
   "cell_type": "code",
   "execution_count": 27,
   "id": "6f2d2b64",
   "metadata": {},
   "outputs": [
    {
     "name": "stdout",
     "output_type": "stream",
     "text": [
      "Starting upload for file lgb_2set_5f_binary0.pkl\n",
      "Warning: Looks like you're using an outdated API Version, please consider updating (server 1.5.12 / client 1.5.6)\n",
      "100%|######################################| 39.7M/39.7M [00:07<00:00, 5.54MB/s]\n",
      "Upload successful: lgb_2set_5f_binary0.pkl (40MB)\n",
      "Starting upload for file lgb_t25_2set_5f_binary0.pkl\n",
      "100%|######################################| 39.7M/39.7M [00:07<00:00, 5.45MB/s]\n",
      "Upload successful: lgb_t25_2set_5f_binary0.pkl (40MB)\n",
      "Starting upload for file lgb_5f_binary4.pkl\n",
      "100%|######################################| 11.4M/11.4M [00:03<00:00, 3.25MB/s]\n",
      "Upload successful: lgb_5f_binary4.pkl (11MB)\n",
      "Starting upload for file lgb_2set_5f_binary3.pkl\n",
      "100%|######################################| 39.6M/39.6M [00:08<00:00, 4.94MB/s]\n",
      "Upload successful: lgb_2set_5f_binary3.pkl (40MB)\n",
      "Starting upload for file lgb_2set_5f_binary1.pkl\n",
      "100%|######################################| 39.6M/39.6M [00:06<00:00, 6.74MB/s]\n",
      "Upload successful: lgb_2set_5f_binary1.pkl (40MB)\n",
      "Starting upload for file lgbm_binary2.pkl\n",
      "100%|######################################| 11.4M/11.4M [00:03<00:00, 3.34MB/s]\n",
      "Upload successful: lgbm_binary2.pkl (11MB)\n",
      "Starting upload for file lgb_t25_2set_5f_binary1.pkl\n",
      "100%|######################################| 39.7M/39.7M [00:07<00:00, 5.91MB/s]\n",
      "Upload successful: lgb_t25_2set_5f_binary1.pkl (40MB)\n",
      "Starting upload for file .ipynb_checkpoints.zip\n",
      "100%|#########################################| 22.0/22.0 [00:02<00:00, 7.34B/s]\n",
      "Upload successful: .ipynb_checkpoints.zip (22B)\n",
      "Starting upload for file lgb_2set_5f_binary4.pkl\n",
      "100%|######################################| 39.6M/39.6M [00:06<00:00, 6.26MB/s]\n",
      "Upload successful: lgb_2set_5f_binary4.pkl (40MB)\n",
      "Starting upload for file lgb_t25_2set_5f_binary2.pkl\n",
      "100%|######################################| 39.7M/39.7M [00:06<00:00, 6.51MB/s]\n",
      "Upload successful: lgb_t25_2set_5f_binary2.pkl (40MB)\n",
      "Starting upload for file lgb_5f_binary0.pkl\n",
      "100%|######################################| 11.4M/11.4M [00:04<00:00, 2.65MB/s]\n",
      "Upload successful: lgb_5f_binary0.pkl (11MB)\n",
      "Starting upload for file lgbm_binary0.pkl\n",
      "100%|######################################| 11.4M/11.4M [00:04<00:00, 2.91MB/s]\n",
      "Upload successful: lgbm_binary0.pkl (11MB)\n",
      "Starting upload for file lgb_t25_2set_5f_binary3.pkl\n",
      "100%|######################################| 39.7M/39.7M [00:07<00:00, 5.82MB/s]\n",
      "Upload successful: lgb_t25_2set_5f_binary3.pkl (40MB)\n",
      "Starting upload for file lgb_t25_2set_5f_binary4.pkl\n",
      "100%|######################################| 39.7M/39.7M [00:06<00:00, 6.58MB/s]\n",
      "Upload successful: lgb_t25_2set_5f_binary4.pkl (40MB)\n",
      "Starting upload for file lgb_2set_5f_binary2.pkl\n",
      "100%|######################################| 39.6M/39.6M [00:06<00:00, 6.46MB/s]\n",
      "Upload successful: lgb_2set_5f_binary2.pkl (40MB)\n",
      "Starting upload for file lgb_5f_binary3.pkl\n",
      "100%|######################################| 11.4M/11.4M [00:03<00:00, 3.31MB/s]\n",
      "Upload successful: lgb_5f_binary3.pkl (11MB)\n",
      "Starting upload for file lgb_5f_binary2.pkl\n",
      "100%|######################################| 11.4M/11.4M [00:03<00:00, 3.27MB/s]\n",
      "Upload successful: lgb_5f_binary2.pkl (11MB)\n",
      "Starting upload for file lgbm_binary1.pkl\n",
      "100%|######################################| 11.4M/11.4M [00:03<00:00, 3.12MB/s]\n",
      "Upload successful: lgbm_binary1.pkl (11MB)\n",
      "Starting upload for file lgb_5f_binary1.pkl\n",
      "100%|######################################| 11.4M/11.4M [00:03<00:00, 3.07MB/s]\n",
      "Upload successful: lgb_5f_binary1.pkl (11MB)\n",
      "Dataset version is being created. Please check progress at https://www.kaggle.com/tarique7/foursqbinarylgb\n"
     ]
    }
   ],
   "source": [
    "!kaggle datasets version -m \"BothSets25n7Fold\" -p ../src/models/BinaryModels --dir-mode zip"
   ]
  },
  {
   "cell_type": "code",
   "execution_count": null,
   "id": "44e6840e",
   "metadata": {},
   "outputs": [],
   "source": []
  }
 ],
 "metadata": {
  "kernelspec": {
   "display_name": "Python 3",
   "language": "python",
   "name": "python3"
  },
  "language_info": {
   "codemirror_mode": {
    "name": "ipython",
    "version": 3
   },
   "file_extension": ".py",
   "mimetype": "text/x-python",
   "name": "python",
   "nbconvert_exporter": "python",
   "pygments_lexer": "ipython3",
   "version": "3.6.13"
  }
 },
 "nbformat": 4,
 "nbformat_minor": 5
}
